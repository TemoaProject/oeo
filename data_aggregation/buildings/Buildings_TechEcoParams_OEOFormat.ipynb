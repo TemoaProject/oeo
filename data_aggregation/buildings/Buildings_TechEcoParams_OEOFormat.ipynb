{
 "cells": [
  {
   "cell_type": "markdown",
   "metadata": {},
   "source": [
    "**Notebook summary:** create OEO friendly sub-tables from raw data for buildings techno-economic parameters. Code cells that output datafiles are commented out below. Please check file paths and uncomment this data files under the headings: **1) Efficiency 2) Discount Rate 3) Lifetime 4) Investment Costs 5) Fixed Costs**"
   ]
  },
  {
   "cell_type": "markdown",
   "metadata": {},
   "source": [
    "# Essentials"
   ]
  },
  {
   "cell_type": "code",
   "execution_count": 2,
   "metadata": {},
   "outputs": [],
   "source": [
    "import pandas as pd\n",
    "import numpy as np\n",
    "import matplotlib.pyplot as plt\n",
    "%matplotlib inline\n",
    "import sqlite3\n",
    "import urllib.request\n",
    "import os\n",
    "import seaborn as sns\n",
    "import gzip\n",
    "from pandas.api.types import CategoricalDtype\n",
    "#from plotnine import *\n",
    "import zipfile\n",
    "sns.set()"
   ]
  },
  {
   "cell_type": "code",
   "execution_count": 3,
   "metadata": {},
   "outputs": [],
   "source": [
    "def get_vintages(x):\n",
    "    if(x < 2020):\n",
    "        temp_list = list(np.arange(2020, 2051, 5))\n",
    "        temp_list.insert(0, x)\n",
    "    elif(x >= 2020):\n",
    "        temp_list = list(np.arange(x, 2051, 5))\n",
    "    return temp_list"
   ]
  },
  {
   "cell_type": "code",
   "execution_count": 4,
   "metadata": {},
   "outputs": [],
   "source": [
    "def func_weight_average_temp(group, value, weight):\n",
    "    d = group[value]\n",
    "    w = group[weight]\n",
    "    return (d * w).sum() / w.sum()"
   ]
  },
  {
   "cell_type": "code",
   "execution_count": 5,
   "metadata": {},
   "outputs": [],
   "source": [
    "region_names = dict()\n",
    "region_names[1] = 'CA'\n",
    "region_names[2] = 'NW'\n",
    "region_names[3] = 'SW'\n",
    "region_names[4] = 'TX'\n",
    "region_names[5] = 'CEN'\n",
    "region_names[6] = 'N_CEN'\n",
    "region_names[7] = 'SE'\n",
    "region_names[8] = 'MID_AT'\n",
    "region_names[9] = 'NE'"
   ]
  },
  {
   "cell_type": "markdown",
   "metadata": {},
   "source": [
    "# Read Master Data File"
   ]
  },
  {
   "cell_type": "code",
   "execution_count": 6,
   "metadata": {},
   "outputs": [],
   "source": [
    "# df = pd.read_excel('./rawData/OEO_BuildingDB_SUBSET_23APR2021.ods', engine=\"odf\")\n",
    "df = pd.read_excel(\n",
    "    './rawData/OEO_BuildingDB_HEATPUMPCorrected_10Aug2021.ods', engine=\"odf\"\n",
    ")  # this file has the same name for heat pumps across space heating and space cooling end-use demand sectors\n",
    "df_sel = df.drop(columns=['Notes'])"
   ]
  },
  {
   "cell_type": "markdown",
   "metadata": {},
   "source": [
    "# Creating OEO Tables"
   ]
  },
  {
   "cell_type": "code",
   "execution_count": 7,
   "metadata": {},
   "outputs": [],
   "source": [
    "# create techno-economic parameters for years 2025, 2035 and 2045\n",
    "df_sel_extraYears = df_sel.loc[(df_sel['vintage'] == 2020) |\n",
    "                               (df_sel['vintage'] == 2030) |\n",
    "                               (df_sel['vintage'] == 2040)].copy()\n",
    "df_sel_extraYears['vintage'] = df_sel_extraYears['vintage'].replace({\n",
    "    2020: 2025,\n",
    "    2030: 2035,\n",
    "    2040: 2045\n",
    "})\n",
    "# df_withExtra has years 2020 through 2050 with 5 year increments\n",
    "df_withExtra = pd.concat([df_sel, df_sel_extraYears]).reset_index(drop=True)"
   ]
  },
  {
   "cell_type": "code",
   "execution_count": 8,
   "metadata": {},
   "outputs": [],
   "source": [
    "# some techs don't go out to 2050 so making a copy of 2045 to copy into 2050\n",
    "df_2050_missing = df_withExtra.loc[df_withExtra['tech'].str.endswith('_N')]\n",
    "all_techs = set(df_2050_missing['tech'])\n",
    "techs_in_2050 = set(\n",
    "    df_2050_missing.loc[df_2050_missing['vintage'] == 2050]['tech'].tolist())\n",
    "# techs that don't have a representation for 2050\n",
    "techs_withNo2050 = all_techs - techs_in_2050\n",
    "df_techs_withNo2050 = df_withExtra.loc[df_withExtra['tech'].isin(\n",
    "    list(techs_withNo2050))].sort_values(by=[\"tech\", \"vintage\"]).reset_index(\n",
    "        drop=True)  # sort by here is just for visual organization\n",
    "\n",
    "df_sel_extraYear = df_techs_withNo2050.loc[df_techs_withNo2050['vintage'] ==\n",
    "                                           2045].copy()\n",
    "df_sel_extraYear['vintage'] = df_sel_extraYear['vintage'].replace({2045: 2050})\n",
    "# df_sel_extraYear[['efficiency', 'fixed cost', 'maintenance cost', 'lifetime']] = np.nan\n",
    "df_sel_extraYear = df_sel_extraYear.reset_index(drop=True)"
   ]
  },
  {
   "cell_type": "code",
   "execution_count": 9,
   "metadata": {},
   "outputs": [],
   "source": [
    "df_2050ToTechsAdded = pd.concat([df_techs_withNo2050,\n",
    "                                 df_sel_extraYear]).reset_index(drop=True)\n",
    "df_interp = df_2050ToTechsAdded.sort_values(by=[\"tech\", \"vintage\"])\n",
    "df_interp = df_interp.interpolate(method='nearest', xis=0)\n",
    "#df_interp.groupby(['tech'])[['tech', 'vintage', 'efficiency']].apply(lambda x: x.interpolate(method = 'linear'))\n",
    "# df_final has techno-economic parameters for all years in 5 year increments between 2020 and 2050\n",
    "df_final = pd.concat(\n",
    "    [df_interp.loc[df_interp['vintage'] == 2050], df_withExtra])\n",
    "df_final = df_final.sort_values(by=[\"tech\", \"vintage\"]).reset_index(drop=True)"
   ]
  },
  {
   "cell_type": "code",
   "execution_count": 10,
   "metadata": {},
   "outputs": [],
   "source": [
    "# df_final is updated here with per unit costs\n",
    "# Calculating costs in $ for each technology since some costs are normalized by the capacity of equipment\n",
    "fixed_values = df_final['fixed cost'] * df_final['capacity']\n",
    "maintenance_values = df_final['maintenance cost'] * df_final['capacity']\n",
    "df_final['fixed cost new'] = fixed_values.where(\n",
    "    df_final['fixed cost units'] == '$/ton', other=df_final['fixed cost'])\n",
    "df_final['maintenance cost new'] = maintenance_values.where(\n",
    "    df_final['maintenance units'] == '$/ton',\n",
    "    other=df_final['maintenance cost'])\n",
    "df_final['fixed cost units new'] = '$'\n",
    "df_final['maintenance cost units new'] = '$'\n",
    "df_final.drop(columns=[\n",
    "    'fixed cost', 'fixed cost units', 'maintenance cost', 'maintenance units'\n",
    "],\n",
    "              inplace=True)"
   ]
  },
  {
   "cell_type": "markdown",
   "metadata": {},
   "source": [
    "## Making copies for all OEO regions"
   ]
  },
  {
   "cell_type": "code",
   "execution_count": 11,
   "metadata": {},
   "outputs": [],
   "source": [
    "num_elems_efficiency = df_final.shape[0]\n",
    "df_regions = pd.concat([df_final]*9).reset_index()"
   ]
  },
  {
   "cell_type": "code",
   "execution_count": 12,
   "metadata": {},
   "outputs": [],
   "source": [
    "# df_regions has all OEO regions for years in 5 year increments between 2020 and 2050 with costs per unit for all technologies\n",
    "df_regions.loc[df_regions.index < num_elems_efficiency * 1, ['Region']] = 'CA'\n",
    "df_regions.loc[(df_regions.index >= num_elems_efficiency * 1) &\n",
    "               (df_regions.index < num_elems_efficiency * 2),\n",
    "               ['Region']] = 'NW'\n",
    "df_regions.loc[(df_regions.index >= num_elems_efficiency * 2) &\n",
    "               (df_regions.index < num_elems_efficiency * 3),\n",
    "               ['Region']] = 'SW'\n",
    "df_regions.loc[(df_regions.index >= num_elems_efficiency * 3) &\n",
    "               (df_regions.index < num_elems_efficiency * 4),\n",
    "               ['Region']] = 'TX'\n",
    "df_regions.loc[(df_regions.index >= num_elems_efficiency * 4) &\n",
    "               (df_regions.index < num_elems_efficiency * 5),\n",
    "               ['Region']] = 'CEN'\n",
    "df_regions.loc[(df_regions.index >= num_elems_efficiency * 5) &\n",
    "               (df_regions.index < num_elems_efficiency * 6),\n",
    "               ['Region']] = 'N_CEN'\n",
    "df_regions.loc[(df_regions.index >= num_elems_efficiency * 6) &\n",
    "               (df_regions.index < num_elems_efficiency * 7),\n",
    "               ['Region']] = 'SE'\n",
    "df_regions.loc[(df_regions.index >= num_elems_efficiency * 7) &\n",
    "               (df_regions.index < num_elems_efficiency * 8),\n",
    "               ['Region']] = 'MID_AT'\n",
    "df_regions.loc[(df_regions.index >= num_elems_efficiency * 8) &\n",
    "               (df_regions.index < num_elems_efficiency * 9),\n",
    "               ['Region']] = 'NE'"
   ]
  },
  {
   "cell_type": "markdown",
   "metadata": {},
   "source": [
    "## Efficiency"
   ]
  },
  {
   "cell_type": "code",
   "execution_count": 13,
   "metadata": {},
   "outputs": [],
   "source": [
    "df_efficiency = df_regions[[\n",
    "    \"Tech_Code_Pandas\", \"Region\", \"Subsector\", \"input_comm\",\n",
    "    \"Tech Description\", \"tech\", \"vintage\", \"output_comm\", \"efficiency\",\n",
    "    \"efficiency units\"\n",
    "]].copy()\n",
    "df_efficiency.rename(columns={\n",
    "    \"Region\": \"regions\",\n",
    "    \"efficiency units\": \"eff_notes\"\n",
    "},\n",
    "                     inplace=True)\n",
    "df_efficiency.sort_values(by=[\"Tech_Code_Pandas\", \"vintage\"], inplace=True)"
   ]
  },
  {
   "cell_type": "code",
   "execution_count": 14,
   "metadata": {},
   "outputs": [],
   "source": [
    "# df_efficiency.to_csv('./TablesForDB/efficiency_buildings_regional.csv')"
   ]
  },
  {
   "cell_type": "markdown",
   "metadata": {},
   "source": [
    "## Discount Rate"
   ]
  },
  {
   "cell_type": "code",
   "execution_count": 48,
   "metadata": {},
   "outputs": [],
   "source": [
    "df_discount = df_efficiency[df_efficiency['tech'].str.endswith('_N')][[\n",
    "    'regions', 'tech', 'vintage'\n",
    "]].drop_duplicates().reset_index(\n",
    "    drop=True).copy()"
   ]
  },
  {
   "cell_type": "code",
   "execution_count": 61,
   "metadata": {},
   "outputs": [],
   "source": [
    "df_discount.sort_values(by=[\"regions\", 'vintage', 'tech'], inplace=True)\n",
    "df_discount.reset_index(drop=True, inplace=True)"
   ]
  },
  {
   "cell_type": "code",
   "execution_count": 66,
   "metadata": {},
   "outputs": [],
   "source": [
    "df_discount['tech_rate'] = 0.3 # 30 % hurdle rate for new technologies\n",
    "df_discount['tech_rate_notes'] = 'nan'"
   ]
  },
  {
   "cell_type": "code",
   "execution_count": 68,
   "metadata": {},
   "outputs": [],
   "source": [
    "# df_discount.to_csv('./TablesForDB/discount_rate.csv')"
   ]
  },
  {
   "cell_type": "markdown",
   "metadata": {},
   "source": [
    "## Lifetime"
   ]
  },
  {
   "cell_type": "code",
   "execution_count": 14,
   "metadata": {},
   "outputs": [],
   "source": [
    "df_lifetime = df_regions[[\"Region\", \"tech\", \"lifetime\",\n",
    "                          \"lifetime units\"]].drop_duplicates()\n",
    "df_lifetime.rename(columns={\n",
    "    \"lifetime\": \"life\",\n",
    "    \"lifetime units\": \"life_notes\",\n",
    "    \"Region\": \"regions\"\n",
    "},\n",
    "                   inplace=True)"
   ]
  },
  {
   "cell_type": "code",
   "execution_count": 15,
   "metadata": {},
   "outputs": [],
   "source": [
    "# df_lifetime.to_csv('./TablesForDB/lifetime_buildings_regional.csv')"
   ]
  },
  {
   "cell_type": "markdown",
   "metadata": {},
   "source": [
    "## Investment costs"
   ]
  },
  {
   "cell_type": "code",
   "execution_count": 16,
   "metadata": {},
   "outputs": [],
   "source": [
    "df_invest = df_regions[[\n",
    "    \"Region\", \"tech\", \"vintage\", \"fixed cost new\", \"fixed cost units new\",\n",
    "    \"capacity\", \"capacity units\"\n",
    "]].copy()\n",
    "df_invest = df_invest.rename(\n",
    "    columns={\n",
    "        \"Region\": \"regions\",\n",
    "        \"fixed cost new\": \"cost_invest\",\n",
    "        \"fixed cost units new\": \"cost_invest_units\"\n",
    "    })\n",
    "df_invest.drop_duplicates(\n",
    "    inplace=True\n",
    ")  # duplicates arise from multiple input_comm categories (eg. ELC, ELCDIST_R)"
   ]
  },
  {
   "cell_type": "code",
   "execution_count": 17,
   "metadata": {},
   "outputs": [],
   "source": [
    "# df_invest.to_csv('./TablesForDB/costInvest_buildings_regional.csv')"
   ]
  },
  {
   "cell_type": "markdown",
   "metadata": {},
   "source": [
    "## Fixed costs"
   ]
  },
  {
   "cell_type": "code",
   "execution_count": 18,
   "metadata": {},
   "outputs": [],
   "source": [
    "df_fixedCost = df_regions[[\"Region\", \"tech\", \"vintage\", \"maintenance cost new\" ,\"maintenance cost units new\", \"capacity\", \"capacity units\"]].copy()\n",
    "df_fixedCost.drop_duplicates(inplace = True)"
   ]
  },
  {
   "cell_type": "code",
   "execution_count": 19,
   "metadata": {},
   "outputs": [],
   "source": [
    "df_fixedCost_list = df_fixedCost.values.tolist()\n",
    "index_of_vintage = 2  # look at df_fixedCost_list and set this value to the vintage index\n",
    "other_elems = []\n",
    "periods = []\n",
    "for s_check in df_fixedCost_list:\n",
    "    for i in get_vintages(s_check[index_of_vintage]):\n",
    "        other_elems.append(s_check)\n",
    "        periods.append(i)\n",
    "\n",
    "list_combined_periods = [[a, *v] for a, v in zip(periods, other_elems)]"
   ]
  },
  {
   "cell_type": "code",
   "execution_count": 20,
   "metadata": {},
   "outputs": [],
   "source": [
    "df_fixedCost_final = pd.DataFrame(list_combined_periods, columns = ['periods', 'regions', 'tech', 'vintage', 'cost_fixed', 'cost_fixed_units', 'capacity', 'capacity_units'])"
   ]
  },
  {
   "cell_type": "code",
   "execution_count": 21,
   "metadata": {},
   "outputs": [],
   "source": [
    "# df_fixedCost_final.to_csv('./TablesForDB/costFixed_buildings_regional.csv')"
   ]
  },
  {
   "cell_type": "markdown",
   "metadata": {},
   "source": [
    "# Derive Regional Heat Pump Coefficient of Performance"
   ]
  },
  {
   "cell_type": "markdown",
   "metadata": {},
   "source": [
    "## Calculate annual temperature population weighted"
   ]
  },
  {
   "cell_type": "code",
   "execution_count": 22,
   "metadata": {},
   "outputs": [],
   "source": [
    "# read data files for average annual temperature population weighted estimate\n",
    "df_population = pd.read_excel('./rawData/STATE_populations_CENSUS.xlsx')\n",
    "df_annual_temp = pd.read_excel(\"./rawData/USState_annual_avg_temp_2010.ods\",\n",
    "                               engine=\"odf\")\n",
    "df_OEO_states = pd.read_csv('./rawData/state_regions_cluster.csv')\n",
    "\n",
    "# select population for the year of 2010\n",
    "df_pop_2010 = df_population[['STUSPS', 2010]].copy()"
   ]
  },
  {
   "cell_type": "code",
   "execution_count": 23,
   "metadata": {},
   "outputs": [],
   "source": [
    "df_popAndTemp = df_pop_2010.merge(df_annual_temp,\n",
    "                                  left_on='STUSPS',\n",
    "                                  right_on='State Code')\n",
    "df_popAndTemp = df_popAndTemp.merge(df_OEO_states,\n",
    "                                    left_on='STUSPS',\n",
    "                                    right_on='STUSPS')"
   ]
  },
  {
   "cell_type": "code",
   "execution_count": 24,
   "metadata": {},
   "outputs": [],
   "source": [
    "# weighted average of temperature using population data from 2010\n",
    "value = 'Average Temperature (F)'\n",
    "weight = 2010\n",
    "_series_temp = df_popAndTemp.groupby(['Region'\n",
    "                                      ]).apply(func_weight_average_temp, value,\n",
    "                                               weight)\n",
    "_df_temperature = pd.DataFrame({\n",
    "    \"avg_temperature\": _series_temp.values,\n",
    "    \"Region\": _series_temp.index\n",
    "})\n",
    "_df_temperature['Region_OEO'] = _df_temperature['Region'].map(region_names)\n",
    "_df_temperature = _df_temperature[['avg_temperature', 'Region_OEO']]"
   ]
  },
  {
   "cell_type": "markdown",
   "metadata": {},
   "source": [
    "## Adjusting heat pump COPs based on regional temperatures"
   ]
  },
  {
   "cell_type": "code",
   "execution_count": 25,
   "metadata": {},
   "outputs": [],
   "source": [
    "df_eff_copy = df_efficiency.copy()\n",
    "df_eff_copy = df_eff_copy.merge(_df_temperature,\n",
    "                                left_on='regions',\n",
    "                                right_on='Region_OEO')\n",
    "df_eff_copy.drop(columns=['Region_OEO'], inplace=True)"
   ]
  },
  {
   "cell_type": "code",
   "execution_count": 26,
   "metadata": {},
   "outputs": [],
   "source": [
    "_df_heatPump = df_eff_copy.loc[df_eff_copy['Tech Description'].str.contains('HEAT PUMP')].copy()"
   ]
  },
  {
   "cell_type": "code",
   "execution_count": 27,
   "metadata": {},
   "outputs": [],
   "source": [
    "assumed_operating_temperature = 70  # F\n",
    "slope_from_Vaishnav2020 = 0.0541  # from Figure S2\n",
    "\n",
    "_df_heatPump['efficiency_temp'] = _df_heatPump['efficiency'] - (\n",
    "    slope_from_Vaishnav2020 *\n",
    "    (assumed_operating_temperature - _df_heatPump['avg_temperature']))\n",
    "\n",
    "conditions = [\n",
    "    (_df_heatPump['efficiency_temp'] > 0),\n",
    "    (_df_heatPump['efficiency_temp'] <= 0),\n",
    "]\n",
    "\n",
    "choices = [_df_heatPump['efficiency_temp'], _df_heatPump['efficiency']]\n",
    "\n",
    "_df_heatPump['efficiency'] = np.select(conditions, choices)\n",
    "_df_heatPump.drop(columns=['efficiency_temp'], inplace=True)\n",
    "\n",
    "df_eff_copy.update(_df_heatPump)"
   ]
  },
  {
   "cell_type": "code",
   "execution_count": 29,
   "metadata": {},
   "outputs": [],
   "source": [
    "df_eff_copy.to_csv('./TablesForDB/efficiency_buildings_regional.csv')"
   ]
  },
  {
   "cell_type": "markdown",
   "metadata": {},
   "source": [
    "# Diagnostic bits of code"
   ]
  },
  {
   "cell_type": "code",
   "execution_count": null,
   "metadata": {},
   "outputs": [],
   "source": [
    "# df_final[df_final['tech'].str.endswith('_R')]\n",
    "# df_final[df_final['tech'] == 'R_WH_SOLST_ELC_R']\n",
    "# tech_new_or_old = [item[-1] for item in df_final['tech'].str.split('_')]\n",
    "# df_final['new_or_old'] = tech_new_or_old\n",
    "# df_temp = df_final[['Tech_Code_Pandas', 'new_or_old']].drop_duplicates()\n",
    "# ser_temp = df_temp['Tech_Code_Pandas'].value_counts()"
   ]
  },
  {
   "cell_type": "code",
   "execution_count": null,
   "metadata": {},
   "outputs": [],
   "source": [
    "# len(df_final.loc[(df_final.tech.str.endswith('_R') & df_final.tech.str.startswith('R_'))]['tech'].unique())\n",
    "# len(df_final.loc[(df_final.tech.str.endswith('_R') & df_final.tech.str.startswith('C_'))]['tech'].unique())"
   ]
  },
  {
   "cell_type": "code",
   "execution_count": null,
   "metadata": {},
   "outputs": [],
   "source": [
    "# Important!!\n",
    "## Check if techs from existing capacity df are all represented in the main techno-econonic parameters df\n",
    "# existingCap_res = pd.read_csv('/home/adityasinha/Documents/WorkDocuments/OEO_AS_projectFiles/Initial_building_tasks_2Mar2021/residential_existingCapacity_v2.csv')\n",
    "# existingCap_comm = pd.read_csv('/home/adityasinha/Documents/WorkDocuments/OEO_AS_projectFiles/Initial_building_tasks_2Mar2021/commercial_existingCapacity_v2.csv')\n",
    "# var_existCap_techs = set(existingCap_res.tech.unique()) | set(existingCap_comm.tech.unique())\n",
    "# var_df_final_techs = set(df_final.loc[df_final.tech.str.endswith('_R')]['tech'].unique())\n",
    "# var_df_final_techs - var_existCap_techs\n",
    "# var_existCap_techs - var_df_final_techs\n",
    "\n",
    "#df_final.sort_values(by=[\"Tech_Code_Pandas\", \"vintage\"]).reset_index(drop = True)"
   ]
  },
  {
   "cell_type": "code",
   "execution_count": null,
   "metadata": {},
   "outputs": [],
   "source": [
    "# from pandas._testing import assert_frame_equal"
   ]
  },
  {
   "cell_type": "code",
   "execution_count": null,
   "metadata": {},
   "outputs": [],
   "source": [
    "# assert_frame_equal(df1, df1)"
   ]
  }
 ],
 "metadata": {
  "hide_input": false,
  "kernelspec": {
   "display_name": "Python 3",
   "language": "python",
   "name": "python3"
  },
  "language_info": {
   "codemirror_mode": {
    "name": "ipython",
    "version": 3
   },
   "file_extension": ".py",
   "mimetype": "text/x-python",
   "name": "python",
   "nbconvert_exporter": "python",
   "pygments_lexer": "ipython3",
   "version": "3.7.3"
  },
  "toc": {
   "base_numbering": 1,
   "nav_menu": {},
   "number_sections": false,
   "sideBar": true,
   "skip_h1_title": false,
   "title_cell": "Table of Contents",
   "title_sidebar": "Contents",
   "toc_cell": false,
   "toc_position": {},
   "toc_section_display": true,
   "toc_window_display": true
  },
  "varInspector": {
   "cols": {
    "lenName": 16,
    "lenType": 16,
    "lenVar": 40
   },
   "kernels_config": {
    "python": {
     "delete_cmd_postfix": "",
     "delete_cmd_prefix": "del ",
     "library": "var_list.py",
     "varRefreshCmd": "print(var_dic_list())"
    },
    "r": {
     "delete_cmd_postfix": ") ",
     "delete_cmd_prefix": "rm(",
     "library": "var_list.r",
     "varRefreshCmd": "cat(var_dic_list()) "
    }
   },
   "types_to_exclude": [
    "module",
    "function",
    "builtin_function_or_method",
    "instance",
    "_Feature"
   ],
   "window_display": false
  }
 },
 "nbformat": 4,
 "nbformat_minor": 4
}
