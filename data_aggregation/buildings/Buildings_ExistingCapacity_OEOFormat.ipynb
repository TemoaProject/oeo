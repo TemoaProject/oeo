{
 "cells": [
  {
   "cell_type": "markdown",
   "id": "3722c415",
   "metadata": {},
   "source": [
    "**Notebook summary:** This notebook takes the existing capacity from Markal Spreadsheets and converts them to OEO friendly database fromat. It splits the existing capacity given in Markal (segregated by census divisions) and downscales this to state level estimates using census population data. These state level existing capacities are then aggregated back up to the OEO regions."
   ]
  },
  {
   "cell_type": "markdown",
   "id": "f9bcddee",
   "metadata": {},
   "source": [
    "# Essentials"
   ]
  },
  {
   "cell_type": "code",
   "execution_count": 2,
   "id": "636db8ce",
   "metadata": {},
   "outputs": [],
   "source": [
    "import pandas as pd\n",
    "import numpy as np\n",
    "import matplotlib.pyplot as plt\n",
    "%matplotlib inline\n",
    "import sqlite3\n",
    "import urllib.request\n",
    "import os\n",
    "import seaborn as sns\n",
    "import gzip\n",
    "from pandas.api.types import CategoricalDtype\n",
    "import zipfile\n",
    "sns.set()"
   ]
  },
  {
   "cell_type": "code",
   "execution_count": 3,
   "id": "09895af0",
   "metadata": {},
   "outputs": [],
   "source": [
    "region_names = dict()\n",
    "region_names[1] = 'CA'\n",
    "region_names[2] = 'NW'\n",
    "region_names[3] = 'SW'\n",
    "region_names[4] = 'TX'\n",
    "region_names[5] = 'CEN'\n",
    "region_names[6] = 'N_CEN'\n",
    "region_names[7] = 'SE'\n",
    "region_names[8] = 'MID_AT'\n",
    "region_names[9] = 'NE'"
   ]
  },
  {
   "cell_type": "code",
   "execution_count": 4,
   "id": "f71f8b16",
   "metadata": {},
   "outputs": [],
   "source": [
    "def explode(df, lst_cols, fill_value='', preserve_index=False):\n",
    "    # make sure `lst_cols` is list-alike\n",
    "    if (lst_cols is not None and len(lst_cols) > 0\n",
    "            and not isinstance(lst_cols,\n",
    "                               (list, tuple, np.ndarray, pd.Series))):\n",
    "        lst_cols = [lst_cols]\n",
    "    # all columns except `lst_cols`\n",
    "    idx_cols = df.columns.difference(lst_cols)\n",
    "    # calculate lengths of lists\n",
    "    lens = df[lst_cols[0]].str.len()\n",
    "    # preserve original index values\n",
    "    idx = np.repeat(df.index.values, lens)\n",
    "    # create \"exploded\" DF\n",
    "    res = (pd.DataFrame(\n",
    "        {col: np.repeat(df[col].values, lens)\n",
    "         for col in idx_cols}, index=idx).assign(\n",
    "             **{\n",
    "                 col: np.concatenate(df.loc[lens > 0, col].values)\n",
    "                 for col in lst_cols\n",
    "             }))\n",
    "    # append those rows that have empty lists\n",
    "    if (lens == 0).any():\n",
    "        # at least one list in cells is empty\n",
    "        res = (res.append(df.loc[lens == 0, idx_cols],\n",
    "                          sort=False).fillna(fill_value))\n",
    "    # revert the original index order\n",
    "    res = res.sort_index()\n",
    "    # reset index if requested\n",
    "    if not preserve_index:\n",
    "        res = res.reset_index(drop=True)\n",
    "    return res"
   ]
  },
  {
   "cell_type": "code",
   "execution_count": 5,
   "id": "a61a2c2b",
   "metadata": {},
   "outputs": [],
   "source": [
    "def reverse_appending_keys(dictionary, key, value):\n",
    "    if value not in dictionary:\n",
    "        dictionary[value] = key\n",
    "    elif type(dictionary[value]) == list:\n",
    "        dictionary[value].append(key)\n",
    "    else:\n",
    "        dictionary[value] = [dictionary[value], key]"
   ]
  },
  {
   "cell_type": "markdown",
   "id": "090c92ec",
   "metadata": {},
   "source": [
    "# Read Data Files"
   ]
  },
  {
   "cell_type": "code",
   "execution_count": 6,
   "id": "fae94f3d",
   "metadata": {},
   "outputs": [],
   "source": [
    "df_commercial = pd.read_excel('./rawData/commercial_existingCapacity_byState.ods', engine=\"odf\")\n",
    "df_residential = pd.read_excel('./rawData/residential_existingCapacity_byState.ods', engine=\"odf\")\n",
    "df_pop = pd.read_excel('./rawData/STATE_populations_CENSUS.xlsx')\n",
    "state_groupings = pd.read_csv('./rawData/state_regions_cluster.csv')"
   ]
  },
  {
   "cell_type": "markdown",
   "id": "02134761",
   "metadata": {},
   "source": [
    "# Getting Fractional Population Data From Census"
   ]
  },
  {
   "cell_type": "code",
   "execution_count": 7,
   "id": "2f04c6b6",
   "metadata": {},
   "outputs": [],
   "source": [
    "df_pop['State'] = df_pop.State.str.strip('.')"
   ]
  },
  {
   "cell_type": "code",
   "execution_count": 8,
   "id": "24d33666",
   "metadata": {},
   "outputs": [],
   "source": [
    "df_pop_test = df_pop[[\"CENSUS_DIV\", *tuple(range(2010, 2020))]]\n",
    "df_temp = df_pop_test.groupby(['CENSUS_DIV']).apply(lambda x: x / x.sum())\n",
    "df_pop.update(df_temp)"
   ]
  },
  {
   "cell_type": "code",
   "execution_count": 8,
   "id": "e2c1599d",
   "metadata": {},
   "outputs": [],
   "source": [
    "census_dict = df_pop.set_index('STUSPS').to_dict()['CENSUS_DIV']"
   ]
  },
  {
   "cell_type": "code",
   "execution_count": 9,
   "id": "2766cbe0",
   "metadata": {},
   "outputs": [],
   "source": [
    "census_dict_reversed = dict()\n",
    "for key, val in census_dict.items():\n",
    "    reverse_appending_keys(census_dict_reversed, key, val)\n",
    "\n",
    "census_dict_reversed = {\n",
    "    key: str(value)\n",
    "    for (key, value) in census_dict_reversed.items()\n",
    "}"
   ]
  },
  {
   "cell_type": "markdown",
   "id": "0bf942ea",
   "metadata": {},
   "source": [
    "# Updating Commercial Existing Capacity"
   ]
  },
  {
   "cell_type": "code",
   "execution_count": 10,
   "id": "f87c55fe",
   "metadata": {},
   "outputs": [],
   "source": [
    "# Split the existing capacity equally amongst different versions of the same technology\n",
    "df_comm_melt = pd.melt(df_commercial,\n",
    "                       id_vars=[\n",
    "                           \"Sector\", \"Subsector\", \"Tech_Code_Pandas\",\n",
    "                           \"Tech Description\", \"tech\", \"vintage\",\n",
    "                           \"Tech From Markal\", \"Notes\"\n",
    "                       ],\n",
    "                       var_name=[\"CENSUS_DIV\"],\n",
    "                       value_name=\"Value\")\n",
    "df_comm_melt['tech_count'] = df_comm_melt.groupby(\n",
    "    ['Tech_Code_Pandas', 'CENSUS_DIV'])['Value'].transform('count')\n",
    "df_comm_melt['Value'] = df_comm_melt['Value'] / df_comm_melt['tech_count']\n",
    "\n",
    "# replacing census division with US states\n",
    "df_comm_melt = df_comm_melt.replace({\"CENSUS_DIV\": census_dict_reversed})\n",
    "df_comm_melt['CENSUS_DIV'] = df_comm_melt['CENSUS_DIV'].str.strip(\"[]\")\n",
    "df_comm_melt['CENSUS_DIV'] = df_comm_melt['CENSUS_DIV'].replace({'\\'': ''},\n",
    "                                                                regex=True)"
   ]
  },
  {
   "cell_type": "code",
   "execution_count": 11,
   "id": "f3d67d3f",
   "metadata": {},
   "outputs": [],
   "source": [
    "df_comm_explod = explode(\n",
    "    df_comm_melt.assign(CENSUS_DIV=df_comm_melt.CENSUS_DIV.str.split(',')),\n",
    "    'CENSUS_DIV',\n",
    "    preserve_index=True).reset_index(drop=True)\n",
    "df_comm_explod['CENSUS_DIV'] = df_comm_explod.CENSUS_DIV.str.replace(' ', '')\n",
    "df_pop = df_pop.drop(['State', 'CENSUS_DIV', *tuple(range(2011, 2020))],\n",
    "                     axis=1)\n",
    "df_comm_pop = df_comm_explod.merge(df_pop,\n",
    "                                   left_on='CENSUS_DIV',\n",
    "                                   right_on='STUSPS',\n",
    "                                   how='inner',\n",
    "                                   validate=\"many_to_one\")\n",
    "df_comm_pop['ExistingCap'] = df_comm_pop['Value'] * df_comm_pop[2010]\n",
    "df_comm_pop = df_comm_pop.drop(['STUSPS', 'Value'], axis=1)\n",
    "\n",
    "state_groupings['NAME'] = state_groupings['NAME'].str.upper()\n",
    "df_comm_OEO = df_comm_pop.merge(state_groupings,\n",
    "                                left_on='CENSUS_DIV',\n",
    "                                right_on='STUSPS')"
   ]
  },
  {
   "cell_type": "code",
   "execution_count": 12,
   "id": "bbf7f672",
   "metadata": {},
   "outputs": [],
   "source": [
    "df_comm_OEO['Region_OEO'] = df_comm_OEO['Region'].map(region_names)\n",
    "df_comm_OEO = df_comm_OEO.drop(\n",
    "    ['CENSUS_DIV', 'NAME', 'STUSPS', 'Region', 'Notes'], axis=1)"
   ]
  },
  {
   "cell_type": "code",
   "execution_count": 13,
   "id": "7ce22fba",
   "metadata": {},
   "outputs": [],
   "source": [
    "df_comm_OEO_1 = df_comm_OEO.groupby([\n",
    "    'Sector', 'Subsector', 'Tech Description', 'Tech_Code_Pandas', 'tech',\n",
    "    'vintage', 'Region_OEO'\n",
    "])['ExistingCap'].sum().reset_index()\n",
    "# df_comm_OEO_1 = df_comm_OEO.groupby(['Sector', 'Subsector', 'Tech Description', 'Tech From Markal', 'Tech_Code_Pandas', 'tech', 'vintage', 'Region_OEO'])['ExistingCap'].sum().reset_index()\n",
    "# df_comm_OEO_2 = df_comm_OEO.groupby(['tech', 'vintage', 'Region_OEO'])['ExistingCap'].sum().reset_index()"
   ]
  },
  {
   "cell_type": "markdown",
   "id": "3d4ec493",
   "metadata": {},
   "source": [
    "# Updating Residential Existing Capacity"
   ]
  },
  {
   "cell_type": "code",
   "execution_count": 14,
   "id": "63ae724c",
   "metadata": {},
   "outputs": [],
   "source": [
    "df_res_melt = pd.melt(df_residential,\n",
    "                      id_vars=[\n",
    "                          \"Sector\", \"Subsector\", \"Tech_Code_Pandas\",\n",
    "                          \"Tech Description\", \"tech\", \"vintage\",\n",
    "                          \"Tech From Markal\", \"Notes\"\n",
    "                      ],\n",
    "                      var_name=[\"CENSUS_DIV\"],\n",
    "                      value_name=\"Value\")\n",
    "df_res_melt['tech_count'] = df_res_melt.groupby(\n",
    "    ['Tech_Code_Pandas', 'CENSUS_DIV'])['Value'].transform('count')\n",
    "df_res_melt['Value'] = df_res_melt['Value'] / df_res_melt['tech_count']\n",
    "\n",
    "df_res_melt = df_res_melt.replace({\"CENSUS_DIV\": census_dict_reversed})\n",
    "df_res_melt['CENSUS_DIV'] = df_res_melt['CENSUS_DIV'].str.strip(\"[]\")\n",
    "df_res_melt['CENSUS_DIV'] = df_res_melt['CENSUS_DIV'].replace({'\\'': ''},\n",
    "                                                              regex=True)"
   ]
  },
  {
   "cell_type": "code",
   "execution_count": 15,
   "id": "e4fa90b7",
   "metadata": {},
   "outputs": [],
   "source": [
    "df_res_explod = explode(\n",
    "    df_res_melt.assign(CENSUS_DIV=df_res_melt.CENSUS_DIV.str.split(',')),\n",
    "    'CENSUS_DIV',\n",
    "    preserve_index=True).reset_index(drop=True)\n",
    "df_res_explod['CENSUS_DIV'] = df_res_explod.CENSUS_DIV.str.replace(' ', '')\n",
    "df_res_pop = df_res_explod.merge(df_pop,\n",
    "                                 left_on='CENSUS_DIV',\n",
    "                                 right_on='STUSPS',\n",
    "                                 how='inner',\n",
    "                                 validate=\"many_to_one\")\n",
    "df_res_pop['ExistingCap'] = df_res_pop['Value'] * df_res_pop[2010]\n",
    "df_res_pop = df_res_pop.drop(['STUSPS', 'Value'], axis=1)\n",
    "df_res_OEO = df_res_pop.merge(state_groupings,\n",
    "                              left_on='CENSUS_DIV',\n",
    "                              right_on='STUSPS')"
   ]
  },
  {
   "cell_type": "code",
   "execution_count": 16,
   "id": "41c2ff62",
   "metadata": {},
   "outputs": [],
   "source": [
    "df_res_OEO['Region_OEO'] = df_res_OEO['Region'].map(region_names)\n",
    "df_res_OEO = df_res_OEO.drop(\n",
    "    ['CENSUS_DIV', 'NAME', 'STUSPS', 'Region', 'Notes'], axis=1)"
   ]
  },
  {
   "cell_type": "code",
   "execution_count": 17,
   "id": "8417f7b4",
   "metadata": {},
   "outputs": [],
   "source": [
    "df_res_OEO_1 = df_res_OEO.groupby(['Sector', 'Subsector', 'Tech Description', 'Tech_Code_Pandas', 'tech', 'vintage', 'Region_OEO'])['ExistingCap'].sum().reset_index()\n",
    "# df_res_OEO_2 = df_res_OEO.groupby(['tech', 'vintage', 'Region_OEO'])['ExistingCap'].sum().reset_index()\n",
    "# df_res_OEO_2 = df_res_OEO.groupby(['tech', 'vintage', 'Region_OEO', 'Tech From Markal'])['ExistingCap'].sum().reset_index()"
   ]
  },
  {
   "cell_type": "markdown",
   "id": "dfc0346a",
   "metadata": {},
   "source": [
    "# Output Files"
   ]
  },
  {
   "cell_type": "code",
   "execution_count": 20,
   "id": "52160aa9",
   "metadata": {},
   "outputs": [],
   "source": [
    "df_res_OEO_1.rename(columns = {\"Region_OEO\":\"regions\", \"ExistingCap\": \"exist_cap\"}, inplace = True)\n",
    "df_res_OEO_1['exist_cap_units'] = 'PJ'\n",
    "df_comm_OEO_1.rename(columns = {\"Region_OEO\":\"regions\", \"ExistingCap\": \"exist_cap\"}, inplace = True)\n",
    "df_comm_OEO_1['exist_cap_units'] = 'PJ'"
   ]
  },
  {
   "cell_type": "code",
   "execution_count": 21,
   "id": "bf9f4e9d",
   "metadata": {},
   "outputs": [],
   "source": [
    "df_res_OEO_1[['regions', 'tech', 'vintage', 'exist_cap', 'exist_cap_units']].to_csv('./TablesForDB/residential_existingCapacity.csv')\n",
    "df_comm_OEO_1[['regions', 'tech', 'vintage', 'exist_cap', 'exist_cap_units']].to_csv('./TablesForDB/commercial_existingCapacity.csv')"
   ]
  },
  {
   "cell_type": "markdown",
   "id": "62fa79fa",
   "metadata": {},
   "source": [
    "# Diagnostic bits of code"
   ]
  },
  {
   "cell_type": "code",
   "execution_count": null,
   "id": "8843fc8a",
   "metadata": {},
   "outputs": [],
   "source": [
    "df_res_OEO_1.loc[df_res_OEO_1['Subsector'] == 'Residential Space Heating']['ExistingCap'].agg(['sum', 'mean', 'min', 'max'])"
   ]
  },
  {
   "cell_type": "code",
   "execution_count": 665,
   "id": "1cc1496b",
   "metadata": {},
   "outputs": [
    {
     "data": {
      "text/html": [
       "<div>\n",
       "<style scoped>\n",
       "    .dataframe tbody tr th:only-of-type {\n",
       "        vertical-align: middle;\n",
       "    }\n",
       "\n",
       "    .dataframe tbody tr th {\n",
       "        vertical-align: top;\n",
       "    }\n",
       "\n",
       "    .dataframe thead th {\n",
       "        text-align: right;\n",
       "    }\n",
       "</style>\n",
       "<table border=\"1\" class=\"dataframe\">\n",
       "  <thead>\n",
       "    <tr style=\"text-align: right;\">\n",
       "      <th></th>\n",
       "      <th>tech</th>\n",
       "      <th>vintage</th>\n",
       "      <th>Region_OEO</th>\n",
       "      <th>ExistingCap</th>\n",
       "    </tr>\n",
       "  </thead>\n",
       "  <tbody>\n",
       "    <tr>\n",
       "      <th>117</th>\n",
       "      <td>R_LT_HIRST_ROL_R</td>\n",
       "      <td>2015</td>\n",
       "      <td>CA</td>\n",
       "      <td>0.0</td>\n",
       "    </tr>\n",
       "    <tr>\n",
       "      <th>118</th>\n",
       "      <td>R_LT_HIRST_ROL_R</td>\n",
       "      <td>2015</td>\n",
       "      <td>CEN</td>\n",
       "      <td>0.0</td>\n",
       "    </tr>\n",
       "    <tr>\n",
       "      <th>119</th>\n",
       "      <td>R_LT_HIRST_ROL_R</td>\n",
       "      <td>2015</td>\n",
       "      <td>MID_AT</td>\n",
       "      <td>0.0</td>\n",
       "    </tr>\n",
       "    <tr>\n",
       "      <th>120</th>\n",
       "      <td>R_LT_HIRST_ROL_R</td>\n",
       "      <td>2015</td>\n",
       "      <td>NE</td>\n",
       "      <td>0.0</td>\n",
       "    </tr>\n",
       "    <tr>\n",
       "      <th>121</th>\n",
       "      <td>R_LT_HIRST_ROL_R</td>\n",
       "      <td>2015</td>\n",
       "      <td>NW</td>\n",
       "      <td>0.0</td>\n",
       "    </tr>\n",
       "    <tr>\n",
       "      <th>...</th>\n",
       "      <td>...</td>\n",
       "      <td>...</td>\n",
       "      <td>...</td>\n",
       "      <td>...</td>\n",
       "    </tr>\n",
       "    <tr>\n",
       "      <th>1111</th>\n",
       "      <td>R_WH_HP_ELC_R</td>\n",
       "      <td>2015</td>\n",
       "      <td>NW</td>\n",
       "      <td>0.0</td>\n",
       "    </tr>\n",
       "    <tr>\n",
       "      <th>1112</th>\n",
       "      <td>R_WH_HP_ELC_R</td>\n",
       "      <td>2015</td>\n",
       "      <td>N_CEN</td>\n",
       "      <td>0.0</td>\n",
       "    </tr>\n",
       "    <tr>\n",
       "      <th>1113</th>\n",
       "      <td>R_WH_HP_ELC_R</td>\n",
       "      <td>2015</td>\n",
       "      <td>SE</td>\n",
       "      <td>0.0</td>\n",
       "    </tr>\n",
       "    <tr>\n",
       "      <th>1114</th>\n",
       "      <td>R_WH_HP_ELC_R</td>\n",
       "      <td>2015</td>\n",
       "      <td>SW</td>\n",
       "      <td>0.0</td>\n",
       "    </tr>\n",
       "    <tr>\n",
       "      <th>1115</th>\n",
       "      <td>R_WH_HP_ELC_R</td>\n",
       "      <td>2015</td>\n",
       "      <td>TX</td>\n",
       "      <td>0.0</td>\n",
       "    </tr>\n",
       "  </tbody>\n",
       "</table>\n",
       "<p>243 rows × 4 columns</p>\n",
       "</div>"
      ],
      "text/plain": [
       "                  tech  vintage Region_OEO  ExistingCap\n",
       "117   R_LT_HIRST_ROL_R     2015         CA          0.0\n",
       "118   R_LT_HIRST_ROL_R     2015        CEN          0.0\n",
       "119   R_LT_HIRST_ROL_R     2015     MID_AT          0.0\n",
       "120   R_LT_HIRST_ROL_R     2015         NE          0.0\n",
       "121   R_LT_HIRST_ROL_R     2015         NW          0.0\n",
       "...                ...      ...        ...          ...\n",
       "1111     R_WH_HP_ELC_R     2015         NW          0.0\n",
       "1112     R_WH_HP_ELC_R     2015      N_CEN          0.0\n",
       "1113     R_WH_HP_ELC_R     2015         SE          0.0\n",
       "1114     R_WH_HP_ELC_R     2015         SW          0.0\n",
       "1115     R_WH_HP_ELC_R     2015         TX          0.0\n",
       "\n",
       "[243 rows x 4 columns]"
      ]
     },
     "execution_count": 665,
     "metadata": {},
     "output_type": "execute_result"
    }
   ],
   "source": [
    "# list_low = list(df_res_OEO_1.tech.unique())\n",
    "# list_high = list(df_res_OEO_2.tech.unique())\n",
    "# list(set(list_low) - set(list_high))\n",
    "# df_res_OEO_2.loc[df_res_OEO_2['tech'].isin(list(set(list_high) - set(list_low))), ]"
   ]
  },
  {
   "cell_type": "code",
   "execution_count": null,
   "id": "acfee5e5",
   "metadata": {},
   "outputs": [],
   "source": [
    "store1 = df_res_OEO.groupby(['Sector', 'Subsector', 'tech', 'vintage', 'Region_OEO'])['ExistingCap'].sum().reset_index()\n",
    "store2 = df_res_OEO.groupby(['Sector', 'Subsector', 'tech', 'Tech From Markal', 'vintage', 'Region_OEO'])['ExistingCap'].sum().reset_index()\n",
    "store2 = store2[['Sector', 'Subsector', 'tech', 'vintage', 'Region_OEO', 'ExistingCap']]\n",
    "# store1.merge(store2, how='inner', indicator=False)\n",
    "store1.merge(store2, how = 'outer' ,indicator=True).loc[lambda x : x['_merge']=='left_only']['tech'].unique()"
   ]
  }
 ],
 "metadata": {
  "hide_input": false,
  "kernelspec": {
   "display_name": "Python 3",
   "language": "python",
   "name": "python3"
  },
  "language_info": {
   "codemirror_mode": {
    "name": "ipython",
    "version": 3
   },
   "file_extension": ".py",
   "mimetype": "text/x-python",
   "name": "python",
   "nbconvert_exporter": "python",
   "pygments_lexer": "ipython3",
   "version": "3.7.3"
  },
  "toc": {
   "base_numbering": 1,
   "nav_menu": {},
   "number_sections": false,
   "sideBar": true,
   "skip_h1_title": false,
   "title_cell": "Table of Contents",
   "title_sidebar": "Contents",
   "toc_cell": false,
   "toc_position": {
    "height": "calc(100% - 180px)",
    "left": "10px",
    "top": "150px",
    "width": "369.6px"
   },
   "toc_section_display": true,
   "toc_window_display": true
  },
  "varInspector": {
   "cols": {
    "lenName": 16,
    "lenType": 16,
    "lenVar": 40
   },
   "kernels_config": {
    "python": {
     "delete_cmd_postfix": "",
     "delete_cmd_prefix": "del ",
     "library": "var_list.py",
     "varRefreshCmd": "print(var_dic_list())"
    },
    "r": {
     "delete_cmd_postfix": ") ",
     "delete_cmd_prefix": "rm(",
     "library": "var_list.r",
     "varRefreshCmd": "cat(var_dic_list()) "
    }
   },
   "types_to_exclude": [
    "module",
    "function",
    "builtin_function_or_method",
    "instance",
    "_Feature"
   ],
   "window_display": false
  }
 },
 "nbformat": 4,
 "nbformat_minor": 5
}
