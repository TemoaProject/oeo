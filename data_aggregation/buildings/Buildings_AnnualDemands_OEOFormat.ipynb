{
 "cells": [
  {
   "cell_type": "markdown",
   "metadata": {},
   "source": [
    "**Notebook summary:** This notebook grabs the annual demands from NREL EFS (under the high electrification scenario) and aggregates the state level data published here up to the OEO regions. Commercial ventilation demands are taken from Markal spreadsheets to preserve the same units across ventilation technologies, existing capacity of ventilation technologies and the annual demands."
   ]
  },
  {
   "cell_type": "markdown",
   "metadata": {},
   "source": [
    "# Essentials"
   ]
  },
  {
   "cell_type": "code",
   "execution_count": 1,
   "metadata": {},
   "outputs": [],
   "source": [
    "import pandas as pd\n",
    "import numpy as np\n",
    "import matplotlib\n",
    "import matplotlib.pyplot as plt\n",
    "%matplotlib inline\n",
    "import sqlite3\n",
    "import urllib.request\n",
    "import os\n",
    "import gzip\n",
    "from scipy.interpolate import interp1d"
   ]
  },
  {
   "cell_type": "code",
   "execution_count": 3,
   "metadata": {},
   "outputs": [],
   "source": [
    "region_names = dict()\n",
    "region_names[1] = 'CA'\n",
    "region_names[2] = 'NW'\n",
    "region_names[3] = 'SW'\n",
    "region_names[4] = 'TX'\n",
    "region_names[5] = 'CEN'\n",
    "region_names[6] = 'N_CEN'\n",
    "region_names[7] = 'SE'\n",
    "region_names[8] = 'MID_AT'\n",
    "region_names[9] = 'NE'"
   ]
  },
  {
   "cell_type": "code",
   "execution_count": 4,
   "metadata": {},
   "outputs": [],
   "source": [
    "comm_names = dict()\n",
    "comm_names['COMMERCIAL AIR CONDITIONING'] = 'CSC'\n",
    "comm_names['COMMERCIAL COOKING'] = 'CCK'\n",
    "comm_names['COMMERCIAL LIGHTING'] = 'CLT'\n",
    "comm_names['COMMERCIAL REFRIGERATION'] = 'CRF'\n",
    "comm_names['COMMERCIAL SPACE HEATING'] = 'CSH'\n",
    "comm_names['COMMERCIAL WATER HEATING'] = 'CWH'\n",
    "comm_names['COMMERCIAL VENTILATION'] = 'CVT'\n",
    "comm_names['RESIDENTIAL AIR CONDITIONING'] = 'RSC'\n",
    "comm_names['RESIDENTIAL LIGHTING'] = 'RLT'\n",
    "comm_names['RESIDENTIAL REFRIGERATION'] = 'RRF'\n",
    "comm_names['RESIDENTIAL SPACE HEATING'] = 'RSH'\n",
    "comm_names['RESIDENTIAL WATER HEATING'] = 'RWH'"
   ]
  },
  {
   "cell_type": "markdown",
   "metadata": {},
   "source": [
    "# Read Raw Data"
   ]
  },
  {
   "cell_type": "code",
   "execution_count": 5,
   "metadata": {},
   "outputs": [],
   "source": [
    "df_service = pd.read_csv('./rawData/service_demand.csv.gzip', compression = 'gzip')\n",
    "df_service.drop(columns=['Unnamed: 0'], inplace = True)\n",
    "df_state_groupings = pd.read_csv('./rawData/state_regions_cluster.csv')"
   ]
  },
  {
   "cell_type": "markdown",
   "metadata": {},
   "source": [
    "# Aggregate Dervice Demands as per OEO Regions"
   ]
  },
  {
   "cell_type": "code",
   "execution_count": 7,
   "metadata": {},
   "outputs": [],
   "source": [
    "# select scenario from full database\n",
    "df_sel_service = df_service.loc[(df_service['SECTOR'] == 'COMMERCIAL') |\n",
    "                                (df_service['SECTOR'] == 'RESIDENTIAL')]\n",
    "df_sel_service = df_sel_service.loc[\n",
    "    df_sel_service['SCENARIO'] ==\n",
    "    'HIGH ELECTRIFICATION - MODERATE TECHNOLOGY ADVANCEMENT']\n",
    "df_sel_service.drop(columns=['SCENARIO'], inplace=True)"
   ]
  },
  {
   "cell_type": "code",
   "execution_count": 8,
   "metadata": {},
   "outputs": [],
   "source": [
    "df_state_groupings['NAME'] = df_state_groupings['NAME'].str.upper()\n",
    "df_service_OEO = df_sel_service.merge(df_state_groupings, left_on = 'STATE', right_on = 'NAME')"
   ]
  },
  {
   "cell_type": "code",
   "execution_count": 9,
   "metadata": {},
   "outputs": [],
   "source": [
    "df_service_OEO['Region_OEO'] = df_service_OEO['Region'].map(region_names)\n",
    "df_service_OEO = df_service_OEO.drop(columns = ['NAME', 'STUSPS', 'Region'])"
   ]
  },
  {
   "cell_type": "code",
   "execution_count": 10,
   "metadata": {},
   "outputs": [],
   "source": [
    "df_annual_demand = df_service_OEO.groupby(['SUBSECTOR', 'YEAR', 'UNIT', 'Region_OEO']).sum().reset_index()"
   ]
  },
  {
   "cell_type": "code",
   "execution_count": 11,
   "metadata": {},
   "outputs": [],
   "source": [
    "# subset_subsectors = ['COMMERCIAL AIR CONDITIONING', 'COMMERCIAL COOKING', \n",
    "#                      'COMMERCIAL LIGHTING', 'COMMERCIAL REFRIGERATION', \n",
    "#                      'COMMERCIAL SPACE HEATING', 'COMMERCIAL VENTILATION', \n",
    "#                      'COMMERCIAL WATER HEATING', 'RESIDENTIAL AIR CONDITIONING', \n",
    "#                      'RESIDENTIAL COOKING', 'RESIDENTIAL LIGHTING', 'RESIDENTIAL REFRIGERATION',\n",
    "#                      'RESIDENTIAL SPACE HEATING', 'RESIDENTIAL WATER HEATING']\n",
    "subset_subsectors_to_omit = ['RESIDENTIAL CLOTHES DRYING', 'RESIDENTIAL DISHWASHING', \n",
    "                             'RESIDENTIAL COOKING', 'RESIDENTIAL CLOTHES WASHING', 'RESIDENTIAL FREEZING']"
   ]
  },
  {
   "cell_type": "code",
   "execution_count": 12,
   "metadata": {},
   "outputs": [],
   "source": [
    "df_annual_demand = df_annual_demand.loc[~df_annual_demand['SUBSECTOR'].isin(subset_subsectors_to_omit)]"
   ]
  },
  {
   "cell_type": "markdown",
   "metadata": {},
   "source": [
    "# Ventilation Demand"
   ]
  },
  {
   "cell_type": "code",
   "execution_count": null,
   "metadata": {},
   "outputs": [],
   "source": [
    "# Ventilation demand needs to be treated separately becuase units from EFS are not consistent with EIA and Markal"
   ]
  },
  {
   "cell_type": "code",
   "execution_count": 14,
   "metadata": {},
   "outputs": [],
   "source": [
    "df_ventilation = df_annual_demand.loc[df_annual_demand['SUBSECTOR'] == 'COMMERCIAL VENTILATION'].copy()\n",
    "df_ventilation.update(df_ventilation.groupby(['YEAR'])['VALUE'].apply(lambda x: x / x.sum()))"
   ]
  },
  {
   "cell_type": "code",
   "execution_count": 15,
   "metadata": {},
   "outputs": [],
   "source": [
    "df_vent_demand = pd.read_excel(\n",
    "    \"./rawData/ventilation_demand.ods\", engine=\"odf\"\n",
    ")  # Ventilation demands are taken from Markal (which in turn draws its data from the EIA)\n",
    "x = df_vent_demand['Year'].to_list()\n",
    "y = df_vent_demand['Demand'].to_list()\n",
    "f = interp1d(x, y)\n",
    "xnew = np.arange(2017, 2051)\n",
    "annual_venDemand_US = {xnew[i]: f(xnew)[i] for i in range(len(xnew))}"
   ]
  },
  {
   "cell_type": "code",
   "execution_count": 16,
   "metadata": {},
   "outputs": [],
   "source": [
    "df_ventilation['Demand_temp'] = df_ventilation['YEAR'].map(annual_venDemand_US)\n",
    "df_ventilation['Demand'] = df_ventilation['VALUE'] * df_ventilation['Demand_temp']\n",
    "df_ventilation['UNIT'] = 'TRILLION CFM'\n",
    "df_ventilation.drop(columns = ['Demand_temp', 'VALUE'], inplace = True)"
   ]
  },
  {
   "cell_type": "code",
   "execution_count": 17,
   "metadata": {},
   "outputs": [],
   "source": [
    "df_demand_wo_ventilation = df_annual_demand[~(df_annual_demand['SUBSECTOR'] == 'COMMERCIAL VENTILATION')].copy()\n",
    "df_demand_wo_ventilation.rename(columns = {\"VALUE\": \"Demand\"}, inplace = True)"
   ]
  },
  {
   "cell_type": "code",
   "execution_count": 18,
   "metadata": {},
   "outputs": [],
   "source": [
    "df_final = pd.concat([df_demand_wo_ventilation, df_ventilation])"
   ]
  },
  {
   "cell_type": "code",
   "execution_count": 19,
   "metadata": {},
   "outputs": [],
   "source": [
    "df_final.rename(columns={\n",
    "    \"SUBSECTOR\": \"demand_comm\",\n",
    "    \"YEAR\": \"periods\",\n",
    "    \"UNIT\": \"demand_units\",\n",
    "    \"Region_OEO\": \"regions\",\n",
    "    \"Demand\": \"demand\"\n",
    "},\n",
    "                inplace=True)"
   ]
  },
  {
   "cell_type": "code",
   "execution_count": 20,
   "metadata": {},
   "outputs": [],
   "source": [
    "df_final['demand_comm'] = df_final['demand_comm'].map(comm_names)"
   ]
  },
  {
   "cell_type": "code",
   "execution_count": 21,
   "metadata": {},
   "outputs": [
    {
     "data": {
      "text/html": [
       "<div>\n",
       "<style scoped>\n",
       "    .dataframe tbody tr th:only-of-type {\n",
       "        vertical-align: middle;\n",
       "    }\n",
       "\n",
       "    .dataframe tbody tr th {\n",
       "        vertical-align: top;\n",
       "    }\n",
       "\n",
       "    .dataframe thead th {\n",
       "        text-align: right;\n",
       "    }\n",
       "</style>\n",
       "<table border=\"1\" class=\"dataframe\">\n",
       "  <thead>\n",
       "    <tr style=\"text-align: right;\">\n",
       "      <th></th>\n",
       "      <th>demand_comm</th>\n",
       "      <th>periods</th>\n",
       "      <th>demand_units</th>\n",
       "      <th>regions</th>\n",
       "      <th>demand</th>\n",
       "    </tr>\n",
       "  </thead>\n",
       "  <tbody>\n",
       "    <tr>\n",
       "      <th>1</th>\n",
       "      <td>CSC</td>\n",
       "      <td>2017</td>\n",
       "      <td>TERABTU</td>\n",
       "      <td>CEN</td>\n",
       "      <td>164.018064</td>\n",
       "    </tr>\n",
       "    <tr>\n",
       "      <th>2</th>\n",
       "      <td>CSC</td>\n",
       "      <td>2017</td>\n",
       "      <td>TERABTU</td>\n",
       "      <td>MID_AT</td>\n",
       "      <td>255.286587</td>\n",
       "    </tr>\n",
       "    <tr>\n",
       "      <th>3</th>\n",
       "      <td>CSC</td>\n",
       "      <td>2017</td>\n",
       "      <td>TERABTU</td>\n",
       "      <td>NE</td>\n",
       "      <td>94.128520</td>\n",
       "    </tr>\n",
       "    <tr>\n",
       "      <th>4</th>\n",
       "      <td>CSC</td>\n",
       "      <td>2017</td>\n",
       "      <td>TERABTU</td>\n",
       "      <td>NW</td>\n",
       "      <td>11.300634</td>\n",
       "    </tr>\n",
       "    <tr>\n",
       "      <th>5</th>\n",
       "      <td>CSC</td>\n",
       "      <td>2017</td>\n",
       "      <td>TERABTU</td>\n",
       "      <td>N_CEN</td>\n",
       "      <td>148.496519</td>\n",
       "    </tr>\n",
       "    <tr>\n",
       "      <th>...</th>\n",
       "      <td>...</td>\n",
       "      <td>...</td>\n",
       "      <td>...</td>\n",
       "      <td>...</td>\n",
       "      <td>...</td>\n",
       "    </tr>\n",
       "    <tr>\n",
       "      <th>1831</th>\n",
       "      <td>CVT</td>\n",
       "      <td>2050</td>\n",
       "      <td>TRILLION CFM</td>\n",
       "      <td>NW</td>\n",
       "      <td>16.665440</td>\n",
       "    </tr>\n",
       "    <tr>\n",
       "      <th>1832</th>\n",
       "      <td>CVT</td>\n",
       "      <td>2050</td>\n",
       "      <td>TRILLION CFM</td>\n",
       "      <td>N_CEN</td>\n",
       "      <td>52.336583</td>\n",
       "    </tr>\n",
       "    <tr>\n",
       "      <th>1833</th>\n",
       "      <td>CVT</td>\n",
       "      <td>2050</td>\n",
       "      <td>TRILLION CFM</td>\n",
       "      <td>SE</td>\n",
       "      <td>81.971919</td>\n",
       "    </tr>\n",
       "    <tr>\n",
       "      <th>1834</th>\n",
       "      <td>CVT</td>\n",
       "      <td>2050</td>\n",
       "      <td>TRILLION CFM</td>\n",
       "      <td>SW</td>\n",
       "      <td>21.241059</td>\n",
       "    </tr>\n",
       "    <tr>\n",
       "      <th>1835</th>\n",
       "      <td>CVT</td>\n",
       "      <td>2050</td>\n",
       "      <td>TRILLION CFM</td>\n",
       "      <td>TX</td>\n",
       "      <td>37.151178</td>\n",
       "    </tr>\n",
       "  </tbody>\n",
       "</table>\n",
       "<p>3264 rows × 5 columns</p>\n",
       "</div>"
      ],
      "text/plain": [
       "     demand_comm  periods  demand_units regions      demand\n",
       "1            CSC     2017       TERABTU     CEN  164.018064\n",
       "2            CSC     2017       TERABTU  MID_AT  255.286587\n",
       "3            CSC     2017       TERABTU      NE   94.128520\n",
       "4            CSC     2017       TERABTU      NW   11.300634\n",
       "5            CSC     2017       TERABTU   N_CEN  148.496519\n",
       "...          ...      ...           ...     ...         ...\n",
       "1831         CVT     2050  TRILLION CFM      NW   16.665440\n",
       "1832         CVT     2050  TRILLION CFM   N_CEN   52.336583\n",
       "1833         CVT     2050  TRILLION CFM      SE   81.971919\n",
       "1834         CVT     2050  TRILLION CFM      SW   21.241059\n",
       "1835         CVT     2050  TRILLION CFM      TX   37.151178\n",
       "\n",
       "[3264 rows x 5 columns]"
      ]
     },
     "execution_count": 21,
     "metadata": {},
     "output_type": "execute_result"
    }
   ],
   "source": [
    "df_final[df_final.duplicated(subset = ['demand_comm', 'periods', 'demand_units', 'regions'])]\n",
    "df_final[df_final.duplicated(subset = ['demand_comm', 'periods'])]"
   ]
  },
  {
   "cell_type": "code",
   "execution_count": 22,
   "metadata": {},
   "outputs": [],
   "source": [
    "df_final[['regions', 'periods', 'demand_comm', 'demand', 'demand_units']].to_csv('./TablesForDB/annualDemand_buildings_regional.csv')"
   ]
  },
  {
   "cell_type": "markdown",
   "metadata": {},
   "source": [
    "# Miscellaneous Scripts"
   ]
  },
  {
   "cell_type": "markdown",
   "metadata": {},
   "source": [
    "## Table for OEO documentation"
   ]
  },
  {
   "cell_type": "code",
   "execution_count": null,
   "metadata": {},
   "outputs": [],
   "source": [
    "df_table = df_annual_demand[['SUBSECTOR', 'UNIT']].drop_duplicates().reset_index(drop = True)\n",
    "df_table['Existing Capacity'] = 'PJ'\n",
    "df_table['Efficiency (EIA)'] = ['COP, EER (Btu/h/W), IEER (Btu/h/W)', 'cooking energy efficiency (%)', 'system efficacy (lm/W)', 'indexed annual efficiency','COP, TE (%), AFUE (%)', 'no efficiency published in EIA', 'TE (%), SEF, COP', 'SEER (Btu/Wh), EER (Btu/W/h), COP','system efficacy (lm/W)', 'no efficiency published in EIA','AFUE (%), TE (%), HSPF (Btu/Wh), COP, HHV', 'UEF, SEF']\n",
    "df_table = df_table.rename(columns={'UNIT': 'Demand (NREL EFS)', 'Existing Capacity': 'Exst Capacity (EPA)'})"
   ]
  },
  {
   "cell_type": "code",
   "execution_count": null,
   "metadata": {},
   "outputs": [],
   "source": [
    "df_table"
   ]
  },
  {
   "cell_type": "markdown",
   "metadata": {},
   "source": [
    "## Grab raw data by running this cell"
   ]
  },
  {
   "cell_type": "code",
   "execution_count": 2,
   "metadata": {},
   "outputs": [],
   "source": [
    "# if 'service_demand.csv' not in os.listdir():\n",
    "#     url = 'https://data.nrel.gov/system/files/92/service_demand.csv.gzip'\n",
    "#     filename =  os.getcwd() + '/' + url.split('/') [-1]\n",
    "#     r = urllib.request.urlretrieve(url,filename)\n",
    "\n",
    "#     fp = open('service_demand.csv', 'wb')\n",
    "#     with gzip.open(filename, 'rb') as f:\n",
    "#         data = f.read()\n",
    "#     fp.write(data)\n",
    "#     fp.close()"
   ]
  },
  {
   "cell_type": "markdown",
   "metadata": {},
   "source": [
    "## Miscellaneous code cells"
   ]
  },
  {
   "cell_type": "code",
   "execution_count": null,
   "metadata": {},
   "outputs": [],
   "source": [
    "# end_use = 'RESIDENTIAL WATER HEATING'\n",
    "# df_annual_demand.loc[(df_annual_demand['SUBSECTOR'] == end_use) & (df_annual_demand['YEAR'] == 2017)]['VALUE'].agg(['sum', 'max', 'min'])\n",
    "# df_annual_demand.loc[(df_annual_demand['SUBSECTOR'] == end_use) & (df_annual_demand['YEAR'].isin([2017, 2018, 2019]))]['VALUE'].agg(['sum', 'max', 'min'])\n",
    "# df_annual_demand.loc[df_annual_demand['SUBSECTOR'] == end_use]\n",
    "# df_annual_demand.loc[~df_annual_demand['UNIT'].str.contains('BTU')][['SUBSECTOR', 'UNIT']].drop_duplicates()\n",
    "# df_annual_demand.loc[(df_annual_demand['SUBSECTOR'] == 'RESIDENTIAL LIGHTING') & (df_annual_demand['YEAR'] == 2017)]['VALUE'].sum()\n",
    "# # df_annual_demand.loc[(df_annual_demand['SUBSECTOR'] == 'RESIDENTIAL REFRIGERATION') & (df_annual_demand['YEAR'].isin([2017, 2018, 2019]))]['VALUE'].agg(['sum', 'max', 'min'])\n",
    "# df_annual_demand.loc[(df_annual_demand['SUBSECTOR'] == 'COMMERCIAL VENTILATION') & (df_annual_demand['YEAR'] == 2017)]"
   ]
  },
  {
   "cell_type": "code",
   "execution_count": null,
   "metadata": {},
   "outputs": [],
   "source": [
    "# for region in df_temp.Region_OEO.unique():\n",
    "#     df_plot = df_temp.loc[df_temp['Region_OEO'] == region].reset_index()\n",
    "#     plt.plot(df_plot[\"YEAR\"], df_plot[\"VALUE\"], '--', label=region)\n",
    "\n",
    "# plt.legend(loc='center left', bbox_to_anchor=(1, 0.5))"
   ]
  },
  {
   "cell_type": "code",
   "execution_count": 261,
   "metadata": {},
   "outputs": [
    {
     "data": {
      "text/plain": [
       "Text(0.5, 1.0, 'Residential Sector - CEN')"
      ]
     },
     "execution_count": 261,
     "metadata": {},
     "output_type": "execute_result"
    },
    {
     "data": {
      "image/png": "[encoded data removed]",
      "text/plain": [
       "<Figure size 432x288 with 1 Axes>"
      ]
     },
     "metadata": {
      "needs_background": "light"
     },
     "output_type": "display_data"
    }
   ],
   "source": [
    "temp_store = df_service_OEO[['SUBSECTOR', 'UNIT']].drop_duplicates()\n",
    "temp_store_1 = temp_store.loc[temp_store.UNIT.str.endswith('BTU')]\n",
    "list_to_sub_res = list(temp_store_1.loc[temp_store_1['SUBSECTOR'].str.startswith('RES')]['SUBSECTOR'])\n",
    "list_to_sub_comm = list(temp_store_1.loc[temp_store_1['SUBSECTOR'].str.startswith('COMM')]['SUBSECTOR'])\n",
    "\n",
    "df_temp = df_temp.loc[df_temp['Region_OEO'] == 'CEN']\n",
    "\n",
    "for subsector in list_to_sub_res:\n",
    "    df_plot = df_temp.loc[df_temp['SUBSECTOR'] == subsector].reset_index()\n",
    "    plt.plot(df_plot[\"YEAR\"], df_plot[\"VALUE\"], '--', label=subsector, linewidth = 4)\n",
    "\n",
    "\n",
    "SMALL_SIZE = 10\n",
    "MEDIUM_SIZE = 12\n",
    "BIGGER_SIZE = 14\n",
    "\n",
    "plt.rc('font', size=SMALL_SIZE)          # controls default text sizes\n",
    "plt.rc('axes', titlesize=SMALL_SIZE)     # fontsize of the axes title\n",
    "plt.rc('axes', labelsize=MEDIUM_SIZE)    # fontsize of the x and y labels\n",
    "plt.rc('xtick', labelsize=SMALL_SIZE)    # fontsize of the tick labels\n",
    "plt.rc('ytick', labelsize=SMALL_SIZE)    # fontsize of the tick labels\n",
    "plt.rc('legend', fontsize=10)    # legend fontsize\n",
    "plt.rc('figure', titlesize=BIGGER_SIZE)  # fontsize of the figure title\n",
    "\n",
    "# plt.xlabel(r'\\textbf{Year}')\n",
    "# plt.ylabel(r'\\textbf{Service demand, MMBTU}')\n",
    "plt.xlabel('Year', fontweight = \"bold\")\n",
    "plt.ylabel('Annual Service demand, MMBTU', fontweight = \"bold\")\n",
    "\n",
    "# plt.legend(loc='center left', bbox_to_anchor=(1, 0.5))\n",
    "labels = ['Space Heating', 'Water Heating', 'Air Conditioning', 'Cooking']\n",
    "plt.legend(labels, loc = 'center', bbox_to_anchor=(0.5, 0.5))\n",
    "plt.title('Residential Sector - CEN', fontweight=\"bold\", fontsize = 14)"
   ]
  },
  {
   "cell_type": "code",
   "execution_count": 19,
   "metadata": {},
   "outputs": [
    {
     "data": {
      "text/html": [
       "<div>\n",
       "<style scoped>\n",
       "    .dataframe tbody tr th:only-of-type {\n",
       "        vertical-align: middle;\n",
       "    }\n",
       "\n",
       "    .dataframe tbody tr th {\n",
       "        vertical-align: top;\n",
       "    }\n",
       "\n",
       "    .dataframe thead th {\n",
       "        text-align: right;\n",
       "    }\n",
       "</style>\n",
       "<table border=\"1\" class=\"dataframe\">\n",
       "  <thead>\n",
       "    <tr style=\"text-align: right;\">\n",
       "      <th></th>\n",
       "      <th>SUBSECTOR</th>\n",
       "      <th>UNIT</th>\n",
       "    </tr>\n",
       "  </thead>\n",
       "  <tbody>\n",
       "    <tr>\n",
       "      <th>0</th>\n",
       "      <td>RESIDENTIAL SPACE HEATING</td>\n",
       "      <td>MMBTU</td>\n",
       "    </tr>\n",
       "    <tr>\n",
       "      <th>2652</th>\n",
       "      <td>RESIDENTIAL LIGHTING</td>\n",
       "      <td>KILOLUMEN_HOUR</td>\n",
       "    </tr>\n",
       "    <tr>\n",
       "      <th>2754</th>\n",
       "      <td>RESIDENTIAL WATER HEATING</td>\n",
       "      <td>MMBTU</td>\n",
       "    </tr>\n",
       "    <tr>\n",
       "      <th>4352</th>\n",
       "      <td>RESIDENTIAL AIR CONDITIONING</td>\n",
       "      <td>MMBTU</td>\n",
       "    </tr>\n",
       "    <tr>\n",
       "      <th>4760</th>\n",
       "      <td>RESIDENTIAL REFRIGERATION</td>\n",
       "      <td>CUBIC_FEET</td>\n",
       "    </tr>\n",
       "    <tr>\n",
       "      <th>4964</th>\n",
       "      <td>RESIDENTIAL FREEZING</td>\n",
       "      <td>CUBIC_FEET</td>\n",
       "    </tr>\n",
       "    <tr>\n",
       "      <th>5032</th>\n",
       "      <td>RESIDENTIAL COOKING</td>\n",
       "      <td>MMBTU</td>\n",
       "    </tr>\n",
       "    <tr>\n",
       "      <th>5236</th>\n",
       "      <td>RESIDENTIAL CLOTHES WASHING</td>\n",
       "      <td>CUBIC_FOOT_CYCLE</td>\n",
       "    </tr>\n",
       "    <tr>\n",
       "      <th>5338</th>\n",
       "      <td>RESIDENTIAL CLOTHES DRYING</td>\n",
       "      <td>LB</td>\n",
       "    </tr>\n",
       "    <tr>\n",
       "      <th>5542</th>\n",
       "      <td>RESIDENTIAL DISHWASHING</td>\n",
       "      <td>CYCLE</td>\n",
       "    </tr>\n",
       "    <tr>\n",
       "      <th>7412</th>\n",
       "      <td>COMMERCIAL SPACE HEATING</td>\n",
       "      <td>TERABTU</td>\n",
       "    </tr>\n",
       "    <tr>\n",
       "      <th>7718</th>\n",
       "      <td>COMMERCIAL AIR CONDITIONING</td>\n",
       "      <td>TERABTU</td>\n",
       "    </tr>\n",
       "    <tr>\n",
       "      <th>10234</th>\n",
       "      <td>COMMERCIAL VENTILATION</td>\n",
       "      <td>GIGACUBIC_FOOT</td>\n",
       "    </tr>\n",
       "    <tr>\n",
       "      <th>10370</th>\n",
       "      <td>COMMERCIAL COOKING</td>\n",
       "      <td>TERABTU</td>\n",
       "    </tr>\n",
       "    <tr>\n",
       "      <th>10642</th>\n",
       "      <td>COMMERCIAL REFRIGERATION</td>\n",
       "      <td>TERABTU</td>\n",
       "    </tr>\n",
       "    <tr>\n",
       "      <th>11186</th>\n",
       "      <td>COMMERCIAL WATER HEATING</td>\n",
       "      <td>TERABTU</td>\n",
       "    </tr>\n",
       "    <tr>\n",
       "      <th>12954</th>\n",
       "      <td>COMMERCIAL LIGHTING</td>\n",
       "      <td>GIGALUMEN_YEAR</td>\n",
       "    </tr>\n",
       "  </tbody>\n",
       "</table>\n",
       "</div>"
      ],
      "text/plain": [
       "                          SUBSECTOR              UNIT\n",
       "0         RESIDENTIAL SPACE HEATING             MMBTU\n",
       "2652           RESIDENTIAL LIGHTING    KILOLUMEN_HOUR\n",
       "2754      RESIDENTIAL WATER HEATING             MMBTU\n",
       "4352   RESIDENTIAL AIR CONDITIONING             MMBTU\n",
       "4760      RESIDENTIAL REFRIGERATION        CUBIC_FEET\n",
       "4964           RESIDENTIAL FREEZING        CUBIC_FEET\n",
       "5032            RESIDENTIAL COOKING             MMBTU\n",
       "5236    RESIDENTIAL CLOTHES WASHING  CUBIC_FOOT_CYCLE\n",
       "5338     RESIDENTIAL CLOTHES DRYING                LB\n",
       "5542        RESIDENTIAL DISHWASHING             CYCLE\n",
       "7412       COMMERCIAL SPACE HEATING           TERABTU\n",
       "7718    COMMERCIAL AIR CONDITIONING           TERABTU\n",
       "10234        COMMERCIAL VENTILATION    GIGACUBIC_FOOT\n",
       "10370            COMMERCIAL COOKING           TERABTU\n",
       "10642      COMMERCIAL REFRIGERATION           TERABTU\n",
       "11186      COMMERCIAL WATER HEATING           TERABTU\n",
       "12954           COMMERCIAL LIGHTING    GIGALUMEN_YEAR"
      ]
     },
     "execution_count": 19,
     "metadata": {},
     "output_type": "execute_result"
    }
   ],
   "source": [
    "df_service_OEO[['SUBSECTOR', 'UNIT']].drop_duplicates()"
   ]
  }
 ],
 "metadata": {
  "hide_input": false,
  "kernelspec": {
   "display_name": "Python 3",
   "language": "python",
   "name": "python3"
  },
  "language_info": {
   "codemirror_mode": {
    "name": "ipython",
    "version": 3
   },
   "file_extension": ".py",
   "mimetype": "text/x-python",
   "name": "python",
   "nbconvert_exporter": "python",
   "pygments_lexer": "ipython3",
   "version": "3.7.3"
  },
  "toc": {
   "base_numbering": 1,
   "nav_menu": {},
   "number_sections": false,
   "sideBar": true,
   "skip_h1_title": false,
   "title_cell": "Table of Contents",
   "title_sidebar": "Contents",
   "toc_cell": false,
   "toc_position": {
    "height": "calc(100% - 180px)",
    "left": "10px",
    "top": "150px",
    "width": "369.6px"
   },
   "toc_section_display": true,
   "toc_window_display": true
  },
  "varInspector": {
   "cols": {
    "lenName": 16,
    "lenType": 16,
    "lenVar": 40
   },
   "kernels_config": {
    "python": {
     "delete_cmd_postfix": "",
     "delete_cmd_prefix": "del ",
     "library": "var_list.py",
     "varRefreshCmd": "print(var_dic_list())"
    },
    "r": {
     "delete_cmd_postfix": ") ",
     "delete_cmd_prefix": "rm(",
     "library": "var_list.r",
     "varRefreshCmd": "cat(var_dic_list()) "
    }
   },
   "types_to_exclude": [
    "module",
    "function",
    "builtin_function_or_method",
    "instance",
    "_Feature"
   ],
   "window_display": false
  }
 },
 "nbformat": 4,
 "nbformat_minor": 4
}
