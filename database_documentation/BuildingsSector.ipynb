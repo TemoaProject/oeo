{
 "cells": [
  {
   "cell_type": "code",
   "execution_count": 11,
   "metadata": {
    "hide_input": true,
    "init_cell": true,
    "jupyter": {
     "source_hidden": true
    }
   },
   "outputs": [],
   "source": [
    "import pandas as pd\n",
    "import numpy as np\n",
    "import os\n",
    "import sqlite3\n",
    "import shutil\n",
    "import datetime\n",
    "import matplotlib.pyplot as plt\n",
    "import tabulate\n",
    "from IPython.display import HTML, display, Markdown\n",
    "import csv\n",
    "import unicodedata\n",
    "import getopt\n",
    "from ipywidgets import HBox, VBox, Layout\n",
    "from matplotlib.ticker import MaxNLocator\n",
    "\n",
    "import ipywidgets as widgets\n",
    "from ipywidgets import HBox, VBox, Layout\n",
    "import graphviz\n",
    "from GraphVizUtil import *\n",
    "from GraphVizFormats import *\n",
    "import warnings\n",
    "warnings.filterwarnings('ignore')\n",
    "import seaborn as sb\n",
    "sb.set(style='darkgrid', font_scale=1.2)\n",
    "\n",
    "def filter_descriptions(tech_comm_desc):\n",
    "    try:\n",
    "        tech_comm_desc = tech_comm_desc.values[0][0].replace('#', '').replace('\"','').replace(\"\\n\",'').strip()\n",
    "    except:\n",
    "        tech_comm_desc = 'No description provided'\n",
    "    return tech_comm_desc\n",
    "\n",
    "def create_args_flowd(df_graph):\n",
    "    nodes, tech, ltech, to_tech, from_tech = set(), set(), set(), set(), set()\n",
    "    for ind,row in df_graph.iterrows():\n",
    "        #descriptions:\n",
    "        input_comm_des = filter_descriptions(pd.read_sql(\"SELECT comm_desc FROM commodities WHERE comm_name='\" + row['input_comm'] + \"'\", con))\n",
    "        output_comm_des = filter_descriptions(pd.read_sql(\"SELECT comm_desc FROM commodities WHERE comm_name='\" + row['output_comm'] + \"'\", con))\n",
    "        tech_des = filter_descriptions(pd.read_sql(\"SELECT tech_desc FROM technologies WHERE tech='\" + row['tech'] + \"'\", con))\n",
    "\n",
    "        if 'ethos' in row['input_comm']:\n",
    "            ltech.add('\"' + row['tech'] + '\"' +  ' [tooltip = \"' + tech_des + '\"]')\n",
    "        else :\n",
    "            nodes.add('\"' + row['input_comm'] + '\"' +  ' [tooltip = \"' + input_comm_des + '\"]')\n",
    "        nodes.add('\"' + row['output_comm'] + '\"' +  ' [tooltip = \"' + output_comm_des + '\"]')\n",
    "        tech.add('\"' + row['tech'] + '\"' +  ' [tooltip = \"' + tech_des + '\"]')\n",
    "\n",
    "        if row['input_comm'] != 'ethos':\n",
    "            to_tech.add('\"%s\"' % row['input_comm'] + '\\t->\\t\"%s\"' % row['tech']) \n",
    "        from_tech.add('\"%s\"' % row['tech'] + '\\t->\\t\"%s\"' % row['output_comm'])\n",
    "    args = dict(\n",
    "    enodes = \"\".join('%s;\\n\\t\\t' % x for x in nodes),\n",
    "    tnodes = \"\".join('%s;\\n\\t\\t' % x for x in tech),\n",
    "    iedges = \"\".join('%s;\\n\\t\\t' % x for x in to_tech),\n",
    "    oedges = \"\".join('%s;\\n\\t\\t' % x for x in from_tech),\n",
    "    snodes = \";\".join('%s' %x for x in ltech),\n",
    "    )\n",
    "    return args\n",
    "\n",
    "\n",
    "def return_format_colors():\n",
    "    colors = {}\n",
    "    colors.update(getColorConfig(False))\n",
    "    return colors, quick_run_dot_fmt\n",
    "\n",
    "def return_flowd_table(final_dem, level=1):\n",
    "    df = pd.read_sql(\"SELECT * FROM Efficiency\", con)\n",
    "    df_sel = df[df['output_comm']==final_dem]\n",
    "    if len(df_sel)==0:\n",
    "        df_sel = df[df['tech']==final_dem]\n",
    "    inputs = df_sel['input_comm'].unique()\n",
    "    iterval=0\n",
    "    if level!=0:\n",
    "        while len(inputs)>0:\n",
    "            df_append = df[df['output_comm'].isin(inputs)]\n",
    "            df_sel = pd.concat([df_sel, df_append])\n",
    "            inputs = df_append['input_comm'].unique()\n",
    "            iterval+=1\n",
    "            if iterval>level-1:\n",
    "                break\n",
    "    df_graph = df_sel[['input_comm', 'tech', 'output_comm']].drop_duplicates()\n",
    "    return df_graph\n",
    "\n",
    "def return_flowd_table_fwds(final_dem):\n",
    "    df = pd.read_sql(\"SELECT * FROM Efficiency\", con)\n",
    "    df_sel = df[df['output_comm']==final_dem]\n",
    "    if len(df_sel)==0:\n",
    "        df_sel = df[df['tech']==final_dem]\n",
    "    inputs = df_sel['input_comm'].unique()\n",
    "    outputs = df_sel['output_comm'].unique()\n",
    "\n",
    "    iterval=0\n",
    "    while len(inputs)>0:\n",
    "        df_append = df[df['output_comm'].isin(inputs)]\n",
    "        df_sel = pd.concat([df_sel, df_append])\n",
    "        inputs = df_append['input_comm'].unique()\n",
    "        iterval+=1\n",
    "        if iterval>2:\n",
    "            break\n",
    "    iterval=0\n",
    "    while len(outputs)>0:\n",
    "        df_append = df[df['input_comm'].isin(outputs)]\n",
    "        df_sel = pd.concat([df_sel, df_append])\n",
    "        outputs = df_append['output_comm'].unique()\n",
    "        iterval+=1\n",
    "        if iterval>=0:\n",
    "            break\n",
    "\n",
    "    df_graph = df_sel[['input_comm', 'tech', 'output_comm']].drop_duplicates()\n",
    "    return df_graph\n",
    "\n",
    "con = sqlite3.connect(r'../US_9R_4D.sqlite') #change path to database\n",
    "cur = con.cursor()   \n",
    "con.text_factory = str \n",
    "\n",
    "def controls_rows(w):\n",
    "    controls = HBox(w.children[:-1], layout = Layout(flex_flow='row wrap', width='max-content'))\n",
    "    output = w.children[-1]\n",
    "    display(VBox([controls, output],  layout = Layout(flex_flow='columns wrap', width='max-content', size=10)))\n",
    "    "
   ]
  },
  {
   "cell_type": "markdown",
   "metadata": {},
   "source": [
    "# Buildings Sector Overview <a class=\"anchor\" id=\"buildings\"></a>\n",
    "The buildings sector in the OEO database is subdivided into the residential and commercial sectors. These sectors consist of two key components: end-use service demands and the demand technologies used to meet those demands. The service demands in turn consist of two components: the region-specific annual demands projected to 2050, and the apportionment of these annual demands at the hourly level. The demand technologies are characterized by their capital costs, fixed and variable operation and maintenance costs, efficiencies, capacity factors, existing capacity, and fuel inputs."
   ]
  },
  {
   "cell_type": "markdown",
   "metadata": {},
   "source": [
    "## Service Demands <a class=\"anchor\" id=\"service_demands\"></a>\n",
    "The <a href=\"https://www.nrel.gov/analysis/electrification-futures.html\" rel=\"nofollow\">NREL Electrification Futures Study</a> used the EnergyPATHWAYS tool to develop a set of energy demand and supply projections for\n",
    "the end-use sectors (including buildings) to 2050. These annual projections are available at the state level for subsectors such as space heating, air conditioning, cooking, and water heating. The study also has state-level\n",
    "projections of hourly electricity demands for some of these subsectors. We are currently using these two datasets to develop demand projections for the OEO database. In the future, we plan to utilize more detailed projections based on <a href=\"https://www.nrel.gov/buildings/end-use-load-profiles.html\" rel=\"nofollow\">this multi-year NREL study</a> that is currently in progress.\n"
   ]
  },
  {
   "cell_type": "markdown",
   "metadata": {},
   "source": [
    "### Annual Demand Projections <a class=\"anchor\" id=\"annual_demands\"></a>\n",
    "The <a href=\"https://www.nrel.gov/docs/fy18osti/71500.pdf\" rel=\"nofollow\">NREL Electrification Futures Study (EFS) report</a> was published in 2018 and presents a range of demand scenarios for all energy sectors in the United States. Specifically, the study estimates building-related service demands, as shown in Table 1, primarily by downscaling service demands data from the US EIA 2017 Annual Energy Outlook and the associated NEMS model.\n",
    "\n",
    "EIA service demand data were made available by US Census Division to the EFS study. These Census Division-level data were then downscaled to the state-level in the EFS by using factors relevant to each end-use demand. For example, residential space heating service demands at the Census Division were downscaled to the state-level by taking the product of each state's share of heating-degree-days and residential square footage within a given region. Similarly, residential water heating was downscaled by using the number of households. These state-level demand projections to 2050 were made available in the [EFS](https://data.nrel.gov/submissions/92) for the demand types listed in Table 1.\n",
    "\n",
    "We aggregated these state-level demands by demand category, to the nine OEO regions shown in Figure 1.\n",
    "\n",
    "**Table 1.** Annual service demand categories and units drawn from the EFS and used in the OEO buildings sector. The demand commodity names used in the OEO input database are also presented.\n",
    "\n",
    "| End-Use Demand | Unit | OEO Demand Commodity |\n",
    "|:-|:-|:-|\n",
    "| commercial space cooling <img width=15/> | TERABTU |CSC<img width=15/>|\n",
    "| commercial cooking | TERABTU | CCK |\n",
    "| commercial lighting | GIGALUMEN_YEAR |CLT |\n",
    "| commercial   refrigeration | TERABTU | CRF |\n",
    "| commercial space   heating | TERABTU | CSH |\n",
    "| commercial   ventilation | GIGACUBIC_FOOT | CVT |\n",
    "| commercial water   heating | TERABTU | CWH |\n",
    "| residential   space cooling | MMBTU | RSC |\n",
    "| residential refrigeration | CUBIC_FEET | RRF |\n",
    "| residential   lighting | KILOLUMEN_HOUR | RLT |\n",
    "| residential   space heating | MMBTU | RSH |\n",
    "| residential   water heating | MMBTU | RWH |"
   ]
  },
  {
   "cell_type": "markdown",
   "metadata": {},
   "source": [
    "###  Hourly Demand Representation <a class=\"anchor\" id=\"hourly_demands\"></a>\n",
    "\n",
    "As part of the EFS, NREL has developed and published [hourly level electricity demand profiles](https://data.nrel.gov/submissions/126) (for 8760 hours a year) for several demand categories listed in Table 1. NREL has used the outputs of models such as ResStock and ComStock and other data (e.g., from metering studies) to develop these representative hourly profiles for a range of future scenarios. Although these profiles have been developed for electricity demands only, we assume that the service demands follow the same hourly demand pattern. We use the electrification profiles from the 'High Electrification, Rapid End-use Technology Advancement' scenario for our estimates (service demands listed in Table 1), since that scenario incorporates the largest share of total service demands. For the subsectors for which no hourly profiles are available, we assume service demands are constant throughout the year. \n",
    "\n",
    "![Figure 1: IPM regions](./documentation_images/states_to_temoa_state_groups.jpg)\n",
    "**Figure 1.** The nine regions represented in the Open Energy Outlook. The grey lines show the Integrated Planning Model (IPM) region boundaries.\n",
    "\n",
    "The NREL EFS report combines space heating and cooling load profiles. To separate these profiles, we use population weighted heating and cooling degree hour (hdh/cdh) data provided by Michael Roberts at the University of Hawaii, which is described in a forthcoming paper. This data is available at the hourly timescale for the year 2010 and is available across the IPM regions. We first calculate an average hdh for IPM regions within a given OEO region (Figure 1) for each hour of 2010. Next, we calculate the hourly hdh fraction as: \n",
    "\\begin{equation*}\n",
    "\\frac{\\bar{hdh}}{\\bar{hdh} + \\bar{cdh}}\n",
    "\\end{equation*}\n",
    "where $\\bar{hdh}$ and $\\bar{cdh}$ are the hourly hdh and cdh, respectively, averaged across IPM regions in a given OEO region. These fractions are calculated for each hour in each OEO region. Finally, the combined heating and cooling load from NREL EFS is multiplied by these fractions to estimate the heating load in each hour. The cooling load is similarly estimated as the total load multiplied by the fraction of cooling degree hours over the sum of heating and cooling degree hours. This disaggregation of hourly heating and cooling load is illustrated in Figure 2 for two OEO regions.\n",
    "\n",
    "![Figure 2: hdh and hdh fraction for OEO regions](./documentation_images/hdh_cdh_OEO.png)\n",
    "**Figure 2.** Heating degree hour (hdh) and fraction of heating degree hour for the OEO ‘TX’ (left) and 'CEN' (right) region. The markers on the plot show the hourly hdh for the IPM regions within the given OEO region. The line shows the average hdh fraction for each hour smoothed with a moving average window of 20 hours for legibility."
   ]
  },
  {
   "cell_type": "code",
   "execution_count": 12,
   "metadata": {
    "init_cell": true
   },
   "outputs": [
    {
     "data": {
      "text/markdown": [
       "The hourly demand profiles for residential/commercial end use demand are shown below. Refer to Table 2 for a description of the technologies"
      ],
      "text/plain": [
       "<IPython.core.display.Markdown object>"
      ]
     },
     "metadata": {},
     "output_type": "display_data"
    },
    {
     "data": {
      "application/vnd.jupyter.widget-view+json": {
       "model_id": "1e306880a41040b28729b4f0dc8069ab",
       "version_major": 2,
       "version_minor": 0
      },
      "text/plain": [
       "VBox(children=(HBox(children=(Select(description='region', options=('CA', 'CEN', 'MID_AT', 'NE', 'NW', 'N_CEN'…"
      ]
     },
     "metadata": {},
     "output_type": "display_data"
    }
   ],
   "source": [
    "display(Markdown('The hourly demand profiles for residential/commercial end use demand are shown below. Refer to Table 2 for a description of the technologies'))\n",
    "\n",
    "def show_hourly_dem(conn):\n",
    "    df_dds = pd.read_sql_query('SELECT * FROM DemandSpecificDistribution', conn)\n",
    "    regions = df_dds.regions.unique()\n",
    "    unique_demands = df_dds.demand_name.unique()\n",
    "    \n",
    "    def select_region(region='', dem_name=''):\n",
    "        df_sel = df_dds.loc[(df_dds.regions==region) & (df_dds.demand_name==dem_name)].copy()\n",
    "        fig, ax = plt.subplots(figsize=(10,6))\n",
    "        plt.plot(np.arange(0, len(df_sel['dds'])),df_sel['dds'], label=dem_name)\n",
    "        plt.ylabel('Hourly demand fraction')\n",
    "        plt.xlabel('Hour')\n",
    "        plt.legend(loc='upper right',bbox_to_anchor=(1.2, 1))\n",
    "\n",
    "    w1 = widgets.Select(options=regions)\n",
    "    w2 = widgets.Select(options=unique_demands)\n",
    "    w = widgets.interactive(select_region, region=w1, dem_name=w2)\n",
    "    \n",
    "    controls_rows(w)\n",
    "\n",
    "show_hourly_dem(con)"
   ]
  },
  {
   "cell_type": "code",
   "execution_count": 13,
   "metadata": {
    "hide_input": true,
    "init_cell": true,
    "jupyter": {
     "source_hidden": true
    }
   },
   "outputs": [
    {
     "data": {
      "text/markdown": [
       "**Table 2.** Demand categories that have hourly resolution in the OEO database"
      ],
      "text/plain": [
       "<IPython.core.display.Markdown object>"
      ]
     },
     "metadata": {},
     "output_type": "display_data"
    },
    {
     "data": {
      "text/html": [
       "<table>\n",
       "<thead>\n",
       "<tr><th>Demand  </th><th>Description                                    </th></tr>\n",
       "</thead>\n",
       "<tbody>\n",
       "<tr><td>CLT     </td><td>commercial lighting demand                     </td></tr>\n",
       "<tr><td>COEELC  </td><td>commercial electric demand for office equipment</td></tr>\n",
       "<tr><td>COELC   </td><td>commercial other electric demand               </td></tr>\n",
       "<tr><td>CSC     </td><td>commercial space cooling demand                </td></tr>\n",
       "<tr><td>CSH     </td><td>commercial space heating demand                </td></tr>\n",
       "<tr><td>CWH     </td><td>commercial water heating demand                </td></tr>\n",
       "<tr><td>RLT     </td><td>residential lighting demand                    </td></tr>\n",
       "<tr><td>ROELC   </td><td>residential other electric demand              </td></tr>\n",
       "<tr><td>RSC     </td><td>residential space cooling demand               </td></tr>\n",
       "<tr><td>RSH     </td><td>residential space heating demand               </td></tr>\n",
       "<tr><td>RWH     </td><td>residential water heating demand               </td></tr>\n",
       "</tbody>\n",
       "</table>"
      ],
      "text/plain": [
       "<IPython.core.display.HTML object>"
      ]
     },
     "metadata": {},
     "output_type": "display_data"
    }
   ],
   "source": [
    "display(Markdown('**Table 2.** Demand categories that have hourly resolution in the OEO database'))\n",
    "df = pd.read_sql(\"SELECT comm_name, comm_desc FROM commodities \\\n",
    "\tWHERE comm_name IN \\\n",
    "\t(SELECT DISTINCT(demand_name) FROM DemandSpecificDistribution)\", con)\n",
    "df.columns=['Demand','Description']\n",
    "df['Description'] = df['Description'].str.replace('#','').str.strip()\n",
    "display(HTML(tabulate.tabulate(df.set_index('Demand'),df.columns,tablefmt='html')))"
   ]
  },
  {
   "cell_type": "markdown",
   "metadata": {},
   "source": [
    "## Demand Technology Specification <a class=\"anchor\" id=\"demand_technology\"></a>\n",
    "\n",
    "The characteristics of the demand technologies within the residential and commercial sectors are based on the Residential Demand Module (RDM) and Commercial Demand Module (CDM) of the National Energy Modeling System (NEMS) - [Updated Buildings Sector Appliance and Equipment Costs and Efficiency](https://www.eia.gov/analysis/studies/buildings/equipcosts/). These modules provide technology-specific efficiencies, fixed and variable operations and maintenance costs, lifetimes, and typical capacities based on contract reports prepared by Navigant Consulting, Inc. for the U.S. Energy Information Administration. These modules include a diverse set of equipment classes and types. For example, residential cooling technologies include room air conditioners, central air conditioners, and heat pumps. Three types of heat pumps are represented for residential cooling in this database: air-source, ground-source, and natural gas heat pumps. We used this dataset as-is, except for an adjustment of the heat pump coefficient of performance (COP) to reflect more regionally appropriate values. We perform this transformation since heat pumps are an important technology pertaining to building decarbonization. [Vaishnav et al. (2020)](https://pubs.acs.org/doi/abs/10.1021/acs.est.0c02705) used a dataset gathered from NEEP and estimated a linear relationship between COP and outside temperature for a variety of heat pumps. Their approach assumed that the indoor temperatures stay constant at 70 F. We use the slope of this linear relationship to adjust heat pump COPs at the OEO region level using the NEMS database and applying state-level population weighted temperatures.\n",
    "    \n",
    "In addition to representing a wide array of technologies, the current and projected techno-economic parameters for the residential and commercial equipment are projected to 2050. Techno-economic parameter estimates are provided for typical equipment in a given year along with estimates for high efficiency versions of the same equipment in the same year. For example: costs and coefficients of performance (COPs) for a typical air-source heat pump as well as a high efficiency air-source heat pump are published for vintages spanning 2020 through 2050 in 5 year increments. We utilize this data as part of the OEO buildings database. In addition, techno-economic parameters for a technology - wit the exception of heat pump COPs, as described above - are assumed to be the same across regions. \n",
    "\n",
    "\n",
    "Input values drawn directly from the database can be viewed in the sections below."
   ]
  },
  {
   "cell_type": "markdown",
   "metadata": {},
   "source": [
    "### Investment costs <a class=\"anchor\" id=\"costinvest\"></a>"
   ]
  },
  {
   "cell_type": "markdown",
   "metadata": {},
   "source": [
    "The investment costs are drawn from the [Residential Demand Module (RDM) and Commercial Demand Module (CDM)](https://www.eia.gov/analysis/studies/buildings/equipcosts/) of National Energy Modeling System."
   ]
  },
  {
   "cell_type": "code",
   "execution_count": 14,
   "metadata": {
    "hide_input": true,
    "init_cell": true,
    "jupyter": {
     "source_hidden": true
    }
   },
   "outputs": [
    {
     "data": {
      "application/vnd.jupyter.widget-view+json": {
       "model_id": "bb42c42a02684769b867244fc9c70bb9",
       "version_major": 2,
       "version_minor": 0
      },
      "text/plain": [
       "VBox(children=(HBox(children=(Select(description='tech', options=('All', 'new NGA furnace ST for space heating…"
      ]
     },
     "metadata": {},
     "output_type": "display_data"
    }
   ],
   "source": [
    "def show_cost_invest(con):\n",
    "    \n",
    "    df_tech_desc = pd.read_sql(\"SELECT tech, tech_desc FROM technologies\", con)\n",
    "\n",
    "    df = pd.read_sql(\n",
    "        \"SELECT regions, tech,vintage, cost_invest, cost_invest_units FROM CostInvest WHERE tech IN (SELECT tech FROM technologies WHERE sector=='residential' OR sector='commercial' ) ORDER BY tech, vintage\",\n",
    "        con)\n",
    "\n",
    "    display_types = ['table', 'figure']\n",
    "    \n",
    "    df['agg_tech'] = df['tech'].map(lambda x: df_tech_desc.loc[df_tech_desc.tech==x,'tech_desc'].values[0].replace('#','').strip())\n",
    "    techs = []\n",
    "    for unique_tech in df.agg_tech.unique():\n",
    "        try:\n",
    "            int(unique_tech.split('_')[-1])\n",
    "            techs.append('_'.join(unique_tech.split('_')[0:-1]))\n",
    "        except:\n",
    "            techs.append(unique_tech)\n",
    "    techs = ['All'] + list(set(techs))\n",
    "    regions = df.regions.unique()\n",
    "\n",
    "\n",
    "    def filter_tech(tech='', region='', o_format=''):\n",
    "        if tech == 'All':\n",
    "            df_sel = df[(df.regions == region)]\n",
    "        else:\n",
    "            df_sel = df[(df.agg_tech.str.contains(tech)) & (df.regions == region)]\n",
    "        if o_format == 'table':\n",
    "            df_sel = df_sel.pivot_table(\n",
    "                index=['regions', 'tech', 'agg_tech', 'cost_invest_units'],\n",
    "                columns='vintage',\n",
    "                values='cost_invest').reset_index().set_index('regions')\n",
    "            df_sel.rename(columns={'cost_invest_units': 'units', 'agg_tech':'description'}, inplace=True)\n",
    "            df_sel['units'] = df_sel['units'].str.replace('#','').str.replace('M$','$M').str.strip()\n",
    "            if len(df_sel['units'].unique())==1:\n",
    "                df_sel['units'] = df_sel['units'].unique()[0].replace('M$','$M')\n",
    "            display(\n",
    "                HTML(\n",
    "                    tabulate.tabulate(df_sel,\n",
    "                                      ['region'] + list(df_sel.columns.values),\n",
    "                                      floatfmt=\".0f\",\n",
    "                                      tablefmt='html')))\n",
    "        elif (o_format == 'figure') & (tech!='All') :\n",
    "            fig, ax = plt.subplots(figsize=(10, 6))\n",
    "            for ind_tech in df_sel.tech.unique():\n",
    "                plt.plot(df_sel[df_sel.tech == ind_tech].vintage,\n",
    "                         df_sel[df_sel.tech == ind_tech].cost_invest,\n",
    "                         label=ind_tech)\n",
    "            plt.legend()\n",
    "            plt.ylabel('Investment costs (' + df_sel['cost_invest_units'].unique()[0].replace('#','').strip().replace('M$','$M') + ')')\n",
    "            #plt.ylim([0, df.cost_invest.max() * 1.1])\n",
    "            plt.xlabel('Vintage')\n",
    "\n",
    "\n",
    "    w1 = widgets.Select(options=techs)\n",
    "    w2 = widgets.Select(options=regions)\n",
    "    w3 = widgets.Select(options=display_types)\n",
    "    w = widgets.interactive(filter_tech, tech=w1, region=w2, o_format=w3)\n",
    "\n",
    "    controls_rows(w)\n",
    "    \n",
    "show_cost_invest(con)"
   ]
  },
  {
   "cell_type": "markdown",
   "metadata": {},
   "source": [
    "### Efficiency <a class=\"anchor\" id=\"efficiency\"></a>"
   ]
  },
  {
   "cell_type": "markdown",
   "metadata": {},
   "source": [
    "The efficiency parameter has two functions in the OEO database: (1) specify the conversion efficiency of each process, and (2) specify linkages in input and output processes to build the energy system network. \n",
    "\n",
    "As shown in Table 1, our representation of the buildings sector is comprised of several end-use services like residential space heating and commercial ventilation. These end-use service demands are met by a host of demand technologies that consume energy commodities and produce end-use demand commodities. As shown in Table 2, the numerous efficiency metrics reflect the wide range of demand technologies included in to OEO buildings representation.\n",
    "\n",
    "The demands for some end-use services (like residential space heating) are specified in energy units and so the efficiencies of technologies meeting these demands are in units of energy output over energy input supplied. However, other end-use services (like commercial ventilation) have demand specified in physical units, and thus the efficiencies of the associated demand technologies are in physical units produced over input energy supplied. Table 2 below shows the efficiency metrics that apply to different categories of demand technologies serving a specific end-use demand.\n",
    "\n",
    "**Table 2.** Summary of technology efficiencies applied to building subsectors in the OEO database. \n",
    "\n",
    "| End-Use Demand | Efficiency Metrics | Efficiency Units\n",
    "|:-|:-|:-|\n",
    "| Commercial Space Cooling <img width=15/> | COP<sup>[1](#COP)</sup>, EER<sup>[2](#EER)</sup>, IEER<sup>[2](#EER)</sup> <img width=15/>| PJ out/PJ In<img width=15/>|\n",
    "| Commercial Cooking | cooking energy efficiency | PJ out/PJ In |\n",
    "| Commercial Lighting | system efficacy<sup>[3](#LIGHT)</sup> | Lumen-Year/PJ |\n",
    "| Commercial Refrigeration | Nominal Capacity Over Average Input | PJ out/PJ in |\n",
    "| Commercial Space Heating | COP, thermal efficiency<sup>[4](#TE)</sup>, COP, AFUE<sup>[5](#AFUE)</sup>| PJ out/PJ in |\n",
    "| Commercial Ventilation | system air flow over fan power | CFM / PJ in |\n",
    "| Commercial Water Heating | thermal efficiency, SEF<sup>[7](#SEF)</sup>, COP | PJ out / PJ in |\n",
    "| Residential Space Cooling | SEER<sup>[6](#AFUE)</sup>, EER, COP | PJ out / PJ in |\n",
    "| Residential Lighting | system efficacy | Lumen-Hour/PJ |\n",
    "| Residential Refrigeration | typical capacity over annual energy consumption | Cubic feet / PJ |\n",
    "| Residential Space Heating | AFUE, thermal efficiency, HSPF<sup>[8](#HSPF)</sup>, COP, HHV<sup>[9](#HHV)</sup>| PJ out / PJ in |\n",
    "| Residential Water Heating | UEF<sup>[7](#SEF)</sup>, SEF | PJ out / PJ in |\n",
    "\n",
    "<a name=\"COP\">1</a>: Coefficient of Performance (COP):  Energy efficiency rating measure determined, under specific testing conditions, by dividing the useful heating or cooling delivered by the required energy input.\n",
    "<a name=\"EER\">2</a>: Energy Efficiency Ratio (EER, IEER): A ratio representing the cooling capacity in Btu per hour by the power input in watts at any given set of rating conditions, expressed in Btu per hour per watt.\n",
    "<a name=\"LIGHT\">3</a>: Lighting efficiencies are represented by efficacy in lumens/watt.\n",
    "<a name=\"TE\">4</a>: Thermal efficiency (TE): the percentage of input heat energy that is transformed into useful work.\n",
    "<a name=\"AFUE\">5</a>: Annual Fuel Utilization Efficiency (AFUE): Efficiency rating based on average usage, including on and off cycling, as set out in the Department of Energy's standardized test procedures.\n",
    "<a name=\"SEER\">6</a>: Seasonal Energy Efficiency Ratio (SEER): The total cooling of a central unitary air conditioner or a unitary heat pump in Btu during its normal annual usage period for cooling divided by the total electric energy input in watt-hours during the same period. \n",
    "<a name=\"SEF\">7</a>: Solar Energy Factor (SEF) and Uniform Energy Factor (UEF): defined as the energy delivered by the system divided the electrical or gas energy put into the system.\n",
    "<a name=\"HSPF\">8</a>: Heating Seasonal Performance Factor (HSPF): The total heating delivered by a heat pump in Btu during its normal annual usage period for heating divided by total electric input in watt-hours during the same period.\n",
    "<a name=\"HHV\">9</a>: Higher Heating Value (HHV): This thermal efficiency is fuel dependent and accounts for the latent heat of vaporization of water in the combustion products.\n",
    "\n",
    "Several of the end-use service demands are defined by units of service rather than energy. In these cases, the specified efficiency has different input and output units, as noted below:\n",
    "\n",
    "- Residential Lighting:\n",
    "system efficacy – published in $\\frac{Lumen}{W}$ and converted to $\\frac{Lumen-h}{PJ}$ by dividing by $ 3600 \\frac{J}{Wh} \\times 10^{-15} \\frac{PJ}{J}$ .\n",
    "\n",
    "- Residential Refrigeration:\n",
    "An efficiency is derived as the typical capacity over annual energy consumption where typical capacity is in units of ft<sup>3</sup> and annual energy consumption is in the units of kWh and subsequently converted to $\\frac{ft^3}{PJ}$ by dividing by $ 3.6\\times 10^{-9} \\frac{PJ}{kWh} $.\n",
    "\n",
    "- Commercial Ventilation:\n",
    "An efficiency is derived as the system air flow over the system fan power, where system air flow is in units of ft<sup>3</sup>/min (CFM) and system fan power is in units of kW ($\\frac{system air flow}{system fan power}$). The efficiency is thus in units of $\\frac{CFM}{kW}$ and is subsequently converted to $\\frac{CFM}{PJ/hour}$ by dividing by $10^{-12} \\frac{PJ}{sec} \\times 3600 \\frac{sec}{hour} $.\n",
    "\n",
    "- Commercial Refrigeration:\n",
    "An efficiency is derived as the nominal capacity over average input, calculated as the cooling or heat rejection capacity over the annual energy consumption with units of $\\frac{PJ in}{PJ out}$, where the cooling or heat rejection capacity is in units of $\\frac{Btu}{hour}$ and the annual energy consumption is in units of $\\frac{kWh}{Year}$. The unit conversions are as follows (Note that $\\frac{PJ out}{PJ in} = \\frac{Btu out}{But in}$ since the conversion factors cancel out):\n",
    "\\begin{equation*}\n",
    "\\frac{Capacity \\frac{Btu}{hour} \\times 24 \\frac{hours}{day} \\times 365 \\frac{day}{year}}{Annual Energy Consumption \\frac{kWh}{Year} \\times 3421.14 \\frac {Btu}{kWh}}\n",
    "\\end{equation*}.\n",
    "- Commercial Lighting:\n",
    "Similar to residential lighting, here conversion from electrical energy to lumens is represented by the system efficacy. The system efficacy is published in $\\frac{Lumens}{Watt}$ and converted to $\\frac{Lumens\\cdot year}{PJ}$ by dividing by $ 3600 \\frac{J}{Wh} \\times 10^{-15} \\frac{PJ}{J} \\times 8760 \\frac{hours}{year} $."
   ]
  },
  {
   "cell_type": "code",
   "execution_count": 15,
   "metadata": {
    "hide_input": true,
    "init_cell": true,
    "jupyter": {
     "source_hidden": true
    }
   },
   "outputs": [
    {
     "data": {
      "application/vnd.jupyter.widget-view+json": {
       "model_id": "a51dfe11b8ce4476adc2883186df9df1",
       "version_major": 2,
       "version_minor": 0
      },
      "text/plain": [
       "VBox(children=(HBox(children=(Select(description='tech', options=('All', 'blending tech to blend NGA, ELC for …"
      ]
     },
     "metadata": {},
     "output_type": "display_data"
    }
   ],
   "source": [
    "def show_efficiency(con):\n",
    "    df_tech_desc = pd.read_sql(\"SELECT tech, tech_desc FROM technologies\", con)\n",
    "    df = pd.read_sql(\"SELECT regions, tech, vintage, efficiency FROM Efficiency WHERE tech IN (SELECT tech FROM technologies WHERE sector=='residential' OR sector='commercial')\", con)\n",
    "    df.loc[:,'agg_tech'] = df.loc[:,'tech'] #[map_plants[y] for x in df.tech for y in map_plants.keys() if y.lower() in x.lower()] #map agg technologies\n",
    "    df_sum = df#df.drop(\"vintage\", axis=1).groupby(by = ['regions','agg_tech']).sum().reset_index()\n",
    "    df_sum['agg_tech'] = df_sum['agg_tech'].map(lambda x: df_tech_desc.loc[df_tech_desc.tech==x,'tech_desc'].values[0].replace('#','').strip())\n",
    "    techs = ['All'] + list(df_sum.agg_tech.unique())\n",
    "    regions = df_sum.regions.unique()\n",
    "    def filter_tech(tech ='', region = ''):\n",
    "        if tech=='All':\n",
    "            df_sel = df_sum[(df_sum.regions==region)]\n",
    "        else:\n",
    "            df_sel = df_sum[(df_sum.agg_tech==tech) & (df_sum.regions==region)]\n",
    "            df_sel.efficiency = 100*df_sel.efficiency\n",
    "        df_sel = df_sel[['regions','tech','agg_tech','vintage','efficiency']]\n",
    "        display(HTML(tabulate.tabulate(df_sel.set_index('regions'), [\"regions\", \"technology\", \"description\",\"vintage\",'efficiency (%)' ], floatfmt=\".1f\", tablefmt='html')))\n",
    "\n",
    "    w1 = widgets.Select(options=techs)\n",
    "    w2 = widgets.Select(options=regions)\n",
    "    w = widgets.interactive(filter_tech, tech=w1, region=w2)\n",
    "\n",
    "    controls_rows(w)\n",
    "    \n",
    "show_efficiency(con)"
   ]
  },
  {
   "cell_type": "markdown",
   "metadata": {},
   "source": [
    "### Existing Capacity <a class=\"anchor\" id=\"exist_cap\"></a>"
   ]
  },
  {
   "cell_type": "markdown",
   "metadata": {},
   "source": [
    "To our knowledge, the existing installed capacities of the various technologies listed in the [EIA dataset](https://www.eia.gov/analysis/studies/buildings/equipcosts/) are not readily available. Sources like EFS and EIA, while critical in populating other parts of the database, do not report existing installed capacity. As a result, we lean on estimations from the USEPA9r MARKAL database [(Shay et al. 2013)](https://cfpub.epa.gov/si/si_public_record_Report.cfm?Lab=NRMRL&dirEntryID=150883) to fill this important gap. MARKAL spreadsheets report the existing capacities for most of the technologies listed in the EIA dataset for the [nine Census Divisions](https://www2.census.gov/geo/pdfs/maps-data/maps/reference/us_regdiv.pdf). However, since the OEO regions differ from the Census Divisions, we use the existing capacities reported in MARKAL and scale them using [U.S. Census state population data](https://www.census.gov/data/tables/time-series/demo/popest/2010s-state-total.html) to obtain estimates of existing capacity in each U.S. state. Finally, we aggregate up to the OEO regions and estimate the existing capacity of the EIA technologies. \n",
    "\n",
    "Within the MARKAL spreadsheet, the existing capacity is estimated by multiplying the demand met (taken from the [AEO](https://www.eia.gov/outlooks/aeo/)) in an end-use service subsector along with the estimated market share of a technology contributing to the end-use service category. This value is then divided by a utilization factor to estimate existing capacity of a certain technology in a given region. These data analysis steps are local to the MARKAL spreadsheet and we directly utilize the estimated existing capacities in the manner described above."
   ]
  },
  {
   "cell_type": "code",
   "execution_count": 16,
   "metadata": {
    "hide_input": true,
    "init_cell": true,
    "jupyter": {
     "source_hidden": true
    },
    "scrolled": true
   },
   "outputs": [
    {
     "data": {
      "application/vnd.jupyter.widget-view+json": {
       "model_id": "d6d1060056a94016846573250c96dea2",
       "version_major": 2,
       "version_minor": 0
      },
      "text/plain": [
       "VBox(children=(HBox(children=(Select(description='tech', options=('All', 'existing natural gas furnace for spa…"
      ]
     },
     "metadata": {},
     "output_type": "display_data"
    }
   ],
   "source": [
    "def show_exist_cap(con):\n",
    "    df_tech_desc = pd.read_sql(\"SELECT tech, tech_desc FROM technologies\", con)\n",
    "    df = pd.read_sql(\"SELECT regions, tech,vintage, exist_cap, exist_cap_units FROM ExistingCapacity WHERE tech IN (SELECT tech FROM technologies WHERE sector=='residential' OR sector='commercial')\", con)\n",
    "    df.loc[:,'agg_tech'] = df.loc[:,'tech'] #[map_plants[y] for x in df.tech for y in map_plants.keys() if y.lower() in x.lower()] #map agg technologies\n",
    "    df_sum = df.drop(\"vintage\", axis=1).groupby(by = ['regions','tech','agg_tech','exist_cap_units']).sum().reset_index()\n",
    "    df_sum.sort_values(by='exist_cap', ascending=False, inplace=True)\n",
    "    df_sum['agg_tech'] = df_sum['agg_tech'].map(lambda x: df_tech_desc.loc[df_tech_desc.tech==x,'tech_desc'].values[0].replace('#','').strip())\n",
    "    techs = ['All'] + list(df_sum.agg_tech.unique())\n",
    "    regions = df_sum.regions.unique()\n",
    "    def filter_tech(tech ='', region = ''):\n",
    "        if tech=='All':\n",
    "            df_sel = df_sum[(df_sum.regions==region)]\n",
    "        else:\n",
    "            df_sel = df_sum[(df_sum.agg_tech==tech) & (df_sum.regions==region)]\n",
    "        display(HTML(tabulate.tabulate(df_sel.set_index('regions'), [\"regions\", \"technology\", \"description\", \"units\",\"capacity\" ], floatfmt=\".1f\", tablefmt='html')))\n",
    "    w1 = widgets.Select(options=techs)\n",
    "    w2 = widgets.Select(options=regions)\n",
    "    w = widgets.interactive(filter_tech, tech=w1, region=w2)\n",
    "\n",
    "    controls_rows(w)\n",
    "    \n",
    "show_exist_cap(con)\n"
   ]
  },
  {
   "cell_type": "markdown",
   "metadata": {
    "jupyter": {
     "source_hidden": false
    }
   },
   "source": [
    "### Discount Rate <a class=\"anchor\" id=\"disc_rates\"></a>\n",
    "All new capacity is given a technology-specific discount rate of 30%. Without this specification, Temoa's least cost optimization results in the early replacement of virtually all existing demand technologies with new capacity at higher efficiency. Thus this 30% rate is used to ensure that existing capacity is utilized for the remainder of its lifetime under base case assumptions. In the future, we plan to update this hurdle rate based on calibrations from the updated OEO database."
   ]
  },
  {
   "cell_type": "code",
   "execution_count": 17,
   "metadata": {
    "hide_input": true,
    "init_cell": true,
    "jupyter": {
     "source_hidden": true
    },
    "scrolled": true
   },
   "outputs": [
    {
     "data": {
      "application/vnd.jupyter.widget-view+json": {
       "model_id": "b15ea8bf4ea344acae5a19d1c82c7d4d",
       "version_major": 2,
       "version_minor": 0
      },
      "text/plain": [
       "VBox(children=(HBox(children=(Select(description='tech', options=('All', 'new NGA furnace ST for space heating…"
      ]
     },
     "metadata": {},
     "output_type": "display_data"
    }
   ],
   "source": [
    "def show_disc_rate(con):\n",
    "    df_tech_desc = pd.read_sql(\"SELECT tech, tech_desc FROM technologies\", con)\n",
    "    df = pd.read_sql(\"SELECT regions, tech, vintage, tech_rate FROM DiscountRate \\\n",
    "    WHERE tech in (SELECT tech FROM technologies WHERE sector='residential' OR sector='commercial')\", con)\n",
    "    df['agg_tech'] = df['tech'].map(lambda x: df_tech_desc.loc[df_tech_desc.tech==x,'tech_desc'].values[0].replace('#','').strip())\n",
    "    techs = []\n",
    "    for unique_tech in df.agg_tech.unique():\n",
    "        techs.append(unique_tech)\n",
    "    techs = ['All'] + list(set(techs))\n",
    "    regions = df.regions.unique()\n",
    "    def filter_tech(tech='', region =''):\n",
    "        if tech=='All':\n",
    "            df_sel = df[(df.regions==region)]\n",
    "        else:\n",
    "            df_sel = df[(df.agg_tech==tech) & (df.regions==region)]\n",
    "        df_sel = df_sel.pivot_table(index=['regions','tech', 'agg_tech'], columns='vintage', values='tech_rate').reset_index()\n",
    "        df_sel.rename(columns={'agg_tech':'description'},inplace=True)\n",
    "        header = list(df_sel.columns.values)\n",
    "        display(HTML(tabulate.tabulate(df_sel.set_index('regions'), header, floatfmt=\".3f\", tablefmt='html')))\n",
    "    w1 = widgets.Select(options=techs)\n",
    "    w2 = widgets.Select(options=regions)\n",
    "    w = widgets.interactive(filter_tech, tech=w1, region=w2)\n",
    "\n",
    "    controls_rows(w)\n",
    "    \n",
    "show_disc_rate(con)"
   ]
  },
  {
   "cell_type": "markdown",
   "metadata": {},
   "source": [
    "## Look-up Tools <a class=\"anchor\" id=\"look_up_tools\"></a>"
   ]
  },
  {
   "cell_type": "markdown",
   "metadata": {},
   "source": [
    "### Technology/Commodity Description Look-up Tool <a class=\"anchor\" id=\"description_look_up\"></a>\n",
    "Use the tool below to search for any key words that may describe a technology or commodity of interest (e.g. heating, cooling). The tool provides a list of all the technologies in the database that may be relevant to the query."
   ]
  },
  {
   "cell_type": "code",
   "execution_count": 18,
   "metadata": {
    "hide_input": true,
    "init_cell": true,
    "jupyter": {
     "source_hidden": true
    }
   },
   "outputs": [
    {
     "data": {
      "application/vnd.jupyter.widget-view+json": {
       "model_id": "557e6d4564b84be3b6322ebc9e8eb160",
       "version_major": 2,
       "version_minor": 0
      },
      "text/plain": [
       "Text(value='space heating demand')"
      ]
     },
     "metadata": {},
     "output_type": "display_data"
    },
    {
     "data": {
      "application/vnd.jupyter.widget-view+json": {
       "model_id": "14b453469476432f8668163a036de740",
       "version_major": 2,
       "version_minor": 0
      },
      "text/plain": [
       "Output()"
      ]
     },
     "metadata": {},
     "output_type": "display_data"
    }
   ],
   "source": [
    "w = widgets.Text(value='space heating demand')\n",
    "display(w)\n",
    "def f(w):\n",
    "    if len(w)>0:\n",
    "        df1 = pd.read_sql(\"SELECT * FROM commodities WHERE comm_desc LIKE '%\" + w + \"%'\", con)\n",
    "        df1['desc'] = df1['comm_desc'].str.replace('#','').str.strip()\n",
    "        df1['comm_tech'] = df1['comm_name']\n",
    "        df1['type'] = 'commodity'\n",
    "\n",
    "        df2 = pd.read_sql(\"SELECT * FROM technologies WHERE tech_desc LIKE '%\" + w + \"%'\", con)\n",
    "        df2['desc'] = df2['tech_desc'].str.replace('#','').str.strip()\n",
    "        df2['comm_tech'] = df2['tech']\n",
    "        df2['type'] = 'technology'\n",
    "\n",
    "\n",
    "        df = pd.concat([df1[['comm_tech','type','desc']], df2[['comm_tech','type','desc']]])\n",
    "        \n",
    "        if len(df)>0:\n",
    "            display(HTML(tabulate.tabulate(df.set_index('comm_tech'),['technology/commodity','type','description'],tablefmt='html')))\n",
    "        else:\n",
    "            print('')\n",
    "    else:\n",
    "        print('')\n",
    "            \n",
    "\n",
    "\n",
    "out = widgets.interactive_output(f, {'w': w})\n",
    "display(out)"
   ]
  },
  {
   "cell_type": "markdown",
   "metadata": {},
   "source": [
    "### Network Diagram Look-up Tool  <a class=\"anchor\" id=\"network_look_up\"></a>\n",
    "Use the [description lookup tool](#description_look_up) above to identify specific commodity or technology names. Type the name in the box below to generate a corresponding network diagram for that commodity or technology. The slider can be used to view different upstream levels of the network diagram."
   ]
  },
  {
   "cell_type": "code",
   "execution_count": 19,
   "metadata": {
    "hide_input": true,
    "init_cell": true,
    "jupyter": {
     "source_hidden": true
    }
   },
   "outputs": [
    {
     "data": {
      "application/vnd.jupyter.widget-view+json": {
       "model_id": "42121251c590495f820654a0758cd286",
       "version_major": 2,
       "version_minor": 0
      },
      "text/plain": [
       "Text(value='RSH')"
      ]
     },
     "metadata": {},
     "output_type": "display_data"
    },
    {
     "data": {
      "application/vnd.jupyter.widget-view+json": {
       "model_id": "6b01cbfbdd57498fbb1b1c0b4da1f0b6",
       "version_major": 2,
       "version_minor": 0
      },
      "text/plain": [
       "Output()"
      ]
     },
     "metadata": {},
     "output_type": "display_data"
    }
   ],
   "source": [
    "w = widgets.Text(value='RSH')\n",
    "display(w)\n",
    "def f(w):\n",
    "    if len(w)>0:\n",
    "        \n",
    "        df1 = pd.read_sql(\"SELECT comm_name, comm_desc FROM commodities WHERE comm_name='\" + w + \"'\", con)\n",
    "        df1['desc'] = df1['comm_desc'].str.replace('#','').str.strip()\n",
    "        df1['comm_tech'] = df1['comm_name']\n",
    "        df1['type'] = 'commodity'\n",
    "\n",
    "        df2 = pd.read_sql(\"SELECT * FROM technologies WHERE tech='\" + w + \"'\", con)\n",
    "        df2['desc'] = df2['tech_desc'].str.replace('#','').str.strip()\n",
    "        df2['comm_tech'] = df2['tech']\n",
    "        df2['type'] = 'technology'\n",
    "\n",
    "        df = pd.concat([df1[['comm_tech','type','desc']], df2[['comm_tech','type','desc']]])\n",
    "\n",
    "    \n",
    "        if len(df)>0:\n",
    "            def show_desc(level):\n",
    "                display(Markdown(df['desc'][0]))\n",
    "                final_dem = df['comm_tech'][0]\n",
    "                df_graph = return_flowd_table(final_dem,level)\n",
    "                args = create_args_flowd(df_graph)\n",
    "                colors, quick_run_dot_fmt = return_format_colors()\n",
    "                args.update(colors)\n",
    "                #o_str = 'rankdir = \"LR\" ;'\n",
    "                #r_str = 'rankdir = \"LR\" ; \\n\\t size=\"12,12\";'\n",
    "                #quick_run_dot_fmt = quick_run_dot_fmt.replace(o_str, r_str)\n",
    "                dot_graph = quick_run_dot_fmt % args\n",
    "                display(graphviz.Source(dot_graph))\n",
    "            w2 = widgets.IntSlider(value=1,min=0,max=10,step=1,description='Level:',disabled=False,continuous_update=True,orientation='horizontal',readout=True,readout_format='d')\n",
    "            w = widgets.interactive(show_desc, level=w2)\n",
    "            controls_rows(w)\n",
    "        else:\n",
    "            print('')\n",
    "\n",
    "    else:\n",
    "        print('')\n",
    "            \n",
    "\n",
    "\n",
    "out = widgets.interactive_output(f, {'w': w})\n",
    "display(out)"
   ]
  },
  {
   "cell_type": "markdown",
   "metadata": {},
   "source": [
    "###  Technology/Commodity Look-up Tool <a class=\"anchor\" id=\"tech_lookup\"></a>\n",
    "Use the tool below to retrieve the description for any technology or commodity within the database. Type the commodity or technology name in the box below to view the description. Note that names are case sensitive."
   ]
  },
  {
   "cell_type": "code",
   "execution_count": 20,
   "metadata": {
    "hide_input": true,
    "init_cell": true,
    "jupyter": {
     "source_hidden": true
    }
   },
   "outputs": [
    {
     "data": {
      "application/vnd.jupyter.widget-view+json": {
       "model_id": "d68107f802a4436192b2b06de75e00de",
       "version_major": 2,
       "version_minor": 0
      },
      "text/plain": [
       "Text(value='RSH')"
      ]
     },
     "metadata": {},
     "output_type": "display_data"
    },
    {
     "data": {
      "application/vnd.jupyter.widget-view+json": {
       "model_id": "f975ee01fd5647049c5c1a2bb4ddd99e",
       "version_major": 2,
       "version_minor": 0
      },
      "text/plain": [
       "Output()"
      ]
     },
     "metadata": {},
     "output_type": "display_data"
    }
   ],
   "source": [
    "w = widgets.Text(value='RSH')\n",
    "display(w)\n",
    "def f(w):\n",
    "    df = pd.read_sql(\"SELECT * FROM commodities WHERE comm_name='\" + w + \"'\", con)\n",
    "    if len(df)==0:\n",
    "        df = pd.read_sql(\"SELECT * FROM technologies WHERE tech='\" + w + \"'\", con)\n",
    "\n",
    "    if len(df)>0:\n",
    "        try:\n",
    "            display(Markdown((df['comm_desc'].values[0].replace('#', '').strip())))\n",
    "        except:\n",
    "            display(Markdown(df['tech_desc'].values[0].replace('#', '').strip()))\n",
    "    else:\n",
    "        print('')\n",
    "\n",
    "\n",
    "out = widgets.interactive_output(f, {'w': w})\n",
    "display(out)\n"
   ]
  }
 ],
 "metadata": {
  "celltoolbar": "Initialization Cell",
  "hide_input": true,
  "kernelspec": {
   "display_name": "Python 3",
   "language": "python",
   "name": "python3"
  },
  "language_info": {
   "codemirror_mode": {
    "name": "ipython",
    "version": 3
   },
   "file_extension": ".py",
   "mimetype": "text/x-python",
   "name": "python",
   "nbconvert_exporter": "python",
   "pygments_lexer": "ipython3",
   "version": "3.7.3"
  },
  "toc": {
   "base_numbering": 1,
   "nav_menu": {},
   "number_sections": true,
   "sideBar": true,
   "skip_h1_title": false,
   "title_cell": "Table of Contents",
   "title_sidebar": "Contents",
   "toc_cell": false,
   "toc_position": {
    "height": "calc(100% - 180px)",
    "left": "10px",
    "top": "150px",
    "width": "369.6px"
   },
   "toc_section_display": true,
   "toc_window_display": true
  },
  "varInspector": {
   "cols": {
    "lenName": 16,
    "lenType": 16,
    "lenVar": 40
   },
   "kernels_config": {
    "python": {
     "delete_cmd_postfix": "",
     "delete_cmd_prefix": "del ",
     "library": "var_list.py",
     "varRefreshCmd": "print(var_dic_list())"
    },
    "r": {
     "delete_cmd_postfix": ") ",
     "delete_cmd_prefix": "rm(",
     "library": "var_list.r",
     "varRefreshCmd": "cat(var_dic_list()) "
    }
   },
   "types_to_exclude": [
    "module",
    "function",
    "builtin_function_or_method",
    "instance",
    "_Feature"
   ],
   "window_display": false
  }
 },
 "nbformat": 4,
 "nbformat_minor": 4
}
