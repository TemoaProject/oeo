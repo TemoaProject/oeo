{
 "cells": [
  {
   "cell_type": "code",
   "execution_count": 1,
   "metadata": {
    "hide_input": true,
    "init_cell": true,
    "jupyter": {
     "source_hidden": true
    }
   },
   "outputs": [],
   "source": [
    "import pandas as pd\n",
    "import numpy as np\n",
    "import os\n",
    "import sqlite3\n",
    "import shutil\n",
    "import datetime\n",
    "import matplotlib.pyplot as plt\n",
    "from matplotlib.ticker import MaxNLocator\n",
    "from IPython.display import HTML, display, Markdown\n",
    "import tabulate\n",
    "import ipywidgets as widgets\n",
    "from ipywidgets import HBox, VBox, Layout\n",
    "import graphviz\n",
    "from GraphVizUtil import *\n",
    "from GraphVizFormats import *\n",
    "import warnings\n",
    "warnings.filterwarnings('ignore')\n",
    "import seaborn as sb\n",
    "sb.set(style='darkgrid', font_scale=1.2)\n",
    "\n",
    "def filter_descriptions(tech_comm_desc):\n",
    "    try:\n",
    "        tech_comm_desc = tech_comm_desc.values[0][0].replace('#', '').replace('\"','').replace(\"\\n\",'').strip()\n",
    "    except:\n",
    "        tech_comm_desc = 'No description provided'\n",
    "    return tech_comm_desc\n",
    "\n",
    "def create_args_flowd(df_graph):\n",
    "    nodes, tech, ltech, to_tech, from_tech = set(), set(), set(), set(), set()\n",
    "    for ind,row in df_graph.iterrows():\n",
    "        #descriptions:\n",
    "        input_comm_des = filter_descriptions(pd.read_sql(\"SELECT comm_desc FROM commodities WHERE comm_name='\" + row['input_comm'] + \"'\", con))\n",
    "        output_comm_des = filter_descriptions(pd.read_sql(\"SELECT comm_desc FROM commodities WHERE comm_name='\" + row['output_comm'] + \"'\", con))\n",
    "        tech_des = filter_descriptions(pd.read_sql(\"SELECT tech_desc FROM technologies WHERE tech='\" + row['tech'] + \"'\", con))\n",
    "\n",
    "        if 'ethos' in row['input_comm']:\n",
    "            ltech.add('\"' + row['tech'] + '\"' +  ' [tooltip = \"' + tech_des + '\"]')\n",
    "        else :\n",
    "            nodes.add('\"' + row['input_comm'] + '\"' +  ' [tooltip = \"' + input_comm_des + '\"]')\n",
    "        nodes.add('\"' + row['output_comm'] + '\"' +  ' [tooltip = \"' + output_comm_des + '\"]')\n",
    "        tech.add('\"' + row['tech'] + '\"' +  ' [tooltip = \"' + tech_des + '\"]')\n",
    "\n",
    "        if row['input_comm'] != 'ethos':\n",
    "            to_tech.add('\"%s\"' % row['input_comm'] + '\\t->\\t\"%s\"' % row['tech']) \n",
    "        from_tech.add('\"%s\"' % row['tech'] + '\\t->\\t\"%s\"' % row['output_comm'])\n",
    "    args = dict(\n",
    "    enodes = \"\".join('%s;\\n\\t\\t' % x for x in nodes),\n",
    "    tnodes = \"\".join('%s;\\n\\t\\t' % x for x in tech),\n",
    "    iedges = \"\".join('%s;\\n\\t\\t' % x for x in to_tech),\n",
    "    oedges = \"\".join('%s;\\n\\t\\t' % x for x in from_tech),\n",
    "    snodes = \";\".join('%s' %x for x in ltech),\n",
    "    )\n",
    "    return args\n",
    "\n",
    "def return_format_colors():\n",
    "    colors = {}\n",
    "    colors.update(getColorConfig(False))\n",
    "    return colors, quick_run_dot_fmt\n",
    "\n",
    "def return_flowd_table(final_dem, level=1):\n",
    "    df = pd.read_sql(\"SELECT * FROM Efficiency\", con)\n",
    "    df_sel = df[df['output_comm']==final_dem]\n",
    "    if len(df_sel)==0:\n",
    "        df_sel = df[df['tech']==final_dem]\n",
    "    inputs = df_sel['input_comm'].unique()\n",
    "    iterval=0\n",
    "    if level!=0:\n",
    "        while len(inputs)>0:\n",
    "            df_append = df[df['output_comm'].isin(inputs)]\n",
    "            df_sel = pd.concat([df_sel, df_append])\n",
    "            inputs = df_append['input_comm'].unique()\n",
    "            iterval+=1\n",
    "            if iterval>level-1:\n",
    "                break\n",
    "    df_graph = df_sel[['input_comm', 'tech', 'output_comm']].drop_duplicates()\n",
    "    return df_graph\n",
    "\n",
    "def return_flowd_table_fwds(final_dem):\n",
    "    df = pd.read_sql(\"SELECT * FROM Efficiency\", con)\n",
    "    df_sel = df[df['output_comm']==final_dem]\n",
    "    if len(df_sel)==0:\n",
    "        df_sel = df[df['tech']==final_dem]\n",
    "    inputs = df_sel['input_comm'].unique()\n",
    "    outputs = df_sel['output_comm'].unique()\n",
    "\n",
    "    iterval=0\n",
    "    while len(inputs)>0:\n",
    "        df_append = df[df['output_comm'].isin(inputs)]\n",
    "        df_sel = pd.concat([df_sel, df_append])\n",
    "        inputs = df_append['input_comm'].unique()\n",
    "        iterval+=1\n",
    "        if iterval>2:\n",
    "            break\n",
    "    iterval=0\n",
    "    while len(outputs)>0:\n",
    "        df_append = df[df['input_comm'].isin(outputs)]\n",
    "        df_sel = pd.concat([df_sel, df_append])\n",
    "        outputs = df_append['output_comm'].unique()\n",
    "        iterval+=1\n",
    "        if iterval>=0:\n",
    "            break\n",
    "\n",
    "    df_graph = df_sel[['input_comm', 'tech', 'output_comm']].drop_duplicates()\n",
    "    return df_graph\n",
    "\n",
    "con = sqlite3.connect(r'../US_National_oilsupply.sqlite') #change path to database\n",
    "cur = con.cursor()   \n",
    "con.text_factory = str \n",
    "\n",
    "def controls_rows(w):\n",
    "    controls = HBox(w.children[:-1], layout = Layout(flex_flow='row wrap', width='max-content'))\n",
    "    output = w.children[-1]\n",
    "    display(VBox([controls, output],  layout = Layout(flex_flow='columns wrap', width='max-content', size=10)))\n",
    "    \n",
    "#https://www.eia.gov/energyexplained/units-and-calculators/\n",
    "btu_per_oil_bbl = 5698000\n",
    "PJ_per_oil_bbl = btu_per_oil_bbl*1.05506e-12"
   ]
  },
  {
   "cell_type": "markdown",
   "metadata": {},
   "source": [
    "# 1. Introduction\n",
    "The fuel supply sector consists of commodities and technologies that provide a) refined petroleum products, b) coal, c) natural gas and d) biomass resources to the energy modeling system. These resources are discussed separately in the sections that follow."
   ]
  },
  {
   "cell_type": "markdown",
   "metadata": {},
   "source": [
    "## 1.1 Oil supply and petroleum products\n",
    "The petroleum products sector is characterized by crude oil imports, refining and transport from a PADD region to the US consuming regions. In the current database, we assume a single Petroleum Administration for Defense District (PADD) region that can supply crude oil and produce refined products that are transported to the OEO regions. This may be expanded to the <a href=\"https://www.eia.gov/todayinenergy/detail.php?id=4890\" rel=\"nofollow\">five PADD</a> regions or some subset, as the database evolves. Note that the current version of the database is based on the US_National.sql file. This will be updated to include these modifications in the US_Regional database as well, shortly."
   ]
  },
  {
   "attachments": {},
   "cell_type": "markdown",
   "metadata": {},
   "source": [
    "### 1.1.1 Crude oil supply\n",
    "The global crude oil resource curve is represented by data from \n",
    "<a href=\"https://www.nature.com/articles/s41467-020-17679-3\" rel=\"nofollow\">Pye et al, 2020</a> (an updated version of the database presented in supplementary materials, Supp Figure 24, was obtained by communication from Daniel Welsby at UCL). This dataset was used to select crude oil resource availability and cost data for the US and other regions that the US imports crude oil from. The crude resources are divided into 8 different types as shown in the table below. \n",
    "\n",
    "|Name| Crude resource type|\n",
    "| :--- | :--- |\n",
    "|CP\t|Proved conventional reserves|\n",
    "|CR\t|Conventional reserve additions|\n",
    "|CN\t|Conventional new discovery|\n",
    "|LT\t|Light tight oil|\n",
    "|MOS\t|Mined oil sands|\n",
    "|IOS\t|In situ oil sands|\n",
    "|UH\t|Ultra heavy|\n",
    "|AR\t|Arctic oil|\n",
    "\n",
    "The UCL dataset represents cumulative crude oil resources across 16 world regions. Of these regions, the US imports crude oil from the Middle East (MEA), Central and South America (CSA), Africa (AFR), Mexico (MEX), and Canada (CAN). Resource data for these regions and the US are therefore considered here. The tool below can be used to plot resource curves for these regions. Each 'step' in the curve refers to a type of crude oil resource within a region, at a specific supply cost and estimated total resource available."
   ]
  },
  {
   "cell_type": "code",
   "execution_count": 2,
   "metadata": {
    "hide_input": true,
    "init_cell": true,
    "jupyter": {
     "source_hidden": true
    },
    "scrolled": false
   },
   "outputs": [
    {
     "data": {
      "application/vnd.jupyter.widget-view+json": {
       "model_id": "3a7902d2552441629cda4b95b1b27ceb",
       "version_major": 2,
       "version_minor": 0
      },
      "text/plain": [
       "VBox(children=(HBox(children=(Select(description='region', options=('MEA', 'CSA', 'AFR', 'MEX', 'USA', 'CAN'),…"
      ]
     },
     "metadata": {},
     "output_type": "display_data"
    }
   ],
   "source": [
    "def oil_supply_curve(con):\n",
    "    df = pd.read_sql(\"SELECT * FROM MaxResource WHERE regions LIKE 'PADD%' AND tech LIKE 'IMPOIL%'\", con)\n",
    "    df_costs = pd.read_sql(\"SELECT * FROM CostVariable WHERE regions LIKE 'PADD%' AND tech LIKE 'IMPOIL%'\", con)\n",
    "    df = df.merge(df_costs[['regions','tech','periods', 'cost_variable']], on=['regions', 'tech']).drop(columns='periods')\n",
    "    df = df.drop_duplicates()\n",
    "    df['maxres'] /=1000\n",
    "\n",
    "    cb = dict()\n",
    "    cb['CP'] = '#fff7fb'\n",
    "    cb['CR'] = '#ece2f0'\n",
    "    cb['CN'] = '#d0d1e6'\n",
    "    cb['LT'] = '#a6bddb'\n",
    "    cb['MOS'] = '#67a9cf'\n",
    "    cb['IOS'] = '#3690c0'\n",
    "    cb['UH'] = '#02818a'\n",
    "    cb['AR'] = '#016450'\n",
    "    \n",
    "    res_map = dict()\n",
    "    res_map['CP'] = 1\n",
    "    res_map['CR'] = 2\n",
    "    res_map['CN'] = 3\n",
    "    res_map['LT'] = 4\n",
    "    res_map['MOS'] = 5\n",
    "    res_map['IOS'] = 6\n",
    "    res_map['UH'] = 7\n",
    "    res_map['AR'] = 8\n",
    "    \n",
    "    res_map_rev = dict((v,k) for k, v in res_map.items())\n",
    "\n",
    "\n",
    "    sel_region = 'PADD1'\n",
    "    def display_supply_curve(region):\n",
    "        fig, ax = plt.subplots(figsize=(10,8))\n",
    "        df_sel = df[df['maxres_notes'].apply(lambda x: x.split('_')[2])==region]\n",
    "        df_sel.sort_values(by='cost_variable', inplace=True)\n",
    "        df_sel['maxres'] = df_sel['maxres'].cumsum()\n",
    "        start =0 \n",
    "        for ind, row in df_sel.iterrows():\n",
    "            x = start + (row['maxres']-start)/2\n",
    "            plt.bar(x, row['cost_variable'] , width=row['maxres']-start, color=cb[row['maxres_notes'].split('_')[4]], \\\n",
    "                    label=row['maxres_notes'].split('_')[4])\n",
    "            start = row['maxres']\n",
    "        plt.legend()\n",
    "        handles, labels = ax.get_legend_handles_labels()\n",
    "        labels = [res_map[x] for x in labels]\n",
    "        unique = [(h, l) for i, (h, l) in enumerate(zip(handles, labels)) if l not in labels[:i]]\n",
    "        unique.sort(key = lambda x: x[1])\n",
    "        unique2=[]\n",
    "        for i in np.arange(len(unique)):\n",
    "            unique2.append((unique[i][0], res_map_rev[unique[i][1]]))\n",
    "        ax.legend(*zip(*unique2), frameon=False)\n",
    "\n",
    "        plt.ylabel('Supply costs ($/PJ)')\n",
    "        plt.xlabel('Cumulative resource (EJ)')\n",
    "    \n",
    "    \n",
    "\n",
    "    regions = df['maxres_notes'].apply(lambda x: x.split('_')[2]).unique()\n",
    "    if len(regions)==1:\n",
    "        regions = np.append('',regions)\n",
    "    w2 = widgets.Select(options=regions)\n",
    "    w = widgets.interactive(display_supply_curve, region=w2)\n",
    "\n",
    "    controls_rows(w)\n",
    "\n",
    "oil_supply_curve(con)"
   ]
  },
  {
   "cell_type": "markdown",
   "metadata": {},
   "source": [
    "#### 1.1.1.1 Limits on regional annual crude oil production\n",
    "The US EIA reports <a href=\"https://www.eia.gov/dnav/pet/PET_CRD_CRPDN_ADC_MBBL_A.htm\" rel=\"nofollow\">historic data crude oil production in the US.</a> They also report <a href=\"https://www.eia.gov/dnav/pet/pet_move_impcus_a2_nus_epc0_im0_mbbl_a.htm\" rel=\"nofollow\">historic crude oil imports to the US by country of origin.</a> A table of historic (between 2015 and 2020) crude oil production and/or imports by regions that corresponded to the UCL resource dataset was developed using these EIA sources. The maximum annual production and/or imports in this time period for each region were used to constrain annual oil production/imports from these regions in first time step of the model horizon."
   ]
  },
  {
   "cell_type": "code",
   "execution_count": 3,
   "metadata": {
    "hide_input": true
   },
   "outputs": [
    {
     "data": {
      "text/html": [
       "<table>\n",
       "<thead>\n",
       "<tr><th>Region  </th><th style=\"text-align: right;\">  Maximum historic production or imports (PJ/year)</th></tr>\n",
       "</thead>\n",
       "<tbody>\n",
       "<tr><td>AFR     </td><td style=\"text-align: right;\">                                               962</td></tr>\n",
       "<tr><td>MEX     </td><td style=\"text-align: right;\">                                              1510</td></tr>\n",
       "<tr><td>CSA     </td><td style=\"text-align: right;\">                                              3443</td></tr>\n",
       "<tr><td>MEA     </td><td style=\"text-align: right;\">                                              3800</td></tr>\n",
       "<tr><td>CAN     </td><td style=\"text-align: right;\">                                              8369</td></tr>\n",
       "<tr><td>USA     </td><td style=\"text-align: right;\">                                             26876</td></tr>\n",
       "</tbody>\n",
       "</table>"
      ],
      "text/plain": [
       "<IPython.core.display.HTML object>"
      ]
     },
     "metadata": {},
     "output_type": "display_data"
    }
   ],
   "source": [
    "def regional_growthseed(con):\n",
    "    df = pd.read_sql(\"SELECT * FROM GrowthRateSeed WHERE tech LIKE 'IMPOIL_%' AND growthrate_seed_notes LIKE 'Crude %'\", con)\n",
    "    df['growthrate_seed_notes'] = df['growthrate_seed_notes'].str.replace('Crude oil from ', '')\n",
    "    df.sort_values(by='growthrate_seed', inplace=True)\n",
    "    header = ['Region' , 'Maximum historic production or imports (PJ/year)']\n",
    "    display(HTML(tabulate.tabulate(df[['growthrate_seed_notes', 'growthrate_seed']].set_index('growthrate_seed_notes'), \\\n",
    "                                   header,  floatfmt=\".0f\" , tablefmt='html')))\n",
    "regional_growthseed(con)"
   ]
  },
  {
   "cell_type": "markdown",
   "metadata": {},
   "source": [
    "#### 1.1.1.2 Limits on annual crude oil production by resource step\n",
    "In addition to the annual limits on regional production or imports, each resource step in the global resource curve was also assigned an annual production limit for the first time step of the model horizon. For resource steps in the US and Canada that had historic production, this limit was assigned as the maximum of historic production between 2015 and 2020. For all other resource steps in these regions, and for all resource steps in the other importing regions, a seed value of 0.1% (0.5% over 5 years, for conventional) to 1% (5% over 5 years for unconventional) of the cumulative resource in that step was used, based on assumptions in <a href=\"https://discovery.ucl.ac.uk/id/eprint/1418473/2/131106%20Christophe%20McGlade_PhD%20Thesis.pdf\" rel=\"nofollow\">McGlade 2013.</a> These limits will be revisited when further data are available.\n",
    "\n",
    "For each resource type within a region, the total resource is divided into three steps that vary in cost and  supply. These limits on annual production, however, are only available as a sum across all three steps. Therefore, annual limits are assigned to each step following the ratio of the resource available in that step to the total resources available across all three steps.\n",
    "\n",
    "##### United States\n",
    "Historic US light tight oil production was obtained from the <a href=\"https://www.eia.gov/energyexplained/oil-and-petroleum-products/data/US-tight-oil-production.xlsx\" rel=\"nofollow\">US EIA.</a> Further, using crude oil production data by API category from the <a href=\"https://www.eia.gov/dnav/pet/pet_crd_api_adc_mbblpd_m.htm\" rel=\"nofollow\">US EIA</a>, historic US ultra heavy oil production was estimated (assumed to be oil with API < 20). This resource also provided estimates of total historic crude oil production in the US, and was used to estimate historic conventional oil production (as the difference between the total production, and production from ultra-heavy and light tight oil).\n",
    "\n",
    "#### Canada\n",
    "Historic Canadian light tight oil production was obtained from the <a href=\"https://neb-one.gc.ca/en/data-analysis/canada-energy-future/2020conventional/index.html\" rel=\"nofollow\">Canada Energy Regulator.</a> They also report historic total crude oil production, as well as estimates for mined and in-situ bitumen production <a href=\"https://www.cer-rec.gc.ca/en/data-analysis/energy-commodities/crude-oil-petroleum-products/statistics/estimated-production-canadian-crude-oil-equivalent.html\" rel=\"nofollow\">here.</a> These resources were used to estimate historic conventional oil production (as the difference between the total production, and production from oil sands and light tight oil)."
   ]
  },
  {
   "cell_type": "markdown",
   "metadata": {},
   "source": [
    "#### 1.1.1.2 Growth rate constraints on annual production\n",
    "\n",
    "Maximum annual growth rate values were assigned to each resource step based on crude oil type, using assumptions outlined in the  <a href=\"https://static-content.springer.com/esm/art%3A10.1038%2Fs41467-020-17679-3/MediaObjects/41467_2020_17679_MOESM1_ESM.pdf\" rel=\"nofollow\">supplementary information in Pye et al, 2020</a>, Table 11a. In addition, regional growth rates were assumed to equal the maximum of annual growth rates across all crude oil resource types.\n"
   ]
  },
  {
   "cell_type": "code",
   "execution_count": 4,
   "metadata": {
    "hide_input": true,
    "scrolled": false
   },
   "outputs": [
    {
     "data": {
      "text/html": [
       "<table>\n",
       "<thead>\n",
       "<tr><th>Resource  </th><th style=\"text-align: right;\">  Maximum growth rate</th></tr>\n",
       "</thead>\n",
       "<tbody>\n",
       "<tr><td>LT        </td><td style=\"text-align: right;\">                  1.1</td></tr>\n",
       "<tr><td>MOS       </td><td style=\"text-align: right;\">                  1.1</td></tr>\n",
       "<tr><td>UH        </td><td style=\"text-align: right;\">                  1.1</td></tr>\n",
       "<tr><td>IOS       </td><td style=\"text-align: right;\">                  1.1</td></tr>\n",
       "<tr><td>AR        </td><td style=\"text-align: right;\">                  1.1</td></tr>\n",
       "<tr><td>CP        </td><td style=\"text-align: right;\">                  1.4</td></tr>\n",
       "<tr><td>CN        </td><td style=\"text-align: right;\">                  1.4</td></tr>\n",
       "<tr><td>CR        </td><td style=\"text-align: right;\">                  1.4</td></tr>\n",
       "</tbody>\n",
       "</table>"
      ],
      "text/plain": [
       "<IPython.core.display.HTML object>"
      ]
     },
     "metadata": {},
     "output_type": "display_data"
    },
    {
     "data": {
      "text/html": [
       "<table>\n",
       "<thead>\n",
       "<tr><th>Region  </th><th style=\"text-align: right;\">  Maximum growth rate</th></tr>\n",
       "</thead>\n",
       "<tbody>\n",
       "<tr><td>MEA     </td><td style=\"text-align: right;\">                  1.4</td></tr>\n",
       "<tr><td>CSA     </td><td style=\"text-align: right;\">                  1.4</td></tr>\n",
       "<tr><td>AFR     </td><td style=\"text-align: right;\">                  1.4</td></tr>\n",
       "<tr><td>MEX     </td><td style=\"text-align: right;\">                  1.4</td></tr>\n",
       "<tr><td>USA     </td><td style=\"text-align: right;\">                  1.4</td></tr>\n",
       "<tr><td>CAN     </td><td style=\"text-align: right;\">                  1.4</td></tr>\n",
       "</tbody>\n",
       "</table>"
      ],
      "text/plain": [
       "<IPython.core.display.HTML object>"
      ]
     },
     "metadata": {},
     "output_type": "display_data"
    }
   ],
   "source": [
    "def regional_growthmax(con):\n",
    "    df = pd.read_sql(\"SELECT * FROM GrowthRateMax WHERE tech LIKE 'IMPOIL_%' AND growthrate_max_notes LIKE 'Crude %'\", con)\n",
    "    df['growthrate_max_notes'] = df['growthrate_max_notes'].str.replace('Crude oil from ', '')\n",
    "    df.sort_values(by='growthrate_max', inplace=True)\n",
    "    header = ['Region' , 'Maximum growth rate']\n",
    "    display(HTML(tabulate.tabulate(df[['growthrate_max_notes', 'growthrate_max']].set_index('growthrate_max_notes'), \\\n",
    "                                   header,  floatfmt=\".1f\" , tablefmt='html')))\n",
    "\n",
    "def regional_growthmax_step(con):\n",
    "    df = pd.read_sql(\"SELECT * FROM GrowthRateMax WHERE tech LIKE 'IMPOIL_%' AND growthrate_max_notes NOT LIKE 'Crude %'\", con)\n",
    "    df['growthrate_max_notes'] = df['growthrate_max_notes'].map(lambda x: x.split('_')[4])\n",
    "    df = df[['growthrate_max_notes', 'growthrate_max']].drop_duplicates()\n",
    "    df.sort_values(by='growthrate_max', inplace=True)\n",
    "    header = ['Resource' , 'Maximum growth rate']\n",
    "    display(HTML(tabulate.tabulate(df[['growthrate_max_notes', 'growthrate_max']].set_index('growthrate_max_notes'), \\\n",
    "                                   header,  floatfmt=\".1f\" , tablefmt='html')))\n",
    "regional_growthmax_step(con)\n",
    "regional_growthmax(con)"
   ]
  },
  {
   "cell_type": "markdown",
   "metadata": {},
   "source": [
    "#### 1.1.1.3 Emissions from crude oil production\n",
    "These are assumed to be 70 kt/PJ for all crude oil categories (average of emissions factors of several imported petroluem products within the database currently). These values will be updated shortly."
   ]
  },
  {
   "cell_type": "markdown",
   "metadata": {
    "hide_input": true
   },
   "source": [
    "### 1.1.2 Demand for exports\n",
    "Since 2015, the US has seen an increase in exports of crude oil and petroluem products to countries across the world - in 2020, the US exported a total of 3,114 million barrels. As a placeholder, this demand is assumed to remain flat through from 2020 to 2050 in our modeling framework. We do not differentiate between demand for crude oil and petroluem products, but assume that all of this demand can be met entirely by crude oil that is domestically produced or imported."
   ]
  },
  {
   "cell_type": "code",
   "execution_count": 5,
   "metadata": {
    "hide_input": true
   },
   "outputs": [
    {
     "data": {
      "text/markdown": [
       "Meeting oil exports demand"
      ],
      "text/plain": [
       "<IPython.core.display.Markdown object>"
      ]
     },
     "metadata": {},
     "output_type": "display_data"
    },
    {
     "data": {
      "image/svg+xml": [
       "<?xml version=\"1.0\" encoding=\"UTF-8\" standalone=\"no\"?>\n",
       "<!DOCTYPE svg PUBLIC \"-//W3C//DTD SVG 1.1//EN\"\n",
       " \"http://www.w3.org/Graphics/SVG/1.1/DTD/svg11.dtd\">\n",
       "<!-- Generated by graphviz version 2.40.1 (20161225.0304)\n",
       " -->\n",
       "<!-- Title: model Pages: 1 -->\n",
       "<svg width=\"708pt\" height=\"689pt\"\n",
       " viewBox=\"0.00 0.00 708.47 688.79\" xmlns=\"http://www.w3.org/2000/svg\" xmlns:xlink=\"http://www.w3.org/1999/xlink\">\n",
       "<g id=\"graph0\" class=\"graph\" transform=\"scale(1 1) rotate(0) translate(4 684.7912)\">\n",
       "<title>model</title>\n",
       "<polygon fill=\"#ffffff\" stroke=\"transparent\" points=\"-4,4 -4,-684.7912 704.4694,-684.7912 704.4694,4 -4,4\"/>\n",
       "<!-- IMPOIL_CSA -->\n",
       "<g id=\"node1\" class=\"node\">\n",
       "<title>IMPOIL_CSA</title>\n",
       "<g id=\"a_node1\"><a xlink:title=\"Crude oil from CSA\">\n",
       "<polygon fill=\"#8fbc8f\" stroke=\"#8fbc8f\" points=\"238.391,-128.0957 139.391,-128.0957 139.391,-92.0957 238.391,-92.0957 238.391,-128.0957\"/>\n",
       "<text text-anchor=\"middle\" x=\"188.891\" y=\"-106.3957\" font-family=\"Times,serif\" font-size=\"14.00\" fill=\"#000000\">IMPOIL_CSA</text>\n",
       "</a>\n",
       "</g>\n",
       "</g>\n",
       "<!-- OIL -->\n",
       "<g id=\"node8\" class=\"node\">\n",
       "<title>OIL</title>\n",
       "<g id=\"a_node8\"><a xlink:title=\"crude oil to petroluem refineries\">\n",
       "<ellipse fill=\"#b0c4de\" stroke=\"#b0c4de\" cx=\"302.3887\" cy=\"-323.0957\" rx=\"25.9954\" ry=\"25.9954\"/>\n",
       "<text text-anchor=\"middle\" x=\"302.3887\" y=\"-319.3957\" font-family=\"Times,serif\" font-size=\"14.00\" fill=\"#000000\">OIL</text>\n",
       "</a>\n",
       "</g>\n",
       "</g>\n",
       "<!-- IMPOIL_CSA&#45;&gt;OIL -->\n",
       "<g id=\"edge8\" class=\"edge\">\n",
       "<title>IMPOIL_CSA&#45;&gt;OIL</title>\n",
       "<path fill=\"none\" stroke=\"#228b22\" d=\"M208.3774,-128.2252C218.9,-138.7961 231.5145,-152.8272 240.391,-167.0957 264.5269,-205.8928 282.3531,-255.6795 292.5455,-288.4437\"/>\n",
       "<polygon fill=\"#228b22\" stroke=\"#228b22\" points=\"295.4621,-298.0344 288.2472,-289.7763 294.0073,-293.2507 292.5525,-288.467 292.5525,-288.467 292.5525,-288.467 294.0073,-293.2507 296.8579,-287.1577 295.4621,-298.0344 295.4621,-298.0344\"/>\n",
       "</g>\n",
       "<!-- IMPOIL_MEA -->\n",
       "<g id=\"node2\" class=\"node\">\n",
       "<title>IMPOIL_MEA</title>\n",
       "<g id=\"a_node2\"><a xlink:title=\"Crude oil from MEA\">\n",
       "<polygon fill=\"#8fbc8f\" stroke=\"#8fbc8f\" points=\"240.391,-608.0957 137.391,-608.0957 137.391,-572.0957 240.391,-572.0957 240.391,-608.0957\"/>\n",
       "<text text-anchor=\"middle\" x=\"188.891\" y=\"-586.3957\" font-family=\"Times,serif\" font-size=\"14.00\" fill=\"#000000\">IMPOIL_MEA</text>\n",
       "</a>\n",
       "</g>\n",
       "</g>\n",
       "<!-- IMPOIL_MEA&#45;&gt;OIL -->\n",
       "<g id=\"edge12\" class=\"edge\">\n",
       "<title>IMPOIL_MEA&#45;&gt;OIL</title>\n",
       "<path fill=\"none\" stroke=\"#228b22\" d=\"M202.0712,-571.9272C213.3531,-555.7696 229.4592,-531.1919 240.391,-508.0957 264.1018,-458.0007 282.8293,-396.3701 293.2579,-358.4125\"/>\n",
       "<polygon fill=\"#228b22\" stroke=\"#228b22\" points=\"295.9765,-348.3635 297.7088,-359.1917 294.6707,-353.19 293.3649,-358.0165 293.3649,-358.0165 293.3649,-358.0165 294.6707,-353.19 289.0211,-356.8413 295.9765,-348.3635 295.9765,-348.3635\"/>\n",
       "</g>\n",
       "<!-- IMPOIL_CAN -->\n",
       "<g id=\"node3\" class=\"node\">\n",
       "<title>IMPOIL_CAN</title>\n",
       "<g id=\"a_node3\"><a xlink:title=\"Crude oil from CAN\">\n",
       "<polygon fill=\"#8fbc8f\" stroke=\"#8fbc8f\" points=\"239.391,-499.0957 138.391,-499.0957 138.391,-463.0957 239.391,-463.0957 239.391,-499.0957\"/>\n",
       "<text text-anchor=\"middle\" x=\"188.891\" y=\"-477.3957\" font-family=\"Times,serif\" font-size=\"14.00\" fill=\"#000000\">IMPOIL_CAN</text>\n",
       "</a>\n",
       "</g>\n",
       "</g>\n",
       "<!-- IMPOIL_CAN&#45;&gt;OIL -->\n",
       "<g id=\"edge14\" class=\"edge\">\n",
       "<title>IMPOIL_CAN&#45;&gt;OIL</title>\n",
       "<path fill=\"none\" stroke=\"#228b22\" d=\"M201.9106,-462.9711C221.3132,-435.9609 258.0202,-384.861 281.289,-352.4686\"/>\n",
       "<polygon fill=\"#228b22\" stroke=\"#228b22\" points=\"287.1831,-344.2634 285.0037,-355.0105 284.266,-348.3243 281.3489,-352.3851 281.3489,-352.3851 281.3489,-352.3851 284.266,-348.3243 277.6941,-349.7598 287.1831,-344.2634 287.1831,-344.2634\"/>\n",
       "</g>\n",
       "<!-- IMPOIL_AFR -->\n",
       "<g id=\"node4\" class=\"node\">\n",
       "<title>IMPOIL_AFR</title>\n",
       "<g id=\"a_node4\"><a xlink:title=\"Crude oil from AFR\">\n",
       "<polygon fill=\"#8fbc8f\" stroke=\"#8fbc8f\" points=\"238.391,-399.0957 139.391,-399.0957 139.391,-363.0957 238.391,-363.0957 238.391,-399.0957\"/>\n",
       "<text text-anchor=\"middle\" x=\"188.891\" y=\"-377.3957\" font-family=\"Times,serif\" font-size=\"14.00\" fill=\"#000000\">IMPOIL_AFR</text>\n",
       "</a>\n",
       "</g>\n",
       "</g>\n",
       "<!-- IMPOIL_AFR&#45;&gt;OIL -->\n",
       "<g id=\"edge9\" class=\"edge\">\n",
       "<title>IMPOIL_AFR&#45;&gt;OIL</title>\n",
       "<path fill=\"none\" stroke=\"#228b22\" d=\"M224.1802,-363.0621C238.8065,-355.5878 255.6631,-346.9736 269.9731,-339.6609\"/>\n",
       "<polygon fill=\"#228b22\" stroke=\"#228b22\" points=\"278.9601,-335.0683 272.1032,-343.626 274.5078,-337.3436 270.0554,-339.6188 270.0554,-339.6188 270.0554,-339.6188 274.5078,-337.3436 268.0077,-335.6117 278.9601,-335.0683 278.9601,-335.0683\"/>\n",
       "</g>\n",
       "<!-- IMPOIL_MEX -->\n",
       "<g id=\"node5\" class=\"node\">\n",
       "<title>IMPOIL_MEX</title>\n",
       "<g id=\"a_node5\"><a xlink:title=\"Crude oil from MEX\">\n",
       "<polygon fill=\"#8fbc8f\" stroke=\"#8fbc8f\" points=\"240.391,-314.0957 137.391,-314.0957 137.391,-278.0957 240.391,-278.0957 240.391,-314.0957\"/>\n",
       "<text text-anchor=\"middle\" x=\"188.891\" y=\"-292.3957\" font-family=\"Times,serif\" font-size=\"14.00\" fill=\"#000000\">IMPOIL_MEX</text>\n",
       "</a>\n",
       "</g>\n",
       "</g>\n",
       "<!-- IMPOIL_MEX&#45;&gt;OIL -->\n",
       "<g id=\"edge11\" class=\"edge\">\n",
       "<title>IMPOIL_MEX&#45;&gt;OIL</title>\n",
       "<path fill=\"none\" stroke=\"#228b22\" d=\"M240.6579,-308.4106C249.6358,-310.5463 258.7814,-312.722 267.1864,-314.7214\"/>\n",
       "<polygon fill=\"#228b22\" stroke=\"#228b22\" points=\"277.0103,-317.0585 266.2403,-319.1219 272.1461,-315.9013 267.2818,-314.7441 267.2818,-314.7441 267.2818,-314.7441 272.1461,-315.9013 268.3233,-310.3662 277.0103,-317.0585 277.0103,-317.0585\"/>\n",
       "</g>\n",
       "<!-- IMPOIL_USA -->\n",
       "<g id=\"node6\" class=\"node\">\n",
       "<title>IMPOIL_USA</title>\n",
       "<g id=\"a_node6\"><a xlink:title=\"Crude oil from USA\">\n",
       "<polygon fill=\"#8fbc8f\" stroke=\"#8fbc8f\" points=\"238.891,-212.0957 138.891,-212.0957 138.891,-176.0957 238.891,-176.0957 238.891,-212.0957\"/>\n",
       "<text text-anchor=\"middle\" x=\"188.891\" y=\"-190.3957\" font-family=\"Times,serif\" font-size=\"14.00\" fill=\"#000000\">IMPOIL_USA</text>\n",
       "</a>\n",
       "</g>\n",
       "</g>\n",
       "<!-- IMPOIL_USA&#45;&gt;OIL -->\n",
       "<g id=\"edge13\" class=\"edge\">\n",
       "<title>IMPOIL_USA&#45;&gt;OIL</title>\n",
       "<path fill=\"none\" stroke=\"#228b22\" d=\"M204.9117,-212.3047C223.9893,-233.9881 256.0463,-270.4235 278.1594,-295.557\"/>\n",
       "<polygon fill=\"#228b22\" stroke=\"#228b22\" points=\"284.9606,-303.2871 274.9765,-298.7518 281.6578,-299.5332 278.355,-295.7793 278.355,-295.7793 278.355,-295.7793 281.6578,-299.5332 281.7335,-292.8068 284.9606,-303.2871 284.9606,-303.2871\"/>\n",
       "</g>\n",
       "<!-- OIL_EXPORTS -->\n",
       "<g id=\"node7\" class=\"node\">\n",
       "<title>OIL_EXPORTS</title>\n",
       "<g id=\"a_node7\"><a xlink:title=\"tech to meet oil exports demand\">\n",
       "<polygon fill=\"#8fbc8f\" stroke=\"#8fbc8f\" points=\"473.3864,-341.0957 364.3864,-341.0957 364.3864,-305.0957 473.3864,-305.0957 473.3864,-341.0957\"/>\n",
       "<text text-anchor=\"middle\" x=\"418.8864\" y=\"-319.3957\" font-family=\"Times,serif\" font-size=\"14.00\" fill=\"#000000\">OIL_EXPORTS</text>\n",
       "</a>\n",
       "</g>\n",
       "</g>\n",
       "<!-- OIL_EXPORTS_DEM -->\n",
       "<g id=\"node10\" class=\"node\">\n",
       "<title>OIL_EXPORTS_DEM</title>\n",
       "<g id=\"a_node10\"><a xlink:title=\"demand for crude oil and products export\">\n",
       "<ellipse fill=\"#b0c4de\" stroke=\"#b0c4de\" cx=\"604.9279\" cy=\"-323.0957\" rx=\"95.5831\" ry=\"95.5831\"/>\n",
       "<text text-anchor=\"middle\" x=\"604.9279\" y=\"-319.3957\" font-family=\"Times,serif\" font-size=\"14.00\" fill=\"#000000\">OIL_EXPORTS_DEM</text>\n",
       "</a>\n",
       "</g>\n",
       "</g>\n",
       "<!-- OIL_EXPORTS&#45;&gt;OIL_EXPORTS_DEM -->\n",
       "<g id=\"edge10\" class=\"edge\">\n",
       "<title>OIL_EXPORTS&#45;&gt;OIL_EXPORTS_DEM</title>\n",
       "<path fill=\"none\" stroke=\"#228b22\" d=\"M473.4479,-323.0957C481.6275,-323.0957 490.2886,-323.0957 499.1061,-323.0957\"/>\n",
       "<polygon fill=\"#228b22\" stroke=\"#228b22\" points=\"509.1105,-323.0957 499.1105,-327.5958 504.1105,-323.0958 499.1105,-323.0958 499.1105,-323.0958 499.1105,-323.0958 504.1105,-323.0958 499.1104,-318.5958 509.1105,-323.0957 509.1105,-323.0957\"/>\n",
       "</g>\n",
       "<!-- OIL&#45;&gt;OIL_EXPORTS -->\n",
       "<g id=\"edge5\" class=\"edge\">\n",
       "<title>OIL&#45;&gt;OIL_EXPORTS</title>\n",
       "<path fill=\"none\" stroke=\"#b22222\" d=\"M328.5331,-323.0957C336.2342,-323.0957 345.0241,-323.0957 354.0274,-323.0957\"/>\n",
       "<polygon fill=\"#b22222\" stroke=\"#b22222\" points=\"364.2365,-323.0957 354.2365,-327.5958 359.2365,-323.0958 354.2365,-323.0958 354.2365,-323.0958 354.2365,-323.0958 359.2365,-323.0958 354.2365,-318.5958 364.2365,-323.0957 364.2365,-323.0957\"/>\n",
       "</g>\n",
       "<!-- OIL_CAN -->\n",
       "<g id=\"node9\" class=\"node\">\n",
       "<title>OIL_CAN</title>\n",
       "<g id=\"a_node9\"><a xlink:title=\"crude oil from individual regions\">\n",
       "<ellipse fill=\"#b0c4de\" stroke=\"#b0c4de\" cx=\"50.6955\" cy=\"-512.0957\" rx=\"49.2915\" ry=\"49.2915\"/>\n",
       "<text text-anchor=\"middle\" x=\"50.6955\" y=\"-508.3957\" font-family=\"Times,serif\" font-size=\"14.00\" fill=\"#000000\">OIL_CAN</text>\n",
       "</a>\n",
       "</g>\n",
       "</g>\n",
       "<!-- OIL_CAN&#45;&gt;IMPOIL_CAN -->\n",
       "<g id=\"edge4\" class=\"edge\">\n",
       "<title>OIL_CAN&#45;&gt;IMPOIL_CAN</title>\n",
       "<path fill=\"none\" stroke=\"#b22222\" d=\"M99.0296,-501.2534C108.388,-499.1541 118.3067,-496.9292 128.0063,-494.7534\"/>\n",
       "<polygon fill=\"#b22222\" stroke=\"#b22222\" points=\"138.0025,-492.511 129.2299,-499.0908 133.1237,-493.6055 128.2449,-494.6999 128.2449,-494.6999 128.2449,-494.6999 133.1237,-493.6055 127.2599,-490.309 138.0025,-492.511 138.0025,-492.511\"/>\n",
       "</g>\n",
       "<!-- OIL_USA -->\n",
       "<g id=\"node11\" class=\"node\">\n",
       "<title>OIL_USA</title>\n",
       "<g id=\"a_node11\"><a xlink:title=\"crude oil from individual regions\">\n",
       "<ellipse fill=\"#b0c4de\" stroke=\"#b0c4de\" cx=\"50.6955\" cy=\"-163.0957\" rx=\"48.9926\" ry=\"48.9926\"/>\n",
       "<text text-anchor=\"middle\" x=\"50.6955\" y=\"-159.3957\" font-family=\"Times,serif\" font-size=\"14.00\" fill=\"#000000\">OIL_USA</text>\n",
       "</a>\n",
       "</g>\n",
       "</g>\n",
       "<!-- OIL_USA&#45;&gt;IMPOIL_USA -->\n",
       "<g id=\"edge6\" class=\"edge\">\n",
       "<title>OIL_USA&#45;&gt;IMPOIL_USA</title>\n",
       "<path fill=\"none\" stroke=\"#b22222\" d=\"M98.6417,-173.851C108.3474,-176.0282 118.6693,-178.3436 128.7338,-180.6013\"/>\n",
       "<polygon fill=\"#b22222\" stroke=\"#b22222\" points=\"138.6801,-182.8324 127.9376,-185.0344 133.8014,-181.738 128.9226,-180.6436 128.9226,-180.6436 128.9226,-180.6436 133.8014,-181.738 129.9076,-176.2527 138.6801,-182.8324 138.6801,-182.8324\"/>\n",
       "</g>\n",
       "<!-- OIL_CSA -->\n",
       "<g id=\"node12\" class=\"node\">\n",
       "<title>OIL_CSA</title>\n",
       "<g id=\"a_node12\"><a xlink:title=\"crude oil from individual regions\">\n",
       "<ellipse fill=\"#b0c4de\" stroke=\"#b0c4de\" cx=\"50.6955\" cy=\"-48.0957\" rx=\"48.1917\" ry=\"48.1917\"/>\n",
       "<text text-anchor=\"middle\" x=\"50.6955\" y=\"-44.3957\" font-family=\"Times,serif\" font-size=\"14.00\" fill=\"#000000\">OIL_CSA</text>\n",
       "</a>\n",
       "</g>\n",
       "</g>\n",
       "<!-- OIL_CSA&#45;&gt;IMPOIL_CSA -->\n",
       "<g id=\"edge1\" class=\"edge\">\n",
       "<title>OIL_CSA&#45;&gt;IMPOIL_CSA</title>\n",
       "<path fill=\"none\" stroke=\"#b22222\" d=\"M94.8014,-67.8834C108.9274,-74.2209 124.6639,-81.2809 139.1626,-87.7856\"/>\n",
       "<polygon fill=\"#b22222\" stroke=\"#b22222\" points=\"148.4822,-91.9668 137.5164,-91.9791 143.9203,-89.9201 139.3584,-87.8734 139.3584,-87.8734 139.3584,-87.8734 143.9203,-89.9201 141.2004,-83.7676 148.4822,-91.9668 148.4822,-91.9668\"/>\n",
       "</g>\n",
       "<!-- OIL_MEX -->\n",
       "<g id=\"node13\" class=\"node\">\n",
       "<title>OIL_MEX</title>\n",
       "<g id=\"a_node13\"><a xlink:title=\"crude oil from individual regions\">\n",
       "<ellipse fill=\"#b0c4de\" stroke=\"#b0c4de\" cx=\"50.6955\" cy=\"-280.0957\" rx=\"50.8918\" ry=\"50.8918\"/>\n",
       "<text text-anchor=\"middle\" x=\"50.6955\" y=\"-276.3957\" font-family=\"Times,serif\" font-size=\"14.00\" fill=\"#000000\">OIL_MEX</text>\n",
       "</a>\n",
       "</g>\n",
       "</g>\n",
       "<!-- OIL_MEX&#45;&gt;IMPOIL_MEX -->\n",
       "<g id=\"edge2\" class=\"edge\">\n",
       "<title>OIL_MEX&#45;&gt;IMPOIL_MEX</title>\n",
       "<path fill=\"none\" stroke=\"#b22222\" d=\"M101.3697,-285.9627C109.7856,-286.9371 118.5948,-287.957 127.2463,-288.9586\"/>\n",
       "<polygon fill=\"#b22222\" stroke=\"#b22222\" points=\"137.297,-290.1223 126.8458,-293.4422 132.3302,-289.5472 127.3634,-288.9721 127.3634,-288.9721 127.3634,-288.9721 132.3302,-289.5472 127.8809,-284.502 137.297,-290.1223 137.297,-290.1223\"/>\n",
       "</g>\n",
       "<!-- OIL_AFR -->\n",
       "<g id=\"node14\" class=\"node\">\n",
       "<title>OIL_AFR</title>\n",
       "<g id=\"a_node14\"><a xlink:title=\"crude oil from individual regions\">\n",
       "<ellipse fill=\"#b0c4de\" stroke=\"#b0c4de\" cx=\"50.6955\" cy=\"-397.0957\" rx=\"48.1917\" ry=\"48.1917\"/>\n",
       "<text text-anchor=\"middle\" x=\"50.6955\" y=\"-393.3957\" font-family=\"Times,serif\" font-size=\"14.00\" fill=\"#000000\">OIL_AFR</text>\n",
       "</a>\n",
       "</g>\n",
       "</g>\n",
       "<!-- OIL_AFR&#45;&gt;IMPOIL_AFR -->\n",
       "<g id=\"edge7\" class=\"edge\">\n",
       "<title>OIL_AFR&#45;&gt;IMPOIL_AFR</title>\n",
       "<path fill=\"none\" stroke=\"#b22222\" d=\"M98.6417,-391.5446C108.4644,-390.4074 118.9181,-389.1971 129.0975,-388.0185\"/>\n",
       "<polygon fill=\"#b22222\" stroke=\"#b22222\" points=\"139.1518,-386.8544 129.7357,-392.4748 134.185,-387.4295 129.2182,-388.0046 129.2182,-388.0046 129.2182,-388.0046 134.185,-387.4295 128.7006,-383.5345 139.1518,-386.8544 139.1518,-386.8544\"/>\n",
       "</g>\n",
       "<!-- OIL_MEA -->\n",
       "<g id=\"node15\" class=\"node\">\n",
       "<title>OIL_MEA</title>\n",
       "<g id=\"a_node15\"><a xlink:title=\"crude oil from individual regions\">\n",
       "<ellipse fill=\"#b0c4de\" stroke=\"#b0c4de\" cx=\"50.6955\" cy=\"-630.0957\" rx=\"50.8918\" ry=\"50.8918\"/>\n",
       "<text text-anchor=\"middle\" x=\"50.6955\" y=\"-626.3957\" font-family=\"Times,serif\" font-size=\"14.00\" fill=\"#000000\">OIL_MEA</text>\n",
       "</a>\n",
       "</g>\n",
       "</g>\n",
       "<!-- OIL_MEA&#45;&gt;IMPOIL_MEA -->\n",
       "<g id=\"edge3\" class=\"edge\">\n",
       "<title>OIL_MEA&#45;&gt;IMPOIL_MEA</title>\n",
       "<path fill=\"none\" stroke=\"#b22222\" d=\"M99.4181,-615.9932C108.5307,-613.3556 118.1626,-610.5677 127.5979,-607.8367\"/>\n",
       "<polygon fill=\"#b22222\" stroke=\"#b22222\" points=\"137.3292,-605.02 128.9747,-612.123 132.5264,-606.4102 127.7235,-607.8004 127.7235,-607.8004 127.7235,-607.8004 132.5264,-606.4102 126.4723,-603.4778 137.3292,-605.02 137.3292,-605.02\"/>\n",
       "</g>\n",
       "</g>\n",
       "</svg>\n"
      ],
      "text/plain": [
       "<graphviz.files.Source at 0x7fe9f2f2a828>"
      ]
     },
     "metadata": {},
     "output_type": "display_data"
    }
   ],
   "source": [
    "def refinery_network_diagram(con):\n",
    "    final_dem = 'OIL_EXPORTS_DEM'\n",
    "    df_graph = return_flowd_table(final_dem, 1)\n",
    "    args = create_args_flowd(df_graph)\n",
    "    colors, quick_run_dot_fmt = return_format_colors()\n",
    "    args.update(colors)\n",
    "    #o_str = 'rankdir = \"LR\" ;'\n",
    "    #r_str = 'rankdir = \"LR\" ; \\n\\t size=\"12,12\";'\n",
    "    #quick_run_dot_fmt = quick_run_dot_fmt.replace(o_str, r_str)\n",
    "    dot_graph = quick_run_dot_fmt % args\n",
    "    display(Markdown('Meeting oil exports demand'))\n",
    "    display(graphviz.Source(dot_graph))\n",
    "    \n",
    "refinery_network_diagram(con)"
   ]
  },
  {
   "cell_type": "markdown",
   "metadata": {},
   "source": [
    "### 1.1.3 Crude oil refining\n",
    "The crude oil refinery in each PADD region is represented as a process that takes in a single input (oil) to produce multiple outputs. The refining process has a distribution of petroluem product outputs as shown in the network diagram below. The output distribution can include products such as gasoline, diesel, residual and distillate fuel oil. We currently do not include any energy inputs or emissions associated with refineries, but this will be updated shortly."
   ]
  },
  {
   "cell_type": "code",
   "execution_count": 6,
   "metadata": {
    "hide_input": true,
    "init_cell": true,
    "jupyter": {
     "source_hidden": true
    }
   },
   "outputs": [
    {
     "data": {
      "text/markdown": [
       "Network diagram for a representative refinery"
      ],
      "text/plain": [
       "<IPython.core.display.Markdown object>"
      ]
     },
     "metadata": {},
     "output_type": "display_data"
    },
    {
     "data": {
      "image/svg+xml": [
       "<?xml version=\"1.0\" encoding=\"UTF-8\" standalone=\"no\"?>\n",
       "<!DOCTYPE svg PUBLIC \"-//W3C//DTD SVG 1.1//EN\"\n",
       " \"http://www.w3.org/Graphics/SVG/1.1/DTD/svg11.dtd\">\n",
       "<!-- Generated by graphviz version 2.40.1 (20161225.0304)\n",
       " -->\n",
       "<!-- Title: model Pages: 1 -->\n",
       "<svg width=\"285pt\" height=\"390pt\"\n",
       " viewBox=\"0.00 0.00 284.79 390.09\" xmlns=\"http://www.w3.org/2000/svg\" xmlns:xlink=\"http://www.w3.org/1999/xlink\">\n",
       "<g id=\"graph0\" class=\"graph\" transform=\"scale(1 1) rotate(0) translate(4 386.0923)\">\n",
       "<title>model</title>\n",
       "<polygon fill=\"#ffffff\" stroke=\"transparent\" points=\"-4,4 -4,-386.0923 280.7866,-386.0923 280.7866,4 -4,4\"/>\n",
       "<!-- SRE -->\n",
       "<g id=\"node1\" class=\"node\">\n",
       "<title>SRE</title>\n",
       "<g id=\"a_node1\"><a xlink:title=\"crude oil refining\">\n",
       "<polygon fill=\"#8fbc8f\" stroke=\"#8fbc8f\" points=\"141.9954,-220.3956 87.9954,-220.3956 87.9954,-184.3956 141.9954,-184.3956 141.9954,-220.3956\"/>\n",
       "<text text-anchor=\"middle\" x=\"114.9954\" y=\"-198.6956\" font-family=\"Times,serif\" font-size=\"14.00\" fill=\"#000000\">SRE</text>\n",
       "</a>\n",
       "</g>\n",
       "</g>\n",
       "<!-- DSL_S -->\n",
       "<g id=\"node3\" class=\"node\">\n",
       "<title>DSL_S</title>\n",
       "<g id=\"a_node3\"><a xlink:title=\"diesel from refineries\">\n",
       "<ellipse fill=\"#b0c4de\" stroke=\"#b0c4de\" cx=\"227.391\" cy=\"-344.3956\" rx=\"37.8943\" ry=\"37.8943\"/>\n",
       "<text text-anchor=\"middle\" x=\"227.391\" y=\"-340.6956\" font-family=\"Times,serif\" font-size=\"14.00\" fill=\"#000000\">DSL_S</text>\n",
       "</a>\n",
       "</g>\n",
       "</g>\n",
       "<!-- SRE&#45;&gt;DSL_S -->\n",
       "<g id=\"edge5\" class=\"edge\">\n",
       "<title>SRE&#45;&gt;DSL_S</title>\n",
       "<path fill=\"none\" stroke=\"#228b22\" d=\"M125.4758,-220.7501C137.1495,-240.5342 157.1388,-272.5283 177.9954,-297.3956 182.1387,-302.3357 186.7551,-307.3014 191.4556,-312.058\"/>\n",
       "<polygon fill=\"#228b22\" stroke=\"#228b22\" points=\"198.8556,-319.327 188.5682,-315.5295 195.2886,-315.8231 191.7216,-312.3193 191.7216,-312.3193 191.7216,-312.3193 195.2886,-315.8231 194.8751,-309.109 198.8556,-319.327 198.8556,-319.327\"/>\n",
       "</g>\n",
       "<!-- GAS_S -->\n",
       "<g id=\"node4\" class=\"node\">\n",
       "<title>GAS_S</title>\n",
       "<g id=\"a_node4\"><a xlink:title=\"gasoline from refineries\">\n",
       "<ellipse fill=\"#b0c4de\" stroke=\"#b0c4de\" cx=\"227.391\" cy=\"-250.3956\" rx=\"38.1938\" ry=\"38.1938\"/>\n",
       "<text text-anchor=\"middle\" x=\"227.391\" y=\"-246.6956\" font-family=\"Times,serif\" font-size=\"14.00\" fill=\"#000000\">GAS_S</text>\n",
       "</a>\n",
       "</g>\n",
       "</g>\n",
       "<!-- SRE&#45;&gt;GAS_S -->\n",
       "<g id=\"edge4\" class=\"edge\">\n",
       "<title>SRE&#45;&gt;GAS_S</title>\n",
       "<path fill=\"none\" stroke=\"#228b22\" d=\"M142.2032,-214.0151C154.3442,-219.2 168.971,-225.4466 182.6517,-231.2891\"/>\n",
       "<polygon fill=\"#228b22\" stroke=\"#228b22\" points=\"191.9296,-235.2514 180.9657,-235.4622 187.3313,-233.2876 182.7331,-231.3238 182.7331,-231.3238 182.7331,-231.3238 187.3313,-233.2876 184.5005,-227.1854 191.9296,-235.2514 191.9296,-235.2514\"/>\n",
       "</g>\n",
       "<!-- DFO_S -->\n",
       "<g id=\"node5\" class=\"node\">\n",
       "<title>DFO_S</title>\n",
       "<g id=\"a_node5\"><a xlink:title=\"distillate fuel oil from refineries\">\n",
       "<ellipse fill=\"#b0c4de\" stroke=\"#b0c4de\" cx=\"227.391\" cy=\"-155.3956\" rx=\"38.1938\" ry=\"38.1938\"/>\n",
       "<text text-anchor=\"middle\" x=\"227.391\" y=\"-151.6956\" font-family=\"Times,serif\" font-size=\"14.00\" fill=\"#000000\">DFO_S</text>\n",
       "</a>\n",
       "</g>\n",
       "</g>\n",
       "<!-- SRE&#45;&gt;DFO_S -->\n",
       "<g id=\"edge2\" class=\"edge\">\n",
       "<title>SRE&#45;&gt;DFO_S</title>\n",
       "<path fill=\"none\" stroke=\"#228b22\" d=\"M142.2032,-191.0182C154.3442,-185.9413 168.971,-179.8249 182.6517,-174.1041\"/>\n",
       "<polygon fill=\"#228b22\" stroke=\"#228b22\" points=\"191.9296,-170.2244 184.4398,-178.234 187.3167,-172.1534 182.7037,-174.0824 182.7037,-174.0824 182.7037,-174.0824 187.3167,-172.1534 180.9676,-169.9307 191.9296,-170.2244 191.9296,-170.2244\"/>\n",
       "</g>\n",
       "<!-- A_RFO_S -->\n",
       "<g id=\"node6\" class=\"node\">\n",
       "<title>A_RFO_S</title>\n",
       "<g id=\"a_node6\"><a xlink:title=\"residual fuel oil from refineries\">\n",
       "<ellipse fill=\"#b0c4de\" stroke=\"#b0c4de\" cx=\"227.391\" cy=\"-49.3956\" rx=\"49.2915\" ry=\"49.2915\"/>\n",
       "<text text-anchor=\"middle\" x=\"227.391\" y=\"-45.6956\" font-family=\"Times,serif\" font-size=\"14.00\" fill=\"#000000\">A_RFO_S</text>\n",
       "</a>\n",
       "</g>\n",
       "</g>\n",
       "<!-- SRE&#45;&gt;A_RFO_S -->\n",
       "<g id=\"edge3\" class=\"edge\">\n",
       "<title>SRE&#45;&gt;A_RFO_S</title>\n",
       "<path fill=\"none\" stroke=\"#228b22\" d=\"M126.2881,-184.3334C138.4903,-165.114 158.7758,-134.009 177.9954,-108.3956 181.3028,-103.9879 184.8268,-99.4689 188.4118,-94.9887\"/>\n",
       "<polygon fill=\"#228b22\" stroke=\"#228b22\" points=\"194.8969,-86.9989 192.0887,-97.5991 191.7459,-90.881 188.5948,-94.7632 188.5948,-94.7632 188.5948,-94.7632 191.7459,-90.881 185.1009,-91.9272 194.8969,-86.9989 194.8969,-86.9989\"/>\n",
       "</g>\n",
       "<!-- OIL -->\n",
       "<g id=\"node2\" class=\"node\">\n",
       "<title>OIL</title>\n",
       "<g id=\"a_node2\"><a xlink:title=\"crude oil to petroluem refineries\">\n",
       "<ellipse fill=\"#b0c4de\" stroke=\"#b0c4de\" cx=\"25.9977\" cy=\"-202.3956\" rx=\"25.9954\" ry=\"25.9954\"/>\n",
       "<text text-anchor=\"middle\" x=\"25.9977\" y=\"-198.6956\" font-family=\"Times,serif\" font-size=\"14.00\" fill=\"#000000\">OIL</text>\n",
       "</a>\n",
       "</g>\n",
       "</g>\n",
       "<!-- OIL&#45;&gt;SRE -->\n",
       "<g id=\"edge1\" class=\"edge\">\n",
       "<title>OIL&#45;&gt;SRE</title>\n",
       "<path fill=\"none\" stroke=\"#b22222\" d=\"M52.2186,-202.3956C60.1652,-202.3956 69.0531,-202.3956 77.5842,-202.3956\"/>\n",
       "<polygon fill=\"#b22222\" stroke=\"#b22222\" points=\"87.7262,-202.3956 77.7263,-206.8957 82.7262,-202.3957 77.7262,-202.3957 77.7262,-202.3957 77.7262,-202.3957 82.7262,-202.3957 77.7262,-197.8957 87.7262,-202.3956 87.7262,-202.3956\"/>\n",
       "</g>\n",
       "</g>\n",
       "</svg>\n"
      ],
      "text/plain": [
       "<graphviz.files.Source at 0x7fe9f6b526d8>"
      ]
     },
     "metadata": {},
     "output_type": "display_data"
    }
   ],
   "source": [
    "def refinery_network_diagram(con):\n",
    "    final_dem = 'SRE'\n",
    "    df_graph = return_flowd_table(final_dem, 0)\n",
    "    args = create_args_flowd(df_graph)\n",
    "    colors, quick_run_dot_fmt = return_format_colors()\n",
    "    args.update(colors)\n",
    "    #o_str = 'rankdir = \"LR\" ;'\n",
    "    #r_str = 'rankdir = \"LR\" ; \\n\\t size=\"12,12\";'\n",
    "    #quick_run_dot_fmt = quick_run_dot_fmt.replace(o_str, r_str)\n",
    "    dot_graph = quick_run_dot_fmt % args\n",
    "    display(Markdown('Network diagram for a representative refinery'))\n",
    "    display(graphviz.Source(dot_graph))\n",
    "    \n",
    "refinery_network_diagram(con)"
   ]
  },
  {
   "cell_type": "markdown",
   "metadata": {
    "jupyter": {
     "source_hidden": false
    }
   },
   "source": [
    "The product distribution from the refinery is represented in the TechOutputSplit table (as mass fractions) - representative values from EIA have been selected in this iteration. Each pathway from input to output through the refinery technology has an associated efficiency value. The US refining capacity, as reported by the <a href=\"https://www.eia.gov/todayinenergy/detail.php?id=44237#:~:text=U.S.%20operable%20atmospheric%20crude%20oil,b%2Fcd%20the%20year%20before.\" rel=\"nofollow\">EIA</a> for 2020, was used to develop an estimate of existing refinery capacity. The total output mass fractions equal 95% to allow the model some flexibility in refinery outputs. "
   ]
  },
  {
   "cell_type": "code",
   "execution_count": 7,
   "metadata": {
    "hide_input": true,
    "init_cell": true,
    "jupyter": {
     "source_hidden": true
    },
    "scrolled": true
   },
   "outputs": [
    {
     "data": {
      "text/html": [
       "<table>\n",
       "<thead>\n",
       "<tr><th>regions  </th><th>input  </th><th>technology  </th><th>output  </th><th style=\"text-align: right;\">  efficiency (%)</th><th style=\"text-align: right;\">  existing capacity (million bbls/year)</th><th style=\"text-align: right;\">  output mass fraction (%)</th></tr>\n",
       "</thead>\n",
       "<tbody>\n",
       "<tr><td>PADD1    </td><td>OIL    </td><td>SRE         </td><td>A_RFO_S </td><td style=\"text-align: right;\">           100.0</td><td style=\"text-align: right;\">                                 6935.0</td><td style=\"text-align: right;\">                       5.0</td></tr>\n",
       "<tr><td>PADD1    </td><td>OIL    </td><td>SRE         </td><td>DFO_S   </td><td style=\"text-align: right;\">           100.0</td><td style=\"text-align: right;\">                                 6935.0</td><td style=\"text-align: right;\">                      20.0</td></tr>\n",
       "<tr><td>PADD1    </td><td>OIL    </td><td>SRE         </td><td>DSL_S   </td><td style=\"text-align: right;\">           100.0</td><td style=\"text-align: right;\">                                 6935.0</td><td style=\"text-align: right;\">                      25.0</td></tr>\n",
       "<tr><td>PADD1    </td><td>OIL    </td><td>SRE         </td><td>GAS_S   </td><td style=\"text-align: right;\">           100.0</td><td style=\"text-align: right;\">                                 6935.0</td><td style=\"text-align: right;\">                      45.0</td></tr>\n",
       "</tbody>\n",
       "</table>"
      ],
      "text/plain": [
       "<IPython.core.display.HTML object>"
      ]
     },
     "metadata": {},
     "output_type": "display_data"
    }
   ],
   "source": [
    "df = pd.read_sql(\"SELECT regions, tech, output_comm, to_split FROM TechOutputSplit WHERE regions LIKE 'PADD%' AND tech LIKE 'SRE%'\", con)\n",
    "df = df.groupby(['regions', 'tech', 'output_comm']).mean().reset_index()\n",
    "df_eff = pd.read_sql(\"SELECT regions, tech, vintage , input_comm, output_comm, efficiency FROM Efficiency WHERE regions LIKE 'PADD%' AND tech LIKE 'SRE%'\", con)\n",
    "df_cap = pd.read_sql(\"SELECT regions, tech, vintage, exist_cap FROM ExistingCapacity WHERE regions LIKE 'PADD%' AND tech LIKE 'SRE%'\", con)\n",
    "df_eff = df_eff.merge(df_cap, on = ['regions', 'tech', 'vintage'])\n",
    "df = df.merge(df_eff, on = ['regions', 'tech', 'output_comm'])\n",
    "cols = ['regions', 'input_comm', 'tech', 'output_comm', 'efficiency', 'exist_cap' ,'to_split']\n",
    "df = df[cols]\n",
    "df['efficiency'] *=100\n",
    "df['to_split'] *=100\n",
    "df['exist_cap'] /=PJ_per_oil_bbl*10**6\n",
    "header = ['regions', 'input','technology', 'output', 'efficiency (%)', 'existing capacity (million bbls/year)', 'output mass fraction (%)']\n",
    "display(HTML(tabulate.tabulate(df.set_index('regions'), header,  floatfmt=\".1f\" , tablefmt='html')))\n"
   ]
  },
  {
   "cell_type": "markdown",
   "metadata": {},
   "source": [
    "Variable costs are assigned per unit of throughput, currently based on values in the grey literature."
   ]
  },
  {
   "cell_type": "code",
   "execution_count": 8,
   "metadata": {
    "hide_input": true,
    "init_cell": true,
    "jupyter": {
     "source_hidden": true
    }
   },
   "outputs": [
    {
     "data": {
      "text/html": [
       "<table>\n",
       "<thead>\n",
       "<tr><th>regions  </th><th>technology  </th><th style=\"text-align: right;\">  vintage</th><th style=\"text-align: right;\">  periods</th><th style=\"text-align: right;\">  variable cost ($/bbl)</th></tr>\n",
       "</thead>\n",
       "<tbody>\n",
       "<tr><td>PADD1    </td><td>SRE         </td><td style=\"text-align: right;\">     2015</td><td style=\"text-align: right;\">     2020</td><td style=\"text-align: right;\">                    5.0</td></tr>\n",
       "<tr><td>PADD1    </td><td>SRE         </td><td style=\"text-align: right;\">     2015</td><td style=\"text-align: right;\">     2025</td><td style=\"text-align: right;\">                    5.0</td></tr>\n",
       "<tr><td>PADD1    </td><td>SRE         </td><td style=\"text-align: right;\">     2015</td><td style=\"text-align: right;\">     2030</td><td style=\"text-align: right;\">                    5.0</td></tr>\n",
       "<tr><td>PADD1    </td><td>SRE         </td><td style=\"text-align: right;\">     2015</td><td style=\"text-align: right;\">     2035</td><td style=\"text-align: right;\">                    5.0</td></tr>\n",
       "<tr><td>PADD1    </td><td>SRE         </td><td style=\"text-align: right;\">     2015</td><td style=\"text-align: right;\">     2040</td><td style=\"text-align: right;\">                    5.0</td></tr>\n",
       "<tr><td>PADD1    </td><td>SRE         </td><td style=\"text-align: right;\">     2015</td><td style=\"text-align: right;\">     2045</td><td style=\"text-align: right;\">                    5.0</td></tr>\n",
       "<tr><td>PADD1    </td><td>SRE         </td><td style=\"text-align: right;\">     2015</td><td style=\"text-align: right;\">     2050</td><td style=\"text-align: right;\">                    5.0</td></tr>\n",
       "</tbody>\n",
       "</table>"
      ],
      "text/plain": [
       "<IPython.core.display.HTML object>"
      ]
     },
     "metadata": {},
     "output_type": "display_data"
    }
   ],
   "source": [
    "df_cost = pd.read_sql(\"SELECT regions, tech, vintage, periods, cost_variable FROM CostVariable WHERE regions LIKE 'PADD%' AND tech LIKE 'SRE%'\", con)\n",
    "df_cost['cost_variable'] *= PJ_per_oil_bbl*10**6\n",
    "header = ['regions', 'technology','vintage', 'periods', 'variable cost ($/bbl)']\n",
    "display(HTML(tabulate.tabulate(df_cost.set_index('regions'), header,  floatfmt=\".1f\" , tablefmt='html')))"
   ]
  },
  {
   "cell_type": "markdown",
   "metadata": {},
   "source": [
    "#### 1.1.3.1 Products transport\n",
    "Refined products can be transported from a PADD region to a US region using a transport process. The network diagram for gasoline transport is shown below. In this case, the gasoline produced by the refinery in a PADD region has no immediate downstream process or demand, other than the transport process itself. Therefore, a dummy downstream process (SRE1) with an efficiency of 100% was created, in order for the commodity balance constraint to work appropriately. The inputs and outputs of this dummy process are the same (the refined product). The process also has a corresponding row in the ExistingCapacity table, with capacity that equals the refinery process. \n",
    "\n",
    "The gas transport process currently does not have any associated fixed or variable costs. Note that transport process from region R1 to R2 must have a corresponding transport technology from R2 to R1. In this case, since no flow of products is expected from the US consuming region back to the PADD region, an efficiency of ~0% is defined for the transport process from the US to the PADD region.\n",
    "\n",
    "The gas in the US region does not have any local upstream process other than the transport process. Therefore, another dummy process that produced the refined product in the US region was defined with very high variable costs (GAS_LOCAL), so that the model does not assume 'free' gas availability in the US region.\n",
    "\n",
    "A summary of the dummy processes used are presented below."
   ]
  },
  {
   "cell_type": "code",
   "execution_count": 9,
   "metadata": {
    "hide_input": true,
    "init_cell": true,
    "jupyter": {
     "source_hidden": true
    }
   },
   "outputs": [
    {
     "data": {
      "text/markdown": [
       "Network diagram for products transport"
      ],
      "text/plain": [
       "<IPython.core.display.Markdown object>"
      ]
     },
     "metadata": {},
     "output_type": "display_data"
    },
    {
     "data": {
      "image/svg+xml": [
       "<?xml version=\"1.0\" encoding=\"UTF-8\" standalone=\"no\"?>\n",
       "<!DOCTYPE svg PUBLIC \"-//W3C//DTD SVG 1.1//EN\"\n",
       " \"http://www.w3.org/Graphics/SVG/1.1/DTD/svg11.dtd\">\n",
       "<!-- Generated by graphviz version 2.40.1 (20161225.0304)\n",
       " -->\n",
       "<!-- Title: model Pages: 1 -->\n",
       "<svg width=\"397pt\" height=\"152pt\"\n",
       " viewBox=\"0.00 0.00 396.69 152.00\" xmlns=\"http://www.w3.org/2000/svg\" xmlns:xlink=\"http://www.w3.org/1999/xlink\">\n",
       "<g id=\"graph0\" class=\"graph\" transform=\"scale(1 1) rotate(0) translate(4 148)\">\n",
       "<title>model</title>\n",
       "<polygon fill=\"#ffffff\" stroke=\"transparent\" points=\"-4,4 -4,-148 392.6886,-148 392.6886,4 -4,4\"/>\n",
       "<!-- GAS_TRANS -->\n",
       "<g id=\"node1\" class=\"node\">\n",
       "<title>GAS_TRANS</title>\n",
       "<g id=\"a_node1\"><a xlink:title=\"transmission of gasoline from PADD to region\">\n",
       "<polygon fill=\"#8fbc8f\" stroke=\"#8fbc8f\" points=\"185.4954,-144 88.4954,-144 88.4954,-108 185.4954,-108 185.4954,-144\"/>\n",
       "<text text-anchor=\"middle\" x=\"136.9954\" y=\"-122.3\" font-family=\"Times,serif\" font-size=\"14.00\" fill=\"#000000\">GAS_TRANS</text>\n",
       "</a>\n",
       "</g>\n",
       "</g>\n",
       "<!-- GAS_S -->\n",
       "<g id=\"node6\" class=\"node\">\n",
       "<title>GAS_S</title>\n",
       "<g id=\"a_node6\"><a xlink:title=\"gasoline from refineries\">\n",
       "<ellipse fill=\"#b0c4de\" stroke=\"#b0c4de\" cx=\"260.342\" cy=\"-99\" rx=\"38.1938\" ry=\"38.1938\"/>\n",
       "<text text-anchor=\"middle\" x=\"260.342\" y=\"-95.3\" font-family=\"Times,serif\" font-size=\"14.00\" fill=\"#000000\">GAS_S</text>\n",
       "</a>\n",
       "</g>\n",
       "</g>\n",
       "<!-- GAS_TRANS&#45;&gt;GAS_S -->\n",
       "<g id=\"edge4\" class=\"edge\">\n",
       "<title>GAS_TRANS&#45;&gt;GAS_S</title>\n",
       "<path fill=\"none\" stroke=\"#228b22\" d=\"M185.7452,-108.7124C194.3604,-106.6462 203.3278,-104.6857 211.9336,-102.9871\"/>\n",
       "<polygon fill=\"#228b22\" stroke=\"#228b22\" points=\"221.827,-101.1228 212.8333,-107.3969 216.9135,-102.0488 211.9999,-102.9747 211.9999,-102.9747 211.9999,-102.9747 216.9135,-102.0488 211.1666,-98.5525 221.827,-101.1228 221.827,-101.1228\"/>\n",
       "</g>\n",
       "<!-- SRE -->\n",
       "<g id=\"node2\" class=\"node\">\n",
       "<title>SRE</title>\n",
       "<g id=\"a_node2\"><a xlink:title=\"crude oil refining\">\n",
       "<polygon fill=\"#8fbc8f\" stroke=\"#8fbc8f\" points=\"163.9954,-90 109.9954,-90 109.9954,-54 163.9954,-54 163.9954,-90\"/>\n",
       "<text text-anchor=\"middle\" x=\"136.9954\" y=\"-68.3\" font-family=\"Times,serif\" font-size=\"14.00\" fill=\"#000000\">SRE</text>\n",
       "</a>\n",
       "</g>\n",
       "</g>\n",
       "<!-- SRE&#45;&gt;GAS_S -->\n",
       "<g id=\"edge5\" class=\"edge\">\n",
       "<title>SRE&#45;&gt;GAS_S</title>\n",
       "<path fill=\"none\" stroke=\"#228b22\" d=\"M164.0643,-77.9253C178.2764,-81.0362 196.1133,-84.9406 212.5599,-88.5407\"/>\n",
       "<polygon fill=\"#228b22\" stroke=\"#228b22\" points=\"222.5758,-90.7332 211.8448,-92.9907 217.6914,-89.664 212.8071,-88.5948 212.8071,-88.5948 212.8071,-88.5948 217.6914,-89.664 213.7694,-84.1988 222.5758,-90.7332 222.5758,-90.7332\"/>\n",
       "</g>\n",
       "<!-- SRE1 -->\n",
       "<g id=\"node3\" class=\"node\">\n",
       "<title>SRE1</title>\n",
       "<g id=\"a_node3\"><a xlink:title=\"dummy local tech downstream of refining products in PADD\">\n",
       "<polygon fill=\"#8fbc8f\" stroke=\"#8fbc8f\" points=\"388.6886,-117 334.6886,-117 334.6886,-81 388.6886,-81 388.6886,-117\"/>\n",
       "<text text-anchor=\"middle\" x=\"361.6886\" y=\"-95.3\" font-family=\"Times,serif\" font-size=\"14.00\" fill=\"#000000\">SRE1</text>\n",
       "</a>\n",
       "</g>\n",
       "</g>\n",
       "<!-- SRE1&#45;&gt;GAS_S -->\n",
       "<g id=\"edge7\" class=\"edge\">\n",
       "<title>SRE1&#45;&gt;GAS_S</title>\n",
       "<path fill=\"none\" stroke=\"#228b22\" d=\"M334.5223,-105.0579C326.457,-105.569 317.3712,-105.797 308.3952,-105.742\"/>\n",
       "<polygon fill=\"#228b22\" stroke=\"#228b22\" points=\"298.3681,-105.5596 308.4483,-101.2423 303.3672,-105.6506 308.3664,-105.7415 308.3664,-105.7415 308.3664,-105.7415 303.3672,-105.6506 308.2845,-110.2408 298.3681,-105.5596 298.3681,-105.5596\"/>\n",
       "</g>\n",
       "<!-- GAS_LOCAL -->\n",
       "<g id=\"node4\" class=\"node\">\n",
       "<title>GAS_LOCAL</title>\n",
       "<g id=\"a_node4\"><a xlink:title=\"local production of gasoline\">\n",
       "<polygon fill=\"#8fbc8f\" stroke=\"#8fbc8f\" points=\"185.9954,-36 87.9954,-36 87.9954,0 185.9954,0 185.9954,-36\"/>\n",
       "<text text-anchor=\"middle\" x=\"136.9954\" y=\"-14.3\" font-family=\"Times,serif\" font-size=\"14.00\" fill=\"#000000\">GAS_LOCAL</text>\n",
       "</a>\n",
       "</g>\n",
       "</g>\n",
       "<!-- GAS_LOCAL&#45;&gt;GAS_S -->\n",
       "<g id=\"edge6\" class=\"edge\">\n",
       "<title>GAS_LOCAL&#45;&gt;GAS_S</title>\n",
       "<path fill=\"none\" stroke=\"#228b22\" d=\"M171.0556,-36.0495C176.1244,-38.9417 181.2401,-41.9794 185.9954,-45 197.799,-52.4977 210.236,-61.192 221.4886,-69.3843\"/>\n",
       "<polygon fill=\"#228b22\" stroke=\"#228b22\" points=\"229.8326,-75.5231 219.1109,-73.2217 225.8052,-72.5601 221.7777,-69.597 221.7777,-69.597 221.7777,-69.597 225.8052,-72.5601 224.4445,-65.9723 229.8326,-75.5231 229.8326,-75.5231\"/>\n",
       "</g>\n",
       "<!-- OIL -->\n",
       "<g id=\"node5\" class=\"node\">\n",
       "<title>OIL</title>\n",
       "<g id=\"a_node5\"><a xlink:title=\"crude oil to petroluem refineries\">\n",
       "<ellipse fill=\"#b0c4de\" stroke=\"#b0c4de\" cx=\"25.9977\" cy=\"-72\" rx=\"25.9954\" ry=\"25.9954\"/>\n",
       "<text text-anchor=\"middle\" x=\"25.9977\" y=\"-68.3\" font-family=\"Times,serif\" font-size=\"14.00\" fill=\"#000000\">OIL</text>\n",
       "</a>\n",
       "</g>\n",
       "</g>\n",
       "<!-- OIL&#45;&gt;SRE -->\n",
       "<g id=\"edge2\" class=\"edge\">\n",
       "<title>OIL&#45;&gt;SRE</title>\n",
       "<path fill=\"none\" stroke=\"#b22222\" d=\"M52.0217,-72C66.1828,-72 83.9506,-72 99.5732,-72\"/>\n",
       "<polygon fill=\"#b22222\" stroke=\"#b22222\" points=\"109.9754,-72 99.9754,-76.5001 104.9754,-72 99.9754,-72.0001 99.9754,-72.0001 99.9754,-72.0001 104.9754,-72 99.9753,-67.5001 109.9754,-72 109.9754,-72\"/>\n",
       "</g>\n",
       "<!-- GAS_S&#45;&gt;GAS_TRANS -->\n",
       "<g id=\"edge3\" class=\"edge\">\n",
       "<title>GAS_S&#45;&gt;GAS_TRANS</title>\n",
       "<path fill=\"none\" stroke=\"#b22222\" d=\"M224.4993,-113.0394C215.4224,-115.4408 205.4343,-117.81 195.5531,-119.9243\"/>\n",
       "<polygon fill=\"#b22222\" stroke=\"#b22222\" points=\"185.7452,-121.9454 194.6312,-115.5197 190.6423,-120.9362 195.5394,-119.9271 195.5394,-119.9271 195.5394,-119.9271 190.6423,-120.9362 196.4477,-124.3345 185.7452,-121.9454 185.7452,-121.9454\"/>\n",
       "</g>\n",
       "<!-- GAS_S&#45;&gt;SRE1 -->\n",
       "<g id=\"edge1\" class=\"edge\">\n",
       "<title>GAS_S&#45;&gt;SRE1</title>\n",
       "<path fill=\"none\" stroke=\"#b22222\" d=\"M298.3681,-92.4404C306.9133,-92.1781 315.9712,-92.1868 324.4826,-92.4665\"/>\n",
       "<polygon fill=\"#b22222\" stroke=\"#b22222\" points=\"334.5223,-92.9421 324.3205,-96.9638 329.5279,-92.7055 324.5335,-92.4688 324.5335,-92.4688 324.5335,-92.4688 329.5279,-92.7055 324.7464,-87.9739 334.5223,-92.9421 334.5223,-92.9421\"/>\n",
       "</g>\n",
       "</g>\n",
       "</svg>\n"
      ],
      "text/plain": [
       "<graphviz.files.Source at 0x7fe9f3838f60>"
      ]
     },
     "metadata": {},
     "output_type": "display_data"
    }
   ],
   "source": [
    "def products_transport_network_diagram(con):\n",
    "    final_dem = 'GAS_TRANS'\n",
    "    df_graph = return_flowd_table(final_dem)\n",
    "    args = create_args_flowd(df_graph)\n",
    "    colors, quick_run_dot_fmt = return_format_colors()\n",
    "    args.update(colors)\n",
    "    #o_str = 'rankdir = \"LR\" ;'\n",
    "    #r_str = 'rankdir = \"LR\" ; \\n\\t size=\"12,12\";'\n",
    "    #quick_run_dot_fmt = quick_run_dot_fmt.replace(o_str, r_str)\n",
    "    dot_graph = quick_run_dot_fmt % args\n",
    "    display(Markdown('Network diagram for products transport'))\n",
    "    display(graphviz.Source(dot_graph))\n",
    "    \n",
    "products_transport_network_diagram(con)"
   ]
  },
  {
   "cell_type": "code",
   "execution_count": 10,
   "metadata": {
    "hide_input": true,
    "init_cell": true,
    "jupyter": {
     "source_hidden": true
    }
   },
   "outputs": [
    {
     "data": {
      "text/html": [
       "<table>\n",
       "<thead>\n",
       "<tr><th>regions  </th><th>input  </th><th>technology  </th><th>output  </th><th style=\"text-align: right;\">  efficiency (%)</th><th style=\"text-align: right;\">  existing capacity (million bbls/year)</th></tr>\n",
       "</thead>\n",
       "<tbody>\n",
       "<tr><td>PADD1    </td><td>GAS_S  </td><td>SRE1        </td><td>GAS_S   </td><td style=\"text-align: right;\">           100.0</td><td style=\"text-align: right;\">                                 6935.0</td></tr>\n",
       "<tr><td>PADD1    </td><td>DSL_S  </td><td>SRE1        </td><td>DSL_S   </td><td style=\"text-align: right;\">           100.0</td><td style=\"text-align: right;\">                                 6935.0</td></tr>\n",
       "<tr><td>PADD1    </td><td>DFO_S  </td><td>SRE1        </td><td>DFO_S   </td><td style=\"text-align: right;\">           100.0</td><td style=\"text-align: right;\">                                 6935.0</td></tr>\n",
       "<tr><td>PADD1    </td><td>A_RFO_S</td><td>SRE1        </td><td>A_RFO_S </td><td style=\"text-align: right;\">           100.0</td><td style=\"text-align: right;\">                                 6935.0</td></tr>\n",
       "<tr><td>PADD1-US </td><td>GAS_S  </td><td>GAS_TRANS   </td><td>GAS_S   </td><td style=\"text-align: right;\">           100.0</td><td style=\"text-align: right;\">                                 6935.0</td></tr>\n",
       "<tr><td>US-PADD1 </td><td>GAS_S  </td><td>GAS_TRANS   </td><td>GAS_S   </td><td style=\"text-align: right;\">             0.0</td><td style=\"text-align: right;\">                                 6935.0</td></tr>\n",
       "<tr><td>US       </td><td>ethos  </td><td>GAS_LOCAL   </td><td>GAS_S   </td><td style=\"text-align: right;\">           100.0</td><td style=\"text-align: right;\">                                 6935.0</td></tr>\n",
       "</tbody>\n",
       "</table>"
      ],
      "text/plain": [
       "<IPython.core.display.HTML object>"
      ]
     },
     "metadata": {},
     "output_type": "display_data"
    }
   ],
   "source": [
    "\n",
    "df_eff = pd.read_sql(\"SELECT regions, tech, vintage , input_comm, output_comm, efficiency FROM Efficiency WHERE tech='GAS_LOCAL' OR tech LIKE 'SRE1%' OR tech='GAS_TRANS'\", con)\n",
    "df_cap = pd.read_sql(\"SELECT regions, tech, vintage, exist_cap FROM ExistingCapacity WHERE tech='GAS_LOCAL' OR tech LIKE 'SRE1%' OR tech='GAS_TRANS'\", con)\n",
    "df_eff = df_eff.merge(df_cap, on = ['regions', 'tech', 'vintage'])\n",
    "df = df_eff.copy()\n",
    "cols = ['regions', 'input_comm', 'tech', 'output_comm', 'efficiency', 'exist_cap']\n",
    "df = df[cols]\n",
    "df['efficiency'] *=100\n",
    "df['exist_cap'] /=PJ_per_oil_bbl*10**6\n",
    "header = ['regions', 'input','technology', 'output', 'efficiency (%)', 'existing capacity (million bbls/year)', 'output mass fraction (%)']\n",
    "display(HTML(tabulate.tabulate(df.set_index('regions'), header,  floatfmt=\".1f\" , tablefmt='html')))\n"
   ]
  },
  {
   "cell_type": "markdown",
   "metadata": {},
   "source": [
    "#### 1.1.3.2  Products cost adders\n",
    "Once the refined products are in the US consuming regions, they pass through another downstream technology that appends any product/region specific cost-adders to the products. These cost-adder technologies also serve a dual purpose of allowing any 'curtailment' that is driven by the assumed refinery slate distribution. For example, if the demand for crude oil refining is set by the gasoline commodity, other products such as diesel may be produced in excess of demand, given the fixed refinery configuration. For these specific technologies, the commodity balance (which is typically modeled as an equality constraint), is modeled as an inequality constraint, where some outputs that are in excess of demand downstream are curtailed."
   ]
  },
  {
   "cell_type": "code",
   "execution_count": 11,
   "metadata": {
    "hide_input": true,
    "init_cell": true,
    "jupyter": {
     "source_hidden": true
    }
   },
   "outputs": [
    {
     "data": {
      "text/markdown": [
       "Network diagram for cost-adders"
      ],
      "text/plain": [
       "<IPython.core.display.Markdown object>"
      ]
     },
     "metadata": {},
     "output_type": "display_data"
    },
    {
     "data": {
      "image/svg+xml": [
       "<?xml version=\"1.0\" encoding=\"UTF-8\" standalone=\"no\"?>\n",
       "<!DOCTYPE svg PUBLIC \"-//W3C//DTD SVG 1.1//EN\"\n",
       " \"http://www.w3.org/Graphics/SVG/1.1/DTD/svg11.dtd\">\n",
       "<!-- Generated by graphviz version 2.40.1 (20161225.0304)\n",
       " -->\n",
       "<!-- Title: model Pages: 1 -->\n",
       "<svg width=\"270pt\" height=\"83pt\"\n",
       " viewBox=\"0.00 0.00 270.29 83.39\" xmlns=\"http://www.w3.org/2000/svg\" xmlns:xlink=\"http://www.w3.org/1999/xlink\">\n",
       "<g id=\"graph0\" class=\"graph\" transform=\"scale(1 1) rotate(0) translate(4 79.3933)\">\n",
       "<title>model</title>\n",
       "<polygon fill=\"#ffffff\" stroke=\"transparent\" points=\"-4,4 -4,-79.3933 266.2884,-79.3933 266.2884,4 -4,4\"/>\n",
       "<!-- DSL_C -->\n",
       "<g id=\"node1\" class=\"node\">\n",
       "<title>DSL_C</title>\n",
       "<g id=\"a_node1\"><a xlink:title=\"DSL cost adder\">\n",
       "<polygon fill=\"#8fbc8f\" stroke=\"#8fbc8f\" points=\"170.3933,-55.6967 111.3933,-55.6967 111.3933,-19.6967 170.3933,-19.6967 170.3933,-55.6967\"/>\n",
       "<text text-anchor=\"middle\" x=\"140.8933\" y=\"-33.9967\" font-family=\"Times,serif\" font-size=\"14.00\" fill=\"#000000\">DSL_C</text>\n",
       "</a>\n",
       "</g>\n",
       "</g>\n",
       "<!-- DSL -->\n",
       "<g id=\"node3\" class=\"node\">\n",
       "<title>DSL</title>\n",
       "<g id=\"a_node3\"><a xlink:title=\"diesel for transport\">\n",
       "<ellipse fill=\"#b0c4de\" stroke=\"#b0c4de\" cx=\"234.3408\" cy=\"-37.6967\" rx=\"27.8951\" ry=\"27.8951\"/>\n",
       "<text text-anchor=\"middle\" x=\"234.3408\" y=\"-33.9967\" font-family=\"Times,serif\" font-size=\"14.00\" fill=\"#000000\">DSL</text>\n",
       "</a>\n",
       "</g>\n",
       "</g>\n",
       "<!-- DSL_C&#45;&gt;DSL -->\n",
       "<g id=\"edge2\" class=\"edge\">\n",
       "<title>DSL_C&#45;&gt;DSL</title>\n",
       "<path fill=\"none\" stroke=\"#228b22\" d=\"M170.4607,-37.6967C178.5958,-37.6967 187.5367,-37.6967 196.0862,-37.6967\"/>\n",
       "<polygon fill=\"#228b22\" stroke=\"#228b22\" points=\"206.2401,-37.6967 196.2402,-42.1968 201.2401,-37.6967 196.2401,-37.6968 196.2401,-37.6968 196.2401,-37.6968 201.2401,-37.6967 196.2401,-33.1968 206.2401,-37.6967 206.2401,-37.6967\"/>\n",
       "</g>\n",
       "<!-- DSL_S -->\n",
       "<g id=\"node2\" class=\"node\">\n",
       "<title>DSL_S</title>\n",
       "<g id=\"a_node2\"><a xlink:title=\"diesel from refineries\">\n",
       "<ellipse fill=\"#b0c4de\" stroke=\"#b0c4de\" cx=\"37.6967\" cy=\"-37.6967\" rx=\"37.8943\" ry=\"37.8943\"/>\n",
       "<text text-anchor=\"middle\" x=\"37.6967\" y=\"-33.9967\" font-family=\"Times,serif\" font-size=\"14.00\" fill=\"#000000\">DSL_S</text>\n",
       "</a>\n",
       "</g>\n",
       "</g>\n",
       "<!-- DSL_S&#45;&gt;DSL_C -->\n",
       "<g id=\"edge1\" class=\"edge\">\n",
       "<title>DSL_S&#45;&gt;DSL_C</title>\n",
       "<path fill=\"none\" stroke=\"#b22222\" d=\"M75.5373,-37.6967C83.7884,-37.6967 92.5458,-37.6967 100.8783,-37.6967\"/>\n",
       "<polygon fill=\"#b22222\" stroke=\"#b22222\" points=\"111.1354,-37.6967 101.1355,-42.1968 106.1354,-37.6967 101.1354,-37.6968 101.1354,-37.6968 101.1354,-37.6968 106.1354,-37.6967 101.1354,-33.1968 111.1354,-37.6967 111.1354,-37.6967\"/>\n",
       "</g>\n",
       "</g>\n",
       "</svg>\n"
      ],
      "text/plain": [
       "<graphviz.files.Source at 0x7fe9f7a93ef0>"
      ]
     },
     "metadata": {},
     "output_type": "display_data"
    }
   ],
   "source": [
    "def cost_adders_network_diagram(con):\n",
    "    final_dem = 'DSL_C'\n",
    "    df_graph = return_flowd_table(final_dem, 0)\n",
    "    args = create_args_flowd(df_graph)\n",
    "    colors, quick_run_dot_fmt = return_format_colors()\n",
    "    args.update(colors)\n",
    "    #o_str = 'rankdir = \"LR\" ;'\n",
    "    #r_str = 'rankdir = \"LR\" ; \\n\\t size=\"12,12\";'\n",
    "    #quick_run_dot_fmt = quick_run_dot_fmt.replace(o_str, r_str)\n",
    "    dot_graph = quick_run_dot_fmt % args\n",
    "    display(Markdown('Network diagram for cost-adders'))\n",
    "    display(graphviz.Source(dot_graph))\n",
    "    \n",
    "cost_adders_network_diagram(con)"
   ]
  },
  {
   "cell_type": "code",
   "execution_count": 12,
   "metadata": {
    "hide_input": true,
    "init_cell": true,
    "jupyter": {
     "source_hidden": true
    }
   },
   "outputs": [
    {
     "data": {
      "text/html": [
       "<table>\n",
       "<thead>\n",
       "<tr><th>regions  </th><th>technology  </th><th style=\"text-align: right;\">  vintage</th><th style=\"text-align: right;\">  mean variable cost ($/bbl)</th></tr>\n",
       "</thead>\n",
       "<tbody>\n",
       "<tr><td>US       </td><td>C_DISTOIL_C </td><td style=\"text-align: right;\">     2015</td><td style=\"text-align: right;\">                         1.0</td></tr>\n",
       "<tr><td>US       </td><td>C_RFO_C     </td><td style=\"text-align: right;\">     2015</td><td style=\"text-align: right;\">                         1.0</td></tr>\n",
       "<tr><td>US       </td><td>DSL_C       </td><td style=\"text-align: right;\">     2015</td><td style=\"text-align: right;\">                         1.0</td></tr>\n",
       "<tr><td>US       </td><td>GAS_C       </td><td style=\"text-align: right;\">     2015</td><td style=\"text-align: right;\">                         1.0</td></tr>\n",
       "<tr><td>US       </td><td>I_DFO_C     </td><td style=\"text-align: right;\">     2015</td><td style=\"text-align: right;\">                         1.0</td></tr>\n",
       "<tr><td>US       </td><td>I_RFO_C     </td><td style=\"text-align: right;\">     2015</td><td style=\"text-align: right;\">                         1.0</td></tr>\n",
       "<tr><td>US       </td><td>RFO_C       </td><td style=\"text-align: right;\">     2015</td><td style=\"text-align: right;\">                         1.0</td></tr>\n",
       "<tr><td>US       </td><td>R_DISTOIL_C </td><td style=\"text-align: right;\">     2015</td><td style=\"text-align: right;\">                         1.0</td></tr>\n",
       "</tbody>\n",
       "</table>"
      ],
      "text/plain": [
       "<IPython.core.display.HTML object>"
      ]
     },
     "metadata": {},
     "output_type": "display_data"
    }
   ],
   "source": [
    "df_cost = pd.read_sql(\"SELECT regions, tech, vintage, periods, cost_variable FROM CostVariable WHERE tech LIKE '%_C' AND tech!='IMPELC'\", con)\n",
    "df_cost['cost_variable'] *= PJ_per_oil_bbl*10**6\n",
    "df_cost = df_cost.groupby(by=['regions', 'tech', 'vintage']).mean().reset_index().drop('periods', axis=1)\n",
    "header = ['regions', 'technology','vintage', 'mean variable cost ($/bbl)']\n",
    "display(HTML(tabulate.tabulate(df_cost.set_index('regions'), header,  floatfmt=\".1f\" , tablefmt='html')))"
   ]
  },
  {
   "cell_type": "markdown",
   "metadata": {},
   "source": [
    "#### 1.1.3.3  Imported refinery products\n",
    "All the refinery products can also be directly 'imported' to a US consuming region, instead of the going through the refinery process. The costs associated with these products comes from the US Annual Energy Outlook (2020?)"
   ]
  },
  {
   "cell_type": "code",
   "execution_count": 13,
   "metadata": {
    "hide_input": true,
    "init_cell": true,
    "jupyter": {
     "source_hidden": true
    }
   },
   "outputs": [
    {
     "data": {
      "text/html": [
       "<table>\n",
       "<thead>\n",
       "<tr><th>regions  </th><th>technology   </th><th style=\"text-align: right;\">  vintage</th><th style=\"text-align: right;\">  mean variable cost ($/bbl)</th><th>description                                      </th></tr>\n",
       "</thead>\n",
       "<tbody>\n",
       "<tr><td>US       </td><td>IMPCOMDISTOIL</td><td style=\"text-align: right;\">     2020</td><td style=\"text-align: right;\">                       134.0</td><td>imported distillate oil to commercial sector     </td></tr>\n",
       "<tr><td>US       </td><td>IMPCOMLPG    </td><td style=\"text-align: right;\">     2020</td><td style=\"text-align: right;\">                       129.8</td><td>imported LPG to commercial sector                </td></tr>\n",
       "<tr><td>US       </td><td>IMPCOMRFO    </td><td style=\"text-align: right;\">     2020</td><td style=\"text-align: right;\">                        72.2</td><td>imported residual fuel oil to commercial sector  </td></tr>\n",
       "<tr><td>US       </td><td>IMPINDDFO    </td><td style=\"text-align: right;\">     2020</td><td style=\"text-align: right;\">                       133.1</td><td>imported distillate fuel oil to industrial sector</td></tr>\n",
       "<tr><td>US       </td><td>IMPINDGSL    </td><td style=\"text-align: right;\">     2020</td><td style=\"text-align: right;\">                       122.8</td><td>import of diesel fuel for the industrial sector  </td></tr>\n",
       "<tr><td>US       </td><td>IMPINDLPG    </td><td style=\"text-align: right;\">     2020</td><td style=\"text-align: right;\">                        98.7</td><td>imported LPG to industrial sector                </td></tr>\n",
       "<tr><td>US       </td><td>IMPINDRFO    </td><td style=\"text-align: right;\">     2020</td><td style=\"text-align: right;\">                        82.4</td><td>imported residual fuel oil to industrial sector  </td></tr>\n",
       "<tr><td>US       </td><td>IMPRESDISTOIL</td><td style=\"text-align: right;\">     2020</td><td style=\"text-align: right;\">                       156.7</td><td>imported distillate oil to residential sector    </td></tr>\n",
       "<tr><td>US       </td><td>IMPRESKER    </td><td style=\"text-align: right;\">     2020</td><td style=\"text-align: right;\">                       143.1</td><td>imported kerosene to residential sector          </td></tr>\n",
       "<tr><td>US       </td><td>IMPRESLPG    </td><td style=\"text-align: right;\">     2020</td><td style=\"text-align: right;\">                       185.6</td><td>imported LPG to residential sector               </td></tr>\n",
       "<tr><td>US       </td><td>IMPTRNDSL    </td><td style=\"text-align: right;\">     2020</td><td style=\"text-align: right;\">                       124.6</td><td>imported diesel to transport                     </td></tr>\n",
       "<tr><td>US       </td><td>IMPTRNGAS    </td><td style=\"text-align: right;\">     2020</td><td style=\"text-align: right;\">                       161.8</td><td>import of pure gasoline                          </td></tr>\n",
       "<tr><td>US       </td><td>IMPTRNJTF    </td><td style=\"text-align: right;\">     2020</td><td style=\"text-align: right;\">                   6011731.9</td><td>imported jet fuel to transport                   </td></tr>\n",
       "<tr><td>US       </td><td>IMPTRNLPG    </td><td style=\"text-align: right;\">     2020</td><td style=\"text-align: right;\">                       134.4</td><td>imported LPG to transport                        </td></tr>\n",
       "<tr><td>US       </td><td>IMPTRNMGO    </td><td style=\"text-align: right;\">     2020</td><td style=\"text-align: right;\">                       114.2</td><td>imported marine gas oil                          </td></tr>\n",
       "<tr><td>US       </td><td>IMPTRNRFO    </td><td style=\"text-align: right;\">     2020</td><td style=\"text-align: right;\">                        66.1</td><td>imported residual fuel oil to transport          </td></tr>\n",
       "</tbody>\n",
       "</table>"
      ],
      "text/plain": [
       "<IPython.core.display.HTML object>"
      ]
     },
     "metadata": {},
     "output_type": "display_data"
    }
   ],
   "source": [
    "df_cost = pd.read_sql(\"SELECT * FROM CostVariable WHERE tech IN (SELECT DISTINCT(tech) FROM technologies WHERE  sector='supply')\\\n",
    "AND tech LIKE 'IMP%' AND (tech LIKE '%OIL' OR tech LIKE '%RFO' OR tech LIKE '%DFO' OR tech LIKE '%LPG' OR tech LIKE '%DSL' \\\n",
    "OR tech LIKE '%GAS' OR tech LIKE '%KER' OR tech LIKE '%GSL' OR tech LIKE '%JTF' OR tech LIKE '%MGO')\", con)\n",
    "df_cost['cost_variable'] *= PJ_per_oil_bbl*10**6\n",
    "df_tech = pd.read_sql(\"SELECT tech, tech_desc FROM technologies\", con)\n",
    "df_cost = df_cost.groupby(by=['regions', 'tech', 'vintage']).mean().reset_index().drop('periods', axis=1)\n",
    "df_cost = df_cost.merge(df_tech, on='tech')\n",
    "df_cost['tech_desc'] = df_cost['tech_desc'].str.replace('#','')\n",
    "header = ['regions', 'technology','vintage', 'mean variable cost ($/bbl)', 'description']\n",
    "display(HTML(tabulate.tabulate(df_cost.set_index('regions'), header,  floatfmt=\".1f\" , tablefmt='html')))"
   ]
  },
  {
   "cell_type": "markdown",
   "metadata": {},
   "source": [
    "# 2. Technology/commodity description lookup tool <a class=\"anchor\" id=\"description_look_up\"></a>\n",
    "Use the tool below to search for any key words that may describe a technology or commodity of interest (e.g. heating, cooling). The tool provides a list of all the technologies or commodities in the database that may be relevant to the query.\n"
   ]
  },
  {
   "cell_type": "code",
   "execution_count": 14,
   "metadata": {
    "hide_input": true,
    "init_cell": true
   },
   "outputs": [
    {
     "data": {
      "application/vnd.jupyter.widget-view+json": {
       "model_id": "299a72307ecc4fad8632a510ef119325",
       "version_major": 2,
       "version_minor": 0
      },
      "text/plain": [
       "Text(value='Crude oil')"
      ]
     },
     "metadata": {},
     "output_type": "display_data"
    },
    {
     "data": {
      "application/vnd.jupyter.widget-view+json": {
       "model_id": "5774624ff0e54eaa9218a54eb519258d",
       "version_major": 2,
       "version_minor": 0
      },
      "text/plain": [
       "Output()"
      ]
     },
     "metadata": {},
     "output_type": "display_data"
    }
   ],
   "source": [
    "w = widgets.Text(value='Crude oil')\n",
    "display(w)\n",
    "def f(w):\n",
    "    if len(w)>0:\n",
    "        df1 = pd.read_sql(\"SELECT * FROM commodities WHERE comm_desc LIKE '%\" + w + \"%'\", con)\n",
    "        df1['desc'] = df1['comm_desc'].str.replace('#','').str.strip()\n",
    "        df1['comm_tech'] = df1['comm_name']\n",
    "        df1['type'] = 'commodity'\n",
    "\n",
    "        df2 = pd.read_sql(\"SELECT * FROM technologies WHERE tech_desc LIKE '%\" + w + \"%'\", con)\n",
    "        df2['desc'] = df2['tech_desc'].str.replace('#','').str.strip()\n",
    "        df2['comm_tech'] = df2['tech']\n",
    "        df2['type'] = 'technology'\n",
    "\n",
    "\n",
    "        df = pd.concat([df1[['comm_tech','type','desc']], df2[['comm_tech','type','desc']]])\n",
    "        \n",
    "        if len(df)>0:\n",
    "            display(HTML(tabulate.tabulate(df.set_index('comm_tech'),['technology/commodity','type','description'],stralign='left',tablefmt='html')))\n",
    "        else:\n",
    "            print('')\n",
    "    else:\n",
    "        print('')\n",
    "            \n",
    "\n",
    "\n",
    "out = widgets.interactive_output(f, {'w': w})\n",
    "display(out)"
   ]
  },
  {
   "cell_type": "markdown",
   "metadata": {
    "hide_input": false
   },
   "source": [
    "# 3. Network diagram lookup tool  <a class=\"anchor\" id=\"network_look_up\"></a>\n",
    "Use the [description lookup tool](#description_look_up) above to identify specific commodity or technology names. Type the name in the box below to generate a corresponding network diagram for that commodity or technology. The slider can be used to view different upstream levels of the network diagram."
   ]
  },
  {
   "cell_type": "code",
   "execution_count": 15,
   "metadata": {
    "hide_input": true,
    "init_cell": true
   },
   "outputs": [
    {
     "data": {
      "application/vnd.jupyter.widget-view+json": {
       "model_id": "20c833b0b3464545929cb30e2d111f47",
       "version_major": 2,
       "version_minor": 0
      },
      "text/plain": [
       "Text(value='OIL')"
      ]
     },
     "metadata": {},
     "output_type": "display_data"
    },
    {
     "data": {
      "application/vnd.jupyter.widget-view+json": {
       "model_id": "c4b9427d030f48f4a5465f8ba3369dbc",
       "version_major": 2,
       "version_minor": 0
      },
      "text/plain": [
       "Output()"
      ]
     },
     "metadata": {},
     "output_type": "display_data"
    }
   ],
   "source": [
    "w = widgets.Text(value='OIL')\n",
    "display(w)\n",
    "def f(w):\n",
    "    if len(w)>0:\n",
    "        \n",
    "        df1 = pd.read_sql(\"SELECT comm_name, comm_desc FROM commodities WHERE comm_name='\" + w + \"'\", con)\n",
    "        df1['desc'] = df1['comm_desc'].str.replace('#','').str.strip()\n",
    "        df1['comm_tech'] = df1['comm_name']\n",
    "        df1['type'] = 'commodity'\n",
    "\n",
    "        df2 = pd.read_sql(\"SELECT * FROM technologies WHERE tech='\" + w + \"'\", con)\n",
    "        df2['desc'] = df2['tech_desc'].str.replace('#','').str.strip()\n",
    "        df2['comm_tech'] = df2['tech']\n",
    "        df2['type'] = 'technology'\n",
    "\n",
    "        df = pd.concat([df1[['comm_tech','type','desc']], df2[['comm_tech','type','desc']]])\n",
    "\n",
    "    \n",
    "        if len(df)>0:\n",
    "            def show_desc(level):\n",
    "                display(Markdown(df['desc'][0]))\n",
    "                final_dem = df['comm_tech'][0]\n",
    "                df_graph = return_flowd_table(final_dem,level)\n",
    "                args = create_args_flowd(df_graph)\n",
    "                colors, quick_run_dot_fmt = return_format_colors()\n",
    "                args.update(colors)\n",
    "                #o_str = 'rankdir = \"LR\" ;'\n",
    "                #r_str = 'rankdir = \"LR\" ; \\n\\t size=\"8,8\";'\n",
    "                #quick_run_dot_fmt = quick_run_dot_fmt.replace(o_str, r_str)\n",
    "                dot_graph = quick_run_dot_fmt % args\n",
    "                display(graphviz.Source(dot_graph))\n",
    "            w2 = widgets.IntSlider(value=1,min=0,max=10,step=1,description='Level:',disabled=False,continuous_update=True,orientation='horizontal',readout=True,readout_format='d')\n",
    "            w = widgets.interactive(show_desc, level=w2)\n",
    "            controls_rows(w)\n",
    "        else:\n",
    "            print('')\n",
    "\n",
    "    else:\n",
    "        print('')\n",
    "            \n",
    "\n",
    "\n",
    "out = widgets.interactive_output(f, {'w': w})\n",
    "display(out)"
   ]
  }
 ],
 "metadata": {
  "celltoolbar": "Initialization Cell",
  "kernelspec": {
   "display_name": "Python 3",
   "language": "python",
   "name": "python3"
  },
  "language_info": {
   "codemirror_mode": {
    "name": "ipython",
    "version": 3
   },
   "file_extension": ".py",
   "mimetype": "text/x-python",
   "name": "python",
   "nbconvert_exporter": "python",
   "pygments_lexer": "ipython3",
   "version": "3.7.3"
  }
 },
 "nbformat": 4,
 "nbformat_minor": 4
}
