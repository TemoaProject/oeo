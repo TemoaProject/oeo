{
 "cells": [
  {
   "cell_type": "code",
   "execution_count": 138,
   "metadata": {
    "hide_input": true,
    "init_cell": true,
    "jupyter": {
     "source_hidden": true
    }
   },
   "outputs": [],
   "source": [
    "import pandas as pd\n",
    "import numpy as np\n",
    "import os\n",
    "import sqlite3\n",
    "import shutil\n",
    "import datetime\n",
    "import matplotlib.pyplot as plt\n",
    "from matplotlib.ticker import MaxNLocator\n",
    "from IPython.display import HTML, display, Markdown\n",
    "import tabulate\n",
    "import ipywidgets as widgets\n",
    "from ipywidgets import HBox, VBox, Layout\n",
    "import graphviz\n",
    "from GraphVizUtil import *\n",
    "from GraphVizFormats import *\n",
    "import warnings\n",
    "warnings.filterwarnings('ignore')\n",
    "import seaborn as sb\n",
    "sb.set(style='darkgrid', font_scale=1.2)\n",
    "\n",
    "def filter_descriptions(tech_comm_desc):\n",
    "    try:\n",
    "        tech_comm_desc = tech_comm_desc.values[0][0].replace('#', '').replace('\"','').replace(\"\\n\",'').strip()\n",
    "    except:\n",
    "        tech_comm_desc = 'No description provided'\n",
    "    return tech_comm_desc\n",
    "\n",
    "def create_args_flowd(df_graph):\n",
    "    nodes, tech, ltech, to_tech, from_tech = set(), set(), set(), set(), set()\n",
    "    for ind,row in df_graph.iterrows():\n",
    "        #descriptions:\n",
    "        input_comm_des = filter_descriptions(pd.read_sql(\"SELECT comm_desc FROM commodities WHERE comm_name='\" + row['input_comm'] + \"'\", con))\n",
    "        output_comm_des = filter_descriptions(pd.read_sql(\"SELECT comm_desc FROM commodities WHERE comm_name='\" + row['output_comm'] + \"'\", con))\n",
    "        tech_des = filter_descriptions(pd.read_sql(\"SELECT tech_desc FROM technologies WHERE tech='\" + row['tech'] + \"'\", con))\n",
    "\n",
    "        if 'ethos' in row['input_comm']:\n",
    "            ltech.add('\"' + row['tech'] + '\"' +  ' [tooltip = \"' + tech_des + '\"]')\n",
    "        else :\n",
    "            nodes.add('\"' + row['input_comm'] + '\"' +  ' [tooltip = \"' + input_comm_des + '\"]')\n",
    "        nodes.add('\"' + row['output_comm'] + '\"' +  ' [tooltip = \"' + output_comm_des + '\"]')\n",
    "        tech.add('\"' + row['tech'] + '\"' +  ' [tooltip = \"' + tech_des + '\"]')\n",
    "\n",
    "        if row['input_comm'] != 'ethos':\n",
    "            to_tech.add('\"%s\"' % row['input_comm'] + '\\t->\\t\"%s\"' % row['tech']) \n",
    "        from_tech.add('\"%s\"' % row['tech'] + '\\t->\\t\"%s\"' % row['output_comm'])\n",
    "    args = dict(\n",
    "    enodes = \"\".join('%s;\\n\\t\\t' % x for x in nodes),\n",
    "    tnodes = \"\".join('%s;\\n\\t\\t' % x for x in tech),\n",
    "    iedges = \"\".join('%s;\\n\\t\\t' % x for x in to_tech),\n",
    "    oedges = \"\".join('%s;\\n\\t\\t' % x for x in from_tech),\n",
    "    snodes = \";\".join('%s' %x for x in ltech),\n",
    "    )\n",
    "    return args\n",
    "\n",
    "def return_format_colors():\n",
    "    colors = {}\n",
    "    colors.update(getColorConfig(False))\n",
    "    return colors, quick_run_dot_fmt\n",
    "\n",
    "def return_flowd_table(final_dem, level=1):\n",
    "    df = pd.read_sql(\"SELECT * FROM Efficiency\", con)\n",
    "    df_sel = df[df['output_comm']==final_dem]\n",
    "    if len(df_sel)==0:\n",
    "        df_sel = df[df['tech']==final_dem]\n",
    "    inputs = df_sel['input_comm'].unique()\n",
    "    iterval=0\n",
    "    if level!=0:\n",
    "        while len(inputs)>0:\n",
    "            df_append = df[df['output_comm'].isin(inputs)]\n",
    "            df_sel = pd.concat([df_sel, df_append])\n",
    "            inputs = df_append['input_comm'].unique()\n",
    "            iterval+=1\n",
    "            if iterval>level-1:\n",
    "                break\n",
    "    df_graph = df_sel[['input_comm', 'tech', 'output_comm']].drop_duplicates()\n",
    "    return df_graph\n",
    "\n",
    "def return_flowd_table_fwds(final_dem):\n",
    "    df = pd.read_sql(\"SELECT * FROM Efficiency\", con)\n",
    "    df_sel = df[df['output_comm']==final_dem]\n",
    "    if len(df_sel)==0:\n",
    "        df_sel = df[df['tech']==final_dem]\n",
    "    inputs = df_sel['input_comm'].unique()\n",
    "    outputs = df_sel['output_comm'].unique()\n",
    "\n",
    "    iterval=0\n",
    "    while len(inputs)>0:\n",
    "        df_append = df[df['output_comm'].isin(inputs)]\n",
    "        df_sel = pd.concat([df_sel, df_append])\n",
    "        inputs = df_append['input_comm'].unique()\n",
    "        iterval+=1\n",
    "        if iterval>2:\n",
    "            break\n",
    "    iterval=0\n",
    "    while len(outputs)>0:\n",
    "        df_append = df[df['input_comm'].isin(outputs)]\n",
    "        df_sel = pd.concat([df_sel, df_append])\n",
    "        outputs = df_append['output_comm'].unique()\n",
    "        iterval+=1\n",
    "        if iterval>=0:\n",
    "            break\n",
    "\n",
    "    df_graph = df_sel[['input_comm', 'tech', 'output_comm']].drop_duplicates()\n",
    "    return df_graph\n",
    "\n",
    "con = sqlite3.connect(r'../US_1R_TS_NG_supply.sqlite') #change path to database\n",
    "cur = con.cursor()   \n",
    "con.text_factory = str \n",
    "\n",
    "def controls_rows(w):\n",
    "    controls = HBox(w.children[:-1], layout = Layout(flex_flow='row wrap', width='max-content'))\n",
    "    output = w.children[-1]\n",
    "    display(VBox([controls, output],  layout = Layout(flex_flow='columns wrap', width='max-content', size=10)))\n",
    "    \n",
    "#https://www.eia.gov/energyexplained/units-and-calculators/\n",
    "btu_per_oil_bbl = 5698000\n",
    "PJ_per_oil_bbl = btu_per_oil_bbl*1.05506e-12"
   ]
  },
  {
   "cell_type": "markdown",
   "metadata": {},
   "source": [
    "# Introduction\n",
    "The fuel supply sector consists of commodities and technologies that provide refined petroleum products, coal, natural gas and biomass resources to the energy modeling system. These resources are discussed separately in the sections that follow."
   ]
  },
  {
   "cell_type": "markdown",
   "metadata": {},
   "source": [
    "## Natural gas\n",
    "The natural gas sector is characterized by gas production and pipeline transport to the US consuming regions. In the current database, we assume a single region that can supply natural gas that can be transported to the different OEO regions. Note that the current representation is embedded in the single region OEO database (US_1R_TS.sql) and will be added to the 9-region OEO database (US_Regional.sql) soon."
   ]
  },
  {
   "cell_type": "markdown",
   "metadata": {},
   "source": [
    "### Natural gas supply\n",
    "Global natural gas resources are represented by data from \n",
    "<a href=\"https://www.nature.com/articles/s41467-020-17679-3\" rel=\"nofollow\">Pye et al. (2020)</a>, specifically from the data reported in the supplementary materials used to develop Supp Figure 20. Natural gas resources are divided into 7 different types as shown in the table below. \n",
    "\n",
    "|Code| Crude resource type|\n",
    "| :--- | :--- |\n",
    "|1\t|Conventional proved reserves|\n",
    "|2\t|Conventional reserve additions|\n",
    "|3\t|Conventional new discovery|\n",
    "|4\t|Arctic|\n",
    "|5\t|Shale gas|\n",
    "|6\t|Tight gas|\n",
    "|7\t|Coal bed methane|\n",
    "\n",
    "The UCL dataset represents cumulative gas resources across 16 world regions. Here, we only focus on resources in the US, since we assume the US will remain a net exporter of gas given current levels of supply. The figure below shows resource curve for the United States. Each 'step' in the curve refers to a type gas of resource within the US, at a specific supply cost and associated total resource available. Each resource type is split into three different steps with differing costs and resource estimates. Therefore, this resource curve consists of 21 distinct steps, ordered by increasing costs."
   ]
  },
  {
   "cell_type": "code",
   "execution_count": 139,
   "metadata": {
    "hide_input": true,
    "init_cell": true,
    "jupyter": {
     "source_hidden": true
    },
    "scrolled": false
   },
   "outputs": [
    {
     "data": {
      "image/png": "[encoded data removed]",
      "text/plain": [
       "<Figure size 720x576 with 1 Axes>"
      ]
     },
     "metadata": {},
     "output_type": "display_data"
    }
   ],
   "source": [
    "def oil_supply_curve(con):\n",
    "    df = pd.read_sql(\"SELECT * FROM MaxResource WHERE regions LIKE 'US%' AND tech LIKE 'IMPGAS%'\", con)\n",
    "    df_costs = pd.read_sql(\"SELECT * FROM CostVariable WHERE regions LIKE 'US%' AND tech LIKE 'IMPGAS%'\", con)\n",
    "    df = df.merge(df_costs[['regions','tech','periods', 'cost_variable']], on=['regions', 'tech']).drop(columns='periods')\n",
    "    df = df.drop_duplicates()\n",
    "    df['maxres'] /=1000\n",
    "\n",
    "    cb = dict()\n",
    "    cb['Conventional Proved reserves'] = '#fff7fb'\n",
    "    cb['Conventional Reserve additions'] = '#ece2f0'\n",
    "    cb['Conventional new discovery'] = '#d0d1e6'\n",
    "    cb['Arctic'] = '#a6bddb'\n",
    "    cb['Shale gas'] = '#67a9cf'\n",
    "    cb['Tight gas'] = '#3690c0'\n",
    "    cb['Coal bed methane'] = '#02818a'\n",
    "    \n",
    "    res_map = dict()\n",
    "    res_map['Conventional Proved reserves'] = 1\n",
    "    res_map['Conventional Reserve additions'] = 2\n",
    "    res_map['Conventional new discovery'] = 3\n",
    "    res_map['Arctic'] = 4\n",
    "    res_map['Shale gas'] = 5\n",
    "    res_map['Tight gas'] = 6\n",
    "    res_map['Coal bed methane'] = 7\n",
    "    \n",
    "    res_map_rev = dict((v,k) for k, v in res_map.items())\n",
    "\n",
    "    fig, ax = plt.subplots(figsize=(10,8))\n",
    "    df_sel = df.copy()\n",
    "    df_sel.sort_values(by='cost_variable', inplace=True)\n",
    "    df_sel['maxres'] = df_sel['maxres'].cumsum()\n",
    "    start =0 \n",
    "    for ind, row in df_sel.iterrows():\n",
    "        x = start + (row['maxres']-start)/2\n",
    "        plt.bar(x, row['cost_variable'] , width=row['maxres']-start, color=cb[row['maxres_notes'].split('_')[1]], \\\n",
    "                label=row['maxres_notes'].split('_')[1])\n",
    "        start = row['maxres']\n",
    "    plt.legend()\n",
    "    handles, labels = ax.get_legend_handles_labels()\n",
    "    labels = [res_map[x] for x in labels]\n",
    "    unique = [(h, l) for i, (h, l) in enumerate(zip(handles, labels)) if l not in labels[:i]]\n",
    "    unique.sort(key = lambda x: x[1])\n",
    "    unique2=[]\n",
    "    for i in np.arange(len(unique)):\n",
    "        unique2.append((unique[i][0], res_map_rev[unique[i][1]]))\n",
    "    ax.legend(*zip(*unique2), frameon=False)\n",
    "\n",
    "    plt.ylabel('Supply costs ($M/PJ)')\n",
    "    plt.xlabel('Cumulative resource (EJ)')\n",
    "\n",
    "\n",
    "oil_supply_curve(con)"
   ]
  },
  {
   "cell_type": "markdown",
   "metadata": {},
   "source": [
    "#### Limits on annual crude oil production by resource step\n",
    "Each resource step in the US resource curve is assigned an annual production limit for the first time period of the model horizon. For resource steps that had historic production, this limit was assigned as the maximum of historic production between 2015 and 2020. For all other resource steps, a seed value of 0.1% (0.5% over 5 years) of the cumulative resource in that step was used, based on assumptions in <a href=\"https://discovery.ucl.ac.uk/id/eprint/1418473/2/131106%20Christophe%20McGlade_PhD%20Thesis.pdf\" rel=\"nofollow\">McGlade 2013.</a> These limits can be revisited if further data are made available.\n",
    "\n",
    "Historic production is assigned to the cheapest resource step for each resource type. For example, while shale gas resources have 3 distinct steps in the resource curve, all historic production in the US assumed to apply to the cheapest (first) step of this resource category. All other steps are assumed to have no historic production and are therefore assigned a seed value of 0.1%\n",
    "\n",
    "Historic gas production for shale gas, conventional proved reserves, tight gas and coal bed methane were obtained from the <a href=\"https://www.eia.gov/dnav/ng/ng_prod_sum_dc_NUS_mmcf_a.htm\n",
    "\" rel=\"nofollow\">US EIA</a>. The maximum national historic production values between 2015 and 2020 were used as the annual limits for each resource step and are presented in the table below. "
   ]
  },
  {
   "cell_type": "code",
   "execution_count": 51,
   "metadata": {
    "hide_input": true
   },
   "outputs": [
    {
     "data": {
      "text/html": [
       "<table>\n",
       "<thead>\n",
       "<tr><th>Resource                    </th><th style=\"text-align: right;\">  Maximum historic production (PJ/year)</th></tr>\n",
       "</thead>\n",
       "<tbody>\n",
       "<tr><td>Shale gas                   </td><td style=\"text-align: right;\">                                  30386</td></tr>\n",
       "<tr><td>Conventional Proved reserves</td><td style=\"text-align: right;\">                                  10253</td></tr>\n",
       "<tr><td>Tight gas                   </td><td style=\"text-align: right;\">                                   7153</td></tr>\n",
       "<tr><td>Coal bed methane            </td><td style=\"text-align: right;\">                                   1298</td></tr>\n",
       "</tbody>\n",
       "</table>"
      ],
      "text/plain": [
       "<IPython.core.display.HTML object>"
      ]
     },
     "metadata": {},
     "output_type": "display_data"
    }
   ],
   "source": [
    "def growthseed(con):\n",
    "    df = pd.read_sql(\"SELECT * FROM GrowthRateSeed WHERE tech LIKE 'IMPGAS_%'\", con)\n",
    "    df.sort_values(by='growthrate_seed', inplace=True, ascending=False)\n",
    "    df = df.iloc[0:4,:]\n",
    "    df['growthrate_seed_notes'] = [x.split('_')[1] for x in df['growthrate_seed_notes']]\n",
    "    header = ['Resource' , 'Maximum historic production (PJ/year)']\n",
    "    display(HTML(tabulate.tabulate(df[['growthrate_seed_notes', 'growthrate_seed']].set_index('growthrate_seed_notes'), \\\n",
    "                                   header,  floatfmt=\".0f\" , tablefmt='html')))\n",
    "growthseed(con)"
   ]
  },
  {
   "cell_type": "markdown",
   "metadata": {},
   "source": [
    "#### Growth rate constraints on annual production\n",
    "\n",
    "As noted above, maximum annual production for each resource step in the first model time period is constrained to be the maximum historical production value or seed value. Those maximum production rates are relaxed over time using growth rates. Maximum annual growth rate values were assigned to each resource step based on crude oil type, using assumptions outlined in the  <a href=\"https://static-content.springer.com/esm/art%3A10.1038%2Fs41467-020-17679-3/MediaObjects/41467_2020_17679_MOESM1_ESM.pdf\" rel=\"nofollow\">supplementary information in Pye et al. (2020)</a>, Table 11b."
   ]
  },
  {
   "cell_type": "code",
   "execution_count": 59,
   "metadata": {
    "hide_input": true,
    "scrolled": false
   },
   "outputs": [
    {
     "data": {
      "text/html": [
       "<table>\n",
       "<thead>\n",
       "<tr><th>Region                        </th><th style=\"text-align: right;\">  Maximum growth rate</th></tr>\n",
       "</thead>\n",
       "<tbody>\n",
       "<tr><td>Coal bed methane              </td><td style=\"text-align: right;\">                 1.12</td></tr>\n",
       "<tr><td>Tight gas                     </td><td style=\"text-align: right;\">                 1.12</td></tr>\n",
       "<tr><td>Arctic                        </td><td style=\"text-align: right;\">                 1.12</td></tr>\n",
       "<tr><td>Shale gas                     </td><td style=\"text-align: right;\">                 1.27</td></tr>\n",
       "<tr><td>Conventional Proved reserves  </td><td style=\"text-align: right;\">                 1.41</td></tr>\n",
       "<tr><td>Conventional Reserve additions</td><td style=\"text-align: right;\">                 1.41</td></tr>\n",
       "<tr><td>Conventional new discovery    </td><td style=\"text-align: right;\">                 1.41</td></tr>\n",
       "</tbody>\n",
       "</table>"
      ],
      "text/plain": [
       "<IPython.core.display.HTML object>"
      ]
     },
     "metadata": {},
     "output_type": "display_data"
    }
   ],
   "source": [
    "def regional_growthmax(con):\n",
    "    df = pd.read_sql(\"SELECT * FROM GrowthRateMax WHERE tech LIKE 'IMPGAS%'\", con)\n",
    "    df['growthrate_max_notes'] = [x.split('_')[1] for x in df['growthrate_max_notes']]\n",
    "    df.drop_duplicates(subset=['growthrate_max_notes', 'growthrate_max'], inplace=True)\n",
    "    df.sort_values(by='growthrate_max', inplace=True)\n",
    "    header = ['Region' , 'Maximum growth rate']\n",
    "    display(HTML(tabulate.tabulate(df[['growthrate_max_notes', 'growthrate_max']].set_index('growthrate_max_notes'), \\\n",
    "                                   header,  floatfmt=\".2f\" , tablefmt='html')))\n",
    "regional_growthmax(con)"
   ]
  },
  {
   "cell_type": "markdown",
   "metadata": {},
   "source": [
    "#### Emissions from natural gas supply\n",
    "The CO2 combustion emissions factor is assumed to be 50 kt/PJ for all natural gas categories, while the upstream emissions are assumed to be 13.8 kt/PJ based on <a href= \"https://www.science.org/doi/abs/10.1126/science.aar7204\" rel=\"nofollow\">Alvarez et al (2018)</a>."
   ]
  },
  {
   "cell_type": "markdown",
   "metadata": {},
   "source": [
    "### Cost adders by energy sector\n",
    "The resources curves described earlier focus on costs relating to natural gas production only. These costs are typically lower than the market prices seen in each energy sector, and therefore we utilize sector-specific cost-adders to approximately represent natural gas prices in each sector. We approximate the cost adder for each sector as the difference between Henry Hub prices and sector-level natural gas prices projected in the <a href=\"https://www.eia.gov/outlooks/aeo/data/browser/#/?id=13-AEO2021&cases=ref2021~aeo2020ref&sourcekey=0\" rel=\"nofollow\">AEO 2021</a>."
   ]
  },
  {
   "cell_type": "code",
   "execution_count": 140,
   "metadata": {
    "hide_input": true,
    "init_cell": true
   },
   "outputs": [
    {
     "data": {
      "image/png": "[encoded data removed]",
      "text/plain": [
       "<Figure size 576x432 with 1 Axes>"
      ]
     },
     "metadata": {},
     "output_type": "display_data"
    }
   ],
   "source": [
    "def plot_cost_adders(con):\n",
    "    techs = dict()\n",
    "    techs['IMPINDNG'] = 'Industry'\n",
    "    techs['IMPRESNGA'] = 'Residential'\n",
    "    techs['IMPCOMNGA'] = 'Commercial'\n",
    "    techs['IMPELCNGA_S3'] = 'Electric'\n",
    "    techs['IMPTRNLNG'] = 'Transport - LNG'\n",
    "    techs['IMPTRNCNG'] = 'Transport - CNG'\n",
    "\n",
    "    df = pd.read_sql(\"SELECT * FROM CostVariable WHERE tech IN ('\" + \"','\".join(techs.keys()) + \"')\", con)\n",
    "    df_plot = df.pivot_table(values='cost_variable', index='periods', columns='tech')\n",
    "    df_plot.columns = df_plot.columns.map(techs)\n",
    "    fig, ax = plt.subplots(figsize=(8,6))\n",
    "    df_plot.plot(ax=ax)\n",
    "    plt.legend(frameon=False, loc= 'upper right')\n",
    "    plt.xlabel('')\n",
    "    plt.xlim(2020,2050)\n",
    "    plt.ylim([0, 15])\n",
    "    plt.ylabel('Natural gas cost adder ($M/PJ)')\n",
    "    plt.tight_layout()\n",
    "plot_cost_adders(con)"
   ]
  },
  {
   "cell_type": "markdown",
   "metadata": {
    "hide_input": true
   },
   "source": [
    "### Natural gas demand for exports\n",
    "In 2020, the US imported 2.5 Tcf <a href= \"https://www.eia.gov/dnav/ng/ng_move_impc_s1_a.htm\" rel=\"nofollow\">(US EIA)</a> and exported 5.2 Tcf <a href= \"https://www.eia.gov/dnav/ng/ng_move_expc_s1_a.htm\" rel=\"nofollow\">(US EIA)</a>, with net exports of 2.7 Tcf. As a placeholder, this international net exports demand is assumed to remain constant through from 2020 to 2050 in our modeling framework."
   ]
  },
  {
   "cell_type": "markdown",
   "metadata": {},
   "source": [
    "# Technology/commodity description lookup tool <a class=\"anchor\" id=\"description_look_up\"></a>\n",
    "Use the tool below to search for any key words that may describe a technology or commodity of interest (e.g. heating, cooling). The tool provides a list of all the technologies or commodities in the database that may be relevant to the query.\n"
   ]
  },
  {
   "cell_type": "code",
   "execution_count": 141,
   "metadata": {
    "hide_input": false,
    "init_cell": true
   },
   "outputs": [
    {
     "data": {
      "application/vnd.jupyter.widget-view+json": {
       "model_id": "c155f05613564f63aab16b35bddaa02e",
       "version_major": 2,
       "version_minor": 0
      },
      "text/plain": [
       "Text(value='natural gas commodity')"
      ]
     },
     "metadata": {},
     "output_type": "display_data"
    },
    {
     "data": {
      "application/vnd.jupyter.widget-view+json": {
       "model_id": "eb86eeb37361430481860432e8ced7f1",
       "version_major": 2,
       "version_minor": 0
      },
      "text/plain": [
       "Output()"
      ]
     },
     "metadata": {},
     "output_type": "display_data"
    }
   ],
   "source": [
    "w = widgets.Text(value='natural gas commodity')\n",
    "display(w)\n",
    "def f(w):\n",
    "    if len(w)>0:\n",
    "        df1 = pd.read_sql(\"SELECT * FROM commodities WHERE comm_desc LIKE '%\" + w + \"%'\", con)\n",
    "        df1['desc'] = df1['comm_desc'].str.replace('#','').str.strip()\n",
    "        df1['comm_tech'] = df1['comm_name']\n",
    "        df1['type'] = 'commodity'\n",
    "\n",
    "        df2 = pd.read_sql(\"SELECT * FROM technologies WHERE tech_desc LIKE '%\" + w + \"%'\", con)\n",
    "        df2['desc'] = df2['tech_desc'].str.replace('#','').str.strip()\n",
    "        df2['comm_tech'] = df2['tech']\n",
    "        df2['type'] = 'technology'\n",
    "\n",
    "\n",
    "        df = pd.concat([df1[['comm_tech','type','desc']], df2[['comm_tech','type','desc']]])\n",
    "        \n",
    "        if len(df)>0:\n",
    "            display(HTML(tabulate.tabulate(df.set_index('comm_tech'),['technology/commodity','type','description'],stralign='left',tablefmt='html')))\n",
    "        else:\n",
    "            print('')\n",
    "    else:\n",
    "        print('')\n",
    "            \n",
    "\n",
    "\n",
    "out = widgets.interactive_output(f, {'w': w})\n",
    "display(out)"
   ]
  },
  {
   "cell_type": "markdown",
   "metadata": {
    "hide_input": false
   },
   "source": [
    "# Network diagram lookup tool  <a class=\"anchor\" id=\"network_look_up\"></a>\n",
    "Use the [description lookup tool](#description_look_up) above to identify specific commodity or technology names. Type the name in the box below to generate a corresponding network diagram for that commodity or technology. The slider can be used to view different upstream levels of the network diagram."
   ]
  },
  {
   "cell_type": "code",
   "execution_count": 142,
   "metadata": {
    "hide_input": true,
    "init_cell": true
   },
   "outputs": [
    {
     "data": {
      "application/vnd.jupyter.widget-view+json": {
       "model_id": "18e755f813cf4062b3eabd2a7da1bedd",
       "version_major": 2,
       "version_minor": 0
      },
      "text/plain": [
       "Text(value='IMPCOMNGA')"
      ]
     },
     "metadata": {},
     "output_type": "display_data"
    },
    {
     "data": {
      "application/vnd.jupyter.widget-view+json": {
       "model_id": "b96ef50404fd421aa7eabeaec65a1477",
       "version_major": 2,
       "version_minor": 0
      },
      "text/plain": [
       "Output()"
      ]
     },
     "metadata": {},
     "output_type": "display_data"
    }
   ],
   "source": [
    "w = widgets.Text(value='IMPCOMNGA')\n",
    "display(w)\n",
    "def f(w):\n",
    "    if len(w)>0:\n",
    "        \n",
    "        df1 = pd.read_sql(\"SELECT comm_name, comm_desc FROM commodities WHERE comm_name='\" + w + \"'\", con)\n",
    "        df1['desc'] = df1['comm_desc'].str.replace('#','').str.strip()\n",
    "        df1['comm_tech'] = df1['comm_name']\n",
    "        df1['type'] = 'commodity'\n",
    "\n",
    "        df2 = pd.read_sql(\"SELECT * FROM technologies WHERE tech='\" + w + \"'\", con)\n",
    "        df2['desc'] = df2['tech_desc'].str.replace('#','').str.strip()\n",
    "        df2['comm_tech'] = df2['tech']\n",
    "        df2['type'] = 'technology'\n",
    "\n",
    "        df = pd.concat([df1[['comm_tech','type','desc']], df2[['comm_tech','type','desc']]])\n",
    "\n",
    "    \n",
    "        if len(df)>0:\n",
    "            def show_desc(level):\n",
    "                display(Markdown(df['desc'][0]))\n",
    "                final_dem = df['comm_tech'][0]\n",
    "                df_graph = return_flowd_table(final_dem,level)\n",
    "                args = create_args_flowd(df_graph)\n",
    "                colors, quick_run_dot_fmt = return_format_colors()\n",
    "                args.update(colors)\n",
    "                #o_str = 'rankdir = \"LR\" ;'\n",
    "                #r_str = 'rankdir = \"LR\" ; \\n\\t size=\"8,8\";'\n",
    "                #quick_run_dot_fmt = quick_run_dot_fmt.replace(o_str, r_str)\n",
    "                dot_graph = quick_run_dot_fmt % args\n",
    "                display(graphviz.Source(dot_graph))\n",
    "            w2 = widgets.IntSlider(value=1,min=0,max=10,step=1,description='Level:',disabled=False,continuous_update=True,orientation='horizontal',readout=True,readout_format='d')\n",
    "            w = widgets.interactive(show_desc, level=w2)\n",
    "            controls_rows(w)\n",
    "        else:\n",
    "            print('')\n",
    "\n",
    "    else:\n",
    "        print('')\n",
    "            \n",
    "\n",
    "\n",
    "out = widgets.interactive_output(f, {'w': w})\n",
    "display(out)"
   ]
  }
 ],
 "metadata": {
  "celltoolbar": "Initialization Cell",
  "kernelspec": {
   "display_name": "Python 3",
   "language": "python",
   "name": "python3"
  },
  "language_info": {
   "codemirror_mode": {
    "name": "ipython",
    "version": 3
   },
   "file_extension": ".py",
   "mimetype": "text/x-python",
   "name": "python",
   "nbconvert_exporter": "python",
   "pygments_lexer": "ipython3",
   "version": "3.7.3"
  },
  "toc": {
   "base_numbering": 1,
   "nav_menu": {},
   "number_sections": true,
   "sideBar": true,
   "skip_h1_title": false,
   "title_cell": "Table of Contents",
   "title_sidebar": "Contents",
   "toc_cell": false,
   "toc_position": {
    "height": "calc(100% - 180px)",
    "left": "10px",
    "top": "150px",
    "width": "302px"
   },
   "toc_section_display": true,
   "toc_window_display": true
  }
 },
 "nbformat": 4,
 "nbformat_minor": 4
}
