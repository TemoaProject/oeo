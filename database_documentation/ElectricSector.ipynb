{
 "cells": [
  {
   "cell_type": "code",
   "execution_count": 18,
   "metadata": {
    "hide_input": true,
    "init_cell": true,
    "jupyter": {
     "source_hidden": true
    },
    "scrolled": true
   },
   "outputs": [],
   "source": [
    "import pandas as pd\n",
    "import numpy as np\n",
    "import os\n",
    "import sqlite3\n",
    "import shutil\n",
    "import datetime\n",
    "import matplotlib.pyplot as plt\n",
    "import tabulate\n",
    "from IPython.display import HTML, display, Markdown\n",
    "import csv\n",
    "import unicodedata\n",
    "import getopt\n",
    "from ipywidgets import HBox, VBox, Layout\n",
    "\n",
    "import ipywidgets as widgets\n",
    "from ipywidgets import HBox, VBox, Layout\n",
    "import graphviz\n",
    "from GraphVizUtil import *\n",
    "from GraphVizFormats import *\n",
    "import warnings\n",
    "warnings.filterwarnings('ignore')\n",
    "import seaborn as sb\n",
    "sb.set(style='darkgrid', font_scale=1.2)\n",
    "\n",
    "def filter_descriptions(tech_comm_desc):\n",
    "    try:\n",
    "        tech_comm_desc = tech_comm_desc.values[0][0].replace('#', '').replace('\"','').replace(\"\\n\",'').strip()\n",
    "    except:\n",
    "        tech_comm_desc = 'No description provided'\n",
    "    return tech_comm_desc\n",
    "\n",
    "def create_args_flowd(df_graph):\n",
    "    nodes, tech, ltech, to_tech, from_tech = set(), set(), set(), set(), set()\n",
    "    for ind,row in df_graph.iterrows():\n",
    "        #descriptions:\n",
    "        input_comm_des = filter_descriptions(pd.read_sql(\"SELECT comm_desc FROM commodities WHERE comm_name='\" + row['input_comm'] + \"'\", con))\n",
    "        output_comm_des = filter_descriptions(pd.read_sql(\"SELECT comm_desc FROM commodities WHERE comm_name='\" + row['output_comm'] + \"'\", con))\n",
    "        tech_des = filter_descriptions(pd.read_sql(\"SELECT tech_desc FROM technologies WHERE tech='\" + row['tech'] + \"'\", con))\n",
    "\n",
    "        if 'ethos' in row['input_comm']:\n",
    "            ltech.add('\"' + row['tech'] + '\"' +  ' [tooltip = \"' + tech_des + '\"]')\n",
    "        else :\n",
    "            nodes.add('\"' + row['input_comm'] + '\"' +  ' [tooltip = \"' + input_comm_des + '\"]')\n",
    "        nodes.add('\"' + row['output_comm'] + '\"' +  ' [tooltip = \"' + output_comm_des + '\"]')\n",
    "        tech.add('\"' + row['tech'] + '\"' +  ' [tooltip = \"' + tech_des + '\"]')\n",
    "\n",
    "        if row['input_comm'] != 'ethos':\n",
    "            to_tech.add('\"%s\"' % row['input_comm'] + '\\t->\\t\"%s\"' % row['tech']) \n",
    "        from_tech.add('\"%s\"' % row['tech'] + '\\t->\\t\"%s\"' % row['output_comm'])\n",
    "    args = dict(\n",
    "    enodes = \"\".join('%s;\\n\\t\\t' % x for x in nodes),\n",
    "    tnodes = \"\".join('%s;\\n\\t\\t' % x for x in tech),\n",
    "    iedges = \"\".join('%s;\\n\\t\\t' % x for x in to_tech),\n",
    "    oedges = \"\".join('%s;\\n\\t\\t' % x for x in from_tech),\n",
    "    snodes = \";\".join('%s' %x for x in ltech),\n",
    "    )\n",
    "    return args\n",
    "\n",
    "\n",
    "def return_format_colors():\n",
    "    colors = {}\n",
    "    colors.update(getColorConfig(False))\n",
    "    return colors, quick_run_dot_fmt\n",
    "\n",
    "def return_flowd_table(final_dem, level=1):\n",
    "    df = pd.read_sql(\"SELECT * FROM Efficiency\", con)\n",
    "    df_sel = df[df['output_comm']==final_dem]\n",
    "    if len(df_sel)==0:\n",
    "        df_sel = df[df['tech']==final_dem]\n",
    "    inputs = df_sel['input_comm'].unique()\n",
    "    iterval=0\n",
    "    if level!=0:\n",
    "        while len(inputs)>0:\n",
    "            df_append = df[df['output_comm'].isin(inputs)]\n",
    "            df_sel = pd.concat([df_sel, df_append])\n",
    "            inputs = df_append['input_comm'].unique()\n",
    "            iterval+=1\n",
    "            if iterval>level-1:\n",
    "                break\n",
    "    df_graph = df_sel[['input_comm', 'tech', 'output_comm']].drop_duplicates()\n",
    "    return df_graph\n",
    "\n",
    "def return_flowd_table_fwds(final_dem):\n",
    "    df = pd.read_sql(\"SELECT * FROM Efficiency\", con)\n",
    "    df_sel = df[df['output_comm']==final_dem]\n",
    "    if len(df_sel)==0:\n",
    "        df_sel = df[df['tech']==final_dem]\n",
    "    inputs = df_sel['input_comm'].unique()\n",
    "    outputs = df_sel['output_comm'].unique()\n",
    "\n",
    "    iterval=0\n",
    "    while len(inputs)>0:\n",
    "        df_append = df[df['output_comm'].isin(inputs)]\n",
    "        df_sel = pd.concat([df_sel, df_append])\n",
    "        inputs = df_append['input_comm'].unique()\n",
    "        iterval+=1\n",
    "        if iterval>2:\n",
    "            break\n",
    "    iterval=0\n",
    "    while len(outputs)>0:\n",
    "        df_append = df[df['input_comm'].isin(outputs)]\n",
    "        df_sel = pd.concat([df_sel, df_append])\n",
    "        outputs = df_append['output_comm'].unique()\n",
    "        iterval+=1\n",
    "        if iterval>=0:\n",
    "            break\n",
    "\n",
    "    df_graph = df_sel[['input_comm', 'tech', 'output_comm']].drop_duplicates()\n",
    "    return df_graph\n",
    "\n",
    "con = sqlite3.connect(r'../US_9R_4D.sqlite') #change path to database\n",
    "cur = con.cursor()   \n",
    "con.text_factory = str \n",
    "\n",
    "def controls_rows(w):\n",
    "    controls = HBox(w.children[:-1], layout = Layout(flex_flow='row wrap', width='max-content'))\n",
    "    output = w.children[-1]\n",
    "    display(VBox([controls, output],  layout = Layout(flex_flow='columns wrap', width='max-content', size=10)))\n",
    "\n",
    "#map powerplant categories\n",
    "map_plants = dict()\n",
    "map_plants['COAL'] = 'Coal'\n",
    "map_plants['GEO'] = 'Geothermal'\n",
    "map_plants['BIO'] = 'Biomass'\n",
    "map_plants['HYD'] = 'Hydro'\n",
    "map_plants['NG'] = 'Natural Gas'\n",
    "map_plants['WND'] = 'Wind'\n",
    "map_plants['SOL'] = 'Solar'\n",
    "map_plants['URN'] = 'Nuclear'\n",
    "map_plants['Batt'] = 'Battery'\n",
    "\n",
    "col_order = ['Biomass','Geothermal','Hydro','Nuclear','Coal','Natural Gas','Solar','Wind','Hydrogen','Battery']"
   ]
  },
  {
   "cell_type": "markdown",
   "metadata": {},
   "source": [
    "### Electric Sector Overview <a class=\"anchor\" id=\"electric\"></a>\n",
    "The electric sector includes a representation of existing and new generation technologies, indexed by the region in which they are located. Thermal power plants include coal-fired steam, natural gas steam plants, open cycle and combined-cycle natural gas turbines with and without CCS, and light water nuclear reactors. Renewable sources include conventional hydro, centralized solar photovoltaics (PV), wind, biomass, and geothermal technologies.\n",
    "\n",
    "Data for the electric sector is  compiled using <a href=\"https://github.com/gschivley/PowerGenome\" rel=\"nofollow\">PowerGenome</a>, an open-source tool that allows users to create input datasets for power system capacity expansion models. PowerGenome primarily uses data from the National Renewable Energy Laboratory (NREL), the US Energy Information Administration (EIA) and the US Environmental Protection Agency (EPA). Much of these underlying data have been compiled by the Catalyst Cooperative's Public Utility Data Liberation Project <a href=\"https://github.com/catalyst-cooperative/pudl\" rel=\"nofollow\">(PUDL)</a> into a single SQLite database that PowerGenome uses.\n",
    "\n",
    "Using [PowerGenome](https://github.com/gschivley/PowerGenome), we experimented with the aggregation of balancing authorities (as defined by [EPA's Integrated Planning Model regions](https://www.epa.gov/sites/production/files/2019-03/documents/chapter_3_0.pdf)) into nine OEO regions, to develop the spatial representation for the electric sector shown in Figure 1. For all other sectors, we follow the spatial aggregation as shown in Figure 1 of the Overview notebook.\n",
    "\n",
    "<img src=\"documentation_images/IPM_regions_to_temoa_state_groups.jpg\" width=\"60%\"/>\n",
    "\n",
    "**Figure 1.** The nine US regions developed for the electric sector in the OEO input database, based on aggregations of IPM regions"
   ]
  },
  {
   "cell_type": "markdown",
   "metadata": {},
   "source": [
    "#### Generator clusters <a class=\"anchor\" id=\"gens_cluster\"></a>\n",
    "The following table presents an exhaustive list of all existing and new generation technologies included in the OEO input database."
   ]
  },
  {
   "cell_type": "code",
   "execution_count": 19,
   "metadata": {
    "hide_input": true,
    "init_cell": true,
    "jupyter": {
     "source_hidden": true
    }
   },
   "outputs": [
    {
     "data": {
      "text/markdown": [
       "**Table 1.** Electric generators in the OEO input database"
      ],
      "text/plain": [
       "<IPython.core.display.Markdown object>"
      ]
     },
     "metadata": {},
     "output_type": "display_data"
    },
    {
     "data": {
      "text/html": [
       "<table>\n",
       "<thead>\n",
       "<tr><th>Technology                  </th><th>Description                                                                                                                                                           </th></tr>\n",
       "</thead>\n",
       "<tbody>\n",
       "<tr><td>E_BECCS_N                   </td><td>bio-energy with carbon capture and storage                                                                                                                            </td></tr>\n",
       "<tr><td>E_BECCS_N_emissions         </td><td>linked process that produces emissions associated with BECCS                                                                                                          </td></tr>\n",
       "<tr><td>E_BIO_N                     </td><td>new bio-energy                                                                                                                                                        </td></tr>\n",
       "<tr><td>E_BIO_R                     </td><td>existing bio-energy                                                                                                                                                   </td></tr>\n",
       "<tr><td>E_Batt                      </td><td>battery storage                                                                                                                                                       </td></tr>\n",
       "<tr><td>E_Batt8hr                   </td><td>battery storage                                                                                                                                                       </td></tr>\n",
       "<tr><td>E_COALIGCC_N                </td><td>new coal IGCC power plant                                                                                                                                             </td></tr>\n",
       "<tr><td>E_COALSTM_R_1               </td><td>new pulverized coal steam power plant                                                                                                                                 </td></tr>\n",
       "<tr><td>E_COALSTM_R_2               </td><td>new pulverized coal steam power plant                                                                                                                                 </td></tr>\n",
       "<tr><td>E_COALSTM_R_3               </td><td>new pulverized coal steam power plant                                                                                                                                 </td></tr>\n",
       "<tr><td>E_COALSTM_R_4               </td><td>new pulverized coal steam power plant                                                                                                                                 </td></tr>\n",
       "<tr><td>E_COALUSC_90CCS_N           </td><td>new ultrasupercritical pulverized coal with 90% CCS power plant                                                                                                       </td></tr>\n",
       "<tr><td>E_COALUSC_90CCS_N_emissions </td><td>new ultrasupercritical pulverized coal with 90% CCS power plant                                                                                                       </td></tr>\n",
       "<tr><td>E_GEOB_N                    </td><td>new geothermal, hydro binary                                                                                                                                          </td></tr>\n",
       "<tr><td>E_GEOF_N                    </td><td>new geothermal, hydro flash                                                                                                                                           </td></tr>\n",
       "<tr><td>E_GEO_R                     </td><td>existing geothermal power plant                                                                                                                                       </td></tr>\n",
       "<tr><td>E_H2CC_N                    </td><td>hydrogen combustion in a combined cycle plants for electricity generation                                                                                             </td></tr>\n",
       "<tr><td>E_HYDCONV_R                 </td><td>existing conventional hydroelectric power plant                                                                                                                       </td></tr>\n",
       "<tr><td>E_HYDPS_R                   </td><td>existing pumped hydro storage                                                                                                                                         </td></tr>\n",
       "<tr><td>E_HYDSM_R                   </td><td>existing small hydroelectric power plant                                                                                                                              </td></tr>\n",
       "<tr><td>E_NGAACC_N                  </td><td>new natural gas advanced combined cycle power plant                                                                                                                   </td></tr>\n",
       "<tr><td>E_NGAACT_N                  </td><td>new natural gas advanced combustion turbine power plant                                                                                                               </td></tr>\n",
       "<tr><td>E_NGACC_CCS_N               </td><td>new natural gas combined cycle with CCS power plant                                                                                                                   </td></tr>\n",
       "<tr><td>E_NGACC_CCS_N_emissions     </td><td>linked process that produces emissions associated with NAGCC_CCS                                                                                                      </td></tr>\n",
       "<tr><td>E_NGACC_CCS_ZERO_N          </td><td>new natural gas combined cycle with 100% CCS power plant                                                                                                              </td></tr>\n",
       "<tr><td>E_NGACC_CCS_ZERO_N_emissions</td><td>new natural gas combined cycle with 100% CCS power plant                                                                                                              </td></tr>\n",
       "<tr><td>E_NGACC_R_1                 </td><td>existing natural gas combined cycle power plant, the portion of the whole combined cycle capacity which can change rate from 1 timeslice to another in the same season</td></tr>\n",
       "<tr><td>E_NGACC_R_2                 </td><td>existing natural gas combined cycle power plant, the portion of the whole combined cycle capacity which can change rate from 1 timeslice to another in the same season</td></tr>\n",
       "<tr><td>E_NGACC_R_3                 </td><td>existing natural gas combined cycle power plant, the portion of the whole combined cycle capacity which can change rate from 1 timeslice to another in the same season</td></tr>\n",
       "<tr><td>E_NGACC_R_4                 </td><td>existing natural gas combined cycle power plant, the portion of the whole combined cycle capacity which can change rate from 1 timeslice to another in the same season</td></tr>\n",
       "<tr><td>E_NGACT_R_1                 </td><td>existing natural gas combustion turbine power plant                                                                                                                   </td></tr>\n",
       "<tr><td>E_NGACT_R_2                 </td><td>existing natural gas combustion turbine power plant                                                                                                                   </td></tr>\n",
       "<tr><td>E_NGASTM_R_1                </td><td>existing natural gas steam power plant                                                                                                                                </td></tr>\n",
       "<tr><td>E_NGASTM_R_2                </td><td>existing natural gas steam power plant                                                                                                                                </td></tr>\n",
       "<tr><td>E_OFWND_N                   </td><td>new offshore wind, floating                                                                                                                                           </td></tr>\n",
       "<tr><td>E_SOLPVCEN_N_1              </td><td>new solar photovoltaic centralized power plant                                                                                                                        </td></tr>\n",
       "<tr><td>E_SOLPVCEN_N_2              </td><td>new solar photovoltaic centralized power plant                                                                                                                        </td></tr>\n",
       "<tr><td>E_SOLPVCEN_N_3              </td><td>new solar photovoltaic centralized power plant                                                                                                                        </td></tr>\n",
       "<tr><td>E_SOLPVENDUSE_N_1           </td><td>New solar PV in end-use sectors, the difference with E_SOLPVCEN_N is no variable cost (T&amp;D losses) assigned                                                           </td></tr>\n",
       "<tr><td>E_SOLPVENDUSE_N_2           </td><td>New solar PV in end-use sectors, the difference with E_SOLPVCEN_N is no variable cost (T&amp;D losses) assigned                                                           </td></tr>\n",
       "<tr><td>E_SOLPVENDUSE_N_3           </td><td>New solar PV in end-use sectors, the difference with E_SOLPVCEN_N is no variable cost (T&amp;D losses) assigned                                                           </td></tr>\n",
       "<tr><td>E_SOLPV_R                   </td><td>existing solar photovoltaic power plant                                                                                                                               </td></tr>\n",
       "<tr><td>E_SOLTHCEN_N                </td><td>new solar thermal centralized power plant                                                                                                                             </td></tr>\n",
       "<tr><td>E_TRANS_N                   </td><td>new electricity transmission                                                                                                                                          </td></tr>\n",
       "<tr><td>E_TRANS_R                   </td><td>electricity transmission                                                                                                                                              </td></tr>\n",
       "<tr><td>E_URNLWR_N                  </td><td>new nuclear LWR power plant                                                                                                                                           </td></tr>\n",
       "<tr><td>E_URNLWR_R_1                </td><td>existing nuclear LWR power plant                                                                                                                                      </td></tr>\n",
       "<tr><td>E_URNLWR_R_2                </td><td>existing nuclear LWR power plant                                                                                                                                      </td></tr>\n",
       "<tr><td>E_WND_N_1                   </td><td>new wind power plant                                                                                                                                                  </td></tr>\n",
       "<tr><td>E_WND_N_2                   </td><td>new wind power plant                                                                                                                                                  </td></tr>\n",
       "<tr><td>E_WND_N_3                   </td><td>new wind power plant                                                                                                                                                  </td></tr>\n",
       "<tr><td>E_WND_R                     </td><td>existing wind power plant                                                                                                                                             </td></tr>\n",
       "<tr><td>H2_STO150                   </td><td>hydrogen storage                                                                                                                                                      </td></tr>\n",
       "</tbody>\n",
       "</table>"
      ],
      "text/plain": [
       "<IPython.core.display.HTML object>"
      ]
     },
     "metadata": {},
     "output_type": "display_data"
    }
   ],
   "source": [
    "df = pd.read_sql(\"SELECT * FROM technologies WHERE sector='electric' ORDER BY tech\", con)\n",
    "df['tech_desc'] = df['tech_desc'].str.replace('#','')\n",
    "headers=[\"Technology\",\"Description\"]\n",
    "display(Markdown('**Table 1.** Electric generators in the OEO input database'))\n",
    "display(HTML(tabulate.tabulate(df[['tech','tech_desc']].set_index('tech'), headers, stralign='left',tablefmt='html')))"
   ]
  },
  {
   "cell_type": "markdown",
   "metadata": {},
   "source": [
    "##### Existing generators <a class=\"anchor\" id=\"exist_gens\"></a>\n",
    "\n",
    "Existing electricity sector operations in the modeled regions cannot be represented by individual generator operations due to computational issues. In order to develop a reduced-order representation of these generators that is tractably solved, [PowerGenome](https://github.com/gschivley/PowerGenome) uses k-means clustering techniques to aggregate existing generators into groups or clusters. The generators are grouped into clusters using four generator characteristics: nameplate capacity, heat rate, installation year, and fixed O&M costs.\n",
    "\n",
    "In each region, existing conventional coal steam and natural gas combined cycle (NGCC) plants are represented by 4 clusters each, natural gas combustion turbine (NGCT), natural gas steam turbine (NGST), nuclear, and conventional hydroelectric plants are represented by 2 clusters each, while all other technology types - biomass, geothermal, centralized solar photovoltaic, onshore wind - are represented by a single cluster each.\n",
    "\n",
    "##### New thermal generators <a class=\"anchor\" id=\"new_gens\"></a>\n",
    "\n",
    "New thermal generators are represented by a single cluster for every modeled year and include NGCC, NGCT, NGCC with 90% efficient carbon capture and storage (CCS), NGCC with 100% efficient CCS, geothermal (hydro binary and hydro flash technologies), coal integrated gasification combined cycle (IGCC), ultra-supercritical pulverized coal with 90% efficient CCS, biomass combined-cycle, and hydrogen combined-cycle. Data for these technologies are derived from the NREL Annual Technology Baseline (ATB) via PowerGenome, except for a few listed below: \n",
    "* *Hydrogen combined-cycle turbines (E_H2CC_N)*: Hydrogen at 100 bar pressure can be burned in combined-cycle turbines to produce electricity, which is assumed to have the same techno-economic characteristics as NGCC generators, but without any combustion emissions.\n",
    "* *Bio-energy with carbon capture and storage (E_BECCS_N)*: This technology representation comes from the original US EPA MARKAL database, and will be updated in the near-term.\n",
    "* *Hydrogen storage (H2_STO150)*: This technology representation comes from [Dowling et al, 2020](https://www.cell.com/joule/pdfExtended/S2542-4351(20)30325-1).\n",
    "\n",
    "In the near future, we plan to consider adding modular nuclear reactor technologies to the OEO input database as well, although this technology pathway is currently not reported in the NREL ATB.\n",
    "\n",
    "##### New renewable generator clusters <a class=\"anchor\" id=\"new_vre_gens\"></a>\n",
    "In all model regions, new utility solar PV and onshore wind capacities are represented by three clusters each, while offshore wind is represented by a single cluster in the CA, NW, NE regions. Techno-economic data for all renewable clusters of a single technology type (except for capacity factor and maximum available capacity) are identical and derived from the NREL ATB via PowerGenome. Further, PowerGenome uses k-means clustering to develop these groups, which differ by capacity factor and maximum available capacity in each region. This is explained in greater detail in [Section 1.5](#capfac).\n",
    "\n",
    "Although PowerGenome doesn't explicitly develop technology clusters for new residential-scale PV, we can use the tool to develop cost estimates (investment and O\\&M costs) for a single representative cluster, with underlying data from the NREL ATB. As an approximation, we use the capacity factors developed for the three utility PV clusters in each region to represent residential PV generation as well. Each cluster has the same cost estimates, as developed through PowerGenome. Residential PV annual generation is specified exogenously, with data from the [NREL dGen](https://maps.nrel.gov/dgen) model's Mid (PV cost) scenario - data available at the state level is aggregated to each of the nine OEO regions. This technology is assumed to have no other resource constraints.\n",
    " \n",
    "We also develop a single cluster of concentrating solar thermal technologies in the California and Southwestern US regions. In the NREL ATB, the [representative](https://atb.nrel.gov/electricity/2020/index.php?t=sc) technology is assumed to be a 100 MW molten salt power-tower with 10 hours of thermal energy storage, driven by Class 5 (excellent) resources. While NREL reports an average capacity factor of 64% for this technology pathway, we currently do not have any hourly capacity factor information available, and therefore we assume a constant 64% capacity factor across all time periods for now. \n",
    "\n",
    "The sections that follow provide details for the data used to generate the input database for the OEO.\n"
   ]
  },
  {
   "cell_type": "markdown",
   "metadata": {},
   "source": [
    "#### Costs <a class=\"anchor\" id=\"costs\"></a>\n",
    "Investment and operating costs of electric generators are drawn from the 2020 NREL ATB via PowerGenome. All costs are reported in 2018US$.\n",
    "\n",
    "While the ATB publishes data for a number of relevant scenarios, the following parameters are used to select data for the OEO input database.\n",
    "\n",
    "|Parameter | Value | Notes |\n",
    "| :----- | :-- |:--------- |\n",
    "|ATB Base Year | 2018 | |\n",
    "|Technology costs case | Mid | where \"technology advances ... may be characterized as \"likely\" or \"not surprising\"\" <a href = \"https://atb.nrel.gov/electricity/2019/summary.html\" rel=\"nofollow\">(NREL, 2019)|\n",
    "|Financial case| R\\&D + Market | where financing and market conditions are \"based on macro-economic indicators from AEO (2019) ... <br> Includes economic dynamics such as background changes to inflation, interest, and return on equity. <br> Adds in economic dynamics and policies\" <a href=\"https://atb.nrel.gov/electricity/2019/data.html\" rel=\"nofollow\">(ATB 2019 Data, NREL) |\n",
    "|Capital recovery period | 20 years | |\n",
    "|AC to DC ratio for PV | 1.3 | utility-scale solar PV is assumed to be single axis tracking |"
   ]
  },
  {
   "cell_type": "markdown",
   "metadata": {},
   "source": [
    "##### Investment costs <a class=\"anchor\" id=\"costinvest\"></a>\n",
    "Overnight capital costs from the NREL ATB are used to characterize the investment costs of technologies that will likely be available in the modeling time-horizon, for all technologies other than the few mentioned in [Section 1.1.2](#new_gens). All technologies other than solar and wind are limited are represented as a single technology cluster. For solar and wind technologies, multiple clusters that have varying capacity factors and maximum available capacity are developed using the clustering techniques within PowerGenome. However, all clusters of a single technology type are assumed to have the same investment costs.\n",
    "\n",
    "The ATB does not report variations in investment costs across regions, and so PowerGenome uses appropriate regional cost-multipliers from the EIA Annual Energy Outlook (AEO) Electricity Market Module (EMM) in order to adjust capital costs. According to the EIA [EMM documentation](https://www.eia.gov/outlooks/aeo/assumptions/pdf/electricity.pdf), these multipliers can account for regional variations in factors such as ambient air conditions and how that may affect combustion turbine available capacity, or accessing wind resources. These multipliers are not available for all technology-region combinations, and so the following approximations are made:\n",
    "\n",
    "* *Bio-energy with carbon capture and storage (BECCS)*: Regional multipliers assumed to be the same as coal IGCC-CCS plants.\n",
    "* *Hydrogen storage (H2_STO150)*: Regional multipliers assumed to be the same as battery technologies.\n",
    "* *Geothermal (E_GEOF_N, E_GEOB_N)*: Regional multipliers assumed to be the same as NGCC plants.\n",
    "* *Any remaining technologies within a region that do not have cost multiplier data*: Regional multipliers assumed to be the average of multipliers for all available technologies within that region\n",
    "\n",
    "The form below can be used to display the investment costs by technology, region, and time period.\n"
   ]
  },
  {
   "cell_type": "code",
   "execution_count": 20,
   "metadata": {
    "hide_input": true,
    "init_cell": true,
    "jupyter": {
     "source_hidden": true
    }
   },
   "outputs": [
    {
     "data": {
      "application/vnd.jupyter.widget-view+json": {
       "model_id": "",
       "version_major": 2,
       "version_minor": 0
      },
      "text/plain": [
       "VBox(children=(HBox(children=(Select(description='tech', options=('All', 'E_URNLWR_N', 'H2_STO150', 'E_WND_N',…"
      ]
     },
     "metadata": {},
     "output_type": "display_data"
    }
   ],
   "source": [
    "def show_cost_invest(con):\n",
    "\n",
    "    df = pd.read_sql(\n",
    "        \"SELECT regions, tech,vintage, cost_invest, cost_invest_units FROM CostInvest WHERE tech IN (SELECT tech FROM technologies WHERE sector=='electric') ORDER BY tech, vintage\",\n",
    "        con)\n",
    "\n",
    "    display_types = ['table', 'figure']\n",
    "    \n",
    "    techs = []\n",
    "    for unique_tech in df.tech.unique():\n",
    "        try:\n",
    "            int(unique_tech.split('_')[-1])\n",
    "            techs.append('_'.join(unique_tech.split('_')[0:-1]))\n",
    "        except:\n",
    "            techs.append(unique_tech)\n",
    "    techs = ['All'] + list(set(techs))\n",
    "    regions = df.regions.unique()\n",
    "\n",
    "\n",
    "    def filter_tech(tech='', region='', o_format=''):\n",
    "        if tech == 'All':\n",
    "            df_sel = df[(df.regions == region)]\n",
    "        else:\n",
    "            df_sel = df[(df.tech.str.contains(tech)) & (df.regions == region)]\n",
    "        if o_format == 'table':\n",
    "            df_sel = df_sel.pivot_table(\n",
    "                index=['regions', 'tech', 'cost_invest_units'],\n",
    "                columns='vintage',\n",
    "                values='cost_invest').reset_index().set_index('regions')\n",
    "            df_sel.rename(columns={'cost_invest_units': 'units'}, inplace=True)\n",
    "            display(\n",
    "                HTML(\n",
    "                    tabulate.tabulate(df_sel,\n",
    "                                      ['region'] + list(df_sel.columns.values),\n",
    "                                      floatfmt=\".0f\",\n",
    "                                      tablefmt='html')))\n",
    "        elif o_format == 'figure':\n",
    "            fig, ax = plt.subplots(figsize=(10, 6))\n",
    "            for ind_tech in df_sel.tech.unique():\n",
    "                plt.plot(df_sel[df_sel.tech == ind_tech].vintage,\n",
    "                         df_sel[df_sel.tech == ind_tech].cost_invest,\n",
    "                         label=ind_tech)\n",
    "            plt.legend()\n",
    "            plt.ylabel('Investment costs ($M/GW)')\n",
    "            plt.ylim([0, df.cost_invest.max() * 1.1])\n",
    "            plt.xlabel('Vintage')\n",
    "\n",
    "\n",
    "    w1 = widgets.Select(options=techs)\n",
    "    w2 = widgets.Select(options=regions)\n",
    "    w3 = widgets.Select(options=display_types)\n",
    "    w = widgets.interactive(filter_tech, tech=w1, region=w2, o_format=w3)\n",
    "\n",
    "    controls_rows(w)\n",
    "    \n",
    "show_cost_invest(con)"
   ]
  },
  {
   "cell_type": "markdown",
   "metadata": {
    "jupyter": {
     "source_hidden": false
    }
   },
   "source": [
    "##### Fixed Operations and Maintenance (O&M) Costs <a class=\"anchor\" id=\"costFOM\"></a>\n",
    "New generator costs are derived from the NREL ATB via PowerGenome. Solar PV technology fixed costs reported by NREL on a DC basis are adjusted using an assumed AC to DC ratio for PV of 1.3 (as noted in the table above). PowerGenome uses data from the [EIA](https://www.eia.gov/analysis/studies/powerplants/generationcost/pdf/full_report.pdf) to characterize fixed O&M costs associated with existing individual generators, where available. Mean costs based on available data are estimated for categories of generators based on their capacity (e.g., for combined cycle plants between 500 and 1000 MW) and assigned to all the generators in that category. For generator types where these data are not available from EIA, PowerGenome uses data for new generators from the NREL ATB and linearly adjusts them to existing generators based on their respective heat rate values."
   ]
  },
  {
   "cell_type": "code",
   "execution_count": 21,
   "metadata": {
    "hide_input": true,
    "init_cell": true,
    "jupyter": {
     "source_hidden": true
    }
   },
   "outputs": [
    {
     "data": {
      "application/vnd.jupyter.widget-view+json": {
       "model_id": "",
       "version_major": 2,
       "version_minor": 0
      },
      "text/plain": [
       "VBox(children=(HBox(children=(Select(description='tech', options=('All', 'E_URNLWR_N', 'E_HYDSM_R', 'E_GEO_R',…"
      ]
     },
     "metadata": {},
     "output_type": "display_data"
    }
   ],
   "source": [
    "def show_cost_fixed(con):\n",
    "    df = pd.read_sql(\"SELECT regions, tech,vintage, cost_fixed_units, AVG(cost_fixed) AS cost_fixed FROM CostFixed WHERE tech IN (SELECT tech FROM technologies WHERE sector=='electric') GROUP BY regions, tech,vintage ORDER BY tech, vintage\", con)\n",
    "    display_types = ['table', 'figure']\n",
    "    techs = []\n",
    "    for unique_tech in df.tech.unique():\n",
    "        try:\n",
    "            int(unique_tech.split('_')[-1])\n",
    "            techs.append('_'.join(unique_tech.split('_')[0:-1]))\n",
    "        except:\n",
    "            techs.append(unique_tech)\n",
    "    techs = ['All'] + list(set(techs))    \n",
    "    regions = [x for x in df.regions.unique() if '-' not in x]\n",
    "    def filter_tech(tech ='', region = '', o_format=''):\n",
    "        if tech=='All':\n",
    "            df_sel = df[(df.regions==region)].copy()\n",
    "        else:\n",
    "            df_sel = df[(df.tech.str.contains(tech)) & (df.regions==region)]\n",
    "        if o_format=='table':\n",
    "            #df_sel = df_sel.pivot_table(index=['regions','tech', 'cost_fixed_units'], columns='vintage', values='cost_fixed').reset_index().set_index('regions')\n",
    "            header = ['regions', 'technology', 'vintage', 'units', 'fixed cost']\n",
    "            display(HTML(tabulate.tabulate(df_sel.set_index('regions'), header,  floatfmt=\".0f\" , tablefmt='html')))\n",
    "        elif o_format=='figure':\n",
    "            fig, ax = plt.subplots(figsize=(10,6))\n",
    "            for ind_tech in df_sel.tech.unique():\n",
    "                plt.bar(df_sel[df_sel.tech==ind_tech].vintage, df_sel[df_sel.tech==ind_tech].cost_fixed, label=ind_tech)\n",
    "            plt.legend()\n",
    "            if len(df_sel)==1:\n",
    "                plt.xlim([df_sel.vintage.values - 2, df_sel.vintage.values + 2])\n",
    "                plt.xticks(np.arange(df_sel.vintage.values - 1, df_sel.vintage.values + 2))\n",
    "            plt.ylabel('Fixed costs ($M/GWyr)')\n",
    "            #plt.ylim([0, df.cost_fixed.max()*1.1])\n",
    "            plt.xlabel('Vintage')\n",
    "\n",
    "    w1 = widgets.Select(options=techs)\n",
    "    w2 = widgets.Select(options=regions)\n",
    "    w3 = widgets.Select(options=display_types)\n",
    "    w = widgets.interactive(filter_tech, tech=w1, region=w2, o_format=w3)\n",
    "\n",
    "    controls_rows(w)\n",
    "    \n",
    "show_cost_fixed(con)"
   ]
  },
  {
   "cell_type": "markdown",
   "metadata": {},
   "source": [
    "##### Variable Operations and Maintenance Costs <a class=\"anchor\" id=\"costVOM\"></a>\n",
    "New generator costs are derived from the NREL ATB via PowerGenome. PowerGenome uses data from the [EIA](https://www.eia.gov/analysis/studies/powerplants/generationcost/pdf/full_report.pdf) to characterize variable costs of existing individual generators, where available. Mean costs based on available data are estimated for categories of generators based on their capacity (e.g., for combined cycle plants between 500 and 1000 MW) and assigned to all the generators in that category. For generator types where these data are not available from EIA, PowerGenome uses data for new generators from the NREL ATB and linearly adjusts them to existing generators based on their respective heat rate values."
   ]
  },
  {
   "cell_type": "code",
   "execution_count": 22,
   "metadata": {
    "hide_input": true,
    "init_cell": true,
    "jupyter": {
     "source_hidden": true
    },
    "scrolled": true
   },
   "outputs": [
    {
     "data": {
      "application/vnd.jupyter.widget-view+json": {
       "model_id": "",
       "version_major": 2,
       "version_minor": 0
      },
      "text/plain": [
       "VBox(children=(HBox(children=(Select(description='tech', options=('All', 'E_SOLTHCEN_N', 'E_NGACC_CCS_ZERO_N',…"
      ]
     },
     "metadata": {},
     "output_type": "display_data"
    }
   ],
   "source": [
    "def show_cost_variable(con):\n",
    "\n",
    "    df = pd.read_sql(\"SELECT regions, tech,vintage, cost_variable_units, AVG(cost_variable) AS cost_variable FROM CostVariable WHERE tech IN (SELECT tech FROM technologies WHERE sector=='electric') AND cost_variable> 0 GROUP BY regions, tech,vintage ORDER BY vintage\", con)\n",
    "    display_types = ['table', 'figure']\n",
    "    techs = []\n",
    "    for unique_tech in df.tech.unique():\n",
    "        try:\n",
    "            int(unique_tech.split('_')[-1])\n",
    "            techs.append('_'.join(unique_tech.split('_')[0:-1]))\n",
    "        except:\n",
    "            techs.append(unique_tech)\n",
    "    techs = ['All'] + list(set(techs))\n",
    "    regions = df.regions.unique()\n",
    "    def filter_tech(tech ='', region = '', o_format=''):\n",
    "        if tech=='All':\n",
    "            df_sel = df[(df.regions==region)].copy()\n",
    "        else:\n",
    "            df_sel = df[(df.tech.str.contains(tech)) & (df.regions==region)]\n",
    "        if o_format=='table':\n",
    "            #df_sel = df_sel.pivot_table(index=['regions','tech', 'cost_variable_units'], columns='vintage', values='cost_variable').reset_index().set_index('regions')\n",
    "            header = ['regions', 'technology', 'vintage', 'units', 'variable cost']\n",
    "            display(HTML(tabulate.tabulate(df_sel.set_index('regions'), header,  floatfmt=\".2f\" , tablefmt='html')))\n",
    "        elif o_format=='figure':\n",
    "            fig, ax = plt.subplots(figsize=(10,6))\n",
    "            for ind_tech in df_sel.tech.unique():\n",
    "                plt.bar(df_sel[df_sel.tech==ind_tech].vintage, df_sel[df_sel.tech==ind_tech].cost_variable, label=ind_tech)\n",
    "            plt.legend()\n",
    "            if len(df_sel)==1:\n",
    "                plt.xlim([df_sel.vintage.values - 2, df_sel.vintage.values + 2])\n",
    "                plt.xticks(np.arange(df_sel.vintage.values - 1, df_sel.vintage.values + 2))\n",
    "            plt.ylabel('Variable costs ($M/PJ)')\n",
    "            #plt.ylim([0, df.cost_variable.max()*1.1])\n",
    "            plt.xlabel('Vintage')\n",
    "            ax.xaxis.set_major_locator(MaxNLocator(integer=True))\n",
    "\n",
    "    w1 = widgets.Select(options=techs)\n",
    "    w2 = widgets.Select(options=regions)\n",
    "    w3 = widgets.Select(options=display_types)\n",
    "    w = widgets.interactive(filter_tech, tech=w1, region=w2, o_format=w3)\n",
    "\n",
    "    controls_rows(w)\n",
    "\n",
    "show_cost_variable(con)"
   ]
  },
  {
   "cell_type": "markdown",
   "metadata": {
    "jupyter": {
     "source_hidden": false
    }
   },
   "source": [
    "#### Existing Capacity <a class=\"anchor\" id=\"exist_cap\"></a>\n",
    "PowerGenome uses generator data from 2018 to report the existing electric generation capacity. The (winter) capacities for individual generators are obtained from the US EIA 860 and 923 files via the [PUDL](https://github.com/catalyst-cooperative/pudl) database. PowerGenome then combines the individual generators to create a few clusters that are representative of the entire fleet, using k-means clustering."
   ]
  },
  {
   "cell_type": "code",
   "execution_count": 23,
   "metadata": {
    "hide_input": true,
    "init_cell": true,
    "jupyter": {
     "source_hidden": true
    }
   },
   "outputs": [
    {
     "data": {
      "application/vnd.jupyter.widget-view+json": {
       "model_id": "",
       "version_major": 2,
       "version_minor": 0
      },
      "text/plain": [
       "VBox(children=(HBox(children=(Select(description='tech', options=('All', 'Natural Gas', 'Hydro', 'Coal', 'Nucl…"
      ]
     },
     "metadata": {},
     "output_type": "display_data"
    }
   ],
   "source": [
    "def show_exist_cap(con, map_plants):\n",
    "    df = pd.read_sql(\"SELECT regions, tech,vintage, exist_cap FROM ExistingCapacity WHERE tech IN (SELECT tech FROM technologies \\\n",
    "    WHERE sector=='electric' AND flag!='ps') AND tech!='E_TRANS_R' ORDER BY tech\", con)\n",
    "    df.loc[:,'agg_tech'] = [map_plants[y] for x in df.tech for y in map_plants.keys() if y.lower() in x.lower()] #map agg technologies\n",
    "    df_sum = df.drop(\"vintage\", axis=1).groupby(by = ['regions','agg_tech','tech']).sum().reset_index()\n",
    "    df_sum.sort_values(by='exist_cap', ascending=False, inplace=True)\n",
    "    techs = ['All'] + list(df_sum.agg_tech.unique())\n",
    "    regions = df_sum.regions.unique()\n",
    "    def filter_tech(tech ='', region = ''):\n",
    "        if tech=='All':\n",
    "            df_sel = df_sum[(df_sum.regions==region)]\n",
    "        else:\n",
    "            df_sel = df_sum[(df_sum.agg_tech==tech) & (df_sum.regions==region)]\n",
    "        df_sel = df_sel.sort_values(by='tech')\n",
    "        display(HTML(tabulate.tabulate(df_sel.set_index('regions'), [\"regions\", \"technology type\",\"technology\", \"capacity (GW)\" ], floatfmt=\".1f\", tablefmt='html')))\n",
    "\n",
    "    w1 = widgets.Select(options=techs)\n",
    "    w2 = widgets.Select(options=regions)\n",
    "    w = widgets.interactive(filter_tech, tech=w1, region=w2)\n",
    "\n",
    "    controls_rows(w)\n",
    "    \n",
    "show_exist_cap(con, map_plants)\n"
   ]
  },
  {
   "cell_type": "markdown",
   "metadata": {},
   "source": [
    "#### Efficiency <a class=\"anchor\" id=\"efficiency\"></a>\n",
    "The efficiency of each generator cluster is represented as the mean of the individual generators in each cluster. PowerGenome compiles existing generator heat rates from the US EIA 860 and 923 files via the [PUDL](https://github.com/catalyst-cooperative/pudl) database, and heat rates for new technologies from the NREL ATB. The total capacity of each technology cluster and the associated efficiencies are reported in the table below."
   ]
  },
  {
   "cell_type": "code",
   "execution_count": 24,
   "metadata": {
    "hide_input": true,
    "init_cell": true,
    "jupyter": {
     "source_hidden": true
    }
   },
   "outputs": [
    {
     "data": {
      "application/vnd.jupyter.widget-view+json": {
       "model_id": "",
       "version_major": 2,
       "version_minor": 0
      },
      "text/plain": [
       "VBox(children=(HBox(children=(Select(description='tech', options=('All', 'E_URNLWR_N', 'E_BIO_R', 'E_Batt', 'E…"
      ]
     },
     "metadata": {},
     "output_type": "display_data"
    }
   ],
   "source": [
    "def show_efficiency(con):\n",
    "    df = pd.read_sql(\"SELECT regions, tech, vintage, efficiency FROM Efficiency WHERE tech IN (SELECT tech FROM technologies WHERE sector=='electric') AND efficiency < 1 ORDER BY tech, vintage\", con)\n",
    "    df_cap = pd.read_sql(\"SELECT regions, tech,vintage, exist_cap FROM ExistingCapacity WHERE tech IN (SELECT tech FROM technologies WHERE sector=='electric') ORDER BY tech, vintage\", con)\n",
    "    df_cap.exist_cap = np.round(df_cap.exist_cap*100)/100\n",
    "    df = pd.merge(df, df_cap, on = ['regions','tech','vintage'], how='left')\n",
    "    df.fillna('--', inplace=True)\n",
    "    techs = []\n",
    "    for unique_tech in df.tech.unique():\n",
    "        try:\n",
    "            int(unique_tech.split('_')[-1])\n",
    "            techs.append('_'.join(unique_tech.split('_')[0:-1]))\n",
    "        except:\n",
    "            techs.append(unique_tech)\n",
    "    techs = ['All'] + list(set(techs))\n",
    "    regions = df.regions.unique()\n",
    "    regions = [x for x in regions if '-' not in x]\n",
    "    def filter_tech(tech='', region =''):\n",
    "        if tech=='All':\n",
    "            df_sel = df[(df.regions==region)].copy()\n",
    "        else:\n",
    "            df_sel = df[(df.tech.str.contains(tech)) & (df.regions==region)].copy()\n",
    "        df_sel.efficiency = 100*df_sel.efficiency\n",
    "        header = ['region','technology','vintage','efficiency (%)','capacity (GW)']\n",
    "        display(HTML(tabulate.tabulate(df_sel.set_index('regions'), header, floatfmt=\".1f\", tablefmt='html')))\n",
    "\n",
    "    w1 = widgets.Select(options=techs)\n",
    "    w2 = widgets.Select(options=regions)\n",
    "    w = widgets.interactive(filter_tech, tech=w1, region=w2)\n",
    "\n",
    "    controls_rows(w)\n",
    "    \n",
    "show_efficiency(con)"
   ]
  },
  {
   "cell_type": "markdown",
   "metadata": {},
   "source": [
    "#### Capacity Factors and Capacity of Variable Renewable Energy <a class=\"anchor\" id=\"capfac\"></a>\n",
    "\n",
    "A number of clusters representing variable renewable technologies (as presented in [Section 1.1.3](#new_vre_gens)) are selected for each region using clustering techniques in PowerGenome. \n",
    "\n",
    "Annual hourly electricity load and variable renewables capacity factor data for a representative year (2012) are used. Historical capacity factors of existing capacity are obtained from EIA, while data for potential new generators are obtained from datasets developed by <a href=\"https://www.vibrantcleanenergy.com/products/\" rel=\"nofollow\">Vibrant Clean Energy</a>. The renewables capacity factors for potential new generators are modeled using 2012 weather data. VRE capacity factor and maximum available resource data are available through these datasets at a specific grid-level resolution for the entire United States. These are aggregated to the specified number of technology clusters in each of the nine OEO regions using clustering techniques. Further details on these datasets are forthcoming (in PowerGenome documentation).\n",
    "\n",
    "In the current OEO database, annual energy supply and demand is represented by a few days at an hourly resolution. Specifically, service demands across all the sectors as well as variable renewable energy supply are characterized at this resolution for all the US modeled regions. Therefore the annual hourly datasets for each specified technology cluster are jointly downscaled to a few representative days, using k-means clustering within PowerGenome (e.g., see [Mallapragada et al, 2018](https://doi.org/10.1016/j.energy.2018.08.015))."
   ]
  },
  {
   "cell_type": "code",
   "execution_count": 25,
   "metadata": {
    "hide_input": true,
    "init_cell": true,
    "jupyter": {
     "source_hidden": true
    }
   },
   "outputs": [
    {
     "data": {
      "application/vnd.jupyter.widget-view+json": {
       "model_id": "",
       "version_major": 2,
       "version_minor": 0
      },
      "text/plain": [
       "VBox(children=(HBox(children=(Select(description='tech', options=('All', 'E_WND_R', 'E_SOLPV_R', 'E_SOLTHCEN_N…"
      ]
     },
     "metadata": {},
     "output_type": "display_data"
    }
   ],
   "source": [
    "def show_capfac(con):\n",
    "\n",
    "    df = pd.read_sql(\"SELECT regions, season_name,time_of_day_name,tech,cf_tech FROM CapacityFactorTech ORDER BY tech\", con)\n",
    "    df_maxcap = pd.read_sql(\"SELECT regions,tech, periods, maxcap FROM MaxCapacity WHERE tech in (SELECT DISTINCT(tech) FROM CapacityFactorTech)\", con)\n",
    "    df_maxcap = df_maxcap.groupby(by=['regions','tech']).mean().reset_index().drop(columns=['periods'])\n",
    "    techs = []\n",
    "    for unique_tech in df.tech.unique():\n",
    "        try:\n",
    "            int(unique_tech.split('_')[-1])\n",
    "            techs.append('_'.join(unique_tech.split('_')[0:-1]))\n",
    "        except:\n",
    "            techs.append(unique_tech)\n",
    "    techs = ['All'] + list(set(techs))\n",
    "    regions = df.regions.unique()\n",
    "    def filter_tech(tech='', region =''):\n",
    "        df_sel = df[(df.tech.str.contains(tech)) & (df.regions==region)]\n",
    "        header = ['region','season','time-of-day','technology','capacity factor']\n",
    "        fig, ax = plt.subplots(figsize=(10,6))\n",
    "        for ind_tech in df_sel.tech.unique():\n",
    "            plt.plot(np.arange(len(df_sel[df_sel.tech==ind_tech])), df_sel[df_sel.tech==ind_tech].cf_tech, label= ind_tech)\n",
    "        plt.legend()\n",
    "        plt.ylabel('Capacity Factor')\n",
    "        plt.ylim([0,1])\n",
    "        plt.xlabel('Hour')\n",
    "        plt.title('Power plant capacity factors by technology cluster')\n",
    "        \n",
    "        df_sel_maxcap = df_maxcap[(df_maxcap.tech.str.contains(tech)) & (df_maxcap.regions==region)]\n",
    "        \n",
    "        header = ['region','technology','maximum capacity (GW)']\n",
    "        display(HTML(tabulate.tabulate(df_sel_maxcap.set_index('regions'), header, floatfmt=\".0f\", tablefmt='html')))\n",
    "       \n",
    "\n",
    "    w1 = widgets.Select(options=techs)\n",
    "    w2 = widgets.Select(options=regions)\n",
    "    w = widgets.interactive(filter_tech, tech=w1, region=w2)\n",
    "\n",
    "    controls_rows(w)\n",
    "\n",
    "show_capfac(con)"
   ]
  },
  {
   "cell_type": "markdown",
   "metadata": {},
   "source": [
    "As noted earlier, annual residential PV generation is exogenous and drawn from [NREL dGen](https://maps.nrel.gov/dgen) scenario results. These values are presented in the table that follows."
   ]
  },
  {
   "cell_type": "code",
   "execution_count": 26,
   "metadata": {
    "hide_input": true,
    "init_cell": true,
    "jupyter": {
     "source_hidden": true
    }
   },
   "outputs": [
    {
     "data": {
      "text/markdown": [
       "**Annual residential PV generation, from the NREL dGen model (TWh)**"
      ],
      "text/plain": [
       "<IPython.core.display.Markdown object>"
      ]
     },
     "metadata": {},
     "output_type": "display_data"
    },
    {
     "data": {
      "text/html": [
       "<table>\n",
       "<thead>\n",
       "<tr><th>region  </th><th style=\"text-align: right;\">  2020</th><th style=\"text-align: right;\">  2025</th><th style=\"text-align: right;\">  2030</th><th style=\"text-align: right;\">  2035</th><th style=\"text-align: right;\">  2040</th><th style=\"text-align: right;\">  2045</th><th style=\"text-align: right;\">  2050</th></tr>\n",
       "</thead>\n",
       "<tbody>\n",
       "<tr><td>CA      </td><td style=\"text-align: right;\">  18.5</td><td style=\"text-align: right;\">  19.4</td><td style=\"text-align: right;\">  21.1</td><td style=\"text-align: right;\">  22.5</td><td style=\"text-align: right;\">  23.7</td><td style=\"text-align: right;\">  24.6</td><td style=\"text-align: right;\">  25.1</td></tr>\n",
       "<tr><td>CEN     </td><td style=\"text-align: right;\">   1.0</td><td style=\"text-align: right;\">   1.8</td><td style=\"text-align: right;\">   3.5</td><td style=\"text-align: right;\">   4.8</td><td style=\"text-align: right;\">   6.2</td><td style=\"text-align: right;\">   7.4</td><td style=\"text-align: right;\">   8.7</td></tr>\n",
       "<tr><td>MID_AT  </td><td style=\"text-align: right;\">   6.0</td><td style=\"text-align: right;\">   8.1</td><td style=\"text-align: right;\">  11.9</td><td style=\"text-align: right;\">  16.3</td><td style=\"text-align: right;\">  19.9</td><td style=\"text-align: right;\">  22.0</td><td style=\"text-align: right;\">  23.5</td></tr>\n",
       "<tr><td>NE      </td><td style=\"text-align: right;\">   6.9</td><td style=\"text-align: right;\">   7.8</td><td style=\"text-align: right;\">   8.6</td><td style=\"text-align: right;\">   9.5</td><td style=\"text-align: right;\">  10.5</td><td style=\"text-align: right;\">  11.2</td><td style=\"text-align: right;\">  11.6</td></tr>\n",
       "<tr><td>NW      </td><td style=\"text-align: right;\">   0.6</td><td style=\"text-align: right;\">   0.8</td><td style=\"text-align: right;\">   1.4</td><td style=\"text-align: right;\">   2.1</td><td style=\"text-align: right;\">   2.5</td><td style=\"text-align: right;\">   2.8</td><td style=\"text-align: right;\">   2.9</td></tr>\n",
       "<tr><td>N_CEN   </td><td style=\"text-align: right;\">   1.5</td><td style=\"text-align: right;\">   2.3</td><td style=\"text-align: right;\">   4.2</td><td style=\"text-align: right;\">   7.1</td><td style=\"text-align: right;\">   9.2</td><td style=\"text-align: right;\">  10.2</td><td style=\"text-align: right;\">  11.0</td></tr>\n",
       "<tr><td>SE      </td><td style=\"text-align: right;\">   2.4</td><td style=\"text-align: right;\">   6.4</td><td style=\"text-align: right;\">  14.7</td><td style=\"text-align: right;\">  23.9</td><td style=\"text-align: right;\">  29.1</td><td style=\"text-align: right;\">  33.0</td><td style=\"text-align: right;\">  36.5</td></tr>\n",
       "<tr><td>SW      </td><td style=\"text-align: right;\">   5.5</td><td style=\"text-align: right;\">   6.9</td><td style=\"text-align: right;\">   8.7</td><td style=\"text-align: right;\">  10.3</td><td style=\"text-align: right;\">  11.7</td><td style=\"text-align: right;\">  12.6</td><td style=\"text-align: right;\">  13.2</td></tr>\n",
       "<tr><td>TX      </td><td style=\"text-align: right;\">   0.8</td><td style=\"text-align: right;\">   1.2</td><td style=\"text-align: right;\">   2.1</td><td style=\"text-align: right;\">   3.1</td><td style=\"text-align: right;\">   4.1</td><td style=\"text-align: right;\">   5.1</td><td style=\"text-align: right;\">   6.0</td></tr>\n",
       "</tbody>\n",
       "</table>"
      ],
      "text/plain": [
       "<IPython.core.display.HTML object>"
      ]
     },
     "metadata": {},
     "output_type": "display_data"
    }
   ],
   "source": [
    "df = pd.read_sql(\"SELECT * FROM MinGenGroupTarget\", con)\n",
    "df['min_act_g'] /= (0.0036*1000)\n",
    "df_sel = df.pivot_table(\n",
    "                index=['group_name'],\n",
    "                columns='periods',\n",
    "                values='min_act_g').reset_index().set_index('group_name')\n",
    "df_sel.index = df_sel.index.str.replace('_RESPVGRP','')\n",
    "\n",
    "display(Markdown('**Annual residential PV generation, from the NREL dGen model (TWh)**'))\n",
    "display(HTML(tabulate.tabulate(df_sel,\n",
    "                                      ['region'] + list(df_sel.columns.values),\n",
    "                                      floatfmt=\".1f\",\n",
    "                                      tablefmt='html')))"
   ]
  },
  {
   "cell_type": "markdown",
   "metadata": {},
   "source": [
    "#### Capacity Credit <a class=\"anchor\" id=\"capcredit\"></a>\n",
    "Current values assume a default capacity credit value of 0.9 for all dispatchable generators, and 0.15 for all other generators, across the modeling time-horizon.\n",
    "\n",
    "Specifying the capacity credit for variable renewables like wind and solar is challenging because the credit declines as a function of installed capacity within the system. Trying to endogenously update the capacity credit within a single model solve requires either a non-linear or mixed integer formulation of Temoa, which greatly enhances the computational burden. However, since the Temoa OEO database is being solved myopically, we are developing the capability to update the capacity credit in-between solves, similar to the ReEDS model.\n",
    "\n",
    "Once a single time period solve is completed, the optimized electric generator capacities and electricity demand by region are passed to a module that updates the capacity credit for wind and solar by region, which will be used in the next time period solve. The code works by performing a simulation that compares available capacity to annual demand, as explained below.\n",
    "\n",
    "To calculate available capacity, each existing generating unit plus the new installed capacity are assigned an Equivalent Forced Outage Rate - Demand (EFORd) value. The EFORd value represents the probability that the generator will be unavailable due to a forced outage or derating during a time when there is demand for this generator. Random numbers with a [0,1] range are drawn for each existing generating unit and new dispatchable generating capacity and compared with its EFORd value. Note that Temoa optimizes new capacity in aggregate by technology type rather than individual units. Thus, for the purposes of this calculation, new capacity is split into hypothetical units, where the capacity of each unit represents the average for that technology type.  If the random number exceeds the EFORd value, the generator is unavailable to meet demand; else, it is available. The exercise is repeated 50,000 times to obtain a large set of available generation capacity estimates by region.\n",
    "\n",
    "To calculate net demand, the product of installed wind and solar capacities multiplied by their respective hourly capacity factors are subtracted sequentially from the regional demand returned by Temoa. Since different clusters of wind and solar within Temoa have different capacity factors, the calculation takes into account the differences across clusters. (Note that the amount of electricity demanded by Temoa in each time period and region is determined endogenously, based on the relative cost-effectiveness of fuels and technologies used to meet end-use service demands.)\n",
    "\n",
    "Using this data, a standard reliability analysis is performed. For each hour of estimated net demand, the code compares all 50,000 available capacity estimates and records any instances where the net demand exceeds the available capacity. When this count is divided by the total number of iterations, it yields a loss of load probability (LOLP) estimate. A uniform adjustment to the demand  in all hours is made to bring each region to its benchmark reliability (an LOLP of 1 day in 10 years). \n",
    "\n",
    "Once the load has been adjusted to meet the LOLP benchmark, the capacity credits associated with increments of solar and wind in the next model time period are calculated. To do so, the procedure described above is repeated with an additional 1000 MW of wind or solar capacity. Once again, this new capacity increment is multiplied by the hourly capacity factor and subtracted from load to create a new net load profile. Since wind and solar work to reduce demand, their addition to the system may reduce the calculated LOLP. The demand increment that brings the LOLP back to its benchmark value -- known as the effective load carrying capability (ELCC) -- is determined. The ELCC represents the absolute amount of capacity credit that the installed wind and solar in each region should receive. The ELCC divided by the 1000 MW regional solar (or wind) capacity addition yields the capacity credit as a fraction. The calculation is repeated for each cluster of wind and solar (i.e., each resource profile) in each region, so that they each have their own unique capacity credit estimate for the next solve.\n",
    "\n",
    "This whole procedure will be repeated after each time period solve, until the end of the model time horizon is reached."
   ]
  },
  {
   "cell_type": "code",
   "execution_count": 27,
   "metadata": {
    "hide_input": true,
    "init_cell": true,
    "jupyter": {
     "source_hidden": true
    }
   },
   "outputs": [
    {
     "data": {
      "application/vnd.jupyter.widget-view+json": {
       "model_id": "",
       "version_major": 2,
       "version_minor": 0
      },
      "text/plain": [
       "VBox(children=(HBox(children=(Select(description='tech', options=('All', 'E_URNLWR_N', 'E_GEO_R', 'E_WND_N', '…"
      ]
     },
     "metadata": {},
     "output_type": "display_data"
    }
   ],
   "source": [
    "def show_capacity_credit(con):\n",
    "\n",
    "    df = pd.read_sql(\"SELECT regions, periods, tech, cf_tech FROM CapacityCredit\", con)\n",
    "    techs = []\n",
    "    for unique_tech in df.tech.unique():\n",
    "        try:\n",
    "            int(unique_tech.split('_')[-1])\n",
    "            techs.append('_'.join(unique_tech.split('_')[0:-1]))\n",
    "        except:\n",
    "            techs.append(unique_tech)\n",
    "    techs = ['All'] + list(set(techs))\n",
    "    regions = df.regions.unique()\n",
    "    def filter_tech(tech='', region =''):\n",
    "        df_sel = df[(df.tech.str.contains(tech)) & (df.regions==region)]\n",
    "        df_sel = df_sel.pivot_table(index=['regions','tech'], columns='periods', values='cf_tech').reset_index().set_index('regions')\n",
    "        header = ['region'] + list(df_sel.columns.values)\n",
    "        display(HTML(tabulate.tabulate(df_sel, header, tablefmt='html')))\n",
    "    w1 = widgets.Select(options=techs)\n",
    "    w2 = widgets.Select(options=regions)\n",
    "    w = widgets.interactive(filter_tech, tech=w1, region=w2)\n",
    "\n",
    "    controls_rows(w)\n",
    "    \n",
    "show_capacity_credit(con)"
   ]
  },
  {
   "cell_type": "markdown",
   "metadata": {},
   "source": [
    "#### Ramp rates <a class=\"anchor\" id=\"ramp_rates\"></a>\n",
    "PowerGenome uses ramp rates from a [study by the California Utilities Public Commission](https://www.cpuc.ca.gov/General.aspx?id=6442462824). All clusters of a single technology, across any region, are assumed to have the same ramp rate."
   ]
  },
  {
   "cell_type": "code",
   "execution_count": 28,
   "metadata": {
    "hide_input": true,
    "init_cell": true,
    "jupyter": {
     "source_hidden": true
    }
   },
   "outputs": [
    {
     "data": {
      "application/vnd.jupyter.widget-view+json": {
       "model_id": "",
       "version_major": 2,
       "version_minor": 0
      },
      "text/plain": [
       "VBox(children=(HBox(children=(Select(description='tech', options=('All', 'E_URNLWR_N', 'E_NGACC_CCS_ZERO_N', '…"
      ]
     },
     "metadata": {},
     "output_type": "display_data"
    }
   ],
   "source": [
    "def show_ramp_rate(con):\n",
    "    df = pd.read_sql(\"SELECT regions, tech, ramp_up FROM RampUp\", con)\n",
    "    techs = []\n",
    "    for unique_tech in df.tech.unique():\n",
    "        try:\n",
    "            int(unique_tech.split('_')[-1])\n",
    "            techs.append('_'.join(unique_tech.split('_')[0:-1]))\n",
    "        except:\n",
    "            techs.append(unique_tech)\n",
    "    techs = ['All'] + list(set(techs))\n",
    "    regions = df.regions.unique()\n",
    "    def filter_tech(tech='', region =''):\n",
    "        df_sel = df[(df.tech.str.contains(tech)) & (df.regions==region)]\n",
    "        df_sel['ramp_up'] = df_sel['ramp_up']*100\n",
    "        header = list(['region', 'technology', 'ramp rate (% per hour)'])\n",
    "        display(HTML(tabulate.tabulate(df_sel.set_index('regions'), header, tablefmt='html')))\n",
    "    w1 = widgets.Select(options=techs)\n",
    "    w2 = widgets.Select(options=regions)\n",
    "    w = widgets.interactive(filter_tech, tech=w1, region=w2)\n",
    "\n",
    "    controls_rows(w)\n",
    "    \n",
    "show_ramp_rate(con)"
   ]
  },
  {
   "cell_type": "markdown",
   "metadata": {},
   "source": [
    "#### Discount rates <a class=\"anchor\" id=\"disc_rates\"></a>\n",
    "Discount rates for individual new generating technologies are represented by the weighted average cost of capital (WACC) in the NREL ATB, which is the average rate paid to finance the installations. These rates do not vary by region."
   ]
  },
  {
   "cell_type": "code",
   "execution_count": 29,
   "metadata": {
    "hide_input": true,
    "init_cell": true,
    "jupyter": {
     "source_hidden": true
    }
   },
   "outputs": [
    {
     "data": {
      "application/vnd.jupyter.widget-view+json": {
       "model_id": "",
       "version_major": 2,
       "version_minor": 0
      },
      "text/plain": [
       "VBox(children=(HBox(children=(Select(description='tech', options=('All', 'H2_STO150', 'E_URNLWR_N', 'E_WND_N',…"
      ]
     },
     "metadata": {},
     "output_type": "display_data"
    }
   ],
   "source": [
    "def show_disc_rate(con):\n",
    "    df = pd.read_sql(\"SELECT regions, tech, vintage, tech_rate FROM DiscountRate \\\n",
    "    WHERE tech in (SELECT tech FROM technologies WHERE sector='electric')\", con)\n",
    "    techs = []\n",
    "    for unique_tech in df.tech.unique():\n",
    "        try:\n",
    "            int(unique_tech.split('_')[-1])\n",
    "            techs.append('_'.join(unique_tech.split('_')[0:-1]))\n",
    "        except:\n",
    "            techs.append(unique_tech)\n",
    "    techs = ['All'] + list(set(techs))\n",
    "    regions = df.regions.unique()\n",
    "    def filter_tech(tech='', region =''):\n",
    "        if tech=='All':\n",
    "            df_sel = df[(df.regions==region)]\n",
    "        else:\n",
    "            df_sel = df[(df.tech.str.contains(tech)) & (df.regions==region)]        \n",
    "        df_sel = df_sel.pivot_table(index=['regions','tech'], columns='vintage', values='tech_rate').reset_index()\n",
    "        header = list(df_sel.columns.values)\n",
    "        display(HTML(tabulate.tabulate(df_sel, header, floatfmt=\".3f\", tablefmt='html')))\n",
    "    w1 = widgets.Select(options=techs)\n",
    "    w2 = widgets.Select(options=regions)\n",
    "    w = widgets.interactive(filter_tech, tech=w1, region=w2)\n",
    "\n",
    "    controls_rows(w)\n",
    "    \n",
    "show_disc_rate(con)"
   ]
  },
  {
   "cell_type": "markdown",
   "metadata": {},
   "source": [
    "#### Transmission <a class=\"anchor\" id=\"transmission\"></a>\n",
    "Transmission data from PowerGenome comes from EPA's bulk transmission data for IPM regions. Existing transmission data primarily include line losses (as reported in the Efficiency table), and maximum line capacity. For a pair of regions, the maximum line capacity may differ, depending on the direction of transmission. For our modeling purposes, we choose the maximum of values in both directions for a pair of regions, as a maximum line capacity value for that pair."
   ]
  },
  {
   "cell_type": "markdown",
   "metadata": {},
   "source": [
    "##### Existing transmission <a class=\"anchor\" id=\"linecap\"></a>\n",
    "Capacity and losses associated with existing inter-regional tranmission are presented in the table below, based on data from PowerGenome. These transmission lines are assumed to have no operating costs. However, intra-region operating costs and losses are assigned separately, based on data from the US EIA Annual Energy Outlook (AEO). "
   ]
  },
  {
   "cell_type": "code",
   "execution_count": 30,
   "metadata": {
    "hide_input": true,
    "init_cell": true,
    "jupyter": {
     "source_hidden": true
    }
   },
   "outputs": [
    {
     "data": {
      "text/html": [
       "<table>\n",
       "<thead>\n",
       "<tr><th>region 1  </th><th>region 2  </th><th style=\"text-align: right;\">  existing capacity (GW)</th><th style=\"text-align: right;\">  line loss (%)</th></tr>\n",
       "</thead>\n",
       "<tbody>\n",
       "<tr><td>CA        </td><td>NW        </td><td style=\"text-align: right;\">                     6.8</td><td style=\"text-align: right;\">            6.2</td></tr>\n",
       "<tr><td>CA        </td><td>SW        </td><td style=\"text-align: right;\">                    12.0</td><td style=\"text-align: right;\">            4.9</td></tr>\n",
       "<tr><td>NW        </td><td>SW        </td><td style=\"text-align: right;\">                     4.5</td><td style=\"text-align: right;\">            5.8</td></tr>\n",
       "<tr><td>SW        </td><td>CEN       </td><td style=\"text-align: right;\">                     0.6</td><td style=\"text-align: right;\">            7.3</td></tr>\n",
       "<tr><td>TX        </td><td>CEN       </td><td style=\"text-align: right;\">                     2.5</td><td style=\"text-align: right;\">            4.9</td></tr>\n",
       "<tr><td>N_CEN     </td><td>CEN       </td><td style=\"text-align: right;\">                    15.4</td><td style=\"text-align: right;\">            4.9</td></tr>\n",
       "<tr><td>N_CEN     </td><td>SE        </td><td style=\"text-align: right;\">                     6.1</td><td style=\"text-align: right;\">            8.9</td></tr>\n",
       "<tr><td>N_CEN     </td><td>MID_AT    </td><td style=\"text-align: right;\">                    16.6</td><td style=\"text-align: right;\">            7.5</td></tr>\n",
       "<tr><td>CEN       </td><td>SE        </td><td style=\"text-align: right;\">                     8.1</td><td style=\"text-align: right;\">            7.8</td></tr>\n",
       "<tr><td>SE        </td><td>MID_AT    </td><td style=\"text-align: right;\">                    10.1</td><td style=\"text-align: right;\">            4.9</td></tr>\n",
       "<tr><td>MID_AT    </td><td>NE        </td><td style=\"text-align: right;\">                     3.2</td><td style=\"text-align: right;\">            4.7</td></tr>\n",
       "<tr><td>NW        </td><td>CA        </td><td style=\"text-align: right;\">                     6.8</td><td style=\"text-align: right;\">            6.2</td></tr>\n",
       "<tr><td>SW        </td><td>CA        </td><td style=\"text-align: right;\">                    12.0</td><td style=\"text-align: right;\">            4.9</td></tr>\n",
       "<tr><td>SW        </td><td>NW        </td><td style=\"text-align: right;\">                     4.5</td><td style=\"text-align: right;\">            5.8</td></tr>\n",
       "<tr><td>CEN       </td><td>SW        </td><td style=\"text-align: right;\">                     0.6</td><td style=\"text-align: right;\">            7.3</td></tr>\n",
       "<tr><td>CEN       </td><td>TX        </td><td style=\"text-align: right;\">                     2.5</td><td style=\"text-align: right;\">            4.9</td></tr>\n",
       "<tr><td>CEN       </td><td>N_CEN     </td><td style=\"text-align: right;\">                    15.4</td><td style=\"text-align: right;\">            4.9</td></tr>\n",
       "<tr><td>SE        </td><td>N_CEN     </td><td style=\"text-align: right;\">                     6.1</td><td style=\"text-align: right;\">            8.9</td></tr>\n",
       "<tr><td>MID_AT    </td><td>N_CEN     </td><td style=\"text-align: right;\">                    16.6</td><td style=\"text-align: right;\">            7.5</td></tr>\n",
       "<tr><td>SE        </td><td>CEN       </td><td style=\"text-align: right;\">                     8.1</td><td style=\"text-align: right;\">            7.8</td></tr>\n",
       "<tr><td>MID_AT    </td><td>SE        </td><td style=\"text-align: right;\">                    10.1</td><td style=\"text-align: right;\">            4.9</td></tr>\n",
       "<tr><td>NE        </td><td>MID_AT    </td><td style=\"text-align: right;\">                     3.2</td><td style=\"text-align: right;\">            4.7</td></tr>\n",
       "</tbody>\n",
       "</table>"
      ],
      "text/plain": [
       "<IPython.core.display.HTML object>"
      ]
     },
     "metadata": {},
     "output_type": "display_data"
    }
   ],
   "source": [
    "def show_trans_cap_efficiency(con):\n",
    "    df = pd.read_sql(\"SELECT C.regions, C.exist_cap, C.exist_cap_units, \\\n",
    "    E.efficiency \\\n",
    "    FROM ExistingCapacity AS C \\\n",
    "    INNER JOIN Efficiency AS E ON \\\n",
    "    C.regions = E.regions AND \\\n",
    "    C.vintage = E.vintage AND \\\n",
    "    C.tech = E.tech \\\n",
    "    WHERE C.tech LIKE '%E_TRANS_R%'\", con)\n",
    "\n",
    "\n",
    "    #df = df.pivot_table(index=['regions','tech','exist_cap_units'], columns='vintage', values='exist_cap').reset_index()\n",
    "    df.loc[:,'region 1'] = df.regions.str.split('-').apply(lambda x: x[0])\n",
    "    df.loc[:,'region 2'] = df.regions.str.split('-').apply(lambda x: x[1])\n",
    "    df.loc[:, 'efficiency'] = (1 - df.loc[:, 'efficiency'])*100\n",
    "    header = ['region 1', 'region 2', 'existing capacity (' + df['exist_cap_units'].unique()[0] + ')', 'line loss (%)']\n",
    "    df_sel = df.drop(['exist_cap_units','regions'], axis=1).set_index(['region 1', 'region 2']).reset_index().set_index('region 1')\n",
    "\n",
    "    display(HTML(tabulate.tabulate(df_sel, header, floatfmt=\".1f\", tablefmt='html')))\n",
    "\n",
    "show_trans_cap_efficiency(con)"
   ]
  },
  {
   "cell_type": "markdown",
   "metadata": {},
   "source": [
    "Intra-region T\\&D losses are assumed to be 4.7\\% based on the <a href=\"https://www.eia.gov/outlooks/aeo/data/browser/#/?id=8-AEO2018&cases=ref2018&sourcekey=0\" rel=\"nofollow\">2019 AEO</a>, calculated using the ratio of the net generation to the grid and the total net electricity generation for the years 2019-2020. Intra-region T&D operating costs were based on projections from the <a href=\"https://www.eia.gov/outlooks/aeo/data/browser/#/?id=8-AEO2019&region=0-0&cases=ref2019&start=2017&end=2050&f=A&linechart=ref2019-d111618a.75-8-AEO2019~ref2019-d111618a.76-8-AEO2019&map=&ctype=linechart&sourcekey=0\" rel=\"nofollow\">2019 AEO</a> and are presented in the table below. "
   ]
  },
  {
   "cell_type": "code",
   "execution_count": null,
   "metadata": {
    "hide_input": true
   },
   "outputs": [],
   "source": [
    "def t_d_variableom(con):\n",
    "    df = pd.read_sql(\"SELECT DISTINCT periods, cost_variable FROM CostVariable WHERE tech = 'E_ELCTDLOSS'\", con)\n",
    "\n",
    "    header = ['period', 'intra-region T&D O&M ($M/PJ)']\n",
    "    display(HTML(tabulate.tabulate(df.set_index('periods'), header, floatfmt=\".1f\", tablefmt='html')))\n",
    "\n",
    "t_d_variableom(con)"
   ]
  },
  {
   "cell_type": "markdown",
   "metadata": {},
   "source": [
    "##### New transmission <a class=\"anchor\" id=\"trans_FOM\"></a>\n",
    "New transmission line investment costs are obtained from PowerGenome. The underlying transmission line cost per MW-mile data for each region comes from the [NREL ReEDS model](https://www.nrel.gov/docs/fy17osti/67067.pdf), which PowerGenome uses to calculate costs per MW along with estimates of average distance between the regions. A discount rate of 6.9% and investment lifetime of 60 years is assumed, based on [Gorman et al, 2019](https://www.sciencedirect.com/science/article/pii/S0301421519305816). Transmission line losses for any new transmission capacity is assumed to be the same as existing capacity for each pair of regions. Intra-regional losses and variable O&M costs are assumed to be the same as that for existing transmission."
   ]
  },
  {
   "cell_type": "code",
   "execution_count": 31,
   "metadata": {
    "hide_input": true,
    "init_cell": true,
    "jupyter": {
     "source_hidden": true
    }
   },
   "outputs": [
    {
     "data": {
      "text/html": [
       "<table>\n",
       "<thead>\n",
       "<tr><th>region 1  </th><th>region 2  </th><th>units  </th><th style=\"text-align: right;\">  2020</th><th style=\"text-align: right;\">  2025</th><th style=\"text-align: right;\">  2030</th><th style=\"text-align: right;\">  2035</th><th style=\"text-align: right;\">  2040</th><th style=\"text-align: right;\">  2045</th><th style=\"text-align: right;\">  2050</th></tr>\n",
       "</thead>\n",
       "<tbody>\n",
       "<tr><td>CA        </td><td>NW        </td><td>$M/GW  </td><td style=\"text-align: right;\">  1470</td><td style=\"text-align: right;\">  1470</td><td style=\"text-align: right;\">  1470</td><td style=\"text-align: right;\">  1470</td><td style=\"text-align: right;\">  1470</td><td style=\"text-align: right;\">  1470</td><td style=\"text-align: right;\">  1470</td></tr>\n",
       "<tr><td>CA        </td><td>SW        </td><td>$M/GW  </td><td style=\"text-align: right;\">  1158</td><td style=\"text-align: right;\">  1158</td><td style=\"text-align: right;\">  1158</td><td style=\"text-align: right;\">  1158</td><td style=\"text-align: right;\">  1158</td><td style=\"text-align: right;\">  1158</td><td style=\"text-align: right;\">  1158</td></tr>\n",
       "<tr><td>CEN       </td><td>N_CEN     </td><td>$M/GW  </td><td style=\"text-align: right;\">   693</td><td style=\"text-align: right;\">   693</td><td style=\"text-align: right;\">   693</td><td style=\"text-align: right;\">   693</td><td style=\"text-align: right;\">   693</td><td style=\"text-align: right;\">   693</td><td style=\"text-align: right;\">   693</td></tr>\n",
       "<tr><td>CEN       </td><td>SE        </td><td>$M/GW  </td><td style=\"text-align: right;\">  1177</td><td style=\"text-align: right;\">  1177</td><td style=\"text-align: right;\">  1177</td><td style=\"text-align: right;\">  1177</td><td style=\"text-align: right;\">  1177</td><td style=\"text-align: right;\">  1177</td><td style=\"text-align: right;\">  1177</td></tr>\n",
       "<tr><td>CEN       </td><td>SW        </td><td>$M/GW  </td><td style=\"text-align: right;\">  1222</td><td style=\"text-align: right;\">  1222</td><td style=\"text-align: right;\">  1222</td><td style=\"text-align: right;\">  1222</td><td style=\"text-align: right;\">  1222</td><td style=\"text-align: right;\">  1222</td><td style=\"text-align: right;\">  1222</td></tr>\n",
       "<tr><td>CEN       </td><td>TX        </td><td>$M/GW  </td><td style=\"text-align: right;\">   826</td><td style=\"text-align: right;\">   826</td><td style=\"text-align: right;\">   826</td><td style=\"text-align: right;\">   826</td><td style=\"text-align: right;\">   826</td><td style=\"text-align: right;\">   826</td><td style=\"text-align: right;\">   826</td></tr>\n",
       "<tr><td>MID_AT    </td><td>NE        </td><td>$M/GW  </td><td style=\"text-align: right;\">  1149</td><td style=\"text-align: right;\">  1149</td><td style=\"text-align: right;\">  1149</td><td style=\"text-align: right;\">  1149</td><td style=\"text-align: right;\">  1149</td><td style=\"text-align: right;\">  1149</td><td style=\"text-align: right;\">  1149</td></tr>\n",
       "<tr><td>MID_AT    </td><td>N_CEN     </td><td>$M/GW  </td><td style=\"text-align: right;\">  1072</td><td style=\"text-align: right;\">  1072</td><td style=\"text-align: right;\">  1072</td><td style=\"text-align: right;\">  1072</td><td style=\"text-align: right;\">  1072</td><td style=\"text-align: right;\">  1072</td><td style=\"text-align: right;\">  1072</td></tr>\n",
       "<tr><td>MID_AT    </td><td>SE        </td><td>$M/GW  </td><td style=\"text-align: right;\">   741</td><td style=\"text-align: right;\">   741</td><td style=\"text-align: right;\">   741</td><td style=\"text-align: right;\">   741</td><td style=\"text-align: right;\">   741</td><td style=\"text-align: right;\">   741</td><td style=\"text-align: right;\">   741</td></tr>\n",
       "<tr><td>NE        </td><td>MID_AT    </td><td>$M/GW  </td><td style=\"text-align: right;\">  1149</td><td style=\"text-align: right;\">  1149</td><td style=\"text-align: right;\">  1149</td><td style=\"text-align: right;\">  1149</td><td style=\"text-align: right;\">  1149</td><td style=\"text-align: right;\">  1149</td><td style=\"text-align: right;\">  1149</td></tr>\n",
       "<tr><td>NW        </td><td>CA        </td><td>$M/GW  </td><td style=\"text-align: right;\">  1470</td><td style=\"text-align: right;\">  1470</td><td style=\"text-align: right;\">  1470</td><td style=\"text-align: right;\">  1470</td><td style=\"text-align: right;\">  1470</td><td style=\"text-align: right;\">  1470</td><td style=\"text-align: right;\">  1470</td></tr>\n",
       "<tr><td>NW        </td><td>SW        </td><td>$M/GW  </td><td style=\"text-align: right;\">   840</td><td style=\"text-align: right;\">   840</td><td style=\"text-align: right;\">   840</td><td style=\"text-align: right;\">   840</td><td style=\"text-align: right;\">   840</td><td style=\"text-align: right;\">   840</td><td style=\"text-align: right;\">   840</td></tr>\n",
       "<tr><td>N_CEN     </td><td>CEN       </td><td>$M/GW  </td><td style=\"text-align: right;\">   693</td><td style=\"text-align: right;\">   693</td><td style=\"text-align: right;\">   693</td><td style=\"text-align: right;\">   693</td><td style=\"text-align: right;\">   693</td><td style=\"text-align: right;\">   693</td><td style=\"text-align: right;\">   693</td></tr>\n",
       "<tr><td>N_CEN     </td><td>MID_AT    </td><td>$M/GW  </td><td style=\"text-align: right;\">  1072</td><td style=\"text-align: right;\">  1072</td><td style=\"text-align: right;\">  1072</td><td style=\"text-align: right;\">  1072</td><td style=\"text-align: right;\">  1072</td><td style=\"text-align: right;\">  1072</td><td style=\"text-align: right;\">  1072</td></tr>\n",
       "<tr><td>N_CEN     </td><td>SE        </td><td>$M/GW  </td><td style=\"text-align: right;\">   935</td><td style=\"text-align: right;\">   935</td><td style=\"text-align: right;\">   935</td><td style=\"text-align: right;\">   935</td><td style=\"text-align: right;\">   935</td><td style=\"text-align: right;\">   935</td><td style=\"text-align: right;\">   935</td></tr>\n",
       "<tr><td>SE        </td><td>CEN       </td><td>$M/GW  </td><td style=\"text-align: right;\">  1177</td><td style=\"text-align: right;\">  1177</td><td style=\"text-align: right;\">  1177</td><td style=\"text-align: right;\">  1177</td><td style=\"text-align: right;\">  1177</td><td style=\"text-align: right;\">  1177</td><td style=\"text-align: right;\">  1177</td></tr>\n",
       "<tr><td>SE        </td><td>MID_AT    </td><td>$M/GW  </td><td style=\"text-align: right;\">   741</td><td style=\"text-align: right;\">   741</td><td style=\"text-align: right;\">   741</td><td style=\"text-align: right;\">   741</td><td style=\"text-align: right;\">   741</td><td style=\"text-align: right;\">   741</td><td style=\"text-align: right;\">   741</td></tr>\n",
       "<tr><td>SE        </td><td>N_CEN     </td><td>$M/GW  </td><td style=\"text-align: right;\">   935</td><td style=\"text-align: right;\">   935</td><td style=\"text-align: right;\">   935</td><td style=\"text-align: right;\">   935</td><td style=\"text-align: right;\">   935</td><td style=\"text-align: right;\">   935</td><td style=\"text-align: right;\">   935</td></tr>\n",
       "<tr><td>SW        </td><td>CA        </td><td>$M/GW  </td><td style=\"text-align: right;\">  1158</td><td style=\"text-align: right;\">  1158</td><td style=\"text-align: right;\">  1158</td><td style=\"text-align: right;\">  1158</td><td style=\"text-align: right;\">  1158</td><td style=\"text-align: right;\">  1158</td><td style=\"text-align: right;\">  1158</td></tr>\n",
       "<tr><td>SW        </td><td>CEN       </td><td>$M/GW  </td><td style=\"text-align: right;\">  1222</td><td style=\"text-align: right;\">  1222</td><td style=\"text-align: right;\">  1222</td><td style=\"text-align: right;\">  1222</td><td style=\"text-align: right;\">  1222</td><td style=\"text-align: right;\">  1222</td><td style=\"text-align: right;\">  1222</td></tr>\n",
       "<tr><td>SW        </td><td>NW        </td><td>$M/GW  </td><td style=\"text-align: right;\">   840</td><td style=\"text-align: right;\">   840</td><td style=\"text-align: right;\">   840</td><td style=\"text-align: right;\">   840</td><td style=\"text-align: right;\">   840</td><td style=\"text-align: right;\">   840</td><td style=\"text-align: right;\">   840</td></tr>\n",
       "<tr><td>TX        </td><td>CEN       </td><td>$M/GW  </td><td style=\"text-align: right;\">   826</td><td style=\"text-align: right;\">   826</td><td style=\"text-align: right;\">   826</td><td style=\"text-align: right;\">   826</td><td style=\"text-align: right;\">   826</td><td style=\"text-align: right;\">   826</td><td style=\"text-align: right;\">   826</td></tr>\n",
       "</tbody>\n",
       "</table>"
      ],
      "text/plain": [
       "<IPython.core.display.HTML object>"
      ]
     },
     "metadata": {},
     "output_type": "display_data"
    }
   ],
   "source": [
    "def show_trans_costs(con):\n",
    "    df = pd.read_sql(\"SELECT regions, vintage, tech, cost_invest, cost_invest_units FROM CostInvest WHERE tech LIKE '%E_TRANS_N%'\", con)\n",
    "    df = df.pivot_table(index=['regions','tech', 'cost_invest_units'], columns='vintage', values='cost_invest').reset_index()\n",
    "    df.loc[:,'region 1'] = df.regions.str.split('-').apply(lambda x: x[0])\n",
    "    df.loc[:,'region 2'] = df.regions.str.split('-').apply(lambda x: x[1])\n",
    "    df_sel = df.drop(['tech','regions'], axis=1).set_index(['region 1', 'region 2']).reset_index().set_index('region 1')\n",
    "    df_sel.rename(columns={'cost_invest_units': 'units'}, inplace=True)\n",
    "    display(HTML(tabulate.tabulate(df_sel, ['region 1'] + list(df_sel.columns.values), floatfmt=\".0f\", tablefmt='html')))\n",
    "\n",
    "show_trans_costs(con)"
   ]
  },
  {
   "cell_type": "markdown",
   "metadata": {},
   "source": [
    "#### Technology/commodity description lookup tool <a class=\"anchor\" id=\"description_look_up\"></a>\n",
    "Use the tool below to search for any key words that may describe a technology or commodity of interest (e.g. solar thermal). The tool provides a list of all the commodities and technologies in the database that may be relevant to the query."
   ]
  },
  {
   "cell_type": "code",
   "execution_count": 32,
   "metadata": {
    "hide_input": true,
    "init_cell": true,
    "jupyter": {
     "source_hidden": true
    }
   },
   "outputs": [
    {
     "data": {
      "application/vnd.jupyter.widget-view+json": {
       "model_id": "",
       "version_major": 2,
       "version_minor": 0
      },
      "text/plain": [
       "Text(value='solar thermal')"
      ]
     },
     "metadata": {},
     "output_type": "display_data"
    },
    {
     "data": {
      "application/vnd.jupyter.widget-view+json": {
       "model_id": "",
       "version_major": 2,
       "version_minor": 0
      },
      "text/plain": [
       "Output()"
      ]
     },
     "metadata": {},
     "output_type": "display_data"
    }
   ],
   "source": [
    "w = widgets.Text(value='solar thermal')\n",
    "display(w)\n",
    "def f(w):\n",
    "    if len(w)>0:\n",
    "        df1 = pd.read_sql(\"SELECT * FROM commodities WHERE comm_desc LIKE '%\" + w + \"%'\", con)\n",
    "        df1['desc'] = df1['comm_desc'].str.replace('#','').str.strip()\n",
    "        df1['comm_tech'] = df1['comm_name']\n",
    "        df1['type'] = 'commodity'\n",
    "\n",
    "        df2 = pd.read_sql(\"SELECT * FROM technologies WHERE tech_desc LIKE '%\" + w + \"%'\", con)\n",
    "        df2['desc'] = df2['tech_desc'].str.replace('#','').str.strip()\n",
    "        df2['comm_tech'] = df2['tech']\n",
    "        df2['type'] = 'technology'\n",
    "\n",
    "\n",
    "        df = pd.concat([df1[['comm_tech','type','desc']], df2[['comm_tech','type','desc']]])\n",
    "        \n",
    "        if len(df)>0:\n",
    "            display(HTML(tabulate.tabulate(df.set_index('comm_tech'),['technology/commodity','type','description'],tablefmt='html')))\n",
    "        else:\n",
    "            print('')\n",
    "    else:\n",
    "        print('')\n",
    "            \n",
    "\n",
    "\n",
    "out = widgets.interactive_output(f, {'w': w})\n",
    "display(out)"
   ]
  },
  {
   "cell_type": "markdown",
   "metadata": {},
   "source": [
    "#### Network diagram lookup tool  <a class=\"anchor\" id=\"network_look_up\"></a>\n",
    "Use the [description lookup tool](#description_look_up) above to identify specific commodity or technology names. Type the name in the box below to generate a corresponding network diagram for that commodity or technology. The slider can be used to view different upstream levels of the network diagram."
   ]
  },
  {
   "cell_type": "code",
   "execution_count": 33,
   "metadata": {
    "hide_input": true,
    "init_cell": true,
    "jupyter": {
     "source_hidden": true
    }
   },
   "outputs": [
    {
     "data": {
      "application/vnd.jupyter.widget-view+json": {
       "model_id": "",
       "version_major": 2,
       "version_minor": 0
      },
      "text/plain": [
       "Text(value='ELCP_Renewables')"
      ]
     },
     "metadata": {},
     "output_type": "display_data"
    },
    {
     "data": {
      "application/vnd.jupyter.widget-view+json": {
       "model_id": "",
       "version_major": 2,
       "version_minor": 0
      },
      "text/plain": [
       "Output()"
      ]
     },
     "metadata": {},
     "output_type": "display_data"
    }
   ],
   "source": [
    "w = widgets.Text(value='ELCP_Renewables')\n",
    "display(w)\n",
    "def f(w):\n",
    "    if len(w)>0:\n",
    "        \n",
    "        df1 = pd.read_sql(\"SELECT comm_name, comm_desc FROM commodities WHERE comm_name='\" + w + \"'\", con)\n",
    "        df1['desc'] = df1['comm_desc'].str.replace('#','').str.strip()\n",
    "        df1['comm_tech'] = df1['comm_name']\n",
    "        df1['type'] = 'commodity'\n",
    "\n",
    "        df2 = pd.read_sql(\"SELECT * FROM technologies WHERE tech='\" + w + \"'\", con)\n",
    "        df2['desc'] = df2['tech_desc'].str.replace('#','').str.strip()\n",
    "        df2['comm_tech'] = df2['tech']\n",
    "        df2['type'] = 'technology'\n",
    "\n",
    "        df = pd.concat([df1[['comm_tech','type','desc']], df2[['comm_tech','type','desc']]])\n",
    "\n",
    "    \n",
    "        if len(df)>0:\n",
    "            def show_desc(level):\n",
    "                display(Markdown(df['desc'][0]))\n",
    "                final_dem = df['comm_tech'][0]\n",
    "                df_graph = return_flowd_table(final_dem,level)\n",
    "                args = create_args_flowd(df_graph)\n",
    "                colors, quick_run_dot_fmt = return_format_colors()\n",
    "                args.update(colors)\n",
    "                #o_str = 'rankdir = \"LR\" ;'\n",
    "                #r_str = 'rankdir = \"LR\" ; \\n\\t size=\"8,8\";'\n",
    "                #quick_run_dot_fmt = quick_run_dot_fmt.replace(o_str, r_str)\n",
    "                dot_graph = quick_run_dot_fmt % args\n",
    "                display(graphviz.Source(dot_graph))\n",
    "            w2 = widgets.IntSlider(value=1,min=0,max=10,step=1,description='Level:',disabled=False,continuous_update=True,orientation='horizontal',readout=True,readout_format='d')\n",
    "            w = widgets.interactive(show_desc, level=w2)\n",
    "            controls_rows(w)\n",
    "        else:\n",
    "            print('')\n",
    "\n",
    "    else:\n",
    "        print('')\n",
    "            \n",
    "\n",
    "\n",
    "out = widgets.interactive_output(f, {'w': w})\n",
    "display(out)"
   ]
  },
  {
   "cell_type": "markdown",
   "metadata": {
    "jupyter": {
     "source_hidden": false
    }
   },
   "source": [
    "#### Technology/commodity look-up tool <a class=\"anchor\" id=\"lookup\"></a>\n",
    "Use the tool below to retrieve the description for any technology or commodity within the database. Type the commodity or technology name in the box below to view the description. Note that names are case sensitive."
   ]
  },
  {
   "cell_type": "code",
   "execution_count": 34,
   "metadata": {
    "hide_input": true,
    "init_cell": true,
    "jupyter": {
     "source_hidden": true
    }
   },
   "outputs": [
    {
     "data": {
      "application/vnd.jupyter.widget-view+json": {
       "model_id": "",
       "version_major": 2,
       "version_minor": 0
      },
      "text/plain": [
       "Text(value='ELC')"
      ]
     },
     "metadata": {},
     "output_type": "display_data"
    },
    {
     "data": {
      "application/vnd.jupyter.widget-view+json": {
       "model_id": "",
       "version_major": 2,
       "version_minor": 0
      },
      "text/plain": [
       "Output()"
      ]
     },
     "metadata": {},
     "output_type": "display_data"
    }
   ],
   "source": [
    "w = widgets.Text(value='ELC')\n",
    "display(w)\n",
    "def f(w):\n",
    "    df = pd.read_sql(\"SELECT * FROM commodities WHERE comm_name='\" + w + \"'\", con)\n",
    "    if len(df)==0:\n",
    "        df = pd.read_sql(\"SELECT * FROM technologies WHERE tech='\" + w + \"'\", con)\n",
    "\n",
    "    if len(df)>0:\n",
    "        try:\n",
    "            display(Markdown((df['comm_desc'].values[0].replace('#', '').strip())))\n",
    "        except:\n",
    "            display(Markdown(df['tech_desc'].values[0].replace('#', '').strip()))\n",
    "    else:\n",
    "        print('')\n",
    "\n",
    "\n",
    "out = widgets.interactive_output(f, {'w': w})\n",
    "display(out)\n"
   ]
  }
 ],
 "metadata": {
  "celltoolbar": "Initialization Cell",
  "kernelspec": {
   "display_name": "Python 3",
   "language": "python",
   "name": "python3"
  },
  "language_info": {
   "codemirror_mode": {
    "name": "ipython",
    "version": 3
   },
   "file_extension": ".py",
   "mimetype": "text/x-python",
   "name": "python",
   "nbconvert_exporter": "python",
   "pygments_lexer": "ipython3",
   "version": "3.7.3"
  },
  "toc": {
   "base_numbering": 1,
   "nav_menu": {},
   "number_sections": true,
   "sideBar": true,
   "skip_h1_title": false,
   "title_cell": "Table of Contents",
   "title_sidebar": "Contents",
   "toc_cell": false,
   "toc_position": {},
   "toc_section_display": true,
   "toc_window_display": true
  }
 },
 "nbformat": 4,
 "nbformat_minor": 4
}
