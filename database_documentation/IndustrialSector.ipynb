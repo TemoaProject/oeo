{
 "cells": [
  {
   "cell_type": "code",
   "execution_count": 1,
   "metadata": {
    "hide_input": true,
    "init_cell": true,
    "jupyter": {
     "source_hidden": true
    }
   },
   "outputs": [],
   "source": [
    "import pandas as pd\n",
    "import numpy as np\n",
    "import os\n",
    "import sqlite3\n",
    "import shutil\n",
    "import datetime\n",
    "import matplotlib.pyplot as plt\n",
    "import tabulate\n",
    "from IPython.display import HTML, display, Markdown\n",
    "import csv\n",
    "import unicodedata\n",
    "import getopt\n",
    "from ipywidgets import HBox, VBox, Layout\n",
    "from matplotlib.ticker import MaxNLocator\n",
    "\n",
    "import ipywidgets as widgets\n",
    "from ipywidgets import HBox, VBox, Layout\n",
    "import graphviz\n",
    "from GraphVizUtil import *\n",
    "from GraphVizFormats import *\n",
    "import warnings\n",
    "warnings.filterwarnings('ignore')\n",
    "import seaborn as sb\n",
    "sb.set(style='darkgrid', font_scale=1.2)\n",
    "\n",
    "def filter_descriptions(tech_comm_desc):\n",
    "    try:\n",
    "        tech_comm_desc = tech_comm_desc.values[0][0].replace('#', '').replace('\"','').replace(\"\\n\",'').strip()\n",
    "    except:\n",
    "        tech_comm_desc = 'No description provided'\n",
    "    return tech_comm_desc\n",
    "\n",
    "def create_args_flowd(df_graph):\n",
    "    nodes, tech, ltech, to_tech, from_tech = set(), set(), set(), set(), set()\n",
    "    for ind,row in df_graph.iterrows():\n",
    "        #descriptions:\n",
    "        input_comm_des = filter_descriptions(pd.read_sql(\"SELECT comm_desc FROM commodities WHERE comm_name='\" + row['input_comm'] + \"'\", con))\n",
    "        output_comm_des = filter_descriptions(pd.read_sql(\"SELECT comm_desc FROM commodities WHERE comm_name='\" + row['output_comm'] + \"'\", con))\n",
    "        tech_des = filter_descriptions(pd.read_sql(\"SELECT tech_desc FROM technologies WHERE tech='\" + row['tech'] + \"'\", con))\n",
    "\n",
    "        if 'ethos' in row['input_comm']:\n",
    "            ltech.add('\"' + row['tech'] + '\"' +  ' [tooltip = \"' + tech_des + '\"]')\n",
    "        else :\n",
    "            nodes.add('\"' + row['input_comm'] + '\"' +  ' [tooltip = \"' + input_comm_des + '\"]')\n",
    "        nodes.add('\"' + row['output_comm'] + '\"' +  ' [tooltip = \"' + output_comm_des + '\"]')\n",
    "        tech.add('\"' + row['tech'] + '\"' +  ' [tooltip = \"' + tech_des + '\"]')\n",
    "\n",
    "        if row['input_comm'] != 'ethos':\n",
    "            to_tech.add('\"%s\"' % row['input_comm'] + '\\t->\\t\"%s\"' % row['tech']) \n",
    "        from_tech.add('\"%s\"' % row['tech'] + '\\t->\\t\"%s\"' % row['output_comm'])\n",
    "    args = dict(\n",
    "    enodes = \"\".join('%s;\\n\\t\\t' % x for x in nodes),\n",
    "    tnodes = \"\".join('%s;\\n\\t\\t' % x for x in tech),\n",
    "    iedges = \"\".join('%s;\\n\\t\\t' % x for x in to_tech),\n",
    "    oedges = \"\".join('%s;\\n\\t\\t' % x for x in from_tech),\n",
    "    snodes = \";\".join('%s' %x for x in ltech),\n",
    "    )\n",
    "    return args\n",
    "\n",
    "\n",
    "def return_format_colors():\n",
    "    colors = {}\n",
    "    colors.update(getColorConfig(False))\n",
    "    return colors, quick_run_dot_fmt\n",
    "\n",
    "def return_flowd_table(final_dem, level=1):\n",
    "    df = pd.read_sql(\"SELECT * FROM Efficiency\", con)\n",
    "    df_sel = df[df['output_comm']==final_dem]\n",
    "    if len(df_sel)==0:\n",
    "        df_sel = df[df['tech']==final_dem]\n",
    "    inputs = df_sel['input_comm'].unique()\n",
    "    iterval=0\n",
    "    if level!=0:\n",
    "        while len(inputs)>0:\n",
    "            df_append = df[df['output_comm'].isin(inputs)]\n",
    "            df_sel = pd.concat([df_sel, df_append])\n",
    "            inputs = df_append['input_comm'].unique()\n",
    "            iterval+=1\n",
    "            if iterval>level-1:\n",
    "                break\n",
    "    df_graph = df_sel[['input_comm', 'tech', 'output_comm']].drop_duplicates()\n",
    "    return df_graph\n",
    "\n",
    "def return_flowd_table_fwds(final_dem):\n",
    "    df = pd.read_sql(\"SELECT * FROM Efficiency\", con)\n",
    "    df_sel = df[df['output_comm']==final_dem]\n",
    "    if len(df_sel)==0:\n",
    "        df_sel = df[df['tech']==final_dem]\n",
    "    inputs = df_sel['input_comm'].unique()\n",
    "    outputs = df_sel['output_comm'].unique()\n",
    "\n",
    "    iterval=0\n",
    "    while len(inputs)>0:\n",
    "        df_append = df[df['output_comm'].isin(inputs)]\n",
    "        df_sel = pd.concat([df_sel, df_append])\n",
    "        inputs = df_append['input_comm'].unique()\n",
    "        iterval+=1\n",
    "        if iterval>2:\n",
    "            break\n",
    "    iterval=0\n",
    "    while len(outputs)>0:\n",
    "        df_append = df[df['input_comm'].isin(outputs)]\n",
    "        df_sel = pd.concat([df_sel, df_append])\n",
    "        outputs = df_append['output_comm'].unique()\n",
    "        iterval+=1\n",
    "        if iterval>=0:\n",
    "            break\n",
    "\n",
    "    df_graph = df_sel[['input_comm', 'tech', 'output_comm']].drop_duplicates()\n",
    "    return df_graph\n",
    "\n",
    "con = sqlite3.connect(r'../US_9R_8D_NZ.sqlite') #change path to database\n",
    "cur = con.cursor()   \n",
    "con.text_factory = str \n",
    "\n",
    "def controls_rows(w):\n",
    "    controls = HBox(w.children[:-1], layout = Layout(flex_flow='row wrap', width='max-content'))\n",
    "    output = w.children[-1]\n",
    "    display(VBox([controls, output],  layout = Layout(flex_flow='columns wrap', width='max-content', size=10)))\n",
    "    "
   ]
  },
  {
   "cell_type": "markdown",
   "metadata": {},
   "source": [
    "# Industrial Sector Overview <a class=\"anchor\" id=\"buildings\"></a>\n",
    "The industrial sector in the OEO database is subdivided into the manufacturing and non-manufacturing sectors. Their representation in the OEO database consists of two key components: 1) end-use service demands and 2) the demand technologies/processes used to meet those demands."
   ]
  },
  {
   "cell_type": "markdown",
   "metadata": {},
   "source": [
    "## Service Demands <a class=\"anchor\" id=\"service_demands\"></a>\n",
    "\n",
    "End-use demands in the industrial sector of the OEO database are aggregated based on the [North American Industry Classification System (NAICS)](https://www.census.gov/naics/). Table 1 shows the end-use demands represented, mapped to their NAICS codes, along with their short codes in the OEO database. We developed representations of the manufacturing sector as well as mining, construction and agriculture in the non-manufacturing sector as approximately 99% of industrial energy consumption was accounted for by these sectors as [per the EIA](https://www.eia.gov/energyexplained/use-of-energy/industry.php). The demands for these industrial sub-sectors are represented in estimates of annual billion dollars of production shipment value with the exception of cement manufacturing, where demands are instead represented in million metric tons of cement production. These demands are derived from the [Manufacturing Energy Consumption Survey (MECS)](https://www.eia.gov/consumption/manufacturing/) for the base year of 2014 on a U.S. state-by-state basis. The demands are then aggregated by the OEO regions as shown in the overview jupyter notebook. \n",
    "\n",
    "Sub-sector specific growth rates are applied to the end-use demands in the industrial sector. For example, growth in demand in the petroleum refining and the iron and steel mills and ferroalloys sub-sectors are assumed to be flat based on the refinery utilization and iron and steel manufacturing projections and in the AEO2022 reference case. The demand in plastic and rubber products is assumed to increased 3% annually from 2020 to 2050 based on [Meys et al. (2021)](https://www.science.org/doi/10.1126/science.abg9853). The growth in demand of cement manufacturing is also taken from AEO 2022 reference case. Finally, the growth rates of all other manufacturing and non-manufacturing sub-sectors, not explicitly specified, are assumed to increase at an annual rate of 1%."
   ]
  },
  {
   "cell_type": "markdown",
   "metadata": {},
   "source": [
    "**Table 1.** Annual service demand categories as represented in the OEO database and their corresponding North American Industry Classification System (NAICS) codes.\n",
    "\n",
    "| Sub-sector | End-Use Demand | NAICS Code | OEO Demand Commodity |\n",
    "|:-|:-|:-|:-|\n",
    "| Manufacturing | Food and Beverage <img width=15/> | 311+312 |INDFOOD<img width=15/>|\n",
    "| Manufacturing | Pulp, Paper, & Paperboard Mills | 322 | INDPPP |\n",
    "| Manufacturing | Petroleum Refining | 324 | INDPR |\n",
    "| Manufacturing | Chemical Manufacturing | 325 | INDCM |\n",
    "| Manufacturing | Plastics and Rubber Products | 326 | INDPRP |\n",
    "| Manufacturing | Cement Manufacturing | 327310 | INDCEM |\n",
    "| Manufacturing | Iron and Steel Mills and Ferroalloys | 331110 | INDISF |\n",
    "| Manufacturing | Alumina and Aluminum | 3313 | INDAA |\n",
    "| Manufacturing | All other manufacturing | 313-316, 321, 323, 327, 331-337, 339 | INDOTH |\n",
    "| Non-Manufacturing | Agriculture – Crops | 111 | INDNMAGCROPS |\n",
    "| Non-Manufacturing | Agriculture – Other | 112-5 | INDNMAGOTH |\n",
    "| Non-Manufacturing | Coal Mining | 2121 | INDNMCOALMIN |\n",
    "| Non-Manufacturing | Oil and gas mining | 211 | INDNMNGMIN |\n",
    "| Non-Manufacturing | Metal and other non metal mining | 2122-2123| INDNMMETMIN |\n",
    "| Non-Manufacturing | Construction | 23| INDNMCONST |"
   ]
  },
  {
   "cell_type": "markdown",
   "metadata": {},
   "source": [
    "## Demand Technology Specification <a class=\"anchor\" id=\"demand_technology\"></a>\n",
    "\n",
    "Unlike the other major sectors in the OEO database, explicit end-use technology options with costs and efficiencies are not depicted for most of the industrial sub-sectors. Instead, we consider the major energy consumed by a set of common industrial processes in order to account for the heterogeneity across the industrial sector. These industrial processes include: 1) process heating, 2) conventional boiler use, 3) combined heat and power or co-generation systems, 4) machine drives, 5) facility heating ventilation and air conditioning systems, 6) process cooling and refrigeration and 7) a catch-all 'other' energy use category. "
   ]
  },
  {
   "cell_type": "markdown",
   "metadata": {},
   "source": [
    "### Efficiency <a class=\"anchor\" id=\"efficiency\"></a>"
   ]
  },
  {
   "cell_type": "markdown",
   "metadata": {},
   "source": [
    "As in the other major sectors, the efficiency parameter has two functions in the OEO database: (1) specify the conversion efficiency of each process, and (2) specify linkages in input and output processes to build the energy system network. The industrial processes are modeled in two stages: The first stage contains a representation of the seven industrial processes listed above along with their average efficiencies with respect to a specific end-use industrial sub-sector. For example, the efficiency of combined heat and power processes in the alumina and aluminum manufacturing industry is distinct from those in the food manufacturing industry. In the second stage, we represent technology efficiencies defined as the output end-use demands (which are typically in billion dollars) normalized by the output energy from the industrial processes identified above. The [EIA manufacturing energy consumption survey (MECS)](https://www.eia.gov/consumption/manufacturing/) provides the framework for fuel use by industrial process. In this way, we only fix the amount of secondary energy required to meet any given end-use demand but the technologies used to generate the secondary energy can be optimized endogenously to the model. Future work will focus on explicit technology characterization, with emphasis on technology improvements and other innovative technologies to support further decarbonization in the industrial sector."
   ]
  },
  {
   "cell_type": "code",
   "execution_count": 2,
   "metadata": {
    "hide_input": true,
    "init_cell": true,
    "jupyter": {
     "source_hidden": true
    },
    "scrolled": true
   },
   "outputs": [
    {
     "data": {
      "application/vnd.jupyter.widget-view+json": {
       "model_id": "aa14ef23dda243eeb002cf834ed4389f",
       "version_major": 2,
       "version_minor": 0
      },
      "text/plain": [
       "VBox(children=(HBox(children=(Select(description='tech', options=('CHPand/orCogenerationProcess technologies f…"
      ]
     },
     "metadata": {},
     "output_type": "display_data"
    }
   ],
   "source": [
    "def show_efficiency(con):\n",
    "    df_tech_desc = pd.read_sql(\"SELECT tech, tech_desc FROM technologies\", con)\n",
    "    df_tech_desc[['tech_desc']] = df_tech_desc[['tech_desc']].fillna('to be updated')\n",
    "    df = pd.read_sql(\"SELECT regions, input_comm, tech, vintage, efficiency FROM Efficiency WHERE tech IN (SELECT tech FROM technologies WHERE sector=='industrial')\", con)\n",
    "    \n",
    "    df.loc[:,'agg_tech'] = df.loc[:,'tech'] #[map_plants[y] for x in df.tech for y in map_plants.keys() if y.lower() in x.lower()] #map agg technologies\n",
    "    df_sum = df#df.drop(\"vintage\", axis=1).groupby(by = ['regions','agg_tech']).sum().reset_index()\n",
    "    df_sum['agg_tech'] = df_sum['agg_tech'].map(lambda x: df_tech_desc.loc[df_tech_desc.tech==x,'tech_desc'].values[0].replace('#','').strip())\n",
    "#     techs = ['All'] + list(df_sum.agg_tech.unique())\n",
    "    \n",
    "    df_sum = df_sum.loc[~df_sum['tech'].str.contains('BLND')].copy() # remove blending tech efficiencies\n",
    "    df_sum = df_sum.loc[~df_sum['tech'].str.contains('_emissions')].copy() # remove blending tech efficiencies\n",
    "    df_sum = df_sum.loc[~df_sum['agg_tech'].str.contains('accounting')].copy() # remove blending tech efficiencies\n",
    "    \n",
    "    techs = df_sum.agg_tech.unique()\n",
    "    regions = df_sum.regions.unique()\n",
    "\n",
    "    def filter_tech(tech ='', region = ''):\n",
    "        if tech=='All':\n",
    "            df_sel = df_sum[(df_sum.regions==region)]\n",
    "        else:\n",
    "            df_sel = df_sum[(df_sum.agg_tech==tech) & (df_sum.regions==region)]\n",
    "            df_sel.efficiency = 100*df_sel.efficiency\n",
    "        df_sel = df_sel[['regions', 'input_comm', 'tech','agg_tech','vintage','efficiency']].drop_duplicates()\n",
    "        display(HTML(tabulate.tabulate(df_sel.set_index('regions'), [\"regions\", \"input\", \"technology\", \"description\",\"vintage\",'efficiency (%)' ], floatfmt=\".1f\", tablefmt='html')))\n",
    "\n",
    "    w1 = widgets.Select(options=techs)\n",
    "    w2 = widgets.Select(options=regions)\n",
    "    w = widgets.interactive(filter_tech, tech=w1, region=w2)\n",
    "\n",
    "    controls_rows(w)\n",
    "\n",
    "    \n",
    "show_efficiency(con)"
   ]
  },
  {
   "cell_type": "markdown",
   "metadata": {},
   "source": [
    "### Investment and fixed costs <a class=\"anchor\" id=\"costinvest\"></a>"
   ]
  },
  {
   "cell_type": "markdown",
   "metadata": {},
   "source": [
    "While costs are generally not specified in our treatment of the industrial sector representation, we consider the cost premiums for new conventional electric boilers (368 \\\\$2016/kW), electric process heating equipment (368 \\\\$2016/kW), hydrogen boilers (227 \\\\$2016/kW), hydrogen process heating equipment (227 \\\\$2016/kW) across the industrial sub-sectors. These costs are taken from the [Net Zero America report (Annex A3)](https://netzeroamerica.princeton.edu/the-report). These costs help better realize the transition to decarbonization options in traditionally difficult to decarbonize industrial processes in the industrial sector. Fixed cost premiums are also set as 0.6 \\\\$2018/kW based on the assumption in Annex A3 of the Net Zero America report for the entire lifetime of these boilers and process heating equipment (20 years). In our modeling approach, heavy industries including cement, chemicals, iron and steel mills and ferro-alloys, petroleum refining, and plastics are precluded from use of hydrogen or electricity for process heat. However, we assume that all sectors can electrify conventional boilers."
   ]
  },
  {
   "cell_type": "code",
   "execution_count": 3,
   "metadata": {
    "hide_input": true,
    "init_cell": true,
    "jupyter": {
     "source_hidden": true
    }
   },
   "outputs": [
    {
     "data": {
      "application/vnd.jupyter.widget-view+json": {
       "model_id": "7edaa1c879e94cc58a2d8742e5579213",
       "version_major": 2,
       "version_minor": 0
      },
      "text/plain": [
       "VBox(children=(HBox(children=(Select(description='tech', options=('All', 'biomass to hydrogen with carbon capt…"
      ]
     },
     "metadata": {},
     "output_type": "display_data"
    }
   ],
   "source": [
    "def show_cost_invest(con):\n",
    "    \n",
    "    df_tech_desc = pd.read_sql(\"SELECT tech, tech_desc FROM technologies\", con)\n",
    "\n",
    "    df = pd.read_sql(\n",
    "        \"SELECT regions, tech,vintage, cost_invest, cost_invest_units FROM CostInvest WHERE tech IN (SELECT tech FROM technologies WHERE sector=='industrial') ORDER BY tech, vintage\",\n",
    "        con)\n",
    "\n",
    "    display_types = ['table', 'figure']\n",
    "    \n",
    "    df['agg_tech'] = df['tech'].map(lambda x: df_tech_desc.loc[df_tech_desc.tech==x,'tech_desc'].values[0].replace('#','').strip())\n",
    "    techs = []\n",
    "    for unique_tech in df.agg_tech.unique():\n",
    "        try:\n",
    "            int(unique_tech.split('_')[-1])\n",
    "            techs.append('_'.join(unique_tech.split('_')[0:-1]))\n",
    "        except:\n",
    "            techs.append(unique_tech)\n",
    "    techs = ['All'] + list(set(techs))\n",
    "    regions = df.regions.unique()\n",
    "\n",
    "\n",
    "    def filter_tech(tech='', region='', o_format=''):\n",
    "        if tech == 'All':\n",
    "            df_sel = df[(df.regions == region)]\n",
    "        else:\n",
    "            df_sel = df[(df.agg_tech.str.contains(tech)) & (df.regions == region)]\n",
    "        if o_format == 'table':\n",
    "            df_sel = df_sel.pivot_table(\n",
    "                index=['regions', 'tech', 'agg_tech', 'cost_invest_units'],\n",
    "                columns='vintage',\n",
    "                values='cost_invest').reset_index().set_index('regions')\n",
    "            df_sel.rename(columns={'cost_invest_units': 'units', 'agg_tech':'description'}, inplace=True)\n",
    "            df_sel['units'] = df_sel['units'].str.replace('#','').str.replace('M$','$M').str.strip()\n",
    "            if len(df_sel['units'].unique())==1:\n",
    "                df_sel['units'] = df_sel['units'].unique()[0].replace('M$','$M')\n",
    "            display(\n",
    "                HTML(\n",
    "                    tabulate.tabulate(df_sel,\n",
    "                                      ['region'] + list(df_sel.columns.values),\n",
    "                                      floatfmt=\".0f\",\n",
    "                                      tablefmt='html')))\n",
    "        elif (o_format == 'figure') & (tech!='All') :\n",
    "            fig, ax = plt.subplots(figsize=(10, 6))\n",
    "            for ind_tech in df_sel.tech.unique():\n",
    "                plt.plot(df_sel[df_sel.tech == ind_tech].vintage,\n",
    "                         df_sel[df_sel.tech == ind_tech].cost_invest,\n",
    "                         label=ind_tech)\n",
    "            plt.legend()\n",
    "            plt.ylabel('Investment costs (' + df_sel['cost_invest_units'].unique()[0].replace('#','').strip().replace('M$','$M') + ')')\n",
    "            #plt.ylim([0, df.cost_invest.max() * 1.1])\n",
    "            plt.xlabel('Vintage')\n",
    "\n",
    "\n",
    "    w1 = widgets.Select(options=techs)\n",
    "    w2 = widgets.Select(options=regions)\n",
    "    w3 = widgets.Select(options=display_types)\n",
    "    w = widgets.interactive(filter_tech, tech=w1, region=w2, o_format=w3)\n",
    "\n",
    "    controls_rows(w)\n",
    "    \n",
    "show_cost_invest(con)"
   ]
  },
  {
   "cell_type": "markdown",
   "metadata": {},
   "source": [
    "### Technology shares <a class=\"anchor\" id=\"tech_split\"></a>"
   ]
  },
  {
   "cell_type": "markdown",
   "metadata": {},
   "source": [
    "Two sets of technology shares are imposed on the industrial sector representation - 1) process based shares and 2) fuel based shares. \n",
    "\n",
    "The process based shares are based on the EIA MECS data referenced above to ensure that the end-use demands in the industrial sector are being serviced by a combination of the seven industrial processes identified above as per the specifications of the industrial sub-sector in consideration. These shares are defined by the proportion of secondary energy consumption by the industrial processes being fed to the industrial sub-demands. For example, to meet one unit of aluminum and alumina demand in 2050 in the California region, around 30% of the energy demand must come from machine drives, 24% from process heating and 20% from other industrial processes. These splits must be honored in meeting the alumina and aluminum demand on a temporal and spatial scale based on the MECS energy use data. \n",
    "\n",
    "Additionally, fuel based shares are imposed on the early model years based on historical data, which are then are progressively relaxed through the model years. A minimum levels of electrification of that observed in the base year (2020) is maintained through the model time periods. Thus, the model has to use a minimum of 2020 electrification levels but can optimize the remaining share of energy consumed. For the other fuels, LPG, diesel fuel oil, residual fuel oil, and biomass based renewable fuels, 80% of their 2020 usage is set as their share in 2025, 60% of their 2020 usage is set as their share in 2030, 40% of their 2020 usage is set as their share in 2035, 20% of their 2020 usage is set as their share in 2040 and fuel shares are completely removed for the years 2045 and 2050. In the case of natural gas, coal, and other fuel, limits of 80 and 60% of 2020 levels are placed in model years 2025 and 2030 respectively and are subsequently full relaxed by 2035."
   ]
  },
  {
   "cell_type": "markdown",
   "metadata": {},
   "source": [
    "#### Fuel based technology shares"
   ]
  },
  {
   "cell_type": "code",
   "execution_count": 4,
   "metadata": {
    "hide_input": true,
    "init_cell": true
   },
   "outputs": [
    {
     "data": {
      "application/vnd.jupyter.widget-view+json": {
       "model_id": "9f546588206f48118cfce00dd8f4b5e7",
       "version_major": 2,
       "version_minor": 0
      },
      "text/plain": [
       "VBox(children=(HBox(children=(Select(description='tech', options=('CHPand/orCogenerationProcess technologies f…"
      ]
     },
     "metadata": {},
     "output_type": "display_data"
    }
   ],
   "source": [
    "def show_tech_shares_fuel(con):\n",
    "    df_tech_desc = pd.read_sql(\"SELECT tech, tech_desc FROM technologies\", con)\n",
    "    df_tech_desc[['tech_desc']] = df_tech_desc[['tech_desc']].fillna('to be updated')\n",
    "    \n",
    "    df = pd.read_sql(\"SELECT regions, periods, input_comm, tech, ti_split, ti_split_notes FROM TechInputSplit WHERE tech IN (SELECT tech FROM technologies WHERE sector=='industrial')\", con)\n",
    "    df.loc[:,'agg_tech'] = df.loc[:,'tech'] #[map_plants[y] for x in df.tech for y in map_plants.keys() if y.lower() in x.lower()] #map agg technologies\n",
    "    \n",
    "#     df.sort_values(by='ti_split', ascending=False, inplace=True)\n",
    "    df_sum = df.copy()\n",
    "    df_sum['agg_tech'] = df_sum['agg_tech'].map(lambda x: df_tech_desc.loc[df_tech_desc.tech==x,'tech_desc'].values[0].replace('#','').strip())\n",
    "    \n",
    "    df_sum = df_sum.loc[~df_sum['tech'].str.endswith('BLND')].copy()\n",
    "    \n",
    "    techs = list(df_sum.agg_tech.unique())\n",
    "    regions = df_sum.regions.unique()\n",
    "    all_periods = df_sum.periods.unique()\n",
    "\n",
    "    def filter_tech(tech ='', region = '', period= ''):\n",
    "        if tech=='All':\n",
    "            df_sel = df_sum[(df_sum.regions==region)]\n",
    "        else:\n",
    "            df_sel = df_sum[(df_sum.agg_tech==tech) & (df_sum.regions==region) & (df_sum.periods==period)]\n",
    "    \n",
    "        df_sel = df_sel[['regions','periods', 'tech','agg_tech', 'input_comm', 'ti_split']].copy()\n",
    "        display(HTML(tabulate.tabulate(df_sel.set_index('regions'), [\"regions\", \"periods\", \"technology\", \"description\", \"input commodity\", \"technology share\" ], floatfmt=\".1f\", tablefmt='html')))\n",
    "    w1 = widgets.Select(options=techs)\n",
    "    w2 = widgets.Select(options=regions)\n",
    "    w3 = widgets.Select(options=all_periods)\n",
    "    w = widgets.interactive(filter_tech, tech=w1, region=w2, period=w3)    \n",
    "    \n",
    "    controls_rows(w)\n",
    "    \n",
    "show_tech_shares_fuel(con)\n"
   ]
  },
  {
   "cell_type": "markdown",
   "metadata": {},
   "source": [
    "#### Technology/Process based technology shares"
   ]
  },
  {
   "cell_type": "code",
   "execution_count": 5,
   "metadata": {
    "hide_input": true,
    "init_cell": true,
    "jupyter": {
     "source_hidden": true
    },
    "scrolled": true
   },
   "outputs": [
    {
     "data": {
      "application/vnd.jupyter.widget-view+json": {
       "model_id": "6f077605120e4010a4d48477d290de38",
       "version_major": 2,
       "version_minor": 0
      },
      "text/plain": [
       "VBox(children=(HBox(children=(Select(description='tech', options=('Alumina and Aluminum  Procceses Blending te…"
      ]
     },
     "metadata": {},
     "output_type": "display_data"
    }
   ],
   "source": [
    "def show_tech_shares_process(con):\n",
    "    df_tech_desc = pd.read_sql(\"SELECT tech, tech_desc FROM technologies\", con)\n",
    "    df_tech_desc[['tech_desc']] = df_tech_desc[['tech_desc']].fillna('to be updated')\n",
    "    \n",
    "    df = pd.read_sql(\"SELECT regions, periods, input_comm, tech, ti_split, ti_split_notes FROM TechInputSplit WHERE tech IN (SELECT tech FROM technologies WHERE sector=='industrial')\", con)\n",
    "    df.loc[:,'agg_tech'] = df.loc[:,'tech'] #[map_plants[y] for x in df.tech for y in map_plants.keys() if y.lower() in x.lower()] #map agg technologies\n",
    "    \n",
    "#     df.sort_values(by='ti_split', ascending=False, inplace=True)\n",
    "    df_sum = df.copy()\n",
    "    df_sum['agg_tech'] = df_sum['agg_tech'].map(lambda x: df_tech_desc.loc[df_tech_desc.tech==x,'tech_desc'].values[0].replace('#','').strip())\n",
    "    \n",
    "    df_sum = df_sum.loc[df_sum['tech'].str.endswith('BLND')].copy()\n",
    "    \n",
    "    techs = list(df_sum.agg_tech.unique())\n",
    "    regions = df_sum.regions.unique()\n",
    "    all_periods = df_sum.periods.unique()\n",
    "\n",
    "    def filter_tech(tech ='', region = '', period= ''):\n",
    "        if tech=='All':\n",
    "            df_sel = df_sum[(df_sum.regions==region)]\n",
    "        else:\n",
    "            df_sel = df_sum[(df_sum.agg_tech==tech) & (df_sum.regions==region) & (df_sum.periods==period)]\n",
    "    \n",
    "        df_sel = df_sel[['regions','periods', 'tech','agg_tech', 'input_comm', 'ti_split']].copy()\n",
    "        display(HTML(tabulate.tabulate(df_sel.set_index('regions'), [\"regions\", \"periods\", \"technology\", \"description\", \"input commodity\", \"technology share\" ], floatfmt=\".1f\", tablefmt='html')))\n",
    "    w1 = widgets.Select(options=techs)\n",
    "    w2 = widgets.Select(options=regions)\n",
    "    w3 = widgets.Select(options=all_periods)\n",
    "    w = widgets.interactive(filter_tech, tech=w1, region=w2, period=w3)\n",
    "\n",
    "    controls_rows(w)\n",
    "    \n",
    "show_tech_shares_process(con)\n"
   ]
  },
  {
   "cell_type": "markdown",
   "metadata": {},
   "source": [
    "### Emissions"
   ]
  },
  {
   "cell_type": "markdown",
   "metadata": {},
   "source": [
    "Process carbon dioxide emissions are modeled for chemicals, cement, iron and steel mills and ferroalloy, and alumina and aluminum manufacturing. These are represented in kilo-tons of carbon dioxide emissions over billion dollars of shipment value except in the case of cement production where instead process emissions are in kilo-tons of carbon dioxide emissions over million metric tons of cement production. We conservatively assume the process emission factors remain constant from the 2020 model time period out to 2050. Process based improvements in the future will likely result in decreased emissions in time periods closer to mid-century. However, we currently have not modeled carbon capture technologies that can offset industrial process emissions. This is an area of ongoing work and will be refined in the next version of the OEO report release."
   ]
  },
  {
   "cell_type": "code",
   "execution_count": 6,
   "metadata": {
    "hide_input": true,
    "init_cell": true
   },
   "outputs": [
    {
     "data": {
      "application/vnd.jupyter.widget-view+json": {
       "model_id": "dfd0dd7245be44b69d080b9022d6110b",
       "version_major": 2,
       "version_minor": 0
      },
      "text/plain": [
       "VBox(children=(HBox(children=(Select(description='tech', options=('Chemical Manufacturing  Procceses Blending …"
      ]
     },
     "metadata": {},
     "output_type": "display_data"
    }
   ],
   "source": [
    "def show_emission_factors(con):\n",
    "    df_tech_desc = pd.read_sql(\"SELECT tech, tech_desc FROM technologies\", con)\n",
    "    df_tech_desc[['tech_desc']] = df_tech_desc[['tech_desc']].fillna('to be updated')\n",
    "    \n",
    "    df = pd.read_sql(\"SELECT regions, emis_comm, vintage, input_comm, tech, emis_act, emis_act_units FROM EmissionActivity WHERE tech IN (SELECT tech FROM technologies WHERE sector=='industrial')\", con)\n",
    "    df.loc[:,'agg_tech'] = df.loc[:,'tech'] #[map_plants[y] for x in df.tech for y in map_plants.keys() if y.lower() in x.lower()] #map agg technologies\n",
    "    \n",
    "    df_sum = df.copy()\n",
    "    df_sum['agg_tech'] = df_sum['agg_tech'].map(lambda x: df_tech_desc.loc[df_tech_desc.tech==x,'tech_desc'].values[0].replace('#','').strip())\n",
    "    \n",
    "    df_sum = df_sum.loc[df_sum['tech'].str.endswith('BLND')].copy()\n",
    "    \n",
    "    techs = list(df_sum.agg_tech.unique())\n",
    "    regions = df_sum.regions.unique()\n",
    "\n",
    "\n",
    "    def filter_tech(tech =''):\n",
    "        if tech=='All':\n",
    "            df_sel = df_sum[(df_sum.regions==region)]\n",
    "        else:\n",
    "            df_sel = df_sum[(df_sum.agg_tech==tech)]\n",
    "    \n",
    "        df_sel = df_sel[['regions', 'tech','agg_tech', 'emis_act', 'emis_act_units']].drop_duplicates()\n",
    "        display(HTML(tabulate.tabulate(df_sel.set_index('regions'), [\"regions\", \"technology\", \"description\", \"emission activity\", \"emission activity units\" ], floatfmt=\".1f\", tablefmt='html')))\n",
    "    \n",
    "    w1 = widgets.Select(options=techs)\n",
    "    \n",
    "    w = widgets.interactive(filter_tech, tech=w1)\n",
    "\n",
    "    controls_rows(w)\n",
    "\n",
    "    \n",
    "show_emission_factors(con)\n"
   ]
  },
  {
   "cell_type": "markdown",
   "metadata": {},
   "source": [
    "## Look-up Tools <a class=\"anchor\" id=\"look_up_tools\"></a>"
   ]
  },
  {
   "cell_type": "markdown",
   "metadata": {},
   "source": [
    "### Technology/Commodity Description Look-up Tool <a class=\"anchor\" id=\"description_look_up\"></a>\n",
    "Use the tool below to search for any key words that may describe a technology or commodity of interest (e.g. heating, cooling). The tool provides a list of all the technologies in the database that may be relevant to the query."
   ]
  },
  {
   "cell_type": "code",
   "execution_count": 7,
   "metadata": {
    "hide_input": true,
    "init_cell": true,
    "jupyter": {
     "source_hidden": true
    }
   },
   "outputs": [
    {
     "data": {
      "application/vnd.jupyter.widget-view+json": {
       "model_id": "ce01aae3f3304f51a49c7806ef3af0f0",
       "version_major": 2,
       "version_minor": 0
      },
      "text/plain": [
       "Text(value='Food and Beverage')"
      ]
     },
     "metadata": {},
     "output_type": "display_data"
    },
    {
     "data": {
      "application/vnd.jupyter.widget-view+json": {
       "model_id": "cba8d81743744f629688d7acb0f8a7fe",
       "version_major": 2,
       "version_minor": 0
      },
      "text/plain": [
       "Output()"
      ]
     },
     "metadata": {},
     "output_type": "display_data"
    }
   ],
   "source": [
    "w = widgets.Text(value='Food and Beverage')\n",
    "display(w)\n",
    "def f(w):\n",
    "    if len(w)>0:\n",
    "        df1 = pd.read_sql(\"SELECT * FROM commodities WHERE comm_desc LIKE '%\" + w + \"%'\", con)\n",
    "        df1['desc'] = df1['comm_desc'].str.replace('#','').str.strip()\n",
    "        df1['comm_tech'] = df1['comm_name']\n",
    "        df1['type'] = 'commodity'\n",
    "\n",
    "        df2 = pd.read_sql(\"SELECT * FROM technologies WHERE tech_desc LIKE '%\" + w + \"%'\", con)\n",
    "        df2['desc'] = df2['tech_desc'].str.replace('#','').str.strip()\n",
    "        df2['comm_tech'] = df2['tech']\n",
    "        df2['type'] = 'technology'\n",
    "\n",
    "\n",
    "        df = pd.concat([df1[['comm_tech','type','desc']], df2[['comm_tech','type','desc']]])\n",
    "        \n",
    "        if len(df)>0:\n",
    "            display(HTML(tabulate.tabulate(df.set_index('comm_tech'),['technology/commodity','type','description'],tablefmt='html')))\n",
    "        else:\n",
    "            print('')\n",
    "    else:\n",
    "        print('')\n",
    "            \n",
    "\n",
    "\n",
    "out = widgets.interactive_output(f, {'w': w})\n",
    "display(out)"
   ]
  },
  {
   "cell_type": "markdown",
   "metadata": {},
   "source": [
    "### Network Diagram Look-up Tool  <a class=\"anchor\" id=\"network_look_up\"></a>\n",
    "Use the [description lookup tool](#description_look_up) above to identify specific commodity or technology names. Type the name in the box below to generate a corresponding network diagram for that commodity or technology. The slider can be used to view different upstream levels of the network diagram."
   ]
  },
  {
   "cell_type": "code",
   "execution_count": 8,
   "metadata": {
    "hide_input": true,
    "init_cell": true,
    "jupyter": {
     "source_hidden": true
    }
   },
   "outputs": [
    {
     "data": {
      "application/vnd.jupyter.widget-view+json": {
       "model_id": "601f82c1b59344e7b4893302c06d3755",
       "version_major": 2,
       "version_minor": 0
      },
      "text/plain": [
       "Text(value='INDFOOD')"
      ]
     },
     "metadata": {},
     "output_type": "display_data"
    },
    {
     "data": {
      "application/vnd.jupyter.widget-view+json": {
       "model_id": "23a43068384449ddbc6b5c4c206afa94",
       "version_major": 2,
       "version_minor": 0
      },
      "text/plain": [
       "Output()"
      ]
     },
     "metadata": {},
     "output_type": "display_data"
    }
   ],
   "source": [
    "w = widgets.Text(value='INDFOOD')\n",
    "display(w)\n",
    "def f(w):\n",
    "    if len(w)>0:\n",
    "        \n",
    "        df1 = pd.read_sql(\"SELECT comm_name, comm_desc FROM commodities WHERE comm_name='\" + w + \"'\", con)\n",
    "        df1['desc'] = df1['comm_desc'].str.replace('#','').str.strip()\n",
    "        df1['comm_tech'] = df1['comm_name']\n",
    "        df1['type'] = 'commodity'\n",
    "\n",
    "        df2 = pd.read_sql(\"SELECT * FROM technologies WHERE tech='\" + w + \"'\", con)\n",
    "        df2['desc'] = df2['tech_desc'].str.replace('#','').str.strip()\n",
    "        df2['comm_tech'] = df2['tech']\n",
    "        df2['type'] = 'technology'\n",
    "\n",
    "        df = pd.concat([df1[['comm_tech','type','desc']], df2[['comm_tech','type','desc']]])\n",
    "\n",
    "    \n",
    "        if len(df)>0:\n",
    "            def show_desc(level):\n",
    "                display(Markdown(df['desc'][0]))\n",
    "                final_dem = df['comm_tech'][0]\n",
    "                df_graph = return_flowd_table(final_dem,level)\n",
    "                args = create_args_flowd(df_graph)\n",
    "                colors, quick_run_dot_fmt = return_format_colors()\n",
    "                args.update(colors)\n",
    "                #o_str = 'rankdir = \"LR\" ;'\n",
    "                #r_str = 'rankdir = \"LR\" ; \\n\\t size=\"12,12\";'\n",
    "                #quick_run_dot_fmt = quick_run_dot_fmt.replace(o_str, r_str)\n",
    "                dot_graph = quick_run_dot_fmt % args\n",
    "                display(graphviz.Source(dot_graph))\n",
    "            w2 = widgets.IntSlider(value=1,min=0,max=10,step=1,description='Level:',disabled=False,continuous_update=True,orientation='horizontal',readout=True,readout_format='d')\n",
    "            w = widgets.interactive(show_desc, level=w2)\n",
    "            controls_rows(w)\n",
    "        else:\n",
    "            print('')\n",
    "\n",
    "    else:\n",
    "        print('')\n",
    "            \n",
    "\n",
    "\n",
    "out = widgets.interactive_output(f, {'w': w})\n",
    "display(out)"
   ]
  },
  {
   "cell_type": "markdown",
   "metadata": {},
   "source": [
    "###  Technology/Commodity Look-up Tool <a class=\"anchor\" id=\"tech_lookup\"></a>\n",
    "Use the tool below to retrieve the description for any technology or commodity within the database. Type the commodity or technology name in the box below to view the description. Note that names are case sensitive."
   ]
  },
  {
   "cell_type": "code",
   "execution_count": 9,
   "metadata": {
    "hide_input": true,
    "init_cell": true,
    "jupyter": {
     "source_hidden": true
    }
   },
   "outputs": [
    {
     "data": {
      "application/vnd.jupyter.widget-view+json": {
       "model_id": "9926cb26959f4bc19b8249040a6f9d57",
       "version_major": 2,
       "version_minor": 0
      },
      "text/plain": [
       "Text(value='INDFOOD')"
      ]
     },
     "metadata": {},
     "output_type": "display_data"
    },
    {
     "data": {
      "application/vnd.jupyter.widget-view+json": {
       "model_id": "c287fa1061094b27a819c21ef6d15eef",
       "version_major": 2,
       "version_minor": 0
      },
      "text/plain": [
       "Output()"
      ]
     },
     "metadata": {},
     "output_type": "display_data"
    }
   ],
   "source": [
    "w = widgets.Text(value='INDFOOD')\n",
    "display(w)\n",
    "def f(w):\n",
    "    df = pd.read_sql(\"SELECT * FROM commodities WHERE comm_name='\" + w + \"'\", con)\n",
    "    if len(df)==0:\n",
    "        df = pd.read_sql(\"SELECT * FROM technologies WHERE tech='\" + w + \"'\", con)\n",
    "\n",
    "    if len(df)>0:\n",
    "        try:\n",
    "            display(Markdown((df['comm_desc'].values[0].replace('#', '').strip())))\n",
    "        except:\n",
    "            display(Markdown(df['tech_desc'].values[0].replace('#', '').strip()))\n",
    "    else:\n",
    "        print('')\n",
    "\n",
    "\n",
    "out = widgets.interactive_output(f, {'w': w})\n",
    "display(out)\n"
   ]
  }
 ],
 "metadata": {
  "celltoolbar": "Initialization Cell",
  "hide_input": true,
  "kernelspec": {
   "display_name": "Python 3 (ipykernel)",
   "language": "python",
   "name": "python3"
  },
  "language_info": {
   "codemirror_mode": {
    "name": "ipython",
    "version": 3
   },
   "file_extension": ".py",
   "mimetype": "text/x-python",
   "name": "python",
   "nbconvert_exporter": "python",
   "pygments_lexer": "ipython3",
   "version": "3.7.3"
  },
  "toc": {
   "base_numbering": 1,
   "nav_menu": {},
   "number_sections": true,
   "sideBar": true,
   "skip_h1_title": false,
   "title_cell": "Table of Contents",
   "title_sidebar": "Contents",
   "toc_cell": false,
   "toc_position": {
    "height": "calc(100% - 180px)",
    "left": "10px",
    "top": "150px",
    "width": "369.6px"
   },
   "toc_section_display": true,
   "toc_window_display": true
  },
  "varInspector": {
   "cols": {
    "lenName": 16,
    "lenType": 16,
    "lenVar": 40
   },
   "kernels_config": {
    "python": {
     "delete_cmd_postfix": "",
     "delete_cmd_prefix": "del ",
     "library": "var_list.py",
     "varRefreshCmd": "print(var_dic_list())"
    },
    "r": {
     "delete_cmd_postfix": ") ",
     "delete_cmd_prefix": "rm(",
     "library": "var_list.r",
     "varRefreshCmd": "cat(var_dic_list()) "
    }
   },
   "types_to_exclude": [
    "module",
    "function",
    "builtin_function_or_method",
    "instance",
    "_Feature"
   ],
   "window_display": false
  }
 },
 "nbformat": 4,
 "nbformat_minor": 4
}
